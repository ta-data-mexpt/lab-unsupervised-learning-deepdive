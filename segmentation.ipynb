{
 "cells": [
  {
   "cell_type": "markdown",
   "metadata": {},
   "source": [
    "# Social Network Segmentation Analysis\n",
    "\n",
    "In this exercise, we will try to identify different groups of teenagers based on their personal preferences using an unsupervised learning model.  \n",
    "  \n",
    "Start by importing your libraries, loading the dataset and exploring its variables.  \n",
    "What features do you find? Do they have the correct datatypes?"
   ]
  },
  {
   "cell_type": "code",
   "execution_count": 97,
   "metadata": {},
   "outputs": [],
   "source": [
    "#Import your libraries here\n",
    "import pandas as pd\n",
    "import numpy as np\n",
    "import matplotlib.pyplot as plt\n",
    "from sklearn.preprocessing import MinMaxScaler\n",
    "from sklearn.cluster import KMeans\n",
    "import scipy.cluster.hierarchy as sch\n",
    "import hdbscan\n",
    "from sklearn.cluster import KMeans\n",
    "from sklearn.neighbors import NearestNeighbors\n",
    "from sklearn.cluster import DBSCAN"
   ]
  },
  {
   "cell_type": "code",
   "execution_count": 4,
   "metadata": {},
   "outputs": [
    {
     "data": {
      "text/html": [
       "<div>\n",
       "<style scoped>\n",
       "    .dataframe tbody tr th:only-of-type {\n",
       "        vertical-align: middle;\n",
       "    }\n",
       "\n",
       "    .dataframe tbody tr th {\n",
       "        vertical-align: top;\n",
       "    }\n",
       "\n",
       "    .dataframe thead th {\n",
       "        text-align: right;\n",
       "    }\n",
       "</style>\n",
       "<table border=\"1\" class=\"dataframe\">\n",
       "  <thead>\n",
       "    <tr style=\"text-align: right;\">\n",
       "      <th></th>\n",
       "      <th>gradyear</th>\n",
       "      <th>gender</th>\n",
       "      <th>age</th>\n",
       "      <th>friends</th>\n",
       "      <th>basketball</th>\n",
       "      <th>football</th>\n",
       "      <th>soccer</th>\n",
       "      <th>softball</th>\n",
       "      <th>volleyball</th>\n",
       "      <th>swimming</th>\n",
       "      <th>...</th>\n",
       "      <th>blonde</th>\n",
       "      <th>mall</th>\n",
       "      <th>shopping</th>\n",
       "      <th>clothes</th>\n",
       "      <th>hollister</th>\n",
       "      <th>abercrombie</th>\n",
       "      <th>die</th>\n",
       "      <th>death</th>\n",
       "      <th>drunk</th>\n",
       "      <th>drugs</th>\n",
       "    </tr>\n",
       "  </thead>\n",
       "  <tbody>\n",
       "    <tr>\n",
       "      <th>0</th>\n",
       "      <td>2006</td>\n",
       "      <td>M</td>\n",
       "      <td>18.982</td>\n",
       "      <td>7</td>\n",
       "      <td>0</td>\n",
       "      <td>0</td>\n",
       "      <td>0</td>\n",
       "      <td>0</td>\n",
       "      <td>0</td>\n",
       "      <td>0</td>\n",
       "      <td>...</td>\n",
       "      <td>0</td>\n",
       "      <td>0</td>\n",
       "      <td>0</td>\n",
       "      <td>0</td>\n",
       "      <td>0</td>\n",
       "      <td>0</td>\n",
       "      <td>0</td>\n",
       "      <td>0</td>\n",
       "      <td>0</td>\n",
       "      <td>0</td>\n",
       "    </tr>\n",
       "    <tr>\n",
       "      <th>1</th>\n",
       "      <td>2006</td>\n",
       "      <td>F</td>\n",
       "      <td>18.801</td>\n",
       "      <td>0</td>\n",
       "      <td>0</td>\n",
       "      <td>1</td>\n",
       "      <td>0</td>\n",
       "      <td>0</td>\n",
       "      <td>0</td>\n",
       "      <td>0</td>\n",
       "      <td>...</td>\n",
       "      <td>0</td>\n",
       "      <td>1</td>\n",
       "      <td>0</td>\n",
       "      <td>0</td>\n",
       "      <td>0</td>\n",
       "      <td>0</td>\n",
       "      <td>0</td>\n",
       "      <td>0</td>\n",
       "      <td>0</td>\n",
       "      <td>0</td>\n",
       "    </tr>\n",
       "    <tr>\n",
       "      <th>2</th>\n",
       "      <td>2006</td>\n",
       "      <td>M</td>\n",
       "      <td>18.335</td>\n",
       "      <td>69</td>\n",
       "      <td>0</td>\n",
       "      <td>1</td>\n",
       "      <td>0</td>\n",
       "      <td>0</td>\n",
       "      <td>0</td>\n",
       "      <td>0</td>\n",
       "      <td>...</td>\n",
       "      <td>0</td>\n",
       "      <td>0</td>\n",
       "      <td>0</td>\n",
       "      <td>0</td>\n",
       "      <td>0</td>\n",
       "      <td>0</td>\n",
       "      <td>0</td>\n",
       "      <td>1</td>\n",
       "      <td>0</td>\n",
       "      <td>0</td>\n",
       "    </tr>\n",
       "    <tr>\n",
       "      <th>3</th>\n",
       "      <td>2006</td>\n",
       "      <td>F</td>\n",
       "      <td>18.875</td>\n",
       "      <td>0</td>\n",
       "      <td>0</td>\n",
       "      <td>0</td>\n",
       "      <td>0</td>\n",
       "      <td>0</td>\n",
       "      <td>0</td>\n",
       "      <td>0</td>\n",
       "      <td>...</td>\n",
       "      <td>0</td>\n",
       "      <td>0</td>\n",
       "      <td>0</td>\n",
       "      <td>0</td>\n",
       "      <td>0</td>\n",
       "      <td>0</td>\n",
       "      <td>0</td>\n",
       "      <td>0</td>\n",
       "      <td>0</td>\n",
       "      <td>0</td>\n",
       "    </tr>\n",
       "    <tr>\n",
       "      <th>4</th>\n",
       "      <td>2006</td>\n",
       "      <td>NaN</td>\n",
       "      <td>18.995</td>\n",
       "      <td>10</td>\n",
       "      <td>0</td>\n",
       "      <td>0</td>\n",
       "      <td>0</td>\n",
       "      <td>0</td>\n",
       "      <td>0</td>\n",
       "      <td>0</td>\n",
       "      <td>...</td>\n",
       "      <td>0</td>\n",
       "      <td>0</td>\n",
       "      <td>2</td>\n",
       "      <td>0</td>\n",
       "      <td>0</td>\n",
       "      <td>0</td>\n",
       "      <td>0</td>\n",
       "      <td>0</td>\n",
       "      <td>1</td>\n",
       "      <td>1</td>\n",
       "    </tr>\n",
       "  </tbody>\n",
       "</table>\n",
       "<p>5 rows × 40 columns</p>\n",
       "</div>"
      ],
      "text/plain": [
       "   gradyear gender     age  friends  basketball  football  soccer  softball  \\\n",
       "0      2006      M  18.982        7           0         0       0         0   \n",
       "1      2006      F  18.801        0           0         1       0         0   \n",
       "2      2006      M  18.335       69           0         1       0         0   \n",
       "3      2006      F  18.875        0           0         0       0         0   \n",
       "4      2006    NaN  18.995       10           0         0       0         0   \n",
       "\n",
       "   volleyball  swimming  ...  blonde  mall  shopping  clothes  hollister  \\\n",
       "0           0         0  ...       0     0         0        0          0   \n",
       "1           0         0  ...       0     1         0        0          0   \n",
       "2           0         0  ...       0     0         0        0          0   \n",
       "3           0         0  ...       0     0         0        0          0   \n",
       "4           0         0  ...       0     0         2        0          0   \n",
       "\n",
       "   abercrombie  die  death  drunk  drugs  \n",
       "0            0    0      0      0      0  \n",
       "1            0    0      0      0      0  \n",
       "2            0    0      1      0      0  \n",
       "3            0    0      0      0      0  \n",
       "4            0    0      0      1      1  \n",
       "\n",
       "[5 rows x 40 columns]"
      ]
     },
     "execution_count": 4,
     "metadata": {},
     "output_type": "execute_result"
    }
   ],
   "source": [
    "#Load the dataset and explore its variables\n",
    "data = pd.read_csv('snsdata.csv')\n",
    "data.head()"
   ]
  },
  {
   "cell_type": "code",
   "execution_count": 5,
   "metadata": {},
   "outputs": [
    {
     "name": "stdout",
     "output_type": "stream",
     "text": [
      "<class 'pandas.core.frame.DataFrame'>\n",
      "RangeIndex: 30000 entries, 0 to 29999\n",
      "Data columns (total 40 columns):\n",
      " #   Column        Non-Null Count  Dtype  \n",
      "---  ------        --------------  -----  \n",
      " 0   gradyear      30000 non-null  int64  \n",
      " 1   gender        27276 non-null  object \n",
      " 2   age           24914 non-null  float64\n",
      " 3   friends       30000 non-null  int64  \n",
      " 4   basketball    30000 non-null  int64  \n",
      " 5   football      30000 non-null  int64  \n",
      " 6   soccer        30000 non-null  int64  \n",
      " 7   softball      30000 non-null  int64  \n",
      " 8   volleyball    30000 non-null  int64  \n",
      " 9   swimming      30000 non-null  int64  \n",
      " 10  cheerleading  30000 non-null  int64  \n",
      " 11  baseball      30000 non-null  int64  \n",
      " 12  tennis        30000 non-null  int64  \n",
      " 13  sports        30000 non-null  int64  \n",
      " 14  cute          30000 non-null  int64  \n",
      " 15  sex           30000 non-null  int64  \n",
      " 16  sexy          30000 non-null  int64  \n",
      " 17  hot           30000 non-null  int64  \n",
      " 18  kissed        30000 non-null  int64  \n",
      " 19  dance         30000 non-null  int64  \n",
      " 20  band          30000 non-null  int64  \n",
      " 21  marching      30000 non-null  int64  \n",
      " 22  music         30000 non-null  int64  \n",
      " 23  rock          30000 non-null  int64  \n",
      " 24  god           30000 non-null  int64  \n",
      " 25  church        30000 non-null  int64  \n",
      " 26  jesus         30000 non-null  int64  \n",
      " 27  bible         30000 non-null  int64  \n",
      " 28  hair          30000 non-null  int64  \n",
      " 29  dress         30000 non-null  int64  \n",
      " 30  blonde        30000 non-null  int64  \n",
      " 31  mall          30000 non-null  int64  \n",
      " 32  shopping      30000 non-null  int64  \n",
      " 33  clothes       30000 non-null  int64  \n",
      " 34  hollister     30000 non-null  int64  \n",
      " 35  abercrombie   30000 non-null  int64  \n",
      " 36  die           30000 non-null  int64  \n",
      " 37  death         30000 non-null  int64  \n",
      " 38  drunk         30000 non-null  int64  \n",
      " 39  drugs         30000 non-null  int64  \n",
      "dtypes: float64(1), int64(38), object(1)\n",
      "memory usage: 9.2+ MB\n"
     ]
    }
   ],
   "source": [
    "data.info()"
   ]
  },
  {
   "cell_type": "code",
   "execution_count": 30,
   "metadata": {},
   "outputs": [
    {
     "data": {
      "text/html": [
       "<div>\n",
       "<style scoped>\n",
       "    .dataframe tbody tr th:only-of-type {\n",
       "        vertical-align: middle;\n",
       "    }\n",
       "\n",
       "    .dataframe tbody tr th {\n",
       "        vertical-align: top;\n",
       "    }\n",
       "\n",
       "    .dataframe thead th {\n",
       "        text-align: right;\n",
       "    }\n",
       "</style>\n",
       "<table border=\"1\" class=\"dataframe\">\n",
       "  <thead>\n",
       "    <tr style=\"text-align: right;\">\n",
       "      <th></th>\n",
       "      <th>gradyear</th>\n",
       "      <th>age</th>\n",
       "      <th>friends</th>\n",
       "      <th>basketball</th>\n",
       "      <th>football</th>\n",
       "      <th>soccer</th>\n",
       "      <th>softball</th>\n",
       "      <th>volleyball</th>\n",
       "      <th>swimming</th>\n",
       "      <th>cheerleading</th>\n",
       "      <th>...</th>\n",
       "      <th>blonde</th>\n",
       "      <th>mall</th>\n",
       "      <th>shopping</th>\n",
       "      <th>clothes</th>\n",
       "      <th>hollister</th>\n",
       "      <th>abercrombie</th>\n",
       "      <th>die</th>\n",
       "      <th>death</th>\n",
       "      <th>drunk</th>\n",
       "      <th>drugs</th>\n",
       "    </tr>\n",
       "  </thead>\n",
       "  <tbody>\n",
       "    <tr>\n",
       "      <th>count</th>\n",
       "      <td>30000.000000</td>\n",
       "      <td>24914.000000</td>\n",
       "      <td>30000.000000</td>\n",
       "      <td>30000.000000</td>\n",
       "      <td>30000.000000</td>\n",
       "      <td>30000.000000</td>\n",
       "      <td>30000.000000</td>\n",
       "      <td>30000.000000</td>\n",
       "      <td>30000.00000</td>\n",
       "      <td>30000.000000</td>\n",
       "      <td>...</td>\n",
       "      <td>30000.000000</td>\n",
       "      <td>30000.000000</td>\n",
       "      <td>30000.000000</td>\n",
       "      <td>30000.00000</td>\n",
       "      <td>30000.000000</td>\n",
       "      <td>30000.000000</td>\n",
       "      <td>30000.000000</td>\n",
       "      <td>30000.000000</td>\n",
       "      <td>30000.000000</td>\n",
       "      <td>30000.000000</td>\n",
       "    </tr>\n",
       "    <tr>\n",
       "      <th>mean</th>\n",
       "      <td>2007.500000</td>\n",
       "      <td>17.993950</td>\n",
       "      <td>30.179467</td>\n",
       "      <td>0.267333</td>\n",
       "      <td>0.252300</td>\n",
       "      <td>0.222767</td>\n",
       "      <td>0.161200</td>\n",
       "      <td>0.143133</td>\n",
       "      <td>0.13440</td>\n",
       "      <td>0.106633</td>\n",
       "      <td>...</td>\n",
       "      <td>0.098933</td>\n",
       "      <td>0.257367</td>\n",
       "      <td>0.353000</td>\n",
       "      <td>0.14850</td>\n",
       "      <td>0.069867</td>\n",
       "      <td>0.051167</td>\n",
       "      <td>0.184100</td>\n",
       "      <td>0.114233</td>\n",
       "      <td>0.087967</td>\n",
       "      <td>0.060433</td>\n",
       "    </tr>\n",
       "    <tr>\n",
       "      <th>std</th>\n",
       "      <td>1.118053</td>\n",
       "      <td>7.858054</td>\n",
       "      <td>36.530877</td>\n",
       "      <td>0.804708</td>\n",
       "      <td>0.705357</td>\n",
       "      <td>0.917226</td>\n",
       "      <td>0.739707</td>\n",
       "      <td>0.639943</td>\n",
       "      <td>0.51699</td>\n",
       "      <td>0.514333</td>\n",
       "      <td>...</td>\n",
       "      <td>1.942319</td>\n",
       "      <td>0.695758</td>\n",
       "      <td>0.724391</td>\n",
       "      <td>0.47264</td>\n",
       "      <td>0.346779</td>\n",
       "      <td>0.279555</td>\n",
       "      <td>0.624516</td>\n",
       "      <td>0.436796</td>\n",
       "      <td>0.399125</td>\n",
       "      <td>0.345522</td>\n",
       "    </tr>\n",
       "    <tr>\n",
       "      <th>min</th>\n",
       "      <td>2006.000000</td>\n",
       "      <td>3.086000</td>\n",
       "      <td>0.000000</td>\n",
       "      <td>0.000000</td>\n",
       "      <td>0.000000</td>\n",
       "      <td>0.000000</td>\n",
       "      <td>0.000000</td>\n",
       "      <td>0.000000</td>\n",
       "      <td>0.00000</td>\n",
       "      <td>0.000000</td>\n",
       "      <td>...</td>\n",
       "      <td>0.000000</td>\n",
       "      <td>0.000000</td>\n",
       "      <td>0.000000</td>\n",
       "      <td>0.00000</td>\n",
       "      <td>0.000000</td>\n",
       "      <td>0.000000</td>\n",
       "      <td>0.000000</td>\n",
       "      <td>0.000000</td>\n",
       "      <td>0.000000</td>\n",
       "      <td>0.000000</td>\n",
       "    </tr>\n",
       "    <tr>\n",
       "      <th>25%</th>\n",
       "      <td>2006.750000</td>\n",
       "      <td>16.312000</td>\n",
       "      <td>3.000000</td>\n",
       "      <td>0.000000</td>\n",
       "      <td>0.000000</td>\n",
       "      <td>0.000000</td>\n",
       "      <td>0.000000</td>\n",
       "      <td>0.000000</td>\n",
       "      <td>0.00000</td>\n",
       "      <td>0.000000</td>\n",
       "      <td>...</td>\n",
       "      <td>0.000000</td>\n",
       "      <td>0.000000</td>\n",
       "      <td>0.000000</td>\n",
       "      <td>0.00000</td>\n",
       "      <td>0.000000</td>\n",
       "      <td>0.000000</td>\n",
       "      <td>0.000000</td>\n",
       "      <td>0.000000</td>\n",
       "      <td>0.000000</td>\n",
       "      <td>0.000000</td>\n",
       "    </tr>\n",
       "    <tr>\n",
       "      <th>50%</th>\n",
       "      <td>2007.500000</td>\n",
       "      <td>17.287000</td>\n",
       "      <td>20.000000</td>\n",
       "      <td>0.000000</td>\n",
       "      <td>0.000000</td>\n",
       "      <td>0.000000</td>\n",
       "      <td>0.000000</td>\n",
       "      <td>0.000000</td>\n",
       "      <td>0.00000</td>\n",
       "      <td>0.000000</td>\n",
       "      <td>...</td>\n",
       "      <td>0.000000</td>\n",
       "      <td>0.000000</td>\n",
       "      <td>0.000000</td>\n",
       "      <td>0.00000</td>\n",
       "      <td>0.000000</td>\n",
       "      <td>0.000000</td>\n",
       "      <td>0.000000</td>\n",
       "      <td>0.000000</td>\n",
       "      <td>0.000000</td>\n",
       "      <td>0.000000</td>\n",
       "    </tr>\n",
       "    <tr>\n",
       "      <th>75%</th>\n",
       "      <td>2008.250000</td>\n",
       "      <td>18.259000</td>\n",
       "      <td>44.000000</td>\n",
       "      <td>0.000000</td>\n",
       "      <td>0.000000</td>\n",
       "      <td>0.000000</td>\n",
       "      <td>0.000000</td>\n",
       "      <td>0.000000</td>\n",
       "      <td>0.00000</td>\n",
       "      <td>0.000000</td>\n",
       "      <td>...</td>\n",
       "      <td>0.000000</td>\n",
       "      <td>0.000000</td>\n",
       "      <td>1.000000</td>\n",
       "      <td>0.00000</td>\n",
       "      <td>0.000000</td>\n",
       "      <td>0.000000</td>\n",
       "      <td>0.000000</td>\n",
       "      <td>0.000000</td>\n",
       "      <td>0.000000</td>\n",
       "      <td>0.000000</td>\n",
       "    </tr>\n",
       "    <tr>\n",
       "      <th>max</th>\n",
       "      <td>2009.000000</td>\n",
       "      <td>106.927000</td>\n",
       "      <td>830.000000</td>\n",
       "      <td>24.000000</td>\n",
       "      <td>15.000000</td>\n",
       "      <td>27.000000</td>\n",
       "      <td>17.000000</td>\n",
       "      <td>14.000000</td>\n",
       "      <td>31.00000</td>\n",
       "      <td>9.000000</td>\n",
       "      <td>...</td>\n",
       "      <td>327.000000</td>\n",
       "      <td>12.000000</td>\n",
       "      <td>11.000000</td>\n",
       "      <td>8.00000</td>\n",
       "      <td>9.000000</td>\n",
       "      <td>8.000000</td>\n",
       "      <td>22.000000</td>\n",
       "      <td>14.000000</td>\n",
       "      <td>8.000000</td>\n",
       "      <td>16.000000</td>\n",
       "    </tr>\n",
       "  </tbody>\n",
       "</table>\n",
       "<p>8 rows × 39 columns</p>\n",
       "</div>"
      ],
      "text/plain": [
       "           gradyear           age       friends    basketball      football  \\\n",
       "count  30000.000000  24914.000000  30000.000000  30000.000000  30000.000000   \n",
       "mean    2007.500000     17.993950     30.179467      0.267333      0.252300   \n",
       "std        1.118053      7.858054     36.530877      0.804708      0.705357   \n",
       "min     2006.000000      3.086000      0.000000      0.000000      0.000000   \n",
       "25%     2006.750000     16.312000      3.000000      0.000000      0.000000   \n",
       "50%     2007.500000     17.287000     20.000000      0.000000      0.000000   \n",
       "75%     2008.250000     18.259000     44.000000      0.000000      0.000000   \n",
       "max     2009.000000    106.927000    830.000000     24.000000     15.000000   \n",
       "\n",
       "             soccer      softball    volleyball     swimming  cheerleading  \\\n",
       "count  30000.000000  30000.000000  30000.000000  30000.00000  30000.000000   \n",
       "mean       0.222767      0.161200      0.143133      0.13440      0.106633   \n",
       "std        0.917226      0.739707      0.639943      0.51699      0.514333   \n",
       "min        0.000000      0.000000      0.000000      0.00000      0.000000   \n",
       "25%        0.000000      0.000000      0.000000      0.00000      0.000000   \n",
       "50%        0.000000      0.000000      0.000000      0.00000      0.000000   \n",
       "75%        0.000000      0.000000      0.000000      0.00000      0.000000   \n",
       "max       27.000000     17.000000     14.000000     31.00000      9.000000   \n",
       "\n",
       "       ...        blonde          mall      shopping      clothes  \\\n",
       "count  ...  30000.000000  30000.000000  30000.000000  30000.00000   \n",
       "mean   ...      0.098933      0.257367      0.353000      0.14850   \n",
       "std    ...      1.942319      0.695758      0.724391      0.47264   \n",
       "min    ...      0.000000      0.000000      0.000000      0.00000   \n",
       "25%    ...      0.000000      0.000000      0.000000      0.00000   \n",
       "50%    ...      0.000000      0.000000      0.000000      0.00000   \n",
       "75%    ...      0.000000      0.000000      1.000000      0.00000   \n",
       "max    ...    327.000000     12.000000     11.000000      8.00000   \n",
       "\n",
       "          hollister   abercrombie           die         death         drunk  \\\n",
       "count  30000.000000  30000.000000  30000.000000  30000.000000  30000.000000   \n",
       "mean       0.069867      0.051167      0.184100      0.114233      0.087967   \n",
       "std        0.346779      0.279555      0.624516      0.436796      0.399125   \n",
       "min        0.000000      0.000000      0.000000      0.000000      0.000000   \n",
       "25%        0.000000      0.000000      0.000000      0.000000      0.000000   \n",
       "50%        0.000000      0.000000      0.000000      0.000000      0.000000   \n",
       "75%        0.000000      0.000000      0.000000      0.000000      0.000000   \n",
       "max        9.000000      8.000000     22.000000     14.000000      8.000000   \n",
       "\n",
       "              drugs  \n",
       "count  30000.000000  \n",
       "mean       0.060433  \n",
       "std        0.345522  \n",
       "min        0.000000  \n",
       "25%        0.000000  \n",
       "50%        0.000000  \n",
       "75%        0.000000  \n",
       "max       16.000000  \n",
       "\n",
       "[8 rows x 39 columns]"
      ]
     },
     "execution_count": 30,
     "metadata": {},
     "output_type": "execute_result"
    }
   ],
   "source": [
    "data.describe()"
   ]
  },
  {
   "cell_type": "markdown",
   "metadata": {},
   "source": [
    "## 1. Data Wrangling\n",
    "\n",
    "If you found in the last step that there are variables that need to be dealt with before we can start our analysis, please do it. Comment your code and take us through the steps of your thinking.  \n",
    "\n",
    "Consider the some of these aspects:  \n",
    "* Wrong data types\n",
    "* Null values\n",
    "* Consistency in categorical data"
   ]
  },
  {
   "cell_type": "code",
   "execution_count": 6,
   "metadata": {},
   "outputs": [],
   "source": [
    "#Your code here: el objetivo del ejercicio es identificar grupos de adolescentes, por lo que se hará un filtro en la variable edad dejando sólo a los adolescentes.\n",
    "data2=data[(data.age>=13) & (data.age<=19)]"
   ]
  },
  {
   "cell_type": "code",
   "execution_count": 10,
   "metadata": {},
   "outputs": [
    {
     "name": "stderr",
     "output_type": "stream",
     "text": [
      "<ipython-input-10-d4df1c205641>:2: SettingWithCopyWarning: \n",
      "A value is trying to be set on a copy of a slice from a DataFrame.\n",
      "Try using .loc[row_indexer,col_indexer] = value instead\n",
      "\n",
      "See the caveats in the documentation: https://pandas.pydata.org/pandas-docs/stable/user_guide/indexing.html#returning-a-view-versus-a-copy\n",
      "  data2['gender'] = data2['gender'].replace(['F'],1)\n",
      "<ipython-input-10-d4df1c205641>:3: SettingWithCopyWarning: \n",
      "A value is trying to be set on a copy of a slice from a DataFrame.\n",
      "Try using .loc[row_indexer,col_indexer] = value instead\n",
      "\n",
      "See the caveats in the documentation: https://pandas.pydata.org/pandas-docs/stable/user_guide/indexing.html#returning-a-view-versus-a-copy\n",
      "  data2['gender'] = data2['gender'].replace(['M'],0)\n"
     ]
    },
    {
     "data": {
      "text/plain": [
       "1.0    17996\n",
       "0.0     4177\n",
       "Name: gender, dtype: int64"
      ]
     },
     "execution_count": 10,
     "metadata": {},
     "output_type": "execute_result"
    }
   ],
   "source": [
    "# La variable \"gender\" es del tipo objeto, por lo que se le asignará el valor \"1\" cuando sea mujero y \"0\" cuando sea hombre\n",
    "data2['gender'] = data2['gender'].replace(['F'],1)\n",
    "data2['gender'] = data2['gender'].replace(['M'],0)\n",
    "data2['gender'].value_counts()"
   ]
  },
  {
   "cell_type": "code",
   "execution_count": 11,
   "metadata": {},
   "outputs": [
    {
     "name": "stderr",
     "output_type": "stream",
     "text": [
      "<ipython-input-11-d24fa5a89eda>:2: SettingWithCopyWarning: \n",
      "A value is trying to be set on a copy of a slice from a DataFrame\n",
      "\n",
      "See the caveats in the documentation: https://pandas.pydata.org/pandas-docs/stable/user_guide/indexing.html#returning-a-view-versus-a-copy\n",
      "  data2.dropna(inplace=True)\n"
     ]
    }
   ],
   "source": [
    "#Se eliminarán variables nulos\n",
    "data2.dropna(inplace=True)"
   ]
  },
  {
   "cell_type": "code",
   "execution_count": 12,
   "metadata": {},
   "outputs": [
    {
     "name": "stdout",
     "output_type": "stream",
     "text": [
      "<class 'pandas.core.frame.DataFrame'>\n",
      "Int64Index: 22173 entries, 0 to 29999\n",
      "Data columns (total 40 columns):\n",
      " #   Column        Non-Null Count  Dtype  \n",
      "---  ------        --------------  -----  \n",
      " 0   gradyear      22173 non-null  int64  \n",
      " 1   gender        22173 non-null  float64\n",
      " 2   age           22173 non-null  float64\n",
      " 3   friends       22173 non-null  int64  \n",
      " 4   basketball    22173 non-null  int64  \n",
      " 5   football      22173 non-null  int64  \n",
      " 6   soccer        22173 non-null  int64  \n",
      " 7   softball      22173 non-null  int64  \n",
      " 8   volleyball    22173 non-null  int64  \n",
      " 9   swimming      22173 non-null  int64  \n",
      " 10  cheerleading  22173 non-null  int64  \n",
      " 11  baseball      22173 non-null  int64  \n",
      " 12  tennis        22173 non-null  int64  \n",
      " 13  sports        22173 non-null  int64  \n",
      " 14  cute          22173 non-null  int64  \n",
      " 15  sex           22173 non-null  int64  \n",
      " 16  sexy          22173 non-null  int64  \n",
      " 17  hot           22173 non-null  int64  \n",
      " 18  kissed        22173 non-null  int64  \n",
      " 19  dance         22173 non-null  int64  \n",
      " 20  band          22173 non-null  int64  \n",
      " 21  marching      22173 non-null  int64  \n",
      " 22  music         22173 non-null  int64  \n",
      " 23  rock          22173 non-null  int64  \n",
      " 24  god           22173 non-null  int64  \n",
      " 25  church        22173 non-null  int64  \n",
      " 26  jesus         22173 non-null  int64  \n",
      " 27  bible         22173 non-null  int64  \n",
      " 28  hair          22173 non-null  int64  \n",
      " 29  dress         22173 non-null  int64  \n",
      " 30  blonde        22173 non-null  int64  \n",
      " 31  mall          22173 non-null  int64  \n",
      " 32  shopping      22173 non-null  int64  \n",
      " 33  clothes       22173 non-null  int64  \n",
      " 34  hollister     22173 non-null  int64  \n",
      " 35  abercrombie   22173 non-null  int64  \n",
      " 36  die           22173 non-null  int64  \n",
      " 37  death         22173 non-null  int64  \n",
      " 38  drunk         22173 non-null  int64  \n",
      " 39  drugs         22173 non-null  int64  \n",
      "dtypes: float64(2), int64(38)\n",
      "memory usage: 6.9 MB\n"
     ]
    }
   ],
   "source": [
    "data2.info()"
   ]
  },
  {
   "cell_type": "markdown",
   "metadata": {},
   "source": [
    "## 2. Data Visualization\n",
    "\n",
    "Now that the data is more or less fixed, plot some charts to understand better how it is composed:  \n",
    "* Check distribution of variables - do we have outliers? What should we do with them?\n",
    "* Understand which features are correlated - do they represent the same? Which ones should we keep?\n",
    "* When we compare two variables, is it possible to see groups in the data?\n",
    "* Given the dimension of the dataset, would it be useful to perform dimension reduction in some variables? Which ones would you group?\n",
    "\n",
    "Comment your ideas based on the visualizations you made and other data exploration. What will be your next steps before modeling?"
   ]
  },
  {
   "cell_type": "code",
   "execution_count": 23,
   "metadata": {},
   "outputs": [
    {
     "data": {
      "text/plain": [
       "(array([4618.,    0.,    0., 5943.,    0.,    0., 5862.,    0.,    0.,\n",
       "        5750.]),\n",
       " array([2006. , 2006.3, 2006.6, 2006.9, 2007.2, 2007.5, 2007.8, 2008.1,\n",
       "        2008.4, 2008.7, 2009. ]),\n",
       " <a list of 10 Patch objects>)"
      ]
     },
     "execution_count": 23,
     "metadata": {},
     "output_type": "execute_result"
    },
    {
     "data": {
      "image/png": "[encoded data removed]",
      "text/plain": [
       "<Figure size 432x288 with 1 Axes>"
      ]
     },
     "metadata": {
      "needs_background": "light"
     },
     "output_type": "display_data"
    }
   ],
   "source": [
    "#Your code here:\n",
    "plt.hist(data2['gradyear'])"
   ]
  },
  {
   "cell_type": "code",
   "execution_count": 24,
   "metadata": {},
   "outputs": [
    {
     "data": {
      "text/plain": [
       "(array([ 4177.,     0.,     0.,     0.,     0.,     0.,     0.,     0.,\n",
       "            0., 17996.]),\n",
       " array([0. , 0.1, 0.2, 0.3, 0.4, 0.5, 0.6, 0.7, 0.8, 0.9, 1. ]),\n",
       " <a list of 10 Patch objects>)"
      ]
     },
     "execution_count": 24,
     "metadata": {},
     "output_type": "execute_result"
    },
    {
     "data": {
      "image/png": "[encoded data removed]",
      "text/plain": [
       "<Figure size 432x288 with 1 Axes>"
      ]
     },
     "metadata": {
      "needs_background": "light"
     },
     "output_type": "display_data"
    }
   ],
   "source": [
    "plt.hist(data2['gender'])"
   ]
  },
  {
   "cell_type": "code",
   "execution_count": 25,
   "metadata": {},
   "outputs": [
    {
     "data": {
      "text/plain": [
       "(array([   8.,   15.,   37., 1052., 3095., 3627., 3548., 3788., 3756.,\n",
       "        3247.]),\n",
       " array([13.027 , 13.6241, 14.2212, 14.8183, 15.4154, 16.0125, 16.6096,\n",
       "        17.2067, 17.8038, 18.4009, 18.998 ]),\n",
       " <a list of 10 Patch objects>)"
      ]
     },
     "execution_count": 25,
     "metadata": {},
     "output_type": "execute_result"
    },
    {
     "data": {
      "image/png": "[encoded data removed]",
      "text/plain": [
       "<Figure size 432x288 with 1 Axes>"
      ]
     },
     "metadata": {
      "needs_background": "light"
     },
     "output_type": "display_data"
    }
   ],
   "source": [
    "plt.hist(data2['age'])"
   ]
  },
  {
   "cell_type": "code",
   "execution_count": 26,
   "metadata": {},
   "outputs": [
    {
     "data": {
      "text/plain": [
       "(array([2.0468e+04, 1.4910e+03, 1.6800e+02, 3.7000e+01, 3.0000e+00,\n",
       "        1.0000e+00, 2.0000e+00, 2.0000e+00, 0.0000e+00, 1.0000e+00]),\n",
       " array([  0.,  83., 166., 249., 332., 415., 498., 581., 664., 747., 830.]),\n",
       " <a list of 10 Patch objects>)"
      ]
     },
     "execution_count": 26,
     "metadata": {},
     "output_type": "execute_result"
    },
    {
     "data": {
      "image/png": "[encoded data removed]",
      "text/plain": [
       "<Figure size 432x288 with 1 Axes>"
      ]
     },
     "metadata": {
      "needs_background": "light"
     },
     "output_type": "display_data"
    }
   ],
   "source": [
    "plt.hist(data2['friends'])"
   ]
  },
  {
   "cell_type": "code",
   "execution_count": 27,
   "metadata": {},
   "outputs": [
    {
     "data": {
      "text/plain": [
       "(array([2.1614e+04, 4.2500e+02, 1.0900e+02, 1.4000e+01, 6.0000e+00,\n",
       "        3.0000e+00, 0.0000e+00, 0.0000e+00, 0.0000e+00, 2.0000e+00]),\n",
       " array([ 0. ,  2.4,  4.8,  7.2,  9.6, 12. , 14.4, 16.8, 19.2, 21.6, 24. ]),\n",
       " <a list of 10 Patch objects>)"
      ]
     },
     "execution_count": 27,
     "metadata": {},
     "output_type": "execute_result"
    },
    {
     "data": {
      "image/png": "[encoded data removed]",
      "text/plain": [
       "<Figure size 432x288 with 1 Axes>"
      ]
     },
     "metadata": {
      "needs_background": "light"
     },
     "output_type": "display_data"
    }
   ],
   "source": [
    "plt.hist(data2['basketball'])"
   ]
  },
  {
   "cell_type": "code",
   "execution_count": 28,
   "metadata": {},
   "outputs": [
    {
     "data": {
      "text/plain": [
       "(array([2.0965e+04, 7.4300e+02, 3.7500e+02, 4.2000e+01, 4.0000e+01,\n",
       "        6.0000e+00, 0.0000e+00, 1.0000e+00, 0.0000e+00, 1.0000e+00]),\n",
       " array([ 0. ,  1.5,  3. ,  4.5,  6. ,  7.5,  9. , 10.5, 12. , 13.5, 15. ]),\n",
       " <a list of 10 Patch objects>)"
      ]
     },
     "execution_count": 28,
     "metadata": {},
     "output_type": "execute_result"
    },
    {
     "data": {
      "image/png": "[encoded data removed]",
      "text/plain": [
       "<Figure size 432x288 with 1 Axes>"
      ]
     },
     "metadata": {
      "needs_background": "light"
     },
     "output_type": "display_data"
    }
   ],
   "source": [
    "plt.hist(data2['football'])"
   ]
  },
  {
   "cell_type": "code",
   "execution_count": 31,
   "metadata": {},
   "outputs": [
    {
     "data": {
      "text/plain": [
       "(array([2.1568e+04, 4.5200e+02, 1.1800e+02, 1.5000e+01, 1.3000e+01,\n",
       "        4.0000e+00, 0.0000e+00, 0.0000e+00, 1.0000e+00, 2.0000e+00]),\n",
       " array([ 0. ,  2.7,  5.4,  8.1, 10.8, 13.5, 16.2, 18.9, 21.6, 24.3, 27. ]),\n",
       " <a list of 10 Patch objects>)"
      ]
     },
     "execution_count": 31,
     "metadata": {},
     "output_type": "execute_result"
    },
    {
     "data": {
      "image/png": "[encoded data removed]",
      "text/plain": [
       "<Figure size 432x288 with 1 Axes>"
      ]
     },
     "metadata": {
      "needs_background": "light"
     },
     "output_type": "display_data"
    }
   ],
   "source": [
    "plt.hist(data2['soccer'])"
   ]
  },
  {
   "cell_type": "code",
   "execution_count": 32,
   "metadata": {},
   "outputs": [
    {
     "data": {
      "text/plain": [
       "(array([2.1352e+04, 5.6200e+02, 1.5500e+02, 4.1000e+01, 4.2000e+01,\n",
       "        1.4000e+01, 2.0000e+00, 2.0000e+00, 2.0000e+00, 1.0000e+00]),\n",
       " array([ 0. ,  1.7,  3.4,  5.1,  6.8,  8.5, 10.2, 11.9, 13.6, 15.3, 17. ]),\n",
       " <a list of 10 Patch objects>)"
      ]
     },
     "execution_count": 32,
     "metadata": {},
     "output_type": "execute_result"
    },
    {
     "data": {
      "image/png": "[encoded data removed]",
      "text/plain": [
       "<Figure size 432x288 with 1 Axes>"
      ]
     },
     "metadata": {
      "needs_background": "light"
     },
     "output_type": "display_data"
    }
   ],
   "source": [
    "plt.hist(data2['softball'])"
   ]
  },
  {
   "cell_type": "code",
   "execution_count": 33,
   "metadata": {},
   "outputs": [
    {
     "data": {
      "text/plain": [
       "(array([2.1496e+04, 3.4700e+02, 2.0600e+02, 4.7000e+01, 3.6000e+01,\n",
       "        2.6000e+01, 6.0000e+00, 7.0000e+00, 0.0000e+00, 2.0000e+00]),\n",
       " array([ 0. ,  1.4,  2.8,  4.2,  5.6,  7. ,  8.4,  9.8, 11.2, 12.6, 14. ]),\n",
       " <a list of 10 Patch objects>)"
      ]
     },
     "execution_count": 33,
     "metadata": {},
     "output_type": "execute_result"
    },
    {
     "data": {
      "image/png": "[encoded data removed]",
      "text/plain": [
       "<Figure size 432x288 with 1 Axes>"
      ]
     },
     "metadata": {
      "needs_background": "light"
     },
     "output_type": "display_data"
    }
   ],
   "source": [
    "plt.hist(data2['volleyball'])"
   ]
  },
  {
   "cell_type": "code",
   "execution_count": 34,
   "metadata": {},
   "outputs": [
    {
     "data": {
      "text/plain": [
       "(array([2.2105e+04, 6.0000e+01, 5.0000e+00, 2.0000e+00, 0.0000e+00,\n",
       "        0.0000e+00, 0.0000e+00, 0.0000e+00, 0.0000e+00, 1.0000e+00]),\n",
       " array([ 0. ,  3.1,  6.2,  9.3, 12.4, 15.5, 18.6, 21.7, 24.8, 27.9, 31. ]),\n",
       " <a list of 10 Patch objects>)"
      ]
     },
     "execution_count": 34,
     "metadata": {},
     "output_type": "execute_result"
    },
    {
     "data": {
      "image/png": "[encoded data removed]",
      "text/plain": [
       "<Figure size 432x288 with 1 Axes>"
      ]
     },
     "metadata": {
      "needs_background": "light"
     },
     "output_type": "display_data"
    }
   ],
   "source": [
    "plt.hist(data2['swimming'])"
   ]
  },
  {
   "cell_type": "code",
   "execution_count": 35,
   "metadata": {},
   "outputs": [
    {
     "data": {
      "text/plain": [
       "(array([2.0753e+04, 8.4000e+02, 3.1900e+02, 1.3200e+02, 6.5000e+01,\n",
       "        3.1000e+01, 2.3000e+01, 4.0000e+00, 4.0000e+00, 2.0000e+00]),\n",
       " array([0. , 0.9, 1.8, 2.7, 3.6, 4.5, 5.4, 6.3, 7.2, 8.1, 9. ]),\n",
       " <a list of 10 Patch objects>)"
      ]
     },
     "execution_count": 35,
     "metadata": {},
     "output_type": "execute_result"
    },
    {
     "data": {
      "image/png": "[encoded data removed]",
      "text/plain": [
       "<Figure size 432x288 with 1 Axes>"
      ]
     },
     "metadata": {
      "needs_background": "light"
     },
     "output_type": "display_data"
    }
   ],
   "source": [
    "plt.hist(data2['cheerleading'])"
   ]
  },
  {
   "cell_type": "code",
   "execution_count": 36,
   "metadata": {},
   "outputs": [
    {
     "data": {
      "text/plain": [
       "(array([2.1699e+04, 3.5400e+02, 4.7000e+01, 5.3000e+01, 1.0000e+01,\n",
       "        5.0000e+00, 2.0000e+00, 1.0000e+00, 1.0000e+00, 1.0000e+00]),\n",
       " array([ 0. ,  1.6,  3.2,  4.8,  6.4,  8. ,  9.6, 11.2, 12.8, 14.4, 16. ]),\n",
       " <a list of 10 Patch objects>)"
      ]
     },
     "execution_count": 36,
     "metadata": {},
     "output_type": "execute_result"
    },
    {
     "data": {
      "image/png": "[encoded data removed]",
      "text/plain": [
       "<Figure size 432x288 with 1 Axes>"
      ]
     },
     "metadata": {
      "needs_background": "light"
     },
     "output_type": "display_data"
    }
   ],
   "source": [
    "plt.hist(data2['baseball'])"
   ]
  },
  {
   "cell_type": "code",
   "execution_count": 37,
   "metadata": {},
   "outputs": [
    {
     "data": {
      "text/plain": [
       "(array([2.1807e+04, 1.7800e+02, 8.4000e+01, 6.0000e+01, 1.6000e+01,\n",
       "        1.4000e+01, 8.0000e+00, 3.0000e+00, 2.0000e+00, 1.0000e+00]),\n",
       " array([ 0. ,  1.3,  2.6,  3.9,  5.2,  6.5,  7.8,  9.1, 10.4, 11.7, 13. ]),\n",
       " <a list of 10 Patch objects>)"
      ]
     },
     "execution_count": 37,
     "metadata": {},
     "output_type": "execute_result"
    },
    {
     "data": {
      "image/png": "[encoded data removed]",
      "text/plain": [
       "<Figure size 432x288 with 1 Axes>"
      ]
     },
     "metadata": {
      "needs_background": "light"
     },
     "output_type": "display_data"
    }
   ],
   "source": [
    "plt.hist(data2['tennis'])"
   ]
  },
  {
   "cell_type": "code",
   "execution_count": 38,
   "metadata": {},
   "outputs": [
    {
     "data": {
      "text/plain": [
       "(array([2.1707e+04, 3.3500e+02, 7.8000e+01, 2.8000e+01, 1.3000e+01,\n",
       "        9.0000e+00, 0.0000e+00, 1.0000e+00, 0.0000e+00, 2.0000e+00]),\n",
       " array([ 0. ,  1.2,  2.4,  3.6,  4.8,  6. ,  7.2,  8.4,  9.6, 10.8, 12. ]),\n",
       " <a list of 10 Patch objects>)"
      ]
     },
     "execution_count": 38,
     "metadata": {},
     "output_type": "execute_result"
    },
    {
     "data": {
      "image/png": "[encoded data removed]",
      "text/plain": [
       "<Figure size 432x288 with 1 Axes>"
      ]
     },
     "metadata": {
      "needs_background": "light"
     },
     "output_type": "display_data"
    }
   ],
   "source": [
    "plt.hist(data2['sports'])"
   ]
  },
  {
   "cell_type": "code",
   "execution_count": 39,
   "metadata": {},
   "outputs": [
    {
     "data": {
      "text/plain": [
       "(array([2.0562e+04, 1.0090e+03, 4.8900e+02, 5.7000e+01, 4.1000e+01,\n",
       "        6.0000e+00, 3.0000e+00, 2.0000e+00, 2.0000e+00, 2.0000e+00]),\n",
       " array([ 0. ,  1.5,  3. ,  4.5,  6. ,  7.5,  9. , 10.5, 12. , 13.5, 15. ]),\n",
       " <a list of 10 Patch objects>)"
      ]
     },
     "execution_count": 39,
     "metadata": {},
     "output_type": "execute_result"
    },
    {
     "data": {
      "image/png": "[encoded data removed]",
      "text/plain": [
       "<Figure size 432x288 with 1 Axes>"
      ]
     },
     "metadata": {
      "needs_background": "light"
     },
     "output_type": "display_data"
    }
   ],
   "source": [
    "plt.hist(data2['cute'])"
   ]
  },
  {
   "cell_type": "code",
   "execution_count": 40,
   "metadata": {},
   "outputs": [
    {
     "data": {
      "text/plain": [
       "(array([2.2155e+04, 1.3000e+01, 3.0000e+00, 1.0000e+00, 0.0000e+00,\n",
       "        0.0000e+00, 0.0000e+00, 0.0000e+00, 0.0000e+00, 1.0000e+00]),\n",
       " array([  0. ,  11.4,  22.8,  34.2,  45.6,  57. ,  68.4,  79.8,  91.2,\n",
       "        102.6, 114. ]),\n",
       " <a list of 10 Patch objects>)"
      ]
     },
     "execution_count": 40,
     "metadata": {},
     "output_type": "execute_result"
    },
    {
     "data": {
      "image/png": "[encoded data removed]",
      "text/plain": [
       "<Figure size 432x288 with 1 Axes>"
      ]
     },
     "metadata": {
      "needs_background": "light"
     },
     "output_type": "display_data"
    }
   ],
   "source": [
    "plt.hist(data2['sex'])"
   ]
  },
  {
   "cell_type": "code",
   "execution_count": 41,
   "metadata": {},
   "outputs": [
    {
     "data": {
      "text/plain": [
       "(array([2.1663e+04, 4.0300e+02, 7.8000e+01, 2.3000e+01, 2.0000e+00,\n",
       "        2.0000e+00, 1.0000e+00, 0.0000e+00, 0.0000e+00, 1.0000e+00]),\n",
       " array([ 0. ,  1.8,  3.6,  5.4,  7.2,  9. , 10.8, 12.6, 14.4, 16.2, 18. ]),\n",
       " <a list of 10 Patch objects>)"
      ]
     },
     "execution_count": 41,
     "metadata": {},
     "output_type": "execute_result"
    },
    {
     "data": {
      "image/png": "[encoded data removed]",
      "text/plain": [
       "<Figure size 432x288 with 1 Axes>"
      ]
     },
     "metadata": {
      "needs_background": "light"
     },
     "output_type": "display_data"
    }
   ],
   "source": [
    "plt.hist(data2['sexy'])"
   ]
  },
  {
   "cell_type": "code",
   "execution_count": 42,
   "metadata": {},
   "outputs": [
    {
     "data": {
      "text/plain": [
       "(array([2.0064e+04, 1.5800e+03, 3.3900e+02, 1.1400e+02, 4.2000e+01,\n",
       "        1.8000e+01, 1.2000e+01, 2.0000e+00, 0.0000e+00, 2.0000e+00]),\n",
       " array([ 0.,  1.,  2.,  3.,  4.,  5.,  6.,  7.,  8.,  9., 10.]),\n",
       " <a list of 10 Patch objects>)"
      ]
     },
     "execution_count": 42,
     "metadata": {},
     "output_type": "execute_result"
    },
    {
     "data": {
      "image/png": "[encoded data removed]",
      "text/plain": [
       "<Figure size 432x288 with 1 Axes>"
      ]
     },
     "metadata": {
      "needs_background": "light"
     },
     "output_type": "display_data"
    }
   ],
   "source": [
    "plt.hist(data2['hot'])"
   ]
  },
  {
   "cell_type": "code",
   "execution_count": 43,
   "metadata": {},
   "outputs": [
    {
     "data": {
      "text/plain": [
       "(array([2.1936e+04, 2.1600e+02, 1.6000e+01, 4.0000e+00, 0.0000e+00,\n",
       "        0.0000e+00, 0.0000e+00, 0.0000e+00, 0.0000e+00, 1.0000e+00]),\n",
       " array([ 0. ,  2.6,  5.2,  7.8, 10.4, 13. , 15.6, 18.2, 20.8, 23.4, 26. ]),\n",
       " <a list of 10 Patch objects>)"
      ]
     },
     "execution_count": 43,
     "metadata": {},
     "output_type": "execute_result"
    },
    {
     "data": {
      "image/png": "[encoded data removed]",
      "text/plain": [
       "<Figure size 432x288 with 1 Axes>"
      ]
     },
     "metadata": {
      "needs_background": "light"
     },
     "output_type": "display_data"
    }
   ],
   "source": [
    "plt.hist(data2['kissed'])"
   ]
  },
  {
   "cell_type": "code",
   "execution_count": 44,
   "metadata": {},
   "outputs": [
    {
     "data": {
      "text/plain": [
       "(array([2.1159e+04, 8.0400e+02, 1.4300e+02, 3.9000e+01, 1.4000e+01,\n",
       "        7.0000e+00, 4.0000e+00, 1.0000e+00, 0.0000e+00, 2.0000e+00]),\n",
       " array([ 0.,  3.,  6.,  9., 12., 15., 18., 21., 24., 27., 30.]),\n",
       " <a list of 10 Patch objects>)"
      ]
     },
     "execution_count": 44,
     "metadata": {},
     "output_type": "execute_result"
    },
    {
     "data": {
      "image/png": "[encoded data removed]",
      "text/plain": [
       "<Figure size 432x288 with 1 Axes>"
      ]
     },
     "metadata": {
      "needs_background": "light"
     },
     "output_type": "display_data"
    }
   ],
   "source": [
    "plt.hist(data2['dance'])"
   ]
  },
  {
   "cell_type": "code",
   "execution_count": 45,
   "metadata": {},
   "outputs": [
    {
     "data": {
      "text/plain": [
       "(array([2.1421e+04, 5.6300e+02, 1.2900e+02, 2.7000e+01, 2.1000e+01,\n",
       "        5.0000e+00, 3.0000e+00, 3.0000e+00, 0.0000e+00, 1.0000e+00]),\n",
       " array([ 0. ,  2.7,  5.4,  8.1, 10.8, 13.5, 16.2, 18.9, 21.6, 24.3, 27. ]),\n",
       " <a list of 10 Patch objects>)"
      ]
     },
     "execution_count": 45,
     "metadata": {},
     "output_type": "execute_result"
    },
    {
     "data": {
      "image/png": "[encoded data removed]",
      "text/plain": [
       "<Figure size 432x288 with 1 Axes>"
      ]
     },
     "metadata": {
      "needs_background": "light"
     },
     "output_type": "display_data"
    }
   ],
   "source": [
    "plt.hist(data2['band'])"
   ]
  },
  {
   "cell_type": "code",
   "execution_count": 46,
   "metadata": {},
   "outputs": [
    {
     "data": {
      "text/plain": [
       "(array([2.1989e+04, 1.3100e+02, 2.9000e+01, 1.3000e+01, 4.0000e+00,\n",
       "        3.0000e+00, 1.0000e+00, 1.0000e+00, 1.0000e+00, 1.0000e+00]),\n",
       " array([ 0. ,  1.1,  2.2,  3.3,  4.4,  5.5,  6.6,  7.7,  8.8,  9.9, 11. ]),\n",
       " <a list of 10 Patch objects>)"
      ]
     },
     "execution_count": 46,
     "metadata": {},
     "output_type": "execute_result"
    },
    {
     "data": {
      "image/png": "[encoded data removed]",
      "text/plain": [
       "<Figure size 432x288 with 1 Axes>"
      ]
     },
     "metadata": {
      "needs_background": "light"
     },
     "output_type": "display_data"
    }
   ],
   "source": [
    "plt.hist(data2['marching'])"
   ]
  },
  {
   "cell_type": "code",
   "execution_count": 47,
   "metadata": {},
   "outputs": [
    {
     "data": {
      "text/plain": [
       "(array([2.0701e+04, 1.2950e+03, 1.3800e+02, 1.5000e+01, 1.1000e+01,\n",
       "        4.0000e+00, 3.0000e+00, 4.0000e+00, 1.0000e+00, 1.0000e+00]),\n",
       " array([ 0. ,  2.7,  5.4,  8.1, 10.8, 13.5, 16.2, 18.9, 21.6, 24.3, 27. ]),\n",
       " <a list of 10 Patch objects>)"
      ]
     },
     "execution_count": 47,
     "metadata": {},
     "output_type": "execute_result"
    },
    {
     "data": {
      "image/png": "[encoded data removed]",
      "text/plain": [
       "<Figure size 432x288 with 1 Axes>"
      ]
     },
     "metadata": {
      "needs_background": "light"
     },
     "output_type": "display_data"
    }
   ],
   "source": [
    "plt.hist(data2['music'])"
   ]
  },
  {
   "cell_type": "code",
   "execution_count": 48,
   "metadata": {},
   "outputs": [
    {
     "data": {
      "text/plain": [
       "(array([2.1791e+04, 2.7400e+02, 7.3000e+01, 1.7000e+01, 1.1000e+01,\n",
       "        3.0000e+00, 1.0000e+00, 1.0000e+00, 1.0000e+00, 1.0000e+00]),\n",
       " array([ 0. ,  2.1,  4.2,  6.3,  8.4, 10.5, 12.6, 14.7, 16.8, 18.9, 21. ]),\n",
       " <a list of 10 Patch objects>)"
      ]
     },
     "execution_count": 48,
     "metadata": {},
     "output_type": "execute_result"
    },
    {
     "data": {
      "image/png": "[encoded data removed]",
      "text/plain": [
       "<Figure size 432x288 with 1 Axes>"
      ]
     },
     "metadata": {
      "needs_background": "light"
     },
     "output_type": "display_data"
    }
   ],
   "source": [
    "plt.hist(data2['rock'])"
   ]
  },
  {
   "cell_type": "code",
   "execution_count": 49,
   "metadata": {},
   "outputs": [
    {
     "data": {
      "text/plain": [
       "(array([2.1701e+04, 3.7900e+02, 5.7000e+01, 1.9000e+01, 8.0000e+00,\n",
       "        5.0000e+00, 2.0000e+00, 0.0000e+00, 0.0000e+00, 2.0000e+00]),\n",
       " array([ 0. ,  3.9,  7.8, 11.7, 15.6, 19.5, 23.4, 27.3, 31.2, 35.1, 39. ]),\n",
       " <a list of 10 Patch objects>)"
      ]
     },
     "execution_count": 49,
     "metadata": {},
     "output_type": "execute_result"
    },
    {
     "data": {
      "image/png": "[encoded data removed]",
      "text/plain": [
       "<Figure size 432x288 with 1 Axes>"
      ]
     },
     "metadata": {
      "needs_background": "light"
     },
     "output_type": "display_data"
    }
   ],
   "source": [
    "plt.hist(data2['god'])"
   ]
  },
  {
   "cell_type": "code",
   "execution_count": 50,
   "metadata": {},
   "outputs": [
    {
     "data": {
      "text/plain": [
       "(array([2.2016e+04, 1.3500e+02, 2.0000e+01, 1.0000e+00, 0.0000e+00,\n",
       "        0.0000e+00, 0.0000e+00, 0.0000e+00, 0.0000e+00, 1.0000e+00]),\n",
       " array([ 0. ,  4.4,  8.8, 13.2, 17.6, 22. , 26.4, 30.8, 35.2, 39.6, 44. ]),\n",
       " <a list of 10 Patch objects>)"
      ]
     },
     "execution_count": 50,
     "metadata": {},
     "output_type": "execute_result"
    },
    {
     "data": {
      "image/png": "[encoded data removed]",
      "text/plain": [
       "<Figure size 432x288 with 1 Axes>"
      ]
     },
     "metadata": {
      "needs_background": "light"
     },
     "output_type": "display_data"
    }
   ],
   "source": [
    "plt.hist(data2['church'])"
   ]
  },
  {
   "cell_type": "code",
   "execution_count": 51,
   "metadata": {},
   "outputs": [
    {
     "data": {
      "text/plain": [
       "(array([2.2024e+04, 1.2200e+02, 1.5000e+01, 6.0000e+00, 2.0000e+00,\n",
       "        3.0000e+00, 0.0000e+00, 0.0000e+00, 0.0000e+00, 1.0000e+00]),\n",
       " array([ 0. ,  2.9,  5.8,  8.7, 11.6, 14.5, 17.4, 20.3, 23.2, 26.1, 29. ]),\n",
       " <a list of 10 Patch objects>)"
      ]
     },
     "execution_count": 51,
     "metadata": {},
     "output_type": "execute_result"
    },
    {
     "data": {
      "image/png": "[encoded data removed]",
      "text/plain": [
       "<Figure size 432x288 with 1 Axes>"
      ]
     },
     "metadata": {
      "needs_background": "light"
     },
     "output_type": "display_data"
    }
   ],
   "source": [
    "plt.hist(data2['jesus'])"
   ]
  },
  {
   "cell_type": "code",
   "execution_count": 52,
   "metadata": {},
   "outputs": [
    {
     "data": {
      "text/plain": [
       "(array([2.182e+04, 2.750e+02, 6.100e+01, 6.000e+00, 0.000e+00, 6.000e+00,\n",
       "        3.000e+00, 1.000e+00, 0.000e+00, 1.000e+00]),\n",
       " array([0. , 0.8, 1.6, 2.4, 3.2, 4. , 4.8, 5.6, 6.4, 7.2, 8. ]),\n",
       " <a list of 10 Patch objects>)"
      ]
     },
     "execution_count": 52,
     "metadata": {},
     "output_type": "execute_result"
    },
    {
     "data": {
      "image/png": "[encoded data removed]",
      "text/plain": [
       "<Figure size 432x288 with 1 Axes>"
      ]
     },
     "metadata": {
      "needs_background": "light"
     },
     "output_type": "display_data"
    }
   ],
   "source": [
    "plt.hist(data2['bible'])"
   ]
  },
  {
   "cell_type": "code",
   "execution_count": 53,
   "metadata": {},
   "outputs": [
    {
     "data": {
      "text/plain": [
       "(array([2.1576e+04, 5.2800e+02, 6.0000e+01, 3.0000e+00, 1.0000e+00,\n",
       "        2.0000e+00, 1.0000e+00, 1.0000e+00, 0.0000e+00, 1.0000e+00]),\n",
       " array([ 0. ,  3.7,  7.4, 11.1, 14.8, 18.5, 22.2, 25.9, 29.6, 33.3, 37. ]),\n",
       " <a list of 10 Patch objects>)"
      ]
     },
     "execution_count": 53,
     "metadata": {},
     "output_type": "execute_result"
    },
    {
     "data": {
      "image/png": "[encoded data removed]",
      "text/plain": [
       "<Figure size 432x288 with 1 Axes>"
      ]
     },
     "metadata": {
      "needs_background": "light"
     },
     "output_type": "display_data"
    }
   ],
   "source": [
    "plt.hist(data2['hair'])"
   ]
  },
  {
   "cell_type": "code",
   "execution_count": 54,
   "metadata": {},
   "outputs": [
    {
     "data": {
      "text/plain": [
       "(array([2.0362e+04, 1.3310e+03, 3.3300e+02, 8.3000e+01, 3.9000e+01,\n",
       "        1.6000e+01, 5.0000e+00, 3.0000e+00, 0.0000e+00, 1.0000e+00]),\n",
       " array([0. , 0.9, 1.8, 2.7, 3.6, 4.5, 5.4, 6.3, 7.2, 8.1, 9. ]),\n",
       " <a list of 10 Patch objects>)"
      ]
     },
     "execution_count": 54,
     "metadata": {},
     "output_type": "execute_result"
    },
    {
     "data": {
      "image/png": "[encoded data removed]",
      "text/plain": [
       "<Figure size 432x288 with 1 Axes>"
      ]
     },
     "metadata": {
      "needs_background": "light"
     },
     "output_type": "display_data"
    }
   ],
   "source": [
    "plt.hist(data2['dress'])"
   ]
  },
  {
   "cell_type": "code",
   "execution_count": 55,
   "metadata": {},
   "outputs": [
    {
     "data": {
      "text/plain": [
       "(array([2.2172e+04, 0.0000e+00, 0.0000e+00, 0.0000e+00, 0.0000e+00,\n",
       "        0.0000e+00, 0.0000e+00, 0.0000e+00, 0.0000e+00, 1.0000e+00]),\n",
       " array([  0. ,  32.7,  65.4,  98.1, 130.8, 163.5, 196.2, 228.9, 261.6,\n",
       "        294.3, 327. ]),\n",
       " <a list of 10 Patch objects>)"
      ]
     },
     "execution_count": 55,
     "metadata": {},
     "output_type": "execute_result"
    },
    {
     "data": {
      "image/png": "[encoded data removed]",
      "text/plain": [
       "<Figure size 432x288 with 1 Axes>"
      ]
     },
     "metadata": {
      "needs_background": "light"
     },
     "output_type": "display_data"
    }
   ],
   "source": [
    "plt.hist(data2['blonde'])"
   ]
  },
  {
   "cell_type": "code",
   "execution_count": 56,
   "metadata": {},
   "outputs": [
    {
     "data": {
      "text/plain": [
       "(array([2.0992e+04, 7.5600e+02, 2.4100e+02, 9.4000e+01, 4.0000e+01,\n",
       "        3.8000e+01, 3.0000e+00, 6.0000e+00, 0.0000e+00, 3.0000e+00]),\n",
       " array([ 0. ,  1.2,  2.4,  3.6,  4.8,  6. ,  7.2,  8.4,  9.6, 10.8, 12. ]),\n",
       " <a list of 10 Patch objects>)"
      ]
     },
     "execution_count": 56,
     "metadata": {},
     "output_type": "execute_result"
    },
    {
     "data": {
      "image/png": "[encoded data removed]",
      "text/plain": [
       "<Figure size 432x288 with 1 Axes>"
      ]
     },
     "metadata": {
      "needs_background": "light"
     },
     "output_type": "display_data"
    }
   ],
   "source": [
    "plt.hist(data2['mall'])"
   ]
  },
  {
   "cell_type": "code",
   "execution_count": 57,
   "metadata": {},
   "outputs": [
    {
     "data": {
      "text/plain": [
       "(array([2.0639e+04, 1.0520e+03, 3.0800e+02, 1.1900e+02, 3.5000e+01,\n",
       "        9.0000e+00, 5.0000e+00, 4.0000e+00, 1.0000e+00, 1.0000e+00]),\n",
       " array([ 0. ,  1.1,  2.2,  3.3,  4.4,  5.5,  6.6,  7.7,  8.8,  9.9, 11. ]),\n",
       " <a list of 10 Patch objects>)"
      ]
     },
     "execution_count": 57,
     "metadata": {},
     "output_type": "execute_result"
    },
    {
     "data": {
      "image/png": "[encoded data removed]",
      "text/plain": [
       "<Figure size 432x288 with 1 Axes>"
      ]
     },
     "metadata": {
      "needs_background": "light"
     },
     "output_type": "display_data"
    }
   ],
   "source": [
    "plt.hist(data2['shopping'])"
   ]
  },
  {
   "cell_type": "code",
   "execution_count": 58,
   "metadata": {},
   "outputs": [
    {
     "data": {
      "text/plain": [
       "(array([1.9521e+04, 2.0650e+03, 4.2900e+02, 1.1000e+02, 0.0000e+00,\n",
       "        3.2000e+01, 9.0000e+00, 5.0000e+00, 1.0000e+00, 1.0000e+00]),\n",
       " array([0. , 0.8, 1.6, 2.4, 3.2, 4. , 4.8, 5.6, 6.4, 7.2, 8. ]),\n",
       " <a list of 10 Patch objects>)"
      ]
     },
     "execution_count": 58,
     "metadata": {},
     "output_type": "execute_result"
    },
    {
     "data": {
      "image/png": "[encoded data removed]",
      "text/plain": [
       "<Figure size 432x288 with 1 Axes>"
      ]
     },
     "metadata": {
      "needs_background": "light"
     },
     "output_type": "display_data"
    }
   ],
   "source": [
    "plt.hist(data2['clothes'])"
   ]
  },
  {
   "cell_type": "code",
   "execution_count": 60,
   "metadata": {},
   "outputs": [
    {
     "data": {
      "text/plain": [
       "(array([2.099e+04, 9.060e+02, 1.990e+02, 4.900e+01, 1.500e+01, 7.000e+00,\n",
       "        1.000e+00, 4.000e+00, 1.000e+00, 1.000e+00]),\n",
       " array([0. , 0.9, 1.8, 2.7, 3.6, 4.5, 5.4, 6.3, 7.2, 8.1, 9. ]),\n",
       " <a list of 10 Patch objects>)"
      ]
     },
     "execution_count": 60,
     "metadata": {},
     "output_type": "execute_result"
    },
    {
     "data": {
      "image/png": "[encoded data removed]",
      "text/plain": [
       "<Figure size 432x288 with 1 Axes>"
      ]
     },
     "metadata": {
      "needs_background": "light"
     },
     "output_type": "display_data"
    }
   ],
   "source": [
    "plt.hist(data2['hollister'])"
   ]
  },
  {
   "cell_type": "code",
   "execution_count": 62,
   "metadata": {},
   "outputs": [
    {
     "data": {
      "text/plain": [
       "(array([2.1198e+04, 7.9800e+02, 1.3800e+02, 2.6000e+01, 0.0000e+00,\n",
       "        6.0000e+00, 3.0000e+00, 1.0000e+00, 2.0000e+00, 1.0000e+00]),\n",
       " array([0. , 0.8, 1.6, 2.4, 3.2, 4. , 4.8, 5.6, 6.4, 7.2, 8. ]),\n",
       " <a list of 10 Patch objects>)"
      ]
     },
     "execution_count": 62,
     "metadata": {},
     "output_type": "execute_result"
    },
    {
     "data": {
      "image/png": "[encoded data removed]",
      "text/plain": [
       "<Figure size 432x288 with 1 Axes>"
      ]
     },
     "metadata": {
      "needs_background": "light"
     },
     "output_type": "display_data"
    }
   ],
   "source": [
    "plt.hist(data2['abercrombie'])"
   ]
  },
  {
   "cell_type": "code",
   "execution_count": 63,
   "metadata": {},
   "outputs": [
    {
     "data": {
      "text/plain": [
       "(array([2.1926e+04, 1.9600e+02, 2.9000e+01, 1.2000e+01, 5.0000e+00,\n",
       "        3.0000e+00, 0.0000e+00, 1.0000e+00, 0.0000e+00, 1.0000e+00]),\n",
       " array([ 0. ,  2.2,  4.4,  6.6,  8.8, 11. , 13.2, 15.4, 17.6, 19.8, 22. ]),\n",
       " <a list of 10 Patch objects>)"
      ]
     },
     "execution_count": 63,
     "metadata": {},
     "output_type": "execute_result"
    },
    {
     "data": {
      "image/png": "[encoded data removed]",
      "text/plain": [
       "<Figure size 432x288 with 1 Axes>"
      ]
     },
     "metadata": {
      "needs_background": "light"
     },
     "output_type": "display_data"
    }
   ],
   "source": [
    "plt.hist(data2['die'])"
   ]
  },
  {
   "cell_type": "code",
   "execution_count": 64,
   "metadata": {},
   "outputs": [
    {
     "data": {
      "text/plain": [
       "(array([2.1783e+04, 2.8300e+02, 8.8000e+01, 1.1000e+01, 3.0000e+00,\n",
       "        3.0000e+00, 0.0000e+00, 0.0000e+00, 1.0000e+00, 1.0000e+00]),\n",
       " array([ 0. ,  1.4,  2.8,  4.2,  5.6,  7. ,  8.4,  9.8, 11.2, 12.6, 14. ]),\n",
       " <a list of 10 Patch objects>)"
      ]
     },
     "execution_count": 64,
     "metadata": {},
     "output_type": "execute_result"
    },
    {
     "data": {
      "image/png": "[encoded data removed]",
      "text/plain": [
       "<Figure size 432x288 with 1 Axes>"
      ]
     },
     "metadata": {
      "needs_background": "light"
     },
     "output_type": "display_data"
    }
   ],
   "source": [
    "plt.hist(data2['death'])"
   ]
  },
  {
   "cell_type": "code",
   "execution_count": 65,
   "metadata": {},
   "outputs": [
    {
     "data": {
      "text/plain": [
       "(array([2.0699e+04, 1.1160e+03, 2.5300e+02, 6.1000e+01, 0.0000e+00,\n",
       "        2.5000e+01, 5.0000e+00, 4.0000e+00, 4.0000e+00, 6.0000e+00]),\n",
       " array([0. , 0.8, 1.6, 2.4, 3.2, 4. , 4.8, 5.6, 6.4, 7.2, 8. ]),\n",
       " <a list of 10 Patch objects>)"
      ]
     },
     "execution_count": 65,
     "metadata": {},
     "output_type": "execute_result"
    },
    {
     "data": {
      "image/png": "[encoded data removed]",
      "text/plain": [
       "<Figure size 432x288 with 1 Axes>"
      ]
     },
     "metadata": {
      "needs_background": "light"
     },
     "output_type": "display_data"
    }
   ],
   "source": [
    "plt.hist(data2['drunk'])"
   ]
  },
  {
   "cell_type": "code",
   "execution_count": 66,
   "metadata": {},
   "outputs": [
    {
     "data": {
      "text/plain": [
       "(array([2.1896e+04, 2.4200e+02, 2.4000e+01, 6.0000e+00, 1.0000e+00,\n",
       "        1.0000e+00, 2.0000e+00, 0.0000e+00, 0.0000e+00, 1.0000e+00]),\n",
       " array([ 0. ,  1.6,  3.2,  4.8,  6.4,  8. ,  9.6, 11.2, 12.8, 14.4, 16. ]),\n",
       " <a list of 10 Patch objects>)"
      ]
     },
     "execution_count": 66,
     "metadata": {},
     "output_type": "execute_result"
    },
    {
     "data": {
      "image/png": "[encoded data removed]",
      "text/plain": [
       "<Figure size 432x288 with 1 Axes>"
      ]
     },
     "metadata": {
      "needs_background": "light"
     },
     "output_type": "display_data"
    }
   ],
   "source": [
    "plt.hist(data2['drugs'])"
   ]
  },
  {
   "cell_type": "code",
   "execution_count": 67,
   "metadata": {},
   "outputs": [
    {
     "data": {
      "text/html": [
       "<div>\n",
       "<style scoped>\n",
       "    .dataframe tbody tr th:only-of-type {\n",
       "        vertical-align: middle;\n",
       "    }\n",
       "\n",
       "    .dataframe tbody tr th {\n",
       "        vertical-align: top;\n",
       "    }\n",
       "\n",
       "    .dataframe thead th {\n",
       "        text-align: right;\n",
       "    }\n",
       "</style>\n",
       "<table border=\"1\" class=\"dataframe\">\n",
       "  <thead>\n",
       "    <tr style=\"text-align: right;\">\n",
       "      <th></th>\n",
       "      <th>gradyear</th>\n",
       "      <th>gender</th>\n",
       "      <th>age</th>\n",
       "      <th>friends</th>\n",
       "      <th>basketball</th>\n",
       "      <th>football</th>\n",
       "      <th>soccer</th>\n",
       "      <th>softball</th>\n",
       "      <th>volleyball</th>\n",
       "      <th>swimming</th>\n",
       "      <th>...</th>\n",
       "      <th>blonde</th>\n",
       "      <th>mall</th>\n",
       "      <th>shopping</th>\n",
       "      <th>clothes</th>\n",
       "      <th>hollister</th>\n",
       "      <th>abercrombie</th>\n",
       "      <th>die</th>\n",
       "      <th>death</th>\n",
       "      <th>drunk</th>\n",
       "      <th>drugs</th>\n",
       "    </tr>\n",
       "  </thead>\n",
       "  <tbody>\n",
       "    <tr>\n",
       "      <th>gradyear</th>\n",
       "      <td>1.000000</td>\n",
       "      <td>0.041496</td>\n",
       "      <td>-0.910088</td>\n",
       "      <td>0.058011</td>\n",
       "      <td>0.063641</td>\n",
       "      <td>0.029645</td>\n",
       "      <td>0.051393</td>\n",
       "      <td>0.038426</td>\n",
       "      <td>0.053952</td>\n",
       "      <td>0.029819</td>\n",
       "      <td>...</td>\n",
       "      <td>0.007808</td>\n",
       "      <td>0.068574</td>\n",
       "      <td>0.029032</td>\n",
       "      <td>0.031810</td>\n",
       "      <td>0.049617</td>\n",
       "      <td>0.045473</td>\n",
       "      <td>0.013249</td>\n",
       "      <td>-0.007145</td>\n",
       "      <td>-0.022319</td>\n",
       "      <td>0.004818</td>\n",
       "    </tr>\n",
       "    <tr>\n",
       "      <th>gender</th>\n",
       "      <td>0.041496</td>\n",
       "      <td>1.000000</td>\n",
       "      <td>-0.069838</td>\n",
       "      <td>0.078400</td>\n",
       "      <td>-0.023640</td>\n",
       "      <td>-0.126483</td>\n",
       "      <td>0.012243</td>\n",
       "      <td>0.103853</td>\n",
       "      <td>0.083662</td>\n",
       "      <td>0.055941</td>\n",
       "      <td>...</td>\n",
       "      <td>0.018636</td>\n",
       "      <td>0.086076</td>\n",
       "      <td>0.207589</td>\n",
       "      <td>0.079319</td>\n",
       "      <td>0.052021</td>\n",
       "      <td>0.050874</td>\n",
       "      <td>0.008119</td>\n",
       "      <td>0.019984</td>\n",
       "      <td>0.024268</td>\n",
       "      <td>0.008486</td>\n",
       "    </tr>\n",
       "    <tr>\n",
       "      <th>age</th>\n",
       "      <td>-0.910088</td>\n",
       "      <td>-0.069838</td>\n",
       "      <td>1.000000</td>\n",
       "      <td>-0.050011</td>\n",
       "      <td>-0.054434</td>\n",
       "      <td>-0.011910</td>\n",
       "      <td>-0.049956</td>\n",
       "      <td>-0.035758</td>\n",
       "      <td>-0.049965</td>\n",
       "      <td>-0.027451</td>\n",
       "      <td>...</td>\n",
       "      <td>-0.004549</td>\n",
       "      <td>-0.065317</td>\n",
       "      <td>-0.032190</td>\n",
       "      <td>-0.032041</td>\n",
       "      <td>-0.045114</td>\n",
       "      <td>-0.048271</td>\n",
       "      <td>-0.014689</td>\n",
       "      <td>0.008036</td>\n",
       "      <td>0.024888</td>\n",
       "      <td>-0.006992</td>\n",
       "    </tr>\n",
       "    <tr>\n",
       "      <th>friends</th>\n",
       "      <td>0.058011</td>\n",
       "      <td>0.078400</td>\n",
       "      <td>-0.050011</td>\n",
       "      <td>1.000000</td>\n",
       "      <td>0.048251</td>\n",
       "      <td>0.028075</td>\n",
       "      <td>0.028776</td>\n",
       "      <td>0.051424</td>\n",
       "      <td>0.043685</td>\n",
       "      <td>0.027832</td>\n",
       "      <td>...</td>\n",
       "      <td>0.008374</td>\n",
       "      <td>0.063668</td>\n",
       "      <td>0.083926</td>\n",
       "      <td>0.022551</td>\n",
       "      <td>0.052774</td>\n",
       "      <td>0.054988</td>\n",
       "      <td>0.015728</td>\n",
       "      <td>0.029665</td>\n",
       "      <td>0.014913</td>\n",
       "      <td>-0.009763</td>\n",
       "    </tr>\n",
       "    <tr>\n",
       "      <th>basketball</th>\n",
       "      <td>0.063641</td>\n",
       "      <td>-0.023640</td>\n",
       "      <td>-0.054434</td>\n",
       "      <td>0.048251</td>\n",
       "      <td>1.000000</td>\n",
       "      <td>0.172545</td>\n",
       "      <td>0.073864</td>\n",
       "      <td>0.121003</td>\n",
       "      <td>0.131242</td>\n",
       "      <td>0.020977</td>\n",
       "      <td>...</td>\n",
       "      <td>0.013545</td>\n",
       "      <td>0.065019</td>\n",
       "      <td>0.066248</td>\n",
       "      <td>0.068698</td>\n",
       "      <td>0.036340</td>\n",
       "      <td>0.035061</td>\n",
       "      <td>0.021516</td>\n",
       "      <td>0.020226</td>\n",
       "      <td>0.020798</td>\n",
       "      <td>0.031058</td>\n",
       "    </tr>\n",
       "    <tr>\n",
       "      <th>football</th>\n",
       "      <td>0.029645</td>\n",
       "      <td>-0.126483</td>\n",
       "      <td>-0.011910</td>\n",
       "      <td>0.028075</td>\n",
       "      <td>0.172545</td>\n",
       "      <td>1.000000</td>\n",
       "      <td>0.058196</td>\n",
       "      <td>0.046935</td>\n",
       "      <td>0.055078</td>\n",
       "      <td>0.031203</td>\n",
       "      <td>...</td>\n",
       "      <td>0.032013</td>\n",
       "      <td>0.065801</td>\n",
       "      <td>0.053403</td>\n",
       "      <td>0.068198</td>\n",
       "      <td>0.069283</td>\n",
       "      <td>0.044471</td>\n",
       "      <td>0.026024</td>\n",
       "      <td>0.019314</td>\n",
       "      <td>0.038542</td>\n",
       "      <td>0.032462</td>\n",
       "    </tr>\n",
       "    <tr>\n",
       "      <th>soccer</th>\n",
       "      <td>0.051393</td>\n",
       "      <td>0.012243</td>\n",
       "      <td>-0.049956</td>\n",
       "      <td>0.028776</td>\n",
       "      <td>0.073864</td>\n",
       "      <td>0.058196</td>\n",
       "      <td>1.000000</td>\n",
       "      <td>0.013451</td>\n",
       "      <td>0.025337</td>\n",
       "      <td>0.039603</td>\n",
       "      <td>...</td>\n",
       "      <td>0.010929</td>\n",
       "      <td>0.020199</td>\n",
       "      <td>0.057073</td>\n",
       "      <td>0.024626</td>\n",
       "      <td>0.031864</td>\n",
       "      <td>0.026811</td>\n",
       "      <td>0.011530</td>\n",
       "      <td>0.005377</td>\n",
       "      <td>0.009939</td>\n",
       "      <td>0.018590</td>\n",
       "    </tr>\n",
       "    <tr>\n",
       "      <th>softball</th>\n",
       "      <td>0.038426</td>\n",
       "      <td>0.103853</td>\n",
       "      <td>-0.035758</td>\n",
       "      <td>0.051424</td>\n",
       "      <td>0.121003</td>\n",
       "      <td>0.046935</td>\n",
       "      <td>0.013451</td>\n",
       "      <td>1.000000</td>\n",
       "      <td>0.119973</td>\n",
       "      <td>0.019729</td>\n",
       "      <td>...</td>\n",
       "      <td>0.005455</td>\n",
       "      <td>0.032543</td>\n",
       "      <td>0.044110</td>\n",
       "      <td>0.050917</td>\n",
       "      <td>0.022622</td>\n",
       "      <td>0.015980</td>\n",
       "      <td>0.014018</td>\n",
       "      <td>0.018205</td>\n",
       "      <td>0.006917</td>\n",
       "      <td>0.013148</td>\n",
       "    </tr>\n",
       "    <tr>\n",
       "      <th>volleyball</th>\n",
       "      <td>0.053952</td>\n",
       "      <td>0.083662</td>\n",
       "      <td>-0.049965</td>\n",
       "      <td>0.043685</td>\n",
       "      <td>0.131242</td>\n",
       "      <td>0.055078</td>\n",
       "      <td>0.025337</td>\n",
       "      <td>0.119973</td>\n",
       "      <td>1.000000</td>\n",
       "      <td>0.043405</td>\n",
       "      <td>...</td>\n",
       "      <td>0.005923</td>\n",
       "      <td>0.031123</td>\n",
       "      <td>0.074221</td>\n",
       "      <td>0.028259</td>\n",
       "      <td>0.041294</td>\n",
       "      <td>0.048739</td>\n",
       "      <td>0.002492</td>\n",
       "      <td>0.015155</td>\n",
       "      <td>0.003089</td>\n",
       "      <td>0.011868</td>\n",
       "    </tr>\n",
       "    <tr>\n",
       "      <th>swimming</th>\n",
       "      <td>0.029819</td>\n",
       "      <td>0.055941</td>\n",
       "      <td>-0.027451</td>\n",
       "      <td>0.027832</td>\n",
       "      <td>0.020977</td>\n",
       "      <td>0.031203</td>\n",
       "      <td>0.039603</td>\n",
       "      <td>0.019729</td>\n",
       "      <td>0.043405</td>\n",
       "      <td>1.000000</td>\n",
       "      <td>...</td>\n",
       "      <td>0.020629</td>\n",
       "      <td>0.041675</td>\n",
       "      <td>0.111870</td>\n",
       "      <td>0.063827</td>\n",
       "      <td>0.036398</td>\n",
       "      <td>0.055516</td>\n",
       "      <td>0.012012</td>\n",
       "      <td>0.016949</td>\n",
       "      <td>0.025299</td>\n",
       "      <td>0.030597</td>\n",
       "    </tr>\n",
       "    <tr>\n",
       "      <th>cheerleading</th>\n",
       "      <td>0.035683</td>\n",
       "      <td>0.094702</td>\n",
       "      <td>-0.036410</td>\n",
       "      <td>0.053829</td>\n",
       "      <td>0.039774</td>\n",
       "      <td>0.089999</td>\n",
       "      <td>0.014352</td>\n",
       "      <td>0.025475</td>\n",
       "      <td>0.020392</td>\n",
       "      <td>0.021703</td>\n",
       "      <td>...</td>\n",
       "      <td>0.018133</td>\n",
       "      <td>0.062415</td>\n",
       "      <td>0.110779</td>\n",
       "      <td>0.047494</td>\n",
       "      <td>0.091639</td>\n",
       "      <td>0.072736</td>\n",
       "      <td>0.006654</td>\n",
       "      <td>0.006157</td>\n",
       "      <td>0.012106</td>\n",
       "      <td>0.022006</td>\n",
       "    </tr>\n",
       "    <tr>\n",
       "      <th>baseball</th>\n",
       "      <td>0.030286</td>\n",
       "      <td>-0.153081</td>\n",
       "      <td>-0.019002</td>\n",
       "      <td>0.027308</td>\n",
       "      <td>0.124597</td>\n",
       "      <td>0.189648</td>\n",
       "      <td>0.031311</td>\n",
       "      <td>0.051109</td>\n",
       "      <td>0.020557</td>\n",
       "      <td>0.019588</td>\n",
       "      <td>...</td>\n",
       "      <td>0.017453</td>\n",
       "      <td>0.022378</td>\n",
       "      <td>-0.004540</td>\n",
       "      <td>0.037169</td>\n",
       "      <td>0.008368</td>\n",
       "      <td>0.008826</td>\n",
       "      <td>0.007734</td>\n",
       "      <td>0.000566</td>\n",
       "      <td>0.013621</td>\n",
       "      <td>0.025782</td>\n",
       "    </tr>\n",
       "    <tr>\n",
       "      <th>tennis</th>\n",
       "      <td>-0.006648</td>\n",
       "      <td>-0.017784</td>\n",
       "      <td>0.002651</td>\n",
       "      <td>0.007844</td>\n",
       "      <td>0.038377</td>\n",
       "      <td>0.038598</td>\n",
       "      <td>0.029745</td>\n",
       "      <td>-0.004214</td>\n",
       "      <td>0.026508</td>\n",
       "      <td>0.028221</td>\n",
       "      <td>...</td>\n",
       "      <td>0.004357</td>\n",
       "      <td>0.006124</td>\n",
       "      <td>0.031478</td>\n",
       "      <td>0.021583</td>\n",
       "      <td>0.018615</td>\n",
       "      <td>0.041566</td>\n",
       "      <td>0.012779</td>\n",
       "      <td>0.013405</td>\n",
       "      <td>0.007542</td>\n",
       "      <td>0.014824</td>\n",
       "    </tr>\n",
       "    <tr>\n",
       "      <th>sports</th>\n",
       "      <td>0.039263</td>\n",
       "      <td>-0.057037</td>\n",
       "      <td>-0.027398</td>\n",
       "      <td>0.008968</td>\n",
       "      <td>0.168240</td>\n",
       "      <td>0.157664</td>\n",
       "      <td>0.088684</td>\n",
       "      <td>0.122247</td>\n",
       "      <td>0.089263</td>\n",
       "      <td>0.039189</td>\n",
       "      <td>...</td>\n",
       "      <td>0.012146</td>\n",
       "      <td>0.029906</td>\n",
       "      <td>0.035717</td>\n",
       "      <td>0.083223</td>\n",
       "      <td>0.045945</td>\n",
       "      <td>0.070129</td>\n",
       "      <td>0.061490</td>\n",
       "      <td>0.037646</td>\n",
       "      <td>0.063889</td>\n",
       "      <td>0.100614</td>\n",
       "    </tr>\n",
       "    <tr>\n",
       "      <th>cute</th>\n",
       "      <td>0.023635</td>\n",
       "      <td>0.155668</td>\n",
       "      <td>-0.025524</td>\n",
       "      <td>0.071881</td>\n",
       "      <td>0.040884</td>\n",
       "      <td>0.069566</td>\n",
       "      <td>0.034902</td>\n",
       "      <td>0.024211</td>\n",
       "      <td>0.039420</td>\n",
       "      <td>0.045831</td>\n",
       "      <td>...</td>\n",
       "      <td>0.029065</td>\n",
       "      <td>0.156128</td>\n",
       "      <td>0.175386</td>\n",
       "      <td>0.152071</td>\n",
       "      <td>0.101191</td>\n",
       "      <td>0.080495</td>\n",
       "      <td>0.083839</td>\n",
       "      <td>0.087342</td>\n",
       "      <td>0.069080</td>\n",
       "      <td>0.055589</td>\n",
       "    </tr>\n",
       "    <tr>\n",
       "      <th>sex</th>\n",
       "      <td>-0.009583</td>\n",
       "      <td>0.022026</td>\n",
       "      <td>0.008299</td>\n",
       "      <td>0.003350</td>\n",
       "      <td>0.040737</td>\n",
       "      <td>0.054999</td>\n",
       "      <td>0.014906</td>\n",
       "      <td>0.035001</td>\n",
       "      <td>0.009485</td>\n",
       "      <td>0.021578</td>\n",
       "      <td>...</td>\n",
       "      <td>0.142498</td>\n",
       "      <td>0.047594</td>\n",
       "      <td>0.039375</td>\n",
       "      <td>0.110785</td>\n",
       "      <td>0.047482</td>\n",
       "      <td>0.046969</td>\n",
       "      <td>0.136571</td>\n",
       "      <td>0.112803</td>\n",
       "      <td>0.168113</td>\n",
       "      <td>0.198270</td>\n",
       "    </tr>\n",
       "    <tr>\n",
       "      <th>sexy</th>\n",
       "      <td>0.035051</td>\n",
       "      <td>0.055646</td>\n",
       "      <td>-0.034778</td>\n",
       "      <td>0.027076</td>\n",
       "      <td>0.025239</td>\n",
       "      <td>0.035095</td>\n",
       "      <td>0.011196</td>\n",
       "      <td>0.006158</td>\n",
       "      <td>0.011776</td>\n",
       "      <td>0.001702</td>\n",
       "      <td>...</td>\n",
       "      <td>0.028781</td>\n",
       "      <td>0.042514</td>\n",
       "      <td>0.026433</td>\n",
       "      <td>0.064507</td>\n",
       "      <td>0.034140</td>\n",
       "      <td>0.026392</td>\n",
       "      <td>0.066841</td>\n",
       "      <td>0.045356</td>\n",
       "      <td>0.075408</td>\n",
       "      <td>0.049176</td>\n",
       "    </tr>\n",
       "    <tr>\n",
       "      <th>hot</th>\n",
       "      <td>0.052427</td>\n",
       "      <td>0.081149</td>\n",
       "      <td>-0.052336</td>\n",
       "      <td>0.041078</td>\n",
       "      <td>0.035148</td>\n",
       "      <td>0.045390</td>\n",
       "      <td>0.031188</td>\n",
       "      <td>0.015996</td>\n",
       "      <td>0.029666</td>\n",
       "      <td>0.032697</td>\n",
       "      <td>...</td>\n",
       "      <td>0.010981</td>\n",
       "      <td>0.094887</td>\n",
       "      <td>0.079753</td>\n",
       "      <td>0.078862</td>\n",
       "      <td>0.075755</td>\n",
       "      <td>0.068036</td>\n",
       "      <td>0.033116</td>\n",
       "      <td>0.021398</td>\n",
       "      <td>0.034878</td>\n",
       "      <td>0.027687</td>\n",
       "    </tr>\n",
       "    <tr>\n",
       "      <th>kissed</th>\n",
       "      <td>0.014047</td>\n",
       "      <td>0.043808</td>\n",
       "      <td>-0.013111</td>\n",
       "      <td>0.021324</td>\n",
       "      <td>0.064620</td>\n",
       "      <td>0.062708</td>\n",
       "      <td>0.030775</td>\n",
       "      <td>0.036960</td>\n",
       "      <td>0.022421</td>\n",
       "      <td>0.054774</td>\n",
       "      <td>...</td>\n",
       "      <td>0.025946</td>\n",
       "      <td>0.076660</td>\n",
       "      <td>0.057287</td>\n",
       "      <td>0.200255</td>\n",
       "      <td>0.071213</td>\n",
       "      <td>0.083190</td>\n",
       "      <td>0.163357</td>\n",
       "      <td>0.094705</td>\n",
       "      <td>0.206044</td>\n",
       "      <td>0.226749</td>\n",
       "    </tr>\n",
       "    <tr>\n",
       "      <th>dance</th>\n",
       "      <td>0.041032</td>\n",
       "      <td>0.092791</td>\n",
       "      <td>-0.046830</td>\n",
       "      <td>0.050234</td>\n",
       "      <td>0.055245</td>\n",
       "      <td>0.061698</td>\n",
       "      <td>0.008378</td>\n",
       "      <td>0.013025</td>\n",
       "      <td>0.019577</td>\n",
       "      <td>0.026926</td>\n",
       "      <td>...</td>\n",
       "      <td>0.011777</td>\n",
       "      <td>0.069464</td>\n",
       "      <td>0.097290</td>\n",
       "      <td>0.089694</td>\n",
       "      <td>0.049172</td>\n",
       "      <td>0.046464</td>\n",
       "      <td>0.063629</td>\n",
       "      <td>0.063379</td>\n",
       "      <td>0.049527</td>\n",
       "      <td>0.043402</td>\n",
       "    </tr>\n",
       "    <tr>\n",
       "      <th>band</th>\n",
       "      <td>0.004482</td>\n",
       "      <td>-0.024725</td>\n",
       "      <td>-0.006802</td>\n",
       "      <td>0.011243</td>\n",
       "      <td>0.004228</td>\n",
       "      <td>0.047544</td>\n",
       "      <td>0.002667</td>\n",
       "      <td>0.006410</td>\n",
       "      <td>-0.008595</td>\n",
       "      <td>0.021944</td>\n",
       "      <td>...</td>\n",
       "      <td>0.010509</td>\n",
       "      <td>0.017888</td>\n",
       "      <td>0.011627</td>\n",
       "      <td>0.055425</td>\n",
       "      <td>-0.004362</td>\n",
       "      <td>0.003715</td>\n",
       "      <td>0.050343</td>\n",
       "      <td>0.041134</td>\n",
       "      <td>0.036782</td>\n",
       "      <td>0.055903</td>\n",
       "    </tr>\n",
       "    <tr>\n",
       "      <th>marching</th>\n",
       "      <td>-0.013831</td>\n",
       "      <td>-0.013928</td>\n",
       "      <td>0.012174</td>\n",
       "      <td>0.014383</td>\n",
       "      <td>-0.002398</td>\n",
       "      <td>0.022061</td>\n",
       "      <td>-0.005799</td>\n",
       "      <td>0.004586</td>\n",
       "      <td>-0.009177</td>\n",
       "      <td>0.005680</td>\n",
       "      <td>...</td>\n",
       "      <td>0.000474</td>\n",
       "      <td>-0.005159</td>\n",
       "      <td>-0.004683</td>\n",
       "      <td>0.020910</td>\n",
       "      <td>-0.019259</td>\n",
       "      <td>-0.015135</td>\n",
       "      <td>0.009649</td>\n",
       "      <td>0.005371</td>\n",
       "      <td>-0.004672</td>\n",
       "      <td>0.009058</td>\n",
       "    </tr>\n",
       "    <tr>\n",
       "      <th>music</th>\n",
       "      <td>0.002772</td>\n",
       "      <td>0.027690</td>\n",
       "      <td>-0.004865</td>\n",
       "      <td>0.025817</td>\n",
       "      <td>0.066118</td>\n",
       "      <td>0.069562</td>\n",
       "      <td>0.032375</td>\n",
       "      <td>0.024688</td>\n",
       "      <td>0.015457</td>\n",
       "      <td>0.063711</td>\n",
       "      <td>...</td>\n",
       "      <td>0.019936</td>\n",
       "      <td>0.075476</td>\n",
       "      <td>0.104842</td>\n",
       "      <td>0.162174</td>\n",
       "      <td>0.058362</td>\n",
       "      <td>0.062416</td>\n",
       "      <td>0.133723</td>\n",
       "      <td>0.095473</td>\n",
       "      <td>0.092726</td>\n",
       "      <td>0.142186</td>\n",
       "    </tr>\n",
       "    <tr>\n",
       "      <th>rock</th>\n",
       "      <td>0.041256</td>\n",
       "      <td>-0.003705</td>\n",
       "      <td>-0.040836</td>\n",
       "      <td>0.020439</td>\n",
       "      <td>0.081853</td>\n",
       "      <td>0.084790</td>\n",
       "      <td>0.046859</td>\n",
       "      <td>0.025398</td>\n",
       "      <td>0.020426</td>\n",
       "      <td>0.031176</td>\n",
       "      <td>...</td>\n",
       "      <td>0.041470</td>\n",
       "      <td>0.078069</td>\n",
       "      <td>0.033563</td>\n",
       "      <td>0.096099</td>\n",
       "      <td>0.032408</td>\n",
       "      <td>0.027408</td>\n",
       "      <td>0.108348</td>\n",
       "      <td>0.088876</td>\n",
       "      <td>0.064999</td>\n",
       "      <td>0.090499</td>\n",
       "    </tr>\n",
       "    <tr>\n",
       "      <th>god</th>\n",
       "      <td>-0.015738</td>\n",
       "      <td>0.019086</td>\n",
       "      <td>0.019035</td>\n",
       "      <td>0.038471</td>\n",
       "      <td>0.028207</td>\n",
       "      <td>0.029389</td>\n",
       "      <td>0.002583</td>\n",
       "      <td>0.021391</td>\n",
       "      <td>0.015194</td>\n",
       "      <td>0.023146</td>\n",
       "      <td>...</td>\n",
       "      <td>0.056649</td>\n",
       "      <td>0.026635</td>\n",
       "      <td>0.025302</td>\n",
       "      <td>0.056276</td>\n",
       "      <td>0.018171</td>\n",
       "      <td>0.021451</td>\n",
       "      <td>0.116605</td>\n",
       "      <td>0.124251</td>\n",
       "      <td>0.057389</td>\n",
       "      <td>0.064350</td>\n",
       "    </tr>\n",
       "    <tr>\n",
       "      <th>church</th>\n",
       "      <td>0.014294</td>\n",
       "      <td>0.029884</td>\n",
       "      <td>-0.013507</td>\n",
       "      <td>0.048965</td>\n",
       "      <td>0.055199</td>\n",
       "      <td>0.043123</td>\n",
       "      <td>0.027576</td>\n",
       "      <td>0.028427</td>\n",
       "      <td>0.022584</td>\n",
       "      <td>0.025996</td>\n",
       "      <td>...</td>\n",
       "      <td>0.003431</td>\n",
       "      <td>0.083337</td>\n",
       "      <td>0.094309</td>\n",
       "      <td>0.084757</td>\n",
       "      <td>0.012607</td>\n",
       "      <td>0.006531</td>\n",
       "      <td>0.027438</td>\n",
       "      <td>0.027927</td>\n",
       "      <td>0.018106</td>\n",
       "      <td>0.042616</td>\n",
       "    </tr>\n",
       "    <tr>\n",
       "      <th>jesus</th>\n",
       "      <td>0.008741</td>\n",
       "      <td>-0.014004</td>\n",
       "      <td>-0.004118</td>\n",
       "      <td>0.030959</td>\n",
       "      <td>0.014403</td>\n",
       "      <td>0.007941</td>\n",
       "      <td>-0.000935</td>\n",
       "      <td>0.008542</td>\n",
       "      <td>0.006765</td>\n",
       "      <td>-0.000956</td>\n",
       "      <td>...</td>\n",
       "      <td>0.013294</td>\n",
       "      <td>0.003356</td>\n",
       "      <td>0.009638</td>\n",
       "      <td>0.006678</td>\n",
       "      <td>0.002146</td>\n",
       "      <td>0.009580</td>\n",
       "      <td>0.037872</td>\n",
       "      <td>0.059027</td>\n",
       "      <td>-0.001459</td>\n",
       "      <td>0.021409</td>\n",
       "    </tr>\n",
       "    <tr>\n",
       "      <th>bible</th>\n",
       "      <td>-0.011772</td>\n",
       "      <td>-0.016554</td>\n",
       "      <td>0.009751</td>\n",
       "      <td>0.010510</td>\n",
       "      <td>0.025536</td>\n",
       "      <td>0.003748</td>\n",
       "      <td>0.002745</td>\n",
       "      <td>0.003005</td>\n",
       "      <td>0.007597</td>\n",
       "      <td>0.005521</td>\n",
       "      <td>...</td>\n",
       "      <td>0.001403</td>\n",
       "      <td>-0.006875</td>\n",
       "      <td>0.001247</td>\n",
       "      <td>0.012291</td>\n",
       "      <td>-0.000461</td>\n",
       "      <td>0.000216</td>\n",
       "      <td>0.031052</td>\n",
       "      <td>0.046351</td>\n",
       "      <td>0.008013</td>\n",
       "      <td>0.031751</td>\n",
       "    </tr>\n",
       "    <tr>\n",
       "      <th>hair</th>\n",
       "      <td>0.051027</td>\n",
       "      <td>0.111571</td>\n",
       "      <td>-0.053440</td>\n",
       "      <td>0.031612</td>\n",
       "      <td>0.096695</td>\n",
       "      <td>0.102894</td>\n",
       "      <td>0.052801</td>\n",
       "      <td>0.049643</td>\n",
       "      <td>0.039827</td>\n",
       "      <td>0.065617</td>\n",
       "      <td>...</td>\n",
       "      <td>0.122076</td>\n",
       "      <td>0.174682</td>\n",
       "      <td>0.142613</td>\n",
       "      <td>0.290641</td>\n",
       "      <td>0.149747</td>\n",
       "      <td>0.143333</td>\n",
       "      <td>0.217429</td>\n",
       "      <td>0.136368</td>\n",
       "      <td>0.209630</td>\n",
       "      <td>0.296550</td>\n",
       "    </tr>\n",
       "    <tr>\n",
       "      <th>dress</th>\n",
       "      <td>-0.044091</td>\n",
       "      <td>0.089331</td>\n",
       "      <td>0.037311</td>\n",
       "      <td>0.034113</td>\n",
       "      <td>0.030941</td>\n",
       "      <td>0.044443</td>\n",
       "      <td>0.005728</td>\n",
       "      <td>0.026855</td>\n",
       "      <td>0.016165</td>\n",
       "      <td>0.024710</td>\n",
       "      <td>...</td>\n",
       "      <td>0.034791</td>\n",
       "      <td>0.109754</td>\n",
       "      <td>0.120874</td>\n",
       "      <td>0.110413</td>\n",
       "      <td>0.049107</td>\n",
       "      <td>0.053677</td>\n",
       "      <td>0.064833</td>\n",
       "      <td>0.055596</td>\n",
       "      <td>0.052666</td>\n",
       "      <td>0.054925</td>\n",
       "    </tr>\n",
       "    <tr>\n",
       "      <th>blonde</th>\n",
       "      <td>0.007808</td>\n",
       "      <td>0.018636</td>\n",
       "      <td>-0.004549</td>\n",
       "      <td>0.008374</td>\n",
       "      <td>0.013545</td>\n",
       "      <td>0.032013</td>\n",
       "      <td>0.010929</td>\n",
       "      <td>0.005455</td>\n",
       "      <td>0.005923</td>\n",
       "      <td>0.020629</td>\n",
       "      <td>...</td>\n",
       "      <td>1.000000</td>\n",
       "      <td>0.014175</td>\n",
       "      <td>0.013237</td>\n",
       "      <td>0.033929</td>\n",
       "      <td>0.014873</td>\n",
       "      <td>0.015964</td>\n",
       "      <td>0.073358</td>\n",
       "      <td>0.093907</td>\n",
       "      <td>0.109275</td>\n",
       "      <td>0.021734</td>\n",
       "    </tr>\n",
       "    <tr>\n",
       "      <th>mall</th>\n",
       "      <td>0.068574</td>\n",
       "      <td>0.086076</td>\n",
       "      <td>-0.065317</td>\n",
       "      <td>0.063668</td>\n",
       "      <td>0.065019</td>\n",
       "      <td>0.065801</td>\n",
       "      <td>0.020199</td>\n",
       "      <td>0.032543</td>\n",
       "      <td>0.031123</td>\n",
       "      <td>0.041675</td>\n",
       "      <td>...</td>\n",
       "      <td>0.014175</td>\n",
       "      <td>1.000000</td>\n",
       "      <td>0.183703</td>\n",
       "      <td>0.153843</td>\n",
       "      <td>0.116218</td>\n",
       "      <td>0.104001</td>\n",
       "      <td>0.060132</td>\n",
       "      <td>0.048162</td>\n",
       "      <td>0.060117</td>\n",
       "      <td>0.090186</td>\n",
       "    </tr>\n",
       "    <tr>\n",
       "      <th>shopping</th>\n",
       "      <td>0.029032</td>\n",
       "      <td>0.207589</td>\n",
       "      <td>-0.032190</td>\n",
       "      <td>0.083926</td>\n",
       "      <td>0.066248</td>\n",
       "      <td>0.053403</td>\n",
       "      <td>0.057073</td>\n",
       "      <td>0.044110</td>\n",
       "      <td>0.074221</td>\n",
       "      <td>0.111870</td>\n",
       "      <td>...</td>\n",
       "      <td>0.013237</td>\n",
       "      <td>0.183703</td>\n",
       "      <td>1.000000</td>\n",
       "      <td>0.191522</td>\n",
       "      <td>0.173104</td>\n",
       "      <td>0.149742</td>\n",
       "      <td>0.023522</td>\n",
       "      <td>0.029152</td>\n",
       "      <td>0.035843</td>\n",
       "      <td>0.033282</td>\n",
       "    </tr>\n",
       "    <tr>\n",
       "      <th>clothes</th>\n",
       "      <td>0.031810</td>\n",
       "      <td>0.079319</td>\n",
       "      <td>-0.032041</td>\n",
       "      <td>0.022551</td>\n",
       "      <td>0.068698</td>\n",
       "      <td>0.068198</td>\n",
       "      <td>0.024626</td>\n",
       "      <td>0.050917</td>\n",
       "      <td>0.028259</td>\n",
       "      <td>0.063827</td>\n",
       "      <td>...</td>\n",
       "      <td>0.033929</td>\n",
       "      <td>0.153843</td>\n",
       "      <td>0.191522</td>\n",
       "      <td>1.000000</td>\n",
       "      <td>0.140242</td>\n",
       "      <td>0.109299</td>\n",
       "      <td>0.100086</td>\n",
       "      <td>0.074627</td>\n",
       "      <td>0.082811</td>\n",
       "      <td>0.121522</td>\n",
       "    </tr>\n",
       "    <tr>\n",
       "      <th>hollister</th>\n",
       "      <td>0.049617</td>\n",
       "      <td>0.052021</td>\n",
       "      <td>-0.045114</td>\n",
       "      <td>0.052774</td>\n",
       "      <td>0.036340</td>\n",
       "      <td>0.069283</td>\n",
       "      <td>0.031864</td>\n",
       "      <td>0.022622</td>\n",
       "      <td>0.041294</td>\n",
       "      <td>0.036398</td>\n",
       "      <td>...</td>\n",
       "      <td>0.014873</td>\n",
       "      <td>0.116218</td>\n",
       "      <td>0.173104</td>\n",
       "      <td>0.140242</td>\n",
       "      <td>1.000000</td>\n",
       "      <td>0.470564</td>\n",
       "      <td>0.043815</td>\n",
       "      <td>0.025078</td>\n",
       "      <td>0.033806</td>\n",
       "      <td>0.067372</td>\n",
       "    </tr>\n",
       "    <tr>\n",
       "      <th>abercrombie</th>\n",
       "      <td>0.045473</td>\n",
       "      <td>0.050874</td>\n",
       "      <td>-0.048271</td>\n",
       "      <td>0.054988</td>\n",
       "      <td>0.035061</td>\n",
       "      <td>0.044471</td>\n",
       "      <td>0.026811</td>\n",
       "      <td>0.015980</td>\n",
       "      <td>0.048739</td>\n",
       "      <td>0.055516</td>\n",
       "      <td>...</td>\n",
       "      <td>0.015964</td>\n",
       "      <td>0.104001</td>\n",
       "      <td>0.149742</td>\n",
       "      <td>0.109299</td>\n",
       "      <td>0.470564</td>\n",
       "      <td>1.000000</td>\n",
       "      <td>0.038177</td>\n",
       "      <td>0.033345</td>\n",
       "      <td>0.041567</td>\n",
       "      <td>0.078522</td>\n",
       "    </tr>\n",
       "    <tr>\n",
       "      <th>die</th>\n",
       "      <td>0.013249</td>\n",
       "      <td>0.008119</td>\n",
       "      <td>-0.014689</td>\n",
       "      <td>0.015728</td>\n",
       "      <td>0.021516</td>\n",
       "      <td>0.026024</td>\n",
       "      <td>0.011530</td>\n",
       "      <td>0.014018</td>\n",
       "      <td>0.002492</td>\n",
       "      <td>0.012012</td>\n",
       "      <td>...</td>\n",
       "      <td>0.073358</td>\n",
       "      <td>0.060132</td>\n",
       "      <td>0.023522</td>\n",
       "      <td>0.100086</td>\n",
       "      <td>0.043815</td>\n",
       "      <td>0.038177</td>\n",
       "      <td>1.000000</td>\n",
       "      <td>0.206485</td>\n",
       "      <td>0.125660</td>\n",
       "      <td>0.201091</td>\n",
       "    </tr>\n",
       "    <tr>\n",
       "      <th>death</th>\n",
       "      <td>-0.007145</td>\n",
       "      <td>0.019984</td>\n",
       "      <td>0.008036</td>\n",
       "      <td>0.029665</td>\n",
       "      <td>0.020226</td>\n",
       "      <td>0.019314</td>\n",
       "      <td>0.005377</td>\n",
       "      <td>0.018205</td>\n",
       "      <td>0.015155</td>\n",
       "      <td>0.016949</td>\n",
       "      <td>...</td>\n",
       "      <td>0.093907</td>\n",
       "      <td>0.048162</td>\n",
       "      <td>0.029152</td>\n",
       "      <td>0.074627</td>\n",
       "      <td>0.025078</td>\n",
       "      <td>0.033345</td>\n",
       "      <td>0.206485</td>\n",
       "      <td>1.000000</td>\n",
       "      <td>0.086790</td>\n",
       "      <td>0.098027</td>\n",
       "    </tr>\n",
       "    <tr>\n",
       "      <th>drunk</th>\n",
       "      <td>-0.022319</td>\n",
       "      <td>0.024268</td>\n",
       "      <td>0.024888</td>\n",
       "      <td>0.014913</td>\n",
       "      <td>0.020798</td>\n",
       "      <td>0.038542</td>\n",
       "      <td>0.009939</td>\n",
       "      <td>0.006917</td>\n",
       "      <td>0.003089</td>\n",
       "      <td>0.025299</td>\n",
       "      <td>...</td>\n",
       "      <td>0.109275</td>\n",
       "      <td>0.060117</td>\n",
       "      <td>0.035843</td>\n",
       "      <td>0.082811</td>\n",
       "      <td>0.033806</td>\n",
       "      <td>0.041567</td>\n",
       "      <td>0.125660</td>\n",
       "      <td>0.086790</td>\n",
       "      <td>1.000000</td>\n",
       "      <td>0.201196</td>\n",
       "    </tr>\n",
       "    <tr>\n",
       "      <th>drugs</th>\n",
       "      <td>0.004818</td>\n",
       "      <td>0.008486</td>\n",
       "      <td>-0.006992</td>\n",
       "      <td>-0.009763</td>\n",
       "      <td>0.031058</td>\n",
       "      <td>0.032462</td>\n",
       "      <td>0.018590</td>\n",
       "      <td>0.013148</td>\n",
       "      <td>0.011868</td>\n",
       "      <td>0.030597</td>\n",
       "      <td>...</td>\n",
       "      <td>0.021734</td>\n",
       "      <td>0.090186</td>\n",
       "      <td>0.033282</td>\n",
       "      <td>0.121522</td>\n",
       "      <td>0.067372</td>\n",
       "      <td>0.078522</td>\n",
       "      <td>0.201091</td>\n",
       "      <td>0.098027</td>\n",
       "      <td>0.201196</td>\n",
       "      <td>1.000000</td>\n",
       "    </tr>\n",
       "  </tbody>\n",
       "</table>\n",
       "<p>40 rows × 40 columns</p>\n",
       "</div>"
      ],
      "text/plain": [
       "              gradyear    gender       age   friends  basketball  football  \\\n",
       "gradyear      1.000000  0.041496 -0.910088  0.058011    0.063641  0.029645   \n",
       "gender        0.041496  1.000000 -0.069838  0.078400   -0.023640 -0.126483   \n",
       "age          -0.910088 -0.069838  1.000000 -0.050011   -0.054434 -0.011910   \n",
       "friends       0.058011  0.078400 -0.050011  1.000000    0.048251  0.028075   \n",
       "basketball    0.063641 -0.023640 -0.054434  0.048251    1.000000  0.172545   \n",
       "football      0.029645 -0.126483 -0.011910  0.028075    0.172545  1.000000   \n",
       "soccer        0.051393  0.012243 -0.049956  0.028776    0.073864  0.058196   \n",
       "softball      0.038426  0.103853 -0.035758  0.051424    0.121003  0.046935   \n",
       "volleyball    0.053952  0.083662 -0.049965  0.043685    0.131242  0.055078   \n",
       "swimming      0.029819  0.055941 -0.027451  0.027832    0.020977  0.031203   \n",
       "cheerleading  0.035683  0.094702 -0.036410  0.053829    0.039774  0.089999   \n",
       "baseball      0.030286 -0.153081 -0.019002  0.027308    0.124597  0.189648   \n",
       "tennis       -0.006648 -0.017784  0.002651  0.007844    0.038377  0.038598   \n",
       "sports        0.039263 -0.057037 -0.027398  0.008968    0.168240  0.157664   \n",
       "cute          0.023635  0.155668 -0.025524  0.071881    0.040884  0.069566   \n",
       "sex          -0.009583  0.022026  0.008299  0.003350    0.040737  0.054999   \n",
       "sexy          0.035051  0.055646 -0.034778  0.027076    0.025239  0.035095   \n",
       "hot           0.052427  0.081149 -0.052336  0.041078    0.035148  0.045390   \n",
       "kissed        0.014047  0.043808 -0.013111  0.021324    0.064620  0.062708   \n",
       "dance         0.041032  0.092791 -0.046830  0.050234    0.055245  0.061698   \n",
       "band          0.004482 -0.024725 -0.006802  0.011243    0.004228  0.047544   \n",
       "marching     -0.013831 -0.013928  0.012174  0.014383   -0.002398  0.022061   \n",
       "music         0.002772  0.027690 -0.004865  0.025817    0.066118  0.069562   \n",
       "rock          0.041256 -0.003705 -0.040836  0.020439    0.081853  0.084790   \n",
       "god          -0.015738  0.019086  0.019035  0.038471    0.028207  0.029389   \n",
       "church        0.014294  0.029884 -0.013507  0.048965    0.055199  0.043123   \n",
       "jesus         0.008741 -0.014004 -0.004118  0.030959    0.014403  0.007941   \n",
       "bible        -0.011772 -0.016554  0.009751  0.010510    0.025536  0.003748   \n",
       "hair          0.051027  0.111571 -0.053440  0.031612    0.096695  0.102894   \n",
       "dress        -0.044091  0.089331  0.037311  0.034113    0.030941  0.044443   \n",
       "blonde        0.007808  0.018636 -0.004549  0.008374    0.013545  0.032013   \n",
       "mall          0.068574  0.086076 -0.065317  0.063668    0.065019  0.065801   \n",
       "shopping      0.029032  0.207589 -0.032190  0.083926    0.066248  0.053403   \n",
       "clothes       0.031810  0.079319 -0.032041  0.022551    0.068698  0.068198   \n",
       "hollister     0.049617  0.052021 -0.045114  0.052774    0.036340  0.069283   \n",
       "abercrombie   0.045473  0.050874 -0.048271  0.054988    0.035061  0.044471   \n",
       "die           0.013249  0.008119 -0.014689  0.015728    0.021516  0.026024   \n",
       "death        -0.007145  0.019984  0.008036  0.029665    0.020226  0.019314   \n",
       "drunk        -0.022319  0.024268  0.024888  0.014913    0.020798  0.038542   \n",
       "drugs         0.004818  0.008486 -0.006992 -0.009763    0.031058  0.032462   \n",
       "\n",
       "                soccer  softball  volleyball  swimming  ...    blonde  \\\n",
       "gradyear      0.051393  0.038426    0.053952  0.029819  ...  0.007808   \n",
       "gender        0.012243  0.103853    0.083662  0.055941  ...  0.018636   \n",
       "age          -0.049956 -0.035758   -0.049965 -0.027451  ... -0.004549   \n",
       "friends       0.028776  0.051424    0.043685  0.027832  ...  0.008374   \n",
       "basketball    0.073864  0.121003    0.131242  0.020977  ...  0.013545   \n",
       "football      0.058196  0.046935    0.055078  0.031203  ...  0.032013   \n",
       "soccer        1.000000  0.013451    0.025337  0.039603  ...  0.010929   \n",
       "softball      0.013451  1.000000    0.119973  0.019729  ...  0.005455   \n",
       "volleyball    0.025337  0.119973    1.000000  0.043405  ...  0.005923   \n",
       "swimming      0.039603  0.019729    0.043405  1.000000  ...  0.020629   \n",
       "cheerleading  0.014352  0.025475    0.020392  0.021703  ...  0.018133   \n",
       "baseball      0.031311  0.051109    0.020557  0.019588  ...  0.017453   \n",
       "tennis        0.029745 -0.004214    0.026508  0.028221  ...  0.004357   \n",
       "sports        0.088684  0.122247    0.089263  0.039189  ...  0.012146   \n",
       "cute          0.034902  0.024211    0.039420  0.045831  ...  0.029065   \n",
       "sex           0.014906  0.035001    0.009485  0.021578  ...  0.142498   \n",
       "sexy          0.011196  0.006158    0.011776  0.001702  ...  0.028781   \n",
       "hot           0.031188  0.015996    0.029666  0.032697  ...  0.010981   \n",
       "kissed        0.030775  0.036960    0.022421  0.054774  ...  0.025946   \n",
       "dance         0.008378  0.013025    0.019577  0.026926  ...  0.011777   \n",
       "band          0.002667  0.006410   -0.008595  0.021944  ...  0.010509   \n",
       "marching     -0.005799  0.004586   -0.009177  0.005680  ...  0.000474   \n",
       "music         0.032375  0.024688    0.015457  0.063711  ...  0.019936   \n",
       "rock          0.046859  0.025398    0.020426  0.031176  ...  0.041470   \n",
       "god           0.002583  0.021391    0.015194  0.023146  ...  0.056649   \n",
       "church        0.027576  0.028427    0.022584  0.025996  ...  0.003431   \n",
       "jesus        -0.000935  0.008542    0.006765 -0.000956  ...  0.013294   \n",
       "bible         0.002745  0.003005    0.007597  0.005521  ...  0.001403   \n",
       "hair          0.052801  0.049643    0.039827  0.065617  ...  0.122076   \n",
       "dress         0.005728  0.026855    0.016165  0.024710  ...  0.034791   \n",
       "blonde        0.010929  0.005455    0.005923  0.020629  ...  1.000000   \n",
       "mall          0.020199  0.032543    0.031123  0.041675  ...  0.014175   \n",
       "shopping      0.057073  0.044110    0.074221  0.111870  ...  0.013237   \n",
       "clothes       0.024626  0.050917    0.028259  0.063827  ...  0.033929   \n",
       "hollister     0.031864  0.022622    0.041294  0.036398  ...  0.014873   \n",
       "abercrombie   0.026811  0.015980    0.048739  0.055516  ...  0.015964   \n",
       "die           0.011530  0.014018    0.002492  0.012012  ...  0.073358   \n",
       "death         0.005377  0.018205    0.015155  0.016949  ...  0.093907   \n",
       "drunk         0.009939  0.006917    0.003089  0.025299  ...  0.109275   \n",
       "drugs         0.018590  0.013148    0.011868  0.030597  ...  0.021734   \n",
       "\n",
       "                  mall  shopping   clothes  hollister  abercrombie       die  \\\n",
       "gradyear      0.068574  0.029032  0.031810   0.049617     0.045473  0.013249   \n",
       "gender        0.086076  0.207589  0.079319   0.052021     0.050874  0.008119   \n",
       "age          -0.065317 -0.032190 -0.032041  -0.045114    -0.048271 -0.014689   \n",
       "friends       0.063668  0.083926  0.022551   0.052774     0.054988  0.015728   \n",
       "basketball    0.065019  0.066248  0.068698   0.036340     0.035061  0.021516   \n",
       "football      0.065801  0.053403  0.068198   0.069283     0.044471  0.026024   \n",
       "soccer        0.020199  0.057073  0.024626   0.031864     0.026811  0.011530   \n",
       "softball      0.032543  0.044110  0.050917   0.022622     0.015980  0.014018   \n",
       "volleyball    0.031123  0.074221  0.028259   0.041294     0.048739  0.002492   \n",
       "swimming      0.041675  0.111870  0.063827   0.036398     0.055516  0.012012   \n",
       "cheerleading  0.062415  0.110779  0.047494   0.091639     0.072736  0.006654   \n",
       "baseball      0.022378 -0.004540  0.037169   0.008368     0.008826  0.007734   \n",
       "tennis        0.006124  0.031478  0.021583   0.018615     0.041566  0.012779   \n",
       "sports        0.029906  0.035717  0.083223   0.045945     0.070129  0.061490   \n",
       "cute          0.156128  0.175386  0.152071   0.101191     0.080495  0.083839   \n",
       "sex           0.047594  0.039375  0.110785   0.047482     0.046969  0.136571   \n",
       "sexy          0.042514  0.026433  0.064507   0.034140     0.026392  0.066841   \n",
       "hot           0.094887  0.079753  0.078862   0.075755     0.068036  0.033116   \n",
       "kissed        0.076660  0.057287  0.200255   0.071213     0.083190  0.163357   \n",
       "dance         0.069464  0.097290  0.089694   0.049172     0.046464  0.063629   \n",
       "band          0.017888  0.011627  0.055425  -0.004362     0.003715  0.050343   \n",
       "marching     -0.005159 -0.004683  0.020910  -0.019259    -0.015135  0.009649   \n",
       "music         0.075476  0.104842  0.162174   0.058362     0.062416  0.133723   \n",
       "rock          0.078069  0.033563  0.096099   0.032408     0.027408  0.108348   \n",
       "god           0.026635  0.025302  0.056276   0.018171     0.021451  0.116605   \n",
       "church        0.083337  0.094309  0.084757   0.012607     0.006531  0.027438   \n",
       "jesus         0.003356  0.009638  0.006678   0.002146     0.009580  0.037872   \n",
       "bible        -0.006875  0.001247  0.012291  -0.000461     0.000216  0.031052   \n",
       "hair          0.174682  0.142613  0.290641   0.149747     0.143333  0.217429   \n",
       "dress         0.109754  0.120874  0.110413   0.049107     0.053677  0.064833   \n",
       "blonde        0.014175  0.013237  0.033929   0.014873     0.015964  0.073358   \n",
       "mall          1.000000  0.183703  0.153843   0.116218     0.104001  0.060132   \n",
       "shopping      0.183703  1.000000  0.191522   0.173104     0.149742  0.023522   \n",
       "clothes       0.153843  0.191522  1.000000   0.140242     0.109299  0.100086   \n",
       "hollister     0.116218  0.173104  0.140242   1.000000     0.470564  0.043815   \n",
       "abercrombie   0.104001  0.149742  0.109299   0.470564     1.000000  0.038177   \n",
       "die           0.060132  0.023522  0.100086   0.043815     0.038177  1.000000   \n",
       "death         0.048162  0.029152  0.074627   0.025078     0.033345  0.206485   \n",
       "drunk         0.060117  0.035843  0.082811   0.033806     0.041567  0.125660   \n",
       "drugs         0.090186  0.033282  0.121522   0.067372     0.078522  0.201091   \n",
       "\n",
       "                 death     drunk     drugs  \n",
       "gradyear     -0.007145 -0.022319  0.004818  \n",
       "gender        0.019984  0.024268  0.008486  \n",
       "age           0.008036  0.024888 -0.006992  \n",
       "friends       0.029665  0.014913 -0.009763  \n",
       "basketball    0.020226  0.020798  0.031058  \n",
       "football      0.019314  0.038542  0.032462  \n",
       "soccer        0.005377  0.009939  0.018590  \n",
       "softball      0.018205  0.006917  0.013148  \n",
       "volleyball    0.015155  0.003089  0.011868  \n",
       "swimming      0.016949  0.025299  0.030597  \n",
       "cheerleading  0.006157  0.012106  0.022006  \n",
       "baseball      0.000566  0.013621  0.025782  \n",
       "tennis        0.013405  0.007542  0.014824  \n",
       "sports        0.037646  0.063889  0.100614  \n",
       "cute          0.087342  0.069080  0.055589  \n",
       "sex           0.112803  0.168113  0.198270  \n",
       "sexy          0.045356  0.075408  0.049176  \n",
       "hot           0.021398  0.034878  0.027687  \n",
       "kissed        0.094705  0.206044  0.226749  \n",
       "dance         0.063379  0.049527  0.043402  \n",
       "band          0.041134  0.036782  0.055903  \n",
       "marching      0.005371 -0.004672  0.009058  \n",
       "music         0.095473  0.092726  0.142186  \n",
       "rock          0.088876  0.064999  0.090499  \n",
       "god           0.124251  0.057389  0.064350  \n",
       "church        0.027927  0.018106  0.042616  \n",
       "jesus         0.059027 -0.001459  0.021409  \n",
       "bible         0.046351  0.008013  0.031751  \n",
       "hair          0.136368  0.209630  0.296550  \n",
       "dress         0.055596  0.052666  0.054925  \n",
       "blonde        0.093907  0.109275  0.021734  \n",
       "mall          0.048162  0.060117  0.090186  \n",
       "shopping      0.029152  0.035843  0.033282  \n",
       "clothes       0.074627  0.082811  0.121522  \n",
       "hollister     0.025078  0.033806  0.067372  \n",
       "abercrombie   0.033345  0.041567  0.078522  \n",
       "die           0.206485  0.125660  0.201091  \n",
       "death         1.000000  0.086790  0.098027  \n",
       "drunk         0.086790  1.000000  0.201196  \n",
       "drugs         0.098027  0.201196  1.000000  \n",
       "\n",
       "[40 rows x 40 columns]"
      ]
     },
     "execution_count": 67,
     "metadata": {},
     "output_type": "execute_result"
    }
   ],
   "source": [
    "correlation = data2.corr()\n",
    "correlation"
   ]
  },
  {
   "cell_type": "markdown",
   "metadata": {},
   "source": [
    "## 3. Feature Engineering\n",
    "\n",
    "Based on your previous conclusions, perform transformations in your features. Think about:  \n",
    "* Category Encoding\n",
    "* Outliers & Standardization\n",
    "* Dimension Reduction\n",
    "* Discard features that are less relevant to group the data\n",
    "\n",
    "Why did you choose each method? Please explain your rationale."
   ]
  },
  {
   "cell_type": "code",
   "execution_count": 69,
   "metadata": {},
   "outputs": [],
   "source": [
    "#Your code here: Se quitarán outliers\n",
    "columns=['friends','friends', 'basketball', 'football',\n",
    "       'soccer', 'softball', 'volleyball', 'swimming', 'cheerleading',\n",
    "       'baseball', 'tennis', 'sports', 'cute', 'sex', 'sexy', 'hot', 'kissed',\n",
    "       'dance', 'band', 'marching', 'music', 'rock', 'god', 'church', 'jesus',\n",
    "       'bible', 'hair', 'dress', 'blonde', 'mall', 'shopping', 'clothes',\n",
    "       'hollister', 'abercrombie', 'die', 'death', 'drunk', 'drugs']\n",
    "cuts=[data2[col].quantile(.99) for col in columns]\n",
    "for i,col in enumerate(columns):\n",
    "    data2=data2[data2[col]<cuts[i]]"
   ]
  },
  {
   "cell_type": "code",
   "execution_count": 71,
   "metadata": {},
   "outputs": [],
   "source": [
    "#Se eleminará la variable \"gradyear\" porque tiene una correlación muy alta (-0.9) con age\n",
    "data2.drop(['gradyear'],axis=1,inplace=True)"
   ]
  },
  {
   "cell_type": "code",
   "execution_count": 72,
   "metadata": {},
   "outputs": [],
   "source": [
    "#se resetea el index\n",
    "data2.reset_index(inplace=True,drop=True)"
   ]
  },
  {
   "cell_type": "code",
   "execution_count": 73,
   "metadata": {},
   "outputs": [
    {
     "data": {
      "text/html": [
       "<div>\n",
       "<style scoped>\n",
       "    .dataframe tbody tr th:only-of-type {\n",
       "        vertical-align: middle;\n",
       "    }\n",
       "\n",
       "    .dataframe tbody tr th {\n",
       "        vertical-align: top;\n",
       "    }\n",
       "\n",
       "    .dataframe thead th {\n",
       "        text-align: right;\n",
       "    }\n",
       "</style>\n",
       "<table border=\"1\" class=\"dataframe\">\n",
       "  <thead>\n",
       "    <tr style=\"text-align: right;\">\n",
       "      <th></th>\n",
       "      <th>gender</th>\n",
       "      <th>age</th>\n",
       "      <th>friends</th>\n",
       "      <th>basketball</th>\n",
       "      <th>football</th>\n",
       "      <th>soccer</th>\n",
       "      <th>softball</th>\n",
       "      <th>volleyball</th>\n",
       "      <th>swimming</th>\n",
       "      <th>cheerleading</th>\n",
       "      <th>...</th>\n",
       "      <th>blonde</th>\n",
       "      <th>mall</th>\n",
       "      <th>shopping</th>\n",
       "      <th>clothes</th>\n",
       "      <th>hollister</th>\n",
       "      <th>abercrombie</th>\n",
       "      <th>die</th>\n",
       "      <th>death</th>\n",
       "      <th>drunk</th>\n",
       "      <th>drugs</th>\n",
       "    </tr>\n",
       "  </thead>\n",
       "  <tbody>\n",
       "    <tr>\n",
       "      <th>0</th>\n",
       "      <td>0.0</td>\n",
       "      <td>18.982</td>\n",
       "      <td>7</td>\n",
       "      <td>0</td>\n",
       "      <td>0</td>\n",
       "      <td>0</td>\n",
       "      <td>0</td>\n",
       "      <td>0</td>\n",
       "      <td>0</td>\n",
       "      <td>0</td>\n",
       "      <td>...</td>\n",
       "      <td>0</td>\n",
       "      <td>0</td>\n",
       "      <td>0</td>\n",
       "      <td>0</td>\n",
       "      <td>0</td>\n",
       "      <td>0</td>\n",
       "      <td>0</td>\n",
       "      <td>0</td>\n",
       "      <td>0</td>\n",
       "      <td>0</td>\n",
       "    </tr>\n",
       "    <tr>\n",
       "      <th>1</th>\n",
       "      <td>0.0</td>\n",
       "      <td>18.335</td>\n",
       "      <td>69</td>\n",
       "      <td>0</td>\n",
       "      <td>1</td>\n",
       "      <td>0</td>\n",
       "      <td>0</td>\n",
       "      <td>0</td>\n",
       "      <td>0</td>\n",
       "      <td>0</td>\n",
       "      <td>...</td>\n",
       "      <td>0</td>\n",
       "      <td>0</td>\n",
       "      <td>0</td>\n",
       "      <td>0</td>\n",
       "      <td>0</td>\n",
       "      <td>0</td>\n",
       "      <td>0</td>\n",
       "      <td>1</td>\n",
       "      <td>0</td>\n",
       "      <td>0</td>\n",
       "    </tr>\n",
       "    <tr>\n",
       "      <th>2</th>\n",
       "      <td>1.0</td>\n",
       "      <td>18.875</td>\n",
       "      <td>0</td>\n",
       "      <td>0</td>\n",
       "      <td>0</td>\n",
       "      <td>0</td>\n",
       "      <td>0</td>\n",
       "      <td>0</td>\n",
       "      <td>0</td>\n",
       "      <td>0</td>\n",
       "      <td>...</td>\n",
       "      <td>0</td>\n",
       "      <td>0</td>\n",
       "      <td>0</td>\n",
       "      <td>0</td>\n",
       "      <td>0</td>\n",
       "      <td>0</td>\n",
       "      <td>0</td>\n",
       "      <td>0</td>\n",
       "      <td>0</td>\n",
       "      <td>0</td>\n",
       "    </tr>\n",
       "    <tr>\n",
       "      <th>3</th>\n",
       "      <td>0.0</td>\n",
       "      <td>18.322</td>\n",
       "      <td>17</td>\n",
       "      <td>0</td>\n",
       "      <td>0</td>\n",
       "      <td>0</td>\n",
       "      <td>1</td>\n",
       "      <td>0</td>\n",
       "      <td>0</td>\n",
       "      <td>0</td>\n",
       "      <td>...</td>\n",
       "      <td>0</td>\n",
       "      <td>0</td>\n",
       "      <td>0</td>\n",
       "      <td>0</td>\n",
       "      <td>0</td>\n",
       "      <td>0</td>\n",
       "      <td>0</td>\n",
       "      <td>0</td>\n",
       "      <td>0</td>\n",
       "      <td>0</td>\n",
       "    </tr>\n",
       "    <tr>\n",
       "      <th>4</th>\n",
       "      <td>1.0</td>\n",
       "      <td>18.543</td>\n",
       "      <td>8</td>\n",
       "      <td>0</td>\n",
       "      <td>0</td>\n",
       "      <td>0</td>\n",
       "      <td>0</td>\n",
       "      <td>0</td>\n",
       "      <td>0</td>\n",
       "      <td>0</td>\n",
       "      <td>...</td>\n",
       "      <td>0</td>\n",
       "      <td>0</td>\n",
       "      <td>0</td>\n",
       "      <td>0</td>\n",
       "      <td>0</td>\n",
       "      <td>0</td>\n",
       "      <td>0</td>\n",
       "      <td>0</td>\n",
       "      <td>0</td>\n",
       "      <td>0</td>\n",
       "    </tr>\n",
       "  </tbody>\n",
       "</table>\n",
       "<p>5 rows × 39 columns</p>\n",
       "</div>"
      ],
      "text/plain": [
       "   gender     age  friends  basketball  football  soccer  softball  \\\n",
       "0     0.0  18.982        7           0         0       0         0   \n",
       "1     0.0  18.335       69           0         1       0         0   \n",
       "2     1.0  18.875        0           0         0       0         0   \n",
       "3     0.0  18.322       17           0         0       0         1   \n",
       "4     1.0  18.543        8           0         0       0         0   \n",
       "\n",
       "   volleyball  swimming  cheerleading  ...  blonde  mall  shopping  clothes  \\\n",
       "0           0         0             0  ...       0     0         0        0   \n",
       "1           0         0             0  ...       0     0         0        0   \n",
       "2           0         0             0  ...       0     0         0        0   \n",
       "3           0         0             0  ...       0     0         0        0   \n",
       "4           0         0             0  ...       0     0         0        0   \n",
       "\n",
       "   hollister  abercrombie  die  death  drunk  drugs  \n",
       "0          0            0    0      0      0      0  \n",
       "1          0            0    0      1      0      0  \n",
       "2          0            0    0      0      0      0  \n",
       "3          0            0    0      0      0      0  \n",
       "4          0            0    0      0      0      0  \n",
       "\n",
       "[5 rows x 39 columns]"
      ]
     },
     "execution_count": 73,
     "metadata": {},
     "output_type": "execute_result"
    }
   ],
   "source": [
    "data2.head()"
   ]
  },
  {
   "cell_type": "code",
   "execution_count": 76,
   "metadata": {},
   "outputs": [],
   "source": [
    "#Se va a estandarizar(escalar) los datos\n",
    "scaler=MinMaxScaler()"
   ]
  },
  {
   "cell_type": "code",
   "execution_count": 77,
   "metadata": {},
   "outputs": [],
   "source": [
    "data3=pd.DataFrame(scaler.fit_transform(data2),columns=data2.columns)"
   ]
  },
  {
   "cell_type": "code",
   "execution_count": 78,
   "metadata": {},
   "outputs": [
    {
     "data": {
      "text/html": [
       "<div>\n",
       "<style scoped>\n",
       "    .dataframe tbody tr th:only-of-type {\n",
       "        vertical-align: middle;\n",
       "    }\n",
       "\n",
       "    .dataframe tbody tr th {\n",
       "        vertical-align: top;\n",
       "    }\n",
       "\n",
       "    .dataframe thead th {\n",
       "        text-align: right;\n",
       "    }\n",
       "</style>\n",
       "<table border=\"1\" class=\"dataframe\">\n",
       "  <thead>\n",
       "    <tr style=\"text-align: right;\">\n",
       "      <th></th>\n",
       "      <th>gender</th>\n",
       "      <th>age</th>\n",
       "      <th>friends</th>\n",
       "      <th>basketball</th>\n",
       "      <th>football</th>\n",
       "      <th>soccer</th>\n",
       "      <th>softball</th>\n",
       "      <th>volleyball</th>\n",
       "      <th>swimming</th>\n",
       "      <th>cheerleading</th>\n",
       "      <th>...</th>\n",
       "      <th>blonde</th>\n",
       "      <th>mall</th>\n",
       "      <th>shopping</th>\n",
       "      <th>clothes</th>\n",
       "      <th>hollister</th>\n",
       "      <th>abercrombie</th>\n",
       "      <th>die</th>\n",
       "      <th>death</th>\n",
       "      <th>drunk</th>\n",
       "      <th>drugs</th>\n",
       "    </tr>\n",
       "  </thead>\n",
       "  <tbody>\n",
       "    <tr>\n",
       "      <th>0</th>\n",
       "      <td>0.0</td>\n",
       "      <td>0.997282</td>\n",
       "      <td>0.042945</td>\n",
       "      <td>0.0</td>\n",
       "      <td>0.0</td>\n",
       "      <td>0.0</td>\n",
       "      <td>0.000000</td>\n",
       "      <td>0.0</td>\n",
       "      <td>0.0</td>\n",
       "      <td>0.0</td>\n",
       "      <td>...</td>\n",
       "      <td>0.0</td>\n",
       "      <td>0.0</td>\n",
       "      <td>0.0</td>\n",
       "      <td>0.0</td>\n",
       "      <td>0.0</td>\n",
       "      <td>0.0</td>\n",
       "      <td>0.0</td>\n",
       "      <td>0.0</td>\n",
       "      <td>0.0</td>\n",
       "      <td>0.0</td>\n",
       "    </tr>\n",
       "    <tr>\n",
       "      <th>1</th>\n",
       "      <td>0.0</td>\n",
       "      <td>0.887360</td>\n",
       "      <td>0.423313</td>\n",
       "      <td>0.0</td>\n",
       "      <td>0.5</td>\n",
       "      <td>0.0</td>\n",
       "      <td>0.000000</td>\n",
       "      <td>0.0</td>\n",
       "      <td>0.0</td>\n",
       "      <td>0.0</td>\n",
       "      <td>...</td>\n",
       "      <td>0.0</td>\n",
       "      <td>0.0</td>\n",
       "      <td>0.0</td>\n",
       "      <td>0.0</td>\n",
       "      <td>0.0</td>\n",
       "      <td>0.0</td>\n",
       "      <td>0.0</td>\n",
       "      <td>1.0</td>\n",
       "      <td>0.0</td>\n",
       "      <td>0.0</td>\n",
       "    </tr>\n",
       "    <tr>\n",
       "      <th>2</th>\n",
       "      <td>1.0</td>\n",
       "      <td>0.979103</td>\n",
       "      <td>0.000000</td>\n",
       "      <td>0.0</td>\n",
       "      <td>0.0</td>\n",
       "      <td>0.0</td>\n",
       "      <td>0.000000</td>\n",
       "      <td>0.0</td>\n",
       "      <td>0.0</td>\n",
       "      <td>0.0</td>\n",
       "      <td>...</td>\n",
       "      <td>0.0</td>\n",
       "      <td>0.0</td>\n",
       "      <td>0.0</td>\n",
       "      <td>0.0</td>\n",
       "      <td>0.0</td>\n",
       "      <td>0.0</td>\n",
       "      <td>0.0</td>\n",
       "      <td>0.0</td>\n",
       "      <td>0.0</td>\n",
       "      <td>0.0</td>\n",
       "    </tr>\n",
       "    <tr>\n",
       "      <th>3</th>\n",
       "      <td>0.0</td>\n",
       "      <td>0.885151</td>\n",
       "      <td>0.104294</td>\n",
       "      <td>0.0</td>\n",
       "      <td>0.0</td>\n",
       "      <td>0.0</td>\n",
       "      <td>0.333333</td>\n",
       "      <td>0.0</td>\n",
       "      <td>0.0</td>\n",
       "      <td>0.0</td>\n",
       "      <td>...</td>\n",
       "      <td>0.0</td>\n",
       "      <td>0.0</td>\n",
       "      <td>0.0</td>\n",
       "      <td>0.0</td>\n",
       "      <td>0.0</td>\n",
       "      <td>0.0</td>\n",
       "      <td>0.0</td>\n",
       "      <td>0.0</td>\n",
       "      <td>0.0</td>\n",
       "      <td>0.0</td>\n",
       "    </tr>\n",
       "    <tr>\n",
       "      <th>4</th>\n",
       "      <td>1.0</td>\n",
       "      <td>0.922698</td>\n",
       "      <td>0.049080</td>\n",
       "      <td>0.0</td>\n",
       "      <td>0.0</td>\n",
       "      <td>0.0</td>\n",
       "      <td>0.000000</td>\n",
       "      <td>0.0</td>\n",
       "      <td>0.0</td>\n",
       "      <td>0.0</td>\n",
       "      <td>...</td>\n",
       "      <td>0.0</td>\n",
       "      <td>0.0</td>\n",
       "      <td>0.0</td>\n",
       "      <td>0.0</td>\n",
       "      <td>0.0</td>\n",
       "      <td>0.0</td>\n",
       "      <td>0.0</td>\n",
       "      <td>0.0</td>\n",
       "      <td>0.0</td>\n",
       "      <td>0.0</td>\n",
       "    </tr>\n",
       "  </tbody>\n",
       "</table>\n",
       "<p>5 rows × 39 columns</p>\n",
       "</div>"
      ],
      "text/plain": [
       "   gender       age   friends  basketball  football  soccer  softball  \\\n",
       "0     0.0  0.997282  0.042945         0.0       0.0     0.0  0.000000   \n",
       "1     0.0  0.887360  0.423313         0.0       0.5     0.0  0.000000   \n",
       "2     1.0  0.979103  0.000000         0.0       0.0     0.0  0.000000   \n",
       "3     0.0  0.885151  0.104294         0.0       0.0     0.0  0.333333   \n",
       "4     1.0  0.922698  0.049080         0.0       0.0     0.0  0.000000   \n",
       "\n",
       "   volleyball  swimming  cheerleading  ...  blonde  mall  shopping  clothes  \\\n",
       "0         0.0       0.0           0.0  ...     0.0   0.0       0.0      0.0   \n",
       "1         0.0       0.0           0.0  ...     0.0   0.0       0.0      0.0   \n",
       "2         0.0       0.0           0.0  ...     0.0   0.0       0.0      0.0   \n",
       "3         0.0       0.0           0.0  ...     0.0   0.0       0.0      0.0   \n",
       "4         0.0       0.0           0.0  ...     0.0   0.0       0.0      0.0   \n",
       "\n",
       "   hollister  abercrombie  die  death  drunk  drugs  \n",
       "0        0.0          0.0  0.0    0.0    0.0    0.0  \n",
       "1        0.0          0.0  0.0    1.0    0.0    0.0  \n",
       "2        0.0          0.0  0.0    0.0    0.0    0.0  \n",
       "3        0.0          0.0  0.0    0.0    0.0    0.0  \n",
       "4        0.0          0.0  0.0    0.0    0.0    0.0  \n",
       "\n",
       "[5 rows x 39 columns]"
      ]
     },
     "execution_count": 78,
     "metadata": {},
     "output_type": "execute_result"
    }
   ],
   "source": [
    "data3.head()"
   ]
  },
  {
   "cell_type": "code",
   "execution_count": 86,
   "metadata": {},
   "outputs": [],
   "source": [
    "cols=['gender', 'age', 'friends', 'basketball', 'football', 'soccer',\n",
    "       'softball', 'volleyball', 'swimming', 'cheerleading', 'baseball',\n",
    "       'tennis', 'sports', 'cute', 'sex', 'sexy', 'hot', 'kissed', 'dance',\n",
    "       'band', 'marching', 'music', 'rock', 'god', 'church', 'jesus', 'bible',\n",
    "       'hair', 'dress', 'blonde', 'mall', 'shopping', 'clothes', 'hollister',\n",
    "       'abercrombie', 'die', 'death', 'drunk', 'drugs']"
   ]
  },
  {
   "cell_type": "markdown",
   "metadata": {},
   "source": [
    "## 4. Modeling\n",
    "\n",
    "Now that your data is ready, apply one (or more) unsupervised learning model to find the groups of teens that exist:\n",
    "* What model did you choose?\n",
    "* What is the optimal number of clusters?\n",
    "* Once your clusters are defined, how do you interpret them? - What type of teens there are? What are the differences between them?"
   ]
  },
  {
   "cell_type": "code",
   "execution_count": 88,
   "metadata": {},
   "outputs": [],
   "source": [
    "#Your code here:\n",
    "kmeans = KMeans(n_clusters=4)\n",
    "data_clusters = kmeans.fit(data3[cols])\n",
    "\n"
   ]
  },
  {
   "cell_type": "code",
   "execution_count": 89,
   "metadata": {},
   "outputs": [
    {
     "data": {
      "text/plain": [
       "4"
      ]
     },
     "execution_count": 89,
     "metadata": {},
     "output_type": "execute_result"
    }
   ],
   "source": [
    "len(data_clusters.cluster_centers_)"
   ]
  },
  {
   "cell_type": "code",
   "execution_count": 91,
   "metadata": {},
   "outputs": [
    {
     "data": {
      "text/plain": [
       "array([[ 1.00000000e+00,  6.85361257e-01,  1.70619129e-01,\n",
       "         4.93350493e-02,  5.42149292e-02,  3.15583441e-02,\n",
       "         3.18890319e-02,  3.66795367e-02,  1.31838984e-15,\n",
       "         3.29794080e-02,  2.52037752e-02,  2.53110253e-02,\n",
       "         9.15933995e-16,  8.44058344e-02,  3.05662806e-02,\n",
       "         8.15100815e-02,  6.68168168e-02,  2.19862720e-02,\n",
       "         7.40830116e-02,  3.31134706e-02,  0.00000000e+00,\n",
       "         1.40792578e-01,  7.18039468e-02,  7.76758902e-02,\n",
       "         4.92635493e-02,  4.64392964e-02,  0.00000000e+00,\n",
       "         6.39210639e-02,  5.30888031e-02,  3.26040326e-02,\n",
       "         8.45130845e-02,  1.36636637e-01,  7.09995710e-02,\n",
       "         1.79107679e-02,  0.00000000e+00,  5.80223080e-02,\n",
       "         6.45645646e-02,  3.92535393e-02,  2.41312741e-02],\n",
       "       [ 6.99806950e-01,  6.76145674e-01,  1.69422271e-01,\n",
       "         1.13899614e-01,  1.39961390e-01,  6.05694981e-02,\n",
       "         6.17760618e-02,  5.50193050e-02,  1.25482625e-02,\n",
       "         2.36486486e-02,  9.65250965e-02,  5.11583012e-02,\n",
       "         1.00000000e+00,  6.85328185e-02,  3.89317889e-02,\n",
       "         7.43243243e-02,  6.37065637e-02,  2.36486486e-02,\n",
       "         7.11872587e-02,  4.12644788e-02,  0.00000000e+00,\n",
       "         1.64816602e-01,  8.59073359e-02,  8.56660232e-02,\n",
       "         4.21492921e-02,  5.98455598e-02,  0.00000000e+00,\n",
       "         6.39478764e-02,  5.21235521e-02,  4.15057915e-02,\n",
       "         8.25289575e-02,  1.20173745e-01,  8.39768340e-02,\n",
       "         2.12355212e-02,  0.00000000e+00,  6.75675676e-02,\n",
       "         5.88803089e-02,  3.66795367e-02,  2.41312741e-02],\n",
       "       [ 9.77553311e-01,  6.66043720e-01,  1.97110849e-01,\n",
       "         6.92106248e-02,  9.14702581e-02,  5.02244669e-02,\n",
       "         4.00299289e-02,  8.30527497e-02,  1.00000000e+00,\n",
       "         5.10662177e-02,  4.04040404e-02,  5.61167228e-02,\n",
       "         8.97867565e-02,  1.08492331e-01,  3.55405911e-02,\n",
       "         7.96857464e-02,  8.97867565e-02,  2.69360269e-02,\n",
       "         8.86644220e-02,  4.29292929e-02,  0.00000000e+00,\n",
       "         1.94163861e-01,  9.93265993e-02,  9.20314254e-02,\n",
       "         7.40740741e-02,  6.39730640e-02,  0.00000000e+00,\n",
       "         9.03479237e-02,  6.62177329e-02,  4.15263749e-02,\n",
       "         1.14478114e-01,  2.58698092e-01,  1.16722783e-01,\n",
       "         3.92817059e-02,  0.00000000e+00,  5.10662177e-02,\n",
       "         7.63187430e-02,  4.37710438e-02,  2.24466891e-02],\n",
       "       [ 1.55431223e-15,  7.15154436e-01,  1.40112504e-01,\n",
       "         6.27999452e-02,  1.06746195e-01,  3.38338132e-02,\n",
       "         2.19388455e-03,  1.19292472e-02,  2.71493213e-02,\n",
       "         2.67379679e-03,  5.88235294e-02,  3.00287947e-02,\n",
       "        -5.68989300e-16,  1.85109009e-02,  2.55039079e-02,\n",
       "         4.52488688e-02,  2.34471411e-02,  9.46112711e-03,\n",
       "         3.56849033e-02,  4.93624023e-02,  0.00000000e+00,\n",
       "         1.30604689e-01,  7.89798437e-02,  6.14973262e-02,\n",
       "         3.81187440e-02,  4.56602221e-02,  0.00000000e+00,\n",
       "         2.44755245e-02,  1.31633073e-02,  3.70218017e-03,\n",
       "         4.21637186e-02,  1.50143974e-02,  3.29082682e-02,\n",
       "         1.11065405e-02,  0.00000000e+00,  4.31921020e-02,\n",
       "         5.01851090e-02,  3.12628548e-02,  1.72768408e-02]])"
      ]
     },
     "execution_count": 91,
     "metadata": {},
     "output_type": "execute_result"
    }
   ],
   "source": [
    "data_clusters.cluster_centers_"
   ]
  },
  {
   "cell_type": "code",
   "execution_count": 92,
   "metadata": {},
   "outputs": [],
   "source": [
    "preds = data_clusters.fit_predict(data3[cols])"
   ]
  },
  {
   "cell_type": "code",
   "execution_count": 93,
   "metadata": {},
   "outputs": [],
   "source": [
    "data3['cluster']=preds"
   ]
  },
  {
   "cell_type": "code",
   "execution_count": 94,
   "metadata": {},
   "outputs": [
    {
     "data": {
      "text/plain": [
       "array([0, 2, 3, 1])"
      ]
     },
     "execution_count": 94,
     "metadata": {},
     "output_type": "execute_result"
    }
   ],
   "source": [
    "data3.cluster.unique()"
   ]
  },
  {
   "cell_type": "code",
   "execution_count": 95,
   "metadata": {},
   "outputs": [
    {
     "data": {
      "text/plain": [
       "2    9289\n",
       "0    2340\n",
       "1    1058\n",
       "3     995\n",
       "Name: cluster, dtype: int64"
      ]
     },
     "execution_count": 95,
     "metadata": {},
     "output_type": "execute_result"
    }
   ],
   "source": [
    "data3.cluster.value_counts()"
   ]
  },
  {
   "cell_type": "code",
   "execution_count": 99,
   "metadata": {},
   "outputs": [
    {
     "data": {
      "text/plain": [
       "NearestNeighbors()"
      ]
     },
     "execution_count": 99,
     "metadata": {},
     "output_type": "execute_result"
    }
   ],
   "source": [
    "nearest_neighbors = NearestNeighbors(n_neighbors=5)\n",
    "nearest_neighbors.fit(data3[cols])"
   ]
  },
  {
   "cell_type": "code",
   "execution_count": 100,
   "metadata": {
    "scrolled": true
   },
   "outputs": [
    {
     "data": {
      "image/png": "[encoded data removed]",
      "text/plain": [
       "<Figure size 1440x720 with 1 Axes>"
      ]
     },
     "metadata": {
      "needs_background": "light"
     },
     "output_type": "display_data"
    }
   ],
   "source": [
    "distances, indices = nearest_neighbors.kneighbors(data3[cols])\n",
    "distances = np.sort(distances, axis=0)[:,1]\n",
    "plt.figure(figsize=(20,10))\n",
    "plt.plot(distances)\n",
    "plt.show()"
   ]
  },
  {
   "cell_type": "code",
   "execution_count": 157,
   "metadata": {},
   "outputs": [
    {
     "data": {
      "text/plain": [
       "DBSCAN(eps=1.1, min_samples=4)"
      ]
     },
     "execution_count": 157,
     "metadata": {},
     "output_type": "execute_result"
    }
   ],
   "source": [
    "m = DBSCAN(eps=1.1, min_samples=4)\n",
    "m.fit(data3[cols])"
   ]
  },
  {
   "cell_type": "code",
   "execution_count": 158,
   "metadata": {},
   "outputs": [],
   "source": [
    "labels = m.labels_"
   ]
  },
  {
   "cell_type": "code",
   "execution_count": 159,
   "metadata": {},
   "outputs": [],
   "source": [
    "labels_mask_general = np.zeros_like(labels,dtype=bool)"
   ]
  },
  {
   "cell_type": "code",
   "execution_count": 160,
   "metadata": {},
   "outputs": [],
   "source": [
    "labels_mask_general[m.core_sample_indices_] = True"
   ]
  },
  {
   "cell_type": "code",
   "execution_count": 161,
   "metadata": {},
   "outputs": [
    {
     "data": {
      "text/plain": [
       "883"
      ]
     },
     "execution_count": 161,
     "metadata": {},
     "output_type": "execute_result"
    }
   ],
   "source": [
    "n_clusters = len(set(labels)) - (1 if -1 in labels else 0)\n",
    "n_noise = list(labels).count(-1)\n",
    "n_noise"
   ]
  },
  {
   "cell_type": "code",
   "execution_count": 162,
   "metadata": {},
   "outputs": [
    {
     "data": {
      "text/plain": [
       "3"
      ]
     },
     "execution_count": 162,
     "metadata": {},
     "output_type": "execute_result"
    }
   ],
   "source": [
    "n_clusters"
   ]
  },
  {
   "cell_type": "code",
   "execution_count": 163,
   "metadata": {},
   "outputs": [],
   "source": [
    "#DBSCAN que encuentra el número óptimo de clusters indica que deberían ser 3 clusters."
   ]
  }
 ],
 "metadata": {
  "kernelspec": {
   "display_name": "Python 3",
   "language": "python",
   "name": "python3"
  },
  "language_info": {
   "codemirror_mode": {
    "name": "ipython",
    "version": 3
   },
   "file_extension": ".py",
   "mimetype": "text/x-python",
   "name": "python",
   "nbconvert_exporter": "python",
   "pygments_lexer": "ipython3",
   "version": "3.8.3"
  }
 },
 "nbformat": 4,
 "nbformat_minor": 2
}
