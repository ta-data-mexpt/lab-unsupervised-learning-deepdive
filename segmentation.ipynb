{
 "cells": [
  {
   "cell_type": "markdown",
   "metadata": {},
   "source": [
    "# Social Network Segmentation Analysis\n",
    "\n",
    "In this exercise, we will try to identify different groups of teenagers based on their personal preferences using an unsupervised learning model.  \n",
    "  \n",
    "Start by importing your libraries, loading the dataset and exploring its variables.  \n",
    "What features do you find? Do they have the correct datatypes?"
   ]
  },
  {
   "cell_type": "code",
   "execution_count": 1,
   "metadata": {},
   "outputs": [],
   "source": [
    "#Import your libraries here\n",
    "\n",
    "import pandas as pd\n"
   ]
  },
  {
   "cell_type": "code",
   "execution_count": 2,
   "metadata": {},
   "outputs": [
    {
     "name": "stdout",
     "output_type": "stream",
     "text": [
      "(30000, 40)\n"
     ]
    },
    {
     "data": {
      "text/plain": "   gradyear gender     age  friends  basketball  football  soccer  softball  \\\n0      2006      M  18.982        7           0         0       0         0   \n1      2006      F  18.801        0           0         1       0         0   \n2      2006      M  18.335       69           0         1       0         0   \n\n   volleyball  swimming  ...  blonde  mall  shopping  clothes  hollister  \\\n0           0         0  ...       0     0         0        0          0   \n1           0         0  ...       0     1         0        0          0   \n2           0         0  ...       0     0         0        0          0   \n\n   abercrombie  die  death  drunk  drugs  \n0            0    0      0      0      0  \n1            0    0      0      0      0  \n2            0    0      1      0      0  \n\n[3 rows x 40 columns]",
      "text/html": "<div>\n<style scoped>\n    .dataframe tbody tr th:only-of-type {\n        vertical-align: middle;\n    }\n\n    .dataframe tbody tr th {\n        vertical-align: top;\n    }\n\n    .dataframe thead th {\n        text-align: right;\n    }\n</style>\n<table border=\"1\" class=\"dataframe\">\n  <thead>\n    <tr style=\"text-align: right;\">\n      <th></th>\n      <th>gradyear</th>\n      <th>gender</th>\n      <th>age</th>\n      <th>friends</th>\n      <th>basketball</th>\n      <th>football</th>\n      <th>soccer</th>\n      <th>softball</th>\n      <th>volleyball</th>\n      <th>swimming</th>\n      <th>...</th>\n      <th>blonde</th>\n      <th>mall</th>\n      <th>shopping</th>\n      <th>clothes</th>\n      <th>hollister</th>\n      <th>abercrombie</th>\n      <th>die</th>\n      <th>death</th>\n      <th>drunk</th>\n      <th>drugs</th>\n    </tr>\n  </thead>\n  <tbody>\n    <tr>\n      <th>0</th>\n      <td>2006</td>\n      <td>M</td>\n      <td>18.982</td>\n      <td>7</td>\n      <td>0</td>\n      <td>0</td>\n      <td>0</td>\n      <td>0</td>\n      <td>0</td>\n      <td>0</td>\n      <td>...</td>\n      <td>0</td>\n      <td>0</td>\n      <td>0</td>\n      <td>0</td>\n      <td>0</td>\n      <td>0</td>\n      <td>0</td>\n      <td>0</td>\n      <td>0</td>\n      <td>0</td>\n    </tr>\n    <tr>\n      <th>1</th>\n      <td>2006</td>\n      <td>F</td>\n      <td>18.801</td>\n      <td>0</td>\n      <td>0</td>\n      <td>1</td>\n      <td>0</td>\n      <td>0</td>\n      <td>0</td>\n      <td>0</td>\n      <td>...</td>\n      <td>0</td>\n      <td>1</td>\n      <td>0</td>\n      <td>0</td>\n      <td>0</td>\n      <td>0</td>\n      <td>0</td>\n      <td>0</td>\n      <td>0</td>\n      <td>0</td>\n    </tr>\n    <tr>\n      <th>2</th>\n      <td>2006</td>\n      <td>M</td>\n      <td>18.335</td>\n      <td>69</td>\n      <td>0</td>\n      <td>1</td>\n      <td>0</td>\n      <td>0</td>\n      <td>0</td>\n      <td>0</td>\n      <td>...</td>\n      <td>0</td>\n      <td>0</td>\n      <td>0</td>\n      <td>0</td>\n      <td>0</td>\n      <td>0</td>\n      <td>0</td>\n      <td>1</td>\n      <td>0</td>\n      <td>0</td>\n    </tr>\n  </tbody>\n</table>\n<p>3 rows × 40 columns</p>\n</div>"
     },
     "execution_count": 2,
     "metadata": {},
     "output_type": "execute_result"
    }
   ],
   "source": [
    "#Load the dataset and explore its variables\n",
    "\n",
    "data = pd.read_csv('./data/snsdata.csv')\n",
    "print(data.shape)\n",
    "data.head(3)\n"
   ]
  },
  {
   "cell_type": "markdown",
   "metadata": {},
   "source": [
    "## 1. Data Wrangling\n",
    "\n",
    "If you found in the last step that there are variables that need to be dealt with before we can start our analysis, please do it. Comment your code and take us through the steps of your thinking.  \n",
    "\n",
    "Consider the some of these aspects:  \n",
    "* Wrong data types\n",
    "* Null values\n",
    "* Consistency in categorical data"
   ]
  },
  {
   "cell_type": "code",
   "execution_count": 3,
   "metadata": {},
   "outputs": [
    {
     "data": {
      "text/plain": "gradyear           0\ngender          2724\nage             5086\nfriends            0\nbasketball         0\nfootball           0\nsoccer             0\nsoftball           0\nvolleyball         0\nswimming           0\ncheerleading       0\nbaseball           0\ntennis             0\nsports             0\ncute               0\nsex                0\nsexy               0\nhot                0\nkissed             0\ndance              0\nband               0\nmarching           0\nmusic              0\nrock               0\ngod                0\nchurch             0\njesus              0\nbible              0\nhair               0\ndress              0\nblonde             0\nmall               0\nshopping           0\nclothes            0\nhollister          0\nabercrombie        0\ndie                0\ndeath              0\ndrunk              0\ndrugs              0\ndtype: int64"
     },
     "execution_count": 3,
     "metadata": {},
     "output_type": "execute_result"
    }
   ],
   "source": [
    "#Your code here:\n",
    "data.isnull().sum()"
   ]
  },
  {
   "cell_type": "code",
   "execution_count": 4,
   "outputs": [],
   "source": [
    "data.dropna(inplace=True)"
   ],
   "metadata": {
    "collapsed": false,
    "pycharm": {
     "name": "#%%\n"
    }
   }
  },
  {
   "cell_type": "code",
   "execution_count": 5,
   "outputs": [
    {
     "data": {
      "text/plain": "<matplotlib.axes._subplots.AxesSubplot at 0x1fa65315460>"
     },
     "execution_count": 5,
     "metadata": {},
     "output_type": "execute_result"
    },
    {
     "data": {
      "text/plain": "<Figure size 432x288 with 1 Axes>",
      "image/png": "[encoded data removed]"
     },
     "metadata": {
      "needs_background": "light"
     },
     "output_type": "display_data"
    }
   ],
   "source": [
    "import seaborn as sns\n",
    "data.columns\n",
    "sns.boxplot(data.friends)"
   ],
   "metadata": {
    "collapsed": false,
    "pycharm": {
     "name": "#%%\n"
    }
   }
  },
  {
   "cell_type": "code",
   "execution_count": 6,
   "outputs": [
    {
     "name": "stdout",
     "output_type": "stream",
     "text": [
      "<class 'pandas.core.frame.DataFrame'>\n",
      "Int64Index: 24005 entries, 0 to 29999\n",
      "Data columns (total 40 columns):\n",
      " #   Column        Non-Null Count  Dtype  \n",
      "---  ------        --------------  -----  \n",
      " 0   gradyear      24005 non-null  int64  \n",
      " 1   gender        24005 non-null  object \n",
      " 2   age           24005 non-null  float64\n",
      " 3   friends       24005 non-null  int64  \n",
      " 4   basketball    24005 non-null  int64  \n",
      " 5   football      24005 non-null  int64  \n",
      " 6   soccer        24005 non-null  int64  \n",
      " 7   softball      24005 non-null  int64  \n",
      " 8   volleyball    24005 non-null  int64  \n",
      " 9   swimming      24005 non-null  int64  \n",
      " 10  cheerleading  24005 non-null  int64  \n",
      " 11  baseball      24005 non-null  int64  \n",
      " 12  tennis        24005 non-null  int64  \n",
      " 13  sports        24005 non-null  int64  \n",
      " 14  cute          24005 non-null  int64  \n",
      " 15  sex           24005 non-null  int64  \n",
      " 16  sexy          24005 non-null  int64  \n",
      " 17  hot           24005 non-null  int64  \n",
      " 18  kissed        24005 non-null  int64  \n",
      " 19  dance         24005 non-null  int64  \n",
      " 20  band          24005 non-null  int64  \n",
      " 21  marching      24005 non-null  int64  \n",
      " 22  music         24005 non-null  int64  \n",
      " 23  rock          24005 non-null  int64  \n",
      " 24  god           24005 non-null  int64  \n",
      " 25  church        24005 non-null  int64  \n",
      " 26  jesus         24005 non-null  int64  \n",
      " 27  bible         24005 non-null  int64  \n",
      " 28  hair          24005 non-null  int64  \n",
      " 29  dress         24005 non-null  int64  \n",
      " 30  blonde        24005 non-null  int64  \n",
      " 31  mall          24005 non-null  int64  \n",
      " 32  shopping      24005 non-null  int64  \n",
      " 33  clothes       24005 non-null  int64  \n",
      " 34  hollister     24005 non-null  int64  \n",
      " 35  abercrombie   24005 non-null  int64  \n",
      " 36  die           24005 non-null  int64  \n",
      " 37  death         24005 non-null  int64  \n",
      " 38  drunk         24005 non-null  int64  \n",
      " 39  drugs         24005 non-null  int64  \n",
      "dtypes: float64(1), int64(38), object(1)\n",
      "memory usage: 7.5+ MB\n"
     ]
    }
   ],
   "source": [
    "data.info()"
   ],
   "metadata": {
    "collapsed": false,
    "pycharm": {
     "name": "#%%\n"
    }
   }
  },
  {
   "cell_type": "markdown",
   "metadata": {},
   "source": [
    "## 2. Data Visualization\n",
    "\n",
    "Now that the data is more or less fixed, plot some charts to understand better how it is composed:  \n",
    "* Check distribution of variables - do we have outliers? What should we do with them?\n",
    "* Understand which features are correlated - do they represent the same? Which ones should we keep?\n",
    "* When we compare two variables, is it possible to see groups in the data?\n",
    "* Given the dimension of the dataset, would it be useful to perform dimension reduction in some variables? Which ones would you group?\n",
    "\n",
    "Comment your ideas based on the visualizations you made and other data exploration. What will be your next steps before modeling?"
   ]
  },
  {
   "cell_type": "code",
   "execution_count": 7,
   "metadata": {},
   "outputs": [
    {
     "data": {
      "text/plain": "<matplotlib.axes._subplots.AxesSubplot at 0x1fa673ceb50>"
     },
     "execution_count": 7,
     "metadata": {},
     "output_type": "execute_result"
    },
    {
     "data": {
      "text/plain": "<Figure size 432x288 with 1 Axes>",
      "image/png": "[encoded data removed]"
     },
     "metadata": {
      "needs_background": "light"
     },
     "output_type": "display_data"
    }
   ],
   "source": [
    "#Your code here:\n",
    "\n",
    "data_2= data[data.age <= 20]\n",
    "sns.boxplot(data_2.age)"
   ]
  },
  {
   "cell_type": "code",
   "execution_count": 8,
   "outputs": [
    {
     "data": {
      "text/plain": "gradyear       -0.841555\nage             1.000000\nfriends        -0.049616\nbasketball     -0.051828\nfootball       -0.004242\nsoccer         -0.051414\nsoftball       -0.035359\nvolleyball     -0.054949\nswimming       -0.029386\ncheerleading   -0.037538\nbaseball       -0.014487\ntennis         -0.000480\nsports         -0.033246\ncute           -0.024813\nsex             0.009188\nsexy           -0.036129\nhot            -0.051661\nkissed         -0.011993\ndance          -0.047635\nband           -0.001095\nmarching        0.015496\nmusic          -0.002107\nrock           -0.043076\ngod             0.016304\nchurch         -0.016358\njesus          -0.001783\nbible           0.010523\nhair           -0.059524\ndress           0.038372\nblonde         -0.004969\nmall           -0.063409\nshopping       -0.032409\nclothes        -0.037828\nhollister      -0.040048\nabercrombie    -0.045219\ndie            -0.017008\ndeath           0.005592\ndrunk           0.023060\ndrugs          -0.011291\nName: age, dtype: float64"
     },
     "execution_count": 8,
     "metadata": {},
     "output_type": "execute_result"
    }
   ],
   "source": [
    "data_2.corr()['age'][:]"
   ],
   "metadata": {
    "collapsed": false,
    "pycharm": {
     "name": "#%%\n"
    }
   }
  },
  {
   "cell_type": "markdown",
   "metadata": {},
   "source": [
    "## 3. Feature Engineering\n",
    "\n",
    "Based on your previous conclusions, perform transformations in your features. Think about:  \n",
    "* Category Encoding\n",
    "* Outliers & Standardization\n",
    "* Dimension Reduction\n",
    "* Discard features that are less relevant to group the data\n",
    "\n",
    "Why did you choose each method? Please explain your rationale."
   ]
  },
  {
   "cell_type": "code",
   "execution_count": 9,
   "metadata": {},
   "outputs": [
    {
     "name": "stdout",
     "output_type": "stream",
     "text": [
      "Index(['gradyear', 'age', 'friends', 'basketball', 'football', 'soccer',\n",
      "       'softball', 'volleyball', 'swimming', 'cheerleading', 'baseball',\n",
      "       'tennis', 'sports', 'cute', 'sex', 'sexy', 'hot', 'kissed', 'dance',\n",
      "       'band', 'marching', 'music', 'rock', 'god', 'church', 'jesus', 'bible',\n",
      "       'hair', 'dress', 'blonde', 'mall', 'shopping', 'clothes', 'hollister',\n",
      "       'abercrombie', 'die', 'death', 'drunk', 'drugs', 'M'],\n",
      "      dtype='object')\n"
     ]
    }
   ],
   "source": [
    "#Your code here:\n",
    "\n",
    "genero=pd.get_dummies(data_2.gender,drop_first=True)\n",
    "data_3=pd.concat([data_2,genero],axis=1).copy()\n",
    "\n",
    "data_3 = data_3.drop(['gender'], axis=1)\n",
    "print(data_3.columns)\n"
   ]
  },
  {
   "cell_type": "markdown",
   "metadata": {},
   "source": [
    "## 4. Modeling\n",
    "\n",
    "Now that your data is ready, apply one (or more) unsupervised learning model to find the groups of teens that exist:\n",
    "* What model did you choose?\n",
    "* What is the optimal number of clusters?\n",
    "* Once your clusters are defined, how do you interpret them? - What type of teens there are? What are the differences between them?"
   ]
  },
  {
   "cell_type": "code",
   "execution_count": 10,
   "metadata": {},
   "outputs": [
    {
     "data": {
      "text/plain": "KMeans()"
     },
     "execution_count": 10,
     "metadata": {},
     "output_type": "execute_result"
    }
   ],
   "source": [
    "#Your code here:\n",
    "\n",
    "from sklearn.cluster import KMeans\n",
    "import numpy as np\n",
    "kmeans=KMeans()\n",
    "\n",
    "kmeans.fit(data_3)"
   ]
  },
  {
   "cell_type": "code",
   "execution_count": 11,
   "outputs": [],
   "source": [
    "y_pred = kmeans.predict(data_3)\n",
    "\n",
    "data_3['cluster']=kmeans.labels_"
   ],
   "metadata": {
    "collapsed": false,
    "pycharm": {
     "name": "#%%\n"
    }
   }
  },
  {
   "cell_type": "code",
   "execution_count": 12,
   "outputs": [
    {
     "data": {
      "text/plain": "2    8596\n0    5841\n6    4635\n3    2792\n1    1233\n5     435\n4     114\n7       6\nName: cluster, dtype: int64"
     },
     "execution_count": 12,
     "metadata": {},
     "output_type": "execute_result"
    }
   ],
   "source": [
    "data_3.cluster.value_counts()\n"
   ],
   "metadata": {
    "collapsed": false,
    "pycharm": {
     "name": "#%%\n"
    }
   }
  }
 ],
 "metadata": {
  "kernelspec": {
   "display_name": "Python 3",
   "language": "python",
   "name": "python3"
  },
  "language_info": {
   "codemirror_mode": {
    "name": "ipython",
    "version": 3
   },
   "file_extension": ".py",
   "mimetype": "text/x-python",
   "name": "python",
   "nbconvert_exporter": "python",
   "pygments_lexer": "ipython3",
   "version": "3.7.3"
  }
 },
 "nbformat": 4,
 "nbformat_minor": 2
}