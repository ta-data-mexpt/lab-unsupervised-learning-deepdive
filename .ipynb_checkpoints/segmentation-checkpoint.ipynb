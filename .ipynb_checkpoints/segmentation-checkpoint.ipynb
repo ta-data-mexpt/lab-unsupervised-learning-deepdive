{
 "cells": [
  {
   "cell_type": "markdown",
   "metadata": {},
   "source": [
    "# Social Network Segmentation Analysis\n",
    "\n",
    "In this exercise, we will try to identify different groups of teenagers based on their personal preferences using an unsupervised learning model.  \n",
    "  \n",
    "Start by importing your libraries, loading the dataset and exploring its variables.  \n",
    "What features do you find? Do they have the correct datatypes?"
   ]
  },
  {
   "cell_type": "code",
   "execution_count": 1,
   "metadata": {},
   "outputs": [],
   "source": [
    "#Import your libraries here\n",
    "\n",
    "\n"
   ]
  },
  {
   "cell_type": "code",
   "execution_count": 2,
   "metadata": {},
   "outputs": [],
   "source": [
    "#Load the dataset and explore its variables\n",
    "\n",
    "\n"
   ]
  },
  {
   "cell_type": "markdown",
   "metadata": {},
   "source": [
    "## 1. Data Wrangling\n",
    "\n",
    "If you found in the last step that there are variables that need to be dealt with before we can start our analysis, please do it. Comment your code and take us through the steps of your thinking.  \n",
    "\n",
    "Consider the some of these aspects:  \n",
    "* Wrong data types\n",
    "* Null values\n",
    "* Consistency in categorical data"
   ]
  },
  {
   "cell_type": "code",
   "execution_count": 3,
   "metadata": {},
   "outputs": [],
   "source": [
    "#Your code here:\n",
    "\n",
    "\n"
   ]
  },
  {
   "cell_type": "markdown",
   "metadata": {},
   "source": [
    "## 2. Data Visualization\n",
    "\n",
    "Now that the data is more or less fixed, plot some charts to understand better how it is composed:  \n",
    "* Check distribution of variables - do we have outliers? What should we do with them?\n",
    "* Understand which features are correlated - do they represent the same? Which ones should we keep?\n",
    "* When we compare two variables, is it possible to see groups in the data?\n",
    "* Given the dimension of the dataset, would it be useful to perform dimension reduction in some variables? Which ones would you group?\n",
    "\n",
    "Comment your ideas based on the visualizations you made and other data exploration. What will be your next steps before modeling?"
   ]
  },
  {
   "cell_type": "code",
   "execution_count": 4,
   "metadata": {},
   "outputs": [],
   "source": [
    "#Your code here:\n",
    "\n",
    "\n"
   ]
  },
  {
   "cell_type": "markdown",
   "metadata": {},
   "source": [
    "## 3. Feature Engineering\n",
    "\n",
    "Based on your previous conclusions, perform transformations in your features. Think about:  \n",
    "* Category Encoding\n",
    "* Outliers & Standardization\n",
    "* Dimension Reduction\n",
    "* Discard features that are less relevant to group the data\n",
    "\n",
    "Why did you choose each method? Please explain your rationale."
   ]
  },
  {
   "cell_type": "code",
   "execution_count": 5,
   "metadata": {},
   "outputs": [],
   "source": [
    "#Your code here:\n",
    "\n",
    "\n"
   ]
  },
  {
   "cell_type": "markdown",
   "metadata": {},
   "source": [
    "## 4. Modeling\n",
    "\n",
    "Now that your data is ready, apply one (or more) unsupervised learning model to find the groups of teens that exist:\n",
    "* What model did you choose?\n",
    "* What is the optimal number of clusters?\n",
    "* Once your clusters are defined, how do you interpret them? - What type of teens there are? What are the differences between them?"
   ]
  },
  {
   "cell_type": "code",
   "execution_count": null,
   "metadata": {},
   "outputs": [],
   "source": [
    "#Your code here:\n",
    "\n",
    "\n"
   ]
  }
 ],
 "metadata": {
  "kernelspec": {
   "display_name": "Python 3",
   "language": "python",
   "name": "python3"
  },
  "language_info": {
   "codemirror_mode": {
    "name": "ipython",
    "version": 3
   },
   "file_extension": ".py",
   "mimetype": "text/x-python",
   "name": "python",
   "nbconvert_exporter": "python",
   "pygments_lexer": "ipython3",
   "version": "3.7.3"
  }
 },
 "nbformat": 4,
 "nbformat_minor": 2
}
