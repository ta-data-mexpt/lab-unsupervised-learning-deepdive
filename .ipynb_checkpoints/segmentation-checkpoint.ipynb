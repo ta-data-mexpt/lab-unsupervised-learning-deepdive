{
 "cells": [
  {
   "cell_type": "markdown",
   "metadata": {},
   "source": [
    "# Social Network Segmentation Analysis\n",
    "\n",
    "In this exercise, we will try to identify different groups of teenagers based on their personal preferences using an unsupervised learning model.  \n",
    "  \n",
    "Start by importing your libraries, loading the dataset and exploring its variables.  \n",
    "What features do you find? Do they have the correct datatypes?"
   ]
  },
  {
   "cell_type": "code",
   "execution_count": 1,
   "metadata": {},
   "outputs": [],
   "source": [
    "#Import your libraries here\n",
    "\n",
    "import pandas as pd\n",
    "import numpy as np\n"
   ]
  },
  {
   "cell_type": "code",
   "execution_count": 31,
   "metadata": {},
   "outputs": [],
   "source": [
    "#Load the dataset and explore its variables\n",
    "\n",
    "df = pd.read_csv('./snsdata.csv')\n"
   ]
  },
  {
   "cell_type": "code",
   "execution_count": 3,
   "metadata": {},
   "outputs": [
    {
     "data": {
      "text/html": [
       "<div>\n",
       "<style scoped>\n",
       "    .dataframe tbody tr th:only-of-type {\n",
       "        vertical-align: middle;\n",
       "    }\n",
       "\n",
       "    .dataframe tbody tr th {\n",
       "        vertical-align: top;\n",
       "    }\n",
       "\n",
       "    .dataframe thead th {\n",
       "        text-align: right;\n",
       "    }\n",
       "</style>\n",
       "<table border=\"1\" class=\"dataframe\">\n",
       "  <thead>\n",
       "    <tr style=\"text-align: right;\">\n",
       "      <th></th>\n",
       "      <th>gradyear</th>\n",
       "      <th>gender</th>\n",
       "      <th>age</th>\n",
       "      <th>friends</th>\n",
       "      <th>basketball</th>\n",
       "      <th>football</th>\n",
       "      <th>soccer</th>\n",
       "      <th>softball</th>\n",
       "      <th>volleyball</th>\n",
       "      <th>swimming</th>\n",
       "      <th>...</th>\n",
       "      <th>blonde</th>\n",
       "      <th>mall</th>\n",
       "      <th>shopping</th>\n",
       "      <th>clothes</th>\n",
       "      <th>hollister</th>\n",
       "      <th>abercrombie</th>\n",
       "      <th>die</th>\n",
       "      <th>death</th>\n",
       "      <th>drunk</th>\n",
       "      <th>drugs</th>\n",
       "    </tr>\n",
       "  </thead>\n",
       "  <tbody>\n",
       "    <tr>\n",
       "      <th>0</th>\n",
       "      <td>2006</td>\n",
       "      <td>M</td>\n",
       "      <td>18.982</td>\n",
       "      <td>7</td>\n",
       "      <td>0</td>\n",
       "      <td>0</td>\n",
       "      <td>0</td>\n",
       "      <td>0</td>\n",
       "      <td>0</td>\n",
       "      <td>0</td>\n",
       "      <td>...</td>\n",
       "      <td>0</td>\n",
       "      <td>0</td>\n",
       "      <td>0</td>\n",
       "      <td>0</td>\n",
       "      <td>0</td>\n",
       "      <td>0</td>\n",
       "      <td>0</td>\n",
       "      <td>0</td>\n",
       "      <td>0</td>\n",
       "      <td>0</td>\n",
       "    </tr>\n",
       "    <tr>\n",
       "      <th>1</th>\n",
       "      <td>2006</td>\n",
       "      <td>F</td>\n",
       "      <td>18.801</td>\n",
       "      <td>0</td>\n",
       "      <td>0</td>\n",
       "      <td>1</td>\n",
       "      <td>0</td>\n",
       "      <td>0</td>\n",
       "      <td>0</td>\n",
       "      <td>0</td>\n",
       "      <td>...</td>\n",
       "      <td>0</td>\n",
       "      <td>1</td>\n",
       "      <td>0</td>\n",
       "      <td>0</td>\n",
       "      <td>0</td>\n",
       "      <td>0</td>\n",
       "      <td>0</td>\n",
       "      <td>0</td>\n",
       "      <td>0</td>\n",
       "      <td>0</td>\n",
       "    </tr>\n",
       "    <tr>\n",
       "      <th>2</th>\n",
       "      <td>2006</td>\n",
       "      <td>M</td>\n",
       "      <td>18.335</td>\n",
       "      <td>69</td>\n",
       "      <td>0</td>\n",
       "      <td>1</td>\n",
       "      <td>0</td>\n",
       "      <td>0</td>\n",
       "      <td>0</td>\n",
       "      <td>0</td>\n",
       "      <td>...</td>\n",
       "      <td>0</td>\n",
       "      <td>0</td>\n",
       "      <td>0</td>\n",
       "      <td>0</td>\n",
       "      <td>0</td>\n",
       "      <td>0</td>\n",
       "      <td>0</td>\n",
       "      <td>1</td>\n",
       "      <td>0</td>\n",
       "      <td>0</td>\n",
       "    </tr>\n",
       "    <tr>\n",
       "      <th>3</th>\n",
       "      <td>2006</td>\n",
       "      <td>F</td>\n",
       "      <td>18.875</td>\n",
       "      <td>0</td>\n",
       "      <td>0</td>\n",
       "      <td>0</td>\n",
       "      <td>0</td>\n",
       "      <td>0</td>\n",
       "      <td>0</td>\n",
       "      <td>0</td>\n",
       "      <td>...</td>\n",
       "      <td>0</td>\n",
       "      <td>0</td>\n",
       "      <td>0</td>\n",
       "      <td>0</td>\n",
       "      <td>0</td>\n",
       "      <td>0</td>\n",
       "      <td>0</td>\n",
       "      <td>0</td>\n",
       "      <td>0</td>\n",
       "      <td>0</td>\n",
       "    </tr>\n",
       "    <tr>\n",
       "      <th>4</th>\n",
       "      <td>2006</td>\n",
       "      <td>NaN</td>\n",
       "      <td>18.995</td>\n",
       "      <td>10</td>\n",
       "      <td>0</td>\n",
       "      <td>0</td>\n",
       "      <td>0</td>\n",
       "      <td>0</td>\n",
       "      <td>0</td>\n",
       "      <td>0</td>\n",
       "      <td>...</td>\n",
       "      <td>0</td>\n",
       "      <td>0</td>\n",
       "      <td>2</td>\n",
       "      <td>0</td>\n",
       "      <td>0</td>\n",
       "      <td>0</td>\n",
       "      <td>0</td>\n",
       "      <td>0</td>\n",
       "      <td>1</td>\n",
       "      <td>1</td>\n",
       "    </tr>\n",
       "  </tbody>\n",
       "</table>\n",
       "<p>5 rows × 40 columns</p>\n",
       "</div>"
      ],
      "text/plain": [
       "   gradyear gender     age  friends  basketball  football  soccer  softball  \\\n",
       "0      2006      M  18.982        7           0         0       0         0   \n",
       "1      2006      F  18.801        0           0         1       0         0   \n",
       "2      2006      M  18.335       69           0         1       0         0   \n",
       "3      2006      F  18.875        0           0         0       0         0   \n",
       "4      2006    NaN  18.995       10           0         0       0         0   \n",
       "\n",
       "   volleyball  swimming  ...  blonde  mall  shopping  clothes  hollister  \\\n",
       "0           0         0  ...       0     0         0        0          0   \n",
       "1           0         0  ...       0     1         0        0          0   \n",
       "2           0         0  ...       0     0         0        0          0   \n",
       "3           0         0  ...       0     0         0        0          0   \n",
       "4           0         0  ...       0     0         2        0          0   \n",
       "\n",
       "   abercrombie  die  death  drunk  drugs  \n",
       "0            0    0      0      0      0  \n",
       "1            0    0      0      0      0  \n",
       "2            0    0      1      0      0  \n",
       "3            0    0      0      0      0  \n",
       "4            0    0      0      1      1  \n",
       "\n",
       "[5 rows x 40 columns]"
      ]
     },
     "execution_count": 3,
     "metadata": {},
     "output_type": "execute_result"
    }
   ],
   "source": [
    "df.head()"
   ]
  },
  {
   "cell_type": "code",
   "execution_count": 4,
   "metadata": {},
   "outputs": [
    {
     "data": {
      "text/plain": [
       "gradyear          int64\n",
       "gender           object\n",
       "age             float64\n",
       "friends           int64\n",
       "basketball        int64\n",
       "football          int64\n",
       "soccer            int64\n",
       "softball          int64\n",
       "volleyball        int64\n",
       "swimming          int64\n",
       "cheerleading      int64\n",
       "baseball          int64\n",
       "tennis            int64\n",
       "sports            int64\n",
       "cute              int64\n",
       "sex               int64\n",
       "sexy              int64\n",
       "hot               int64\n",
       "kissed            int64\n",
       "dance             int64\n",
       "band              int64\n",
       "marching          int64\n",
       "music             int64\n",
       "rock              int64\n",
       "god               int64\n",
       "church            int64\n",
       "jesus             int64\n",
       "bible             int64\n",
       "hair              int64\n",
       "dress             int64\n",
       "blonde            int64\n",
       "mall              int64\n",
       "shopping          int64\n",
       "clothes           int64\n",
       "hollister         int64\n",
       "abercrombie       int64\n",
       "die               int64\n",
       "death             int64\n",
       "drunk             int64\n",
       "drugs             int64\n",
       "dtype: object"
      ]
     },
     "execution_count": 4,
     "metadata": {},
     "output_type": "execute_result"
    }
   ],
   "source": [
    "df.dtypes"
   ]
  },
  {
   "cell_type": "code",
   "execution_count": 5,
   "metadata": {},
   "outputs": [
    {
     "data": {
      "text/html": [
       "<div>\n",
       "<style scoped>\n",
       "    .dataframe tbody tr th:only-of-type {\n",
       "        vertical-align: middle;\n",
       "    }\n",
       "\n",
       "    .dataframe tbody tr th {\n",
       "        vertical-align: top;\n",
       "    }\n",
       "\n",
       "    .dataframe thead th {\n",
       "        text-align: right;\n",
       "    }\n",
       "</style>\n",
       "<table border=\"1\" class=\"dataframe\">\n",
       "  <thead>\n",
       "    <tr style=\"text-align: right;\">\n",
       "      <th></th>\n",
       "      <th>count</th>\n",
       "      <th>mean</th>\n",
       "      <th>std</th>\n",
       "      <th>min</th>\n",
       "      <th>25%</th>\n",
       "      <th>50%</th>\n",
       "      <th>75%</th>\n",
       "      <th>max</th>\n",
       "    </tr>\n",
       "  </thead>\n",
       "  <tbody>\n",
       "    <tr>\n",
       "      <th>gradyear</th>\n",
       "      <td>30000.0</td>\n",
       "      <td>2007.500000</td>\n",
       "      <td>1.118053</td>\n",
       "      <td>2006.000</td>\n",
       "      <td>2006.750</td>\n",
       "      <td>2007.500</td>\n",
       "      <td>2008.250</td>\n",
       "      <td>2009.000</td>\n",
       "    </tr>\n",
       "    <tr>\n",
       "      <th>age</th>\n",
       "      <td>24914.0</td>\n",
       "      <td>17.993950</td>\n",
       "      <td>7.858054</td>\n",
       "      <td>3.086</td>\n",
       "      <td>16.312</td>\n",
       "      <td>17.287</td>\n",
       "      <td>18.259</td>\n",
       "      <td>106.927</td>\n",
       "    </tr>\n",
       "    <tr>\n",
       "      <th>friends</th>\n",
       "      <td>30000.0</td>\n",
       "      <td>30.179467</td>\n",
       "      <td>36.530877</td>\n",
       "      <td>0.000</td>\n",
       "      <td>3.000</td>\n",
       "      <td>20.000</td>\n",
       "      <td>44.000</td>\n",
       "      <td>830.000</td>\n",
       "    </tr>\n",
       "    <tr>\n",
       "      <th>basketball</th>\n",
       "      <td>30000.0</td>\n",
       "      <td>0.267333</td>\n",
       "      <td>0.804708</td>\n",
       "      <td>0.000</td>\n",
       "      <td>0.000</td>\n",
       "      <td>0.000</td>\n",
       "      <td>0.000</td>\n",
       "      <td>24.000</td>\n",
       "    </tr>\n",
       "    <tr>\n",
       "      <th>football</th>\n",
       "      <td>30000.0</td>\n",
       "      <td>0.252300</td>\n",
       "      <td>0.705357</td>\n",
       "      <td>0.000</td>\n",
       "      <td>0.000</td>\n",
       "      <td>0.000</td>\n",
       "      <td>0.000</td>\n",
       "      <td>15.000</td>\n",
       "    </tr>\n",
       "    <tr>\n",
       "      <th>soccer</th>\n",
       "      <td>30000.0</td>\n",
       "      <td>0.222767</td>\n",
       "      <td>0.917226</td>\n",
       "      <td>0.000</td>\n",
       "      <td>0.000</td>\n",
       "      <td>0.000</td>\n",
       "      <td>0.000</td>\n",
       "      <td>27.000</td>\n",
       "    </tr>\n",
       "    <tr>\n",
       "      <th>softball</th>\n",
       "      <td>30000.0</td>\n",
       "      <td>0.161200</td>\n",
       "      <td>0.739707</td>\n",
       "      <td>0.000</td>\n",
       "      <td>0.000</td>\n",
       "      <td>0.000</td>\n",
       "      <td>0.000</td>\n",
       "      <td>17.000</td>\n",
       "    </tr>\n",
       "    <tr>\n",
       "      <th>volleyball</th>\n",
       "      <td>30000.0</td>\n",
       "      <td>0.143133</td>\n",
       "      <td>0.639943</td>\n",
       "      <td>0.000</td>\n",
       "      <td>0.000</td>\n",
       "      <td>0.000</td>\n",
       "      <td>0.000</td>\n",
       "      <td>14.000</td>\n",
       "    </tr>\n",
       "    <tr>\n",
       "      <th>swimming</th>\n",
       "      <td>30000.0</td>\n",
       "      <td>0.134400</td>\n",
       "      <td>0.516990</td>\n",
       "      <td>0.000</td>\n",
       "      <td>0.000</td>\n",
       "      <td>0.000</td>\n",
       "      <td>0.000</td>\n",
       "      <td>31.000</td>\n",
       "    </tr>\n",
       "    <tr>\n",
       "      <th>cheerleading</th>\n",
       "      <td>30000.0</td>\n",
       "      <td>0.106633</td>\n",
       "      <td>0.514333</td>\n",
       "      <td>0.000</td>\n",
       "      <td>0.000</td>\n",
       "      <td>0.000</td>\n",
       "      <td>0.000</td>\n",
       "      <td>9.000</td>\n",
       "    </tr>\n",
       "    <tr>\n",
       "      <th>baseball</th>\n",
       "      <td>30000.0</td>\n",
       "      <td>0.104933</td>\n",
       "      <td>0.521726</td>\n",
       "      <td>0.000</td>\n",
       "      <td>0.000</td>\n",
       "      <td>0.000</td>\n",
       "      <td>0.000</td>\n",
       "      <td>16.000</td>\n",
       "    </tr>\n",
       "    <tr>\n",
       "      <th>tennis</th>\n",
       "      <td>30000.0</td>\n",
       "      <td>0.087333</td>\n",
       "      <td>0.516961</td>\n",
       "      <td>0.000</td>\n",
       "      <td>0.000</td>\n",
       "      <td>0.000</td>\n",
       "      <td>0.000</td>\n",
       "      <td>15.000</td>\n",
       "    </tr>\n",
       "    <tr>\n",
       "      <th>sports</th>\n",
       "      <td>30000.0</td>\n",
       "      <td>0.139967</td>\n",
       "      <td>0.471080</td>\n",
       "      <td>0.000</td>\n",
       "      <td>0.000</td>\n",
       "      <td>0.000</td>\n",
       "      <td>0.000</td>\n",
       "      <td>12.000</td>\n",
       "    </tr>\n",
       "    <tr>\n",
       "      <th>cute</th>\n",
       "      <td>30000.0</td>\n",
       "      <td>0.322867</td>\n",
       "      <td>0.802441</td>\n",
       "      <td>0.000</td>\n",
       "      <td>0.000</td>\n",
       "      <td>0.000</td>\n",
       "      <td>0.000</td>\n",
       "      <td>18.000</td>\n",
       "    </tr>\n",
       "    <tr>\n",
       "      <th>sex</th>\n",
       "      <td>30000.0</td>\n",
       "      <td>0.209400</td>\n",
       "      <td>1.123504</td>\n",
       "      <td>0.000</td>\n",
       "      <td>0.000</td>\n",
       "      <td>0.000</td>\n",
       "      <td>0.000</td>\n",
       "      <td>114.000</td>\n",
       "    </tr>\n",
       "    <tr>\n",
       "      <th>sexy</th>\n",
       "      <td>30000.0</td>\n",
       "      <td>0.141200</td>\n",
       "      <td>0.528209</td>\n",
       "      <td>0.000</td>\n",
       "      <td>0.000</td>\n",
       "      <td>0.000</td>\n",
       "      <td>0.000</td>\n",
       "      <td>18.000</td>\n",
       "    </tr>\n",
       "    <tr>\n",
       "      <th>hot</th>\n",
       "      <td>30000.0</td>\n",
       "      <td>0.126600</td>\n",
       "      <td>0.479145</td>\n",
       "      <td>0.000</td>\n",
       "      <td>0.000</td>\n",
       "      <td>0.000</td>\n",
       "      <td>0.000</td>\n",
       "      <td>10.000</td>\n",
       "    </tr>\n",
       "    <tr>\n",
       "      <th>kissed</th>\n",
       "      <td>30000.0</td>\n",
       "      <td>0.103200</td>\n",
       "      <td>0.509338</td>\n",
       "      <td>0.000</td>\n",
       "      <td>0.000</td>\n",
       "      <td>0.000</td>\n",
       "      <td>0.000</td>\n",
       "      <td>26.000</td>\n",
       "    </tr>\n",
       "    <tr>\n",
       "      <th>dance</th>\n",
       "      <td>30000.0</td>\n",
       "      <td>0.425167</td>\n",
       "      <td>1.162574</td>\n",
       "      <td>0.000</td>\n",
       "      <td>0.000</td>\n",
       "      <td>0.000</td>\n",
       "      <td>0.000</td>\n",
       "      <td>30.000</td>\n",
       "    </tr>\n",
       "    <tr>\n",
       "      <th>band</th>\n",
       "      <td>30000.0</td>\n",
       "      <td>0.299600</td>\n",
       "      <td>1.118786</td>\n",
       "      <td>0.000</td>\n",
       "      <td>0.000</td>\n",
       "      <td>0.000</td>\n",
       "      <td>0.000</td>\n",
       "      <td>66.000</td>\n",
       "    </tr>\n",
       "    <tr>\n",
       "      <th>marching</th>\n",
       "      <td>30000.0</td>\n",
       "      <td>0.040600</td>\n",
       "      <td>0.287091</td>\n",
       "      <td>0.000</td>\n",
       "      <td>0.000</td>\n",
       "      <td>0.000</td>\n",
       "      <td>0.000</td>\n",
       "      <td>11.000</td>\n",
       "    </tr>\n",
       "    <tr>\n",
       "      <th>music</th>\n",
       "      <td>30000.0</td>\n",
       "      <td>0.737833</td>\n",
       "      <td>1.252366</td>\n",
       "      <td>0.000</td>\n",
       "      <td>0.000</td>\n",
       "      <td>0.000</td>\n",
       "      <td>1.000</td>\n",
       "      <td>64.000</td>\n",
       "    </tr>\n",
       "    <tr>\n",
       "      <th>rock</th>\n",
       "      <td>30000.0</td>\n",
       "      <td>0.243333</td>\n",
       "      <td>0.720375</td>\n",
       "      <td>0.000</td>\n",
       "      <td>0.000</td>\n",
       "      <td>0.000</td>\n",
       "      <td>0.000</td>\n",
       "      <td>21.000</td>\n",
       "    </tr>\n",
       "    <tr>\n",
       "      <th>god</th>\n",
       "      <td>30000.0</td>\n",
       "      <td>0.465300</td>\n",
       "      <td>1.343226</td>\n",
       "      <td>0.000</td>\n",
       "      <td>0.000</td>\n",
       "      <td>0.000</td>\n",
       "      <td>1.000</td>\n",
       "      <td>79.000</td>\n",
       "    </tr>\n",
       "    <tr>\n",
       "      <th>church</th>\n",
       "      <td>30000.0</td>\n",
       "      <td>0.248167</td>\n",
       "      <td>0.834028</td>\n",
       "      <td>0.000</td>\n",
       "      <td>0.000</td>\n",
       "      <td>0.000</td>\n",
       "      <td>0.000</td>\n",
       "      <td>44.000</td>\n",
       "    </tr>\n",
       "    <tr>\n",
       "      <th>jesus</th>\n",
       "      <td>30000.0</td>\n",
       "      <td>0.112067</td>\n",
       "      <td>0.581709</td>\n",
       "      <td>0.000</td>\n",
       "      <td>0.000</td>\n",
       "      <td>0.000</td>\n",
       "      <td>0.000</td>\n",
       "      <td>30.000</td>\n",
       "    </tr>\n",
       "    <tr>\n",
       "      <th>bible</th>\n",
       "      <td>30000.0</td>\n",
       "      <td>0.021333</td>\n",
       "      <td>0.204645</td>\n",
       "      <td>0.000</td>\n",
       "      <td>0.000</td>\n",
       "      <td>0.000</td>\n",
       "      <td>0.000</td>\n",
       "      <td>11.000</td>\n",
       "    </tr>\n",
       "    <tr>\n",
       "      <th>hair</th>\n",
       "      <td>30000.0</td>\n",
       "      <td>0.422567</td>\n",
       "      <td>1.097958</td>\n",
       "      <td>0.000</td>\n",
       "      <td>0.000</td>\n",
       "      <td>0.000</td>\n",
       "      <td>0.000</td>\n",
       "      <td>37.000</td>\n",
       "    </tr>\n",
       "    <tr>\n",
       "      <th>dress</th>\n",
       "      <td>30000.0</td>\n",
       "      <td>0.110967</td>\n",
       "      <td>0.449436</td>\n",
       "      <td>0.000</td>\n",
       "      <td>0.000</td>\n",
       "      <td>0.000</td>\n",
       "      <td>0.000</td>\n",
       "      <td>9.000</td>\n",
       "    </tr>\n",
       "    <tr>\n",
       "      <th>blonde</th>\n",
       "      <td>30000.0</td>\n",
       "      <td>0.098933</td>\n",
       "      <td>1.942319</td>\n",
       "      <td>0.000</td>\n",
       "      <td>0.000</td>\n",
       "      <td>0.000</td>\n",
       "      <td>0.000</td>\n",
       "      <td>327.000</td>\n",
       "    </tr>\n",
       "    <tr>\n",
       "      <th>mall</th>\n",
       "      <td>30000.0</td>\n",
       "      <td>0.257367</td>\n",
       "      <td>0.695758</td>\n",
       "      <td>0.000</td>\n",
       "      <td>0.000</td>\n",
       "      <td>0.000</td>\n",
       "      <td>0.000</td>\n",
       "      <td>12.000</td>\n",
       "    </tr>\n",
       "    <tr>\n",
       "      <th>shopping</th>\n",
       "      <td>30000.0</td>\n",
       "      <td>0.353000</td>\n",
       "      <td>0.724391</td>\n",
       "      <td>0.000</td>\n",
       "      <td>0.000</td>\n",
       "      <td>0.000</td>\n",
       "      <td>1.000</td>\n",
       "      <td>11.000</td>\n",
       "    </tr>\n",
       "    <tr>\n",
       "      <th>clothes</th>\n",
       "      <td>30000.0</td>\n",
       "      <td>0.148500</td>\n",
       "      <td>0.472640</td>\n",
       "      <td>0.000</td>\n",
       "      <td>0.000</td>\n",
       "      <td>0.000</td>\n",
       "      <td>0.000</td>\n",
       "      <td>8.000</td>\n",
       "    </tr>\n",
       "    <tr>\n",
       "      <th>hollister</th>\n",
       "      <td>30000.0</td>\n",
       "      <td>0.069867</td>\n",
       "      <td>0.346779</td>\n",
       "      <td>0.000</td>\n",
       "      <td>0.000</td>\n",
       "      <td>0.000</td>\n",
       "      <td>0.000</td>\n",
       "      <td>9.000</td>\n",
       "    </tr>\n",
       "    <tr>\n",
       "      <th>abercrombie</th>\n",
       "      <td>30000.0</td>\n",
       "      <td>0.051167</td>\n",
       "      <td>0.279555</td>\n",
       "      <td>0.000</td>\n",
       "      <td>0.000</td>\n",
       "      <td>0.000</td>\n",
       "      <td>0.000</td>\n",
       "      <td>8.000</td>\n",
       "    </tr>\n",
       "    <tr>\n",
       "      <th>die</th>\n",
       "      <td>30000.0</td>\n",
       "      <td>0.184100</td>\n",
       "      <td>0.624516</td>\n",
       "      <td>0.000</td>\n",
       "      <td>0.000</td>\n",
       "      <td>0.000</td>\n",
       "      <td>0.000</td>\n",
       "      <td>22.000</td>\n",
       "    </tr>\n",
       "    <tr>\n",
       "      <th>death</th>\n",
       "      <td>30000.0</td>\n",
       "      <td>0.114233</td>\n",
       "      <td>0.436796</td>\n",
       "      <td>0.000</td>\n",
       "      <td>0.000</td>\n",
       "      <td>0.000</td>\n",
       "      <td>0.000</td>\n",
       "      <td>14.000</td>\n",
       "    </tr>\n",
       "    <tr>\n",
       "      <th>drunk</th>\n",
       "      <td>30000.0</td>\n",
       "      <td>0.087967</td>\n",
       "      <td>0.399125</td>\n",
       "      <td>0.000</td>\n",
       "      <td>0.000</td>\n",
       "      <td>0.000</td>\n",
       "      <td>0.000</td>\n",
       "      <td>8.000</td>\n",
       "    </tr>\n",
       "    <tr>\n",
       "      <th>drugs</th>\n",
       "      <td>30000.0</td>\n",
       "      <td>0.060433</td>\n",
       "      <td>0.345522</td>\n",
       "      <td>0.000</td>\n",
       "      <td>0.000</td>\n",
       "      <td>0.000</td>\n",
       "      <td>0.000</td>\n",
       "      <td>16.000</td>\n",
       "    </tr>\n",
       "  </tbody>\n",
       "</table>\n",
       "</div>"
      ],
      "text/plain": [
       "                count         mean        std       min       25%       50%  \\\n",
       "gradyear      30000.0  2007.500000   1.118053  2006.000  2006.750  2007.500   \n",
       "age           24914.0    17.993950   7.858054     3.086    16.312    17.287   \n",
       "friends       30000.0    30.179467  36.530877     0.000     3.000    20.000   \n",
       "basketball    30000.0     0.267333   0.804708     0.000     0.000     0.000   \n",
       "football      30000.0     0.252300   0.705357     0.000     0.000     0.000   \n",
       "soccer        30000.0     0.222767   0.917226     0.000     0.000     0.000   \n",
       "softball      30000.0     0.161200   0.739707     0.000     0.000     0.000   \n",
       "volleyball    30000.0     0.143133   0.639943     0.000     0.000     0.000   \n",
       "swimming      30000.0     0.134400   0.516990     0.000     0.000     0.000   \n",
       "cheerleading  30000.0     0.106633   0.514333     0.000     0.000     0.000   \n",
       "baseball      30000.0     0.104933   0.521726     0.000     0.000     0.000   \n",
       "tennis        30000.0     0.087333   0.516961     0.000     0.000     0.000   \n",
       "sports        30000.0     0.139967   0.471080     0.000     0.000     0.000   \n",
       "cute          30000.0     0.322867   0.802441     0.000     0.000     0.000   \n",
       "sex           30000.0     0.209400   1.123504     0.000     0.000     0.000   \n",
       "sexy          30000.0     0.141200   0.528209     0.000     0.000     0.000   \n",
       "hot           30000.0     0.126600   0.479145     0.000     0.000     0.000   \n",
       "kissed        30000.0     0.103200   0.509338     0.000     0.000     0.000   \n",
       "dance         30000.0     0.425167   1.162574     0.000     0.000     0.000   \n",
       "band          30000.0     0.299600   1.118786     0.000     0.000     0.000   \n",
       "marching      30000.0     0.040600   0.287091     0.000     0.000     0.000   \n",
       "music         30000.0     0.737833   1.252366     0.000     0.000     0.000   \n",
       "rock          30000.0     0.243333   0.720375     0.000     0.000     0.000   \n",
       "god           30000.0     0.465300   1.343226     0.000     0.000     0.000   \n",
       "church        30000.0     0.248167   0.834028     0.000     0.000     0.000   \n",
       "jesus         30000.0     0.112067   0.581709     0.000     0.000     0.000   \n",
       "bible         30000.0     0.021333   0.204645     0.000     0.000     0.000   \n",
       "hair          30000.0     0.422567   1.097958     0.000     0.000     0.000   \n",
       "dress         30000.0     0.110967   0.449436     0.000     0.000     0.000   \n",
       "blonde        30000.0     0.098933   1.942319     0.000     0.000     0.000   \n",
       "mall          30000.0     0.257367   0.695758     0.000     0.000     0.000   \n",
       "shopping      30000.0     0.353000   0.724391     0.000     0.000     0.000   \n",
       "clothes       30000.0     0.148500   0.472640     0.000     0.000     0.000   \n",
       "hollister     30000.0     0.069867   0.346779     0.000     0.000     0.000   \n",
       "abercrombie   30000.0     0.051167   0.279555     0.000     0.000     0.000   \n",
       "die           30000.0     0.184100   0.624516     0.000     0.000     0.000   \n",
       "death         30000.0     0.114233   0.436796     0.000     0.000     0.000   \n",
       "drunk         30000.0     0.087967   0.399125     0.000     0.000     0.000   \n",
       "drugs         30000.0     0.060433   0.345522     0.000     0.000     0.000   \n",
       "\n",
       "                   75%       max  \n",
       "gradyear      2008.250  2009.000  \n",
       "age             18.259   106.927  \n",
       "friends         44.000   830.000  \n",
       "basketball       0.000    24.000  \n",
       "football         0.000    15.000  \n",
       "soccer           0.000    27.000  \n",
       "softball         0.000    17.000  \n",
       "volleyball       0.000    14.000  \n",
       "swimming         0.000    31.000  \n",
       "cheerleading     0.000     9.000  \n",
       "baseball         0.000    16.000  \n",
       "tennis           0.000    15.000  \n",
       "sports           0.000    12.000  \n",
       "cute             0.000    18.000  \n",
       "sex              0.000   114.000  \n",
       "sexy             0.000    18.000  \n",
       "hot              0.000    10.000  \n",
       "kissed           0.000    26.000  \n",
       "dance            0.000    30.000  \n",
       "band             0.000    66.000  \n",
       "marching         0.000    11.000  \n",
       "music            1.000    64.000  \n",
       "rock             0.000    21.000  \n",
       "god              1.000    79.000  \n",
       "church           0.000    44.000  \n",
       "jesus            0.000    30.000  \n",
       "bible            0.000    11.000  \n",
       "hair             0.000    37.000  \n",
       "dress            0.000     9.000  \n",
       "blonde           0.000   327.000  \n",
       "mall             0.000    12.000  \n",
       "shopping         1.000    11.000  \n",
       "clothes          0.000     8.000  \n",
       "hollister        0.000     9.000  \n",
       "abercrombie      0.000     8.000  \n",
       "die              0.000    22.000  \n",
       "death            0.000    14.000  \n",
       "drunk            0.000     8.000  \n",
       "drugs            0.000    16.000  "
      ]
     },
     "execution_count": 5,
     "metadata": {},
     "output_type": "execute_result"
    }
   ],
   "source": [
    "df.describe().T"
   ]
  },
  {
   "cell_type": "code",
   "execution_count": 6,
   "metadata": {},
   "outputs": [
    {
     "data": {
      "text/html": [
       "<div>\n",
       "<style scoped>\n",
       "    .dataframe tbody tr th:only-of-type {\n",
       "        vertical-align: middle;\n",
       "    }\n",
       "\n",
       "    .dataframe tbody tr th {\n",
       "        vertical-align: top;\n",
       "    }\n",
       "\n",
       "    .dataframe thead th {\n",
       "        text-align: right;\n",
       "    }\n",
       "</style>\n",
       "<table border=\"1\" class=\"dataframe\">\n",
       "  <thead>\n",
       "    <tr style=\"text-align: right;\">\n",
       "      <th></th>\n",
       "      <th>gradyear</th>\n",
       "      <th>age</th>\n",
       "      <th>friends</th>\n",
       "      <th>basketball</th>\n",
       "      <th>football</th>\n",
       "      <th>soccer</th>\n",
       "      <th>softball</th>\n",
       "      <th>volleyball</th>\n",
       "      <th>swimming</th>\n",
       "      <th>cheerleading</th>\n",
       "      <th>...</th>\n",
       "      <th>blonde</th>\n",
       "      <th>mall</th>\n",
       "      <th>shopping</th>\n",
       "      <th>clothes</th>\n",
       "      <th>hollister</th>\n",
       "      <th>abercrombie</th>\n",
       "      <th>die</th>\n",
       "      <th>death</th>\n",
       "      <th>drunk</th>\n",
       "      <th>drugs</th>\n",
       "    </tr>\n",
       "  </thead>\n",
       "  <tbody>\n",
       "    <tr>\n",
       "      <th>0</th>\n",
       "      <td>2006</td>\n",
       "      <td>18.982</td>\n",
       "      <td>7</td>\n",
       "      <td>0</td>\n",
       "      <td>0</td>\n",
       "      <td>0</td>\n",
       "      <td>0</td>\n",
       "      <td>0</td>\n",
       "      <td>0</td>\n",
       "      <td>0</td>\n",
       "      <td>...</td>\n",
       "      <td>0</td>\n",
       "      <td>0</td>\n",
       "      <td>0</td>\n",
       "      <td>0</td>\n",
       "      <td>0</td>\n",
       "      <td>0</td>\n",
       "      <td>0</td>\n",
       "      <td>0</td>\n",
       "      <td>0</td>\n",
       "      <td>0</td>\n",
       "    </tr>\n",
       "    <tr>\n",
       "      <th>1</th>\n",
       "      <td>2006</td>\n",
       "      <td>18.801</td>\n",
       "      <td>0</td>\n",
       "      <td>0</td>\n",
       "      <td>1</td>\n",
       "      <td>0</td>\n",
       "      <td>0</td>\n",
       "      <td>0</td>\n",
       "      <td>0</td>\n",
       "      <td>0</td>\n",
       "      <td>...</td>\n",
       "      <td>0</td>\n",
       "      <td>1</td>\n",
       "      <td>0</td>\n",
       "      <td>0</td>\n",
       "      <td>0</td>\n",
       "      <td>0</td>\n",
       "      <td>0</td>\n",
       "      <td>0</td>\n",
       "      <td>0</td>\n",
       "      <td>0</td>\n",
       "    </tr>\n",
       "    <tr>\n",
       "      <th>2</th>\n",
       "      <td>2006</td>\n",
       "      <td>18.335</td>\n",
       "      <td>69</td>\n",
       "      <td>0</td>\n",
       "      <td>1</td>\n",
       "      <td>0</td>\n",
       "      <td>0</td>\n",
       "      <td>0</td>\n",
       "      <td>0</td>\n",
       "      <td>0</td>\n",
       "      <td>...</td>\n",
       "      <td>0</td>\n",
       "      <td>0</td>\n",
       "      <td>0</td>\n",
       "      <td>0</td>\n",
       "      <td>0</td>\n",
       "      <td>0</td>\n",
       "      <td>0</td>\n",
       "      <td>1</td>\n",
       "      <td>0</td>\n",
       "      <td>0</td>\n",
       "    </tr>\n",
       "    <tr>\n",
       "      <th>3</th>\n",
       "      <td>2006</td>\n",
       "      <td>18.875</td>\n",
       "      <td>0</td>\n",
       "      <td>0</td>\n",
       "      <td>0</td>\n",
       "      <td>0</td>\n",
       "      <td>0</td>\n",
       "      <td>0</td>\n",
       "      <td>0</td>\n",
       "      <td>0</td>\n",
       "      <td>...</td>\n",
       "      <td>0</td>\n",
       "      <td>0</td>\n",
       "      <td>0</td>\n",
       "      <td>0</td>\n",
       "      <td>0</td>\n",
       "      <td>0</td>\n",
       "      <td>0</td>\n",
       "      <td>0</td>\n",
       "      <td>0</td>\n",
       "      <td>0</td>\n",
       "    </tr>\n",
       "    <tr>\n",
       "      <th>4</th>\n",
       "      <td>2006</td>\n",
       "      <td>18.995</td>\n",
       "      <td>10</td>\n",
       "      <td>0</td>\n",
       "      <td>0</td>\n",
       "      <td>0</td>\n",
       "      <td>0</td>\n",
       "      <td>0</td>\n",
       "      <td>0</td>\n",
       "      <td>0</td>\n",
       "      <td>...</td>\n",
       "      <td>0</td>\n",
       "      <td>0</td>\n",
       "      <td>2</td>\n",
       "      <td>0</td>\n",
       "      <td>0</td>\n",
       "      <td>0</td>\n",
       "      <td>0</td>\n",
       "      <td>0</td>\n",
       "      <td>1</td>\n",
       "      <td>1</td>\n",
       "    </tr>\n",
       "  </tbody>\n",
       "</table>\n",
       "<p>5 rows × 39 columns</p>\n",
       "</div>"
      ],
      "text/plain": [
       "   gradyear     age  friends  basketball  football  soccer  softball  \\\n",
       "0      2006  18.982        7           0         0       0         0   \n",
       "1      2006  18.801        0           0         1       0         0   \n",
       "2      2006  18.335       69           0         1       0         0   \n",
       "3      2006  18.875        0           0         0       0         0   \n",
       "4      2006  18.995       10           0         0       0         0   \n",
       "\n",
       "   volleyball  swimming  cheerleading  ...  blonde  mall  shopping  clothes  \\\n",
       "0           0         0             0  ...       0     0         0        0   \n",
       "1           0         0             0  ...       0     1         0        0   \n",
       "2           0         0             0  ...       0     0         0        0   \n",
       "3           0         0             0  ...       0     0         0        0   \n",
       "4           0         0             0  ...       0     0         2        0   \n",
       "\n",
       "   hollister  abercrombie  die  death  drunk  drugs  \n",
       "0          0            0    0      0      0      0  \n",
       "1          0            0    0      0      0      0  \n",
       "2          0            0    0      1      0      0  \n",
       "3          0            0    0      0      0      0  \n",
       "4          0            0    0      0      1      1  \n",
       "\n",
       "[5 rows x 39 columns]"
      ]
     },
     "execution_count": 6,
     "metadata": {},
     "output_type": "execute_result"
    }
   ],
   "source": [
    "df_numeric = df.select_dtypes(include = np.number)\n",
    "df_numeric.head()"
   ]
  },
  {
   "cell_type": "code",
   "execution_count": 7,
   "metadata": {},
   "outputs": [
    {
     "name": "stdout",
     "output_type": "stream",
     "text": [
      "gradyear 4\n",
      "age 2214\n",
      "friends 282\n",
      "basketball 16\n",
      "football 13\n",
      "soccer 20\n",
      "softball 17\n",
      "volleyball 13\n",
      "swimming 13\n",
      "cheerleading 10\n",
      "baseball 16\n",
      "tennis 15\n",
      "sports 10\n",
      "cute 16\n",
      "sex 25\n",
      "sexy 14\n",
      "hot 10\n",
      "kissed 11\n",
      "dance 25\n",
      "band 25\n",
      "marching 11\n",
      "music 27\n",
      "rock 17\n",
      "god 29\n",
      "church 16\n",
      "jesus 19\n",
      "bible 9\n",
      "hair 21\n",
      "dress 9\n",
      "blonde 14\n",
      "mall 12\n",
      "shopping 11\n",
      "clothes 9\n",
      "hollister 10\n",
      "abercrombie 9\n",
      "die 15\n",
      "death 13\n",
      "drunk 9\n",
      "drugs 12\n"
     ]
    }
   ],
   "source": [
    "for col in df_numeric.columns:\n",
    "    print(col, len(df_numeric[col].value_counts()))"
   ]
  },
  {
   "cell_type": "code",
   "execution_count": 8,
   "metadata": {},
   "outputs": [
    {
     "data": {
      "text/plain": [
       "gradyear           0\n",
       "gender          2724\n",
       "age             5086\n",
       "friends            0\n",
       "basketball         0\n",
       "football           0\n",
       "soccer             0\n",
       "softball           0\n",
       "volleyball         0\n",
       "swimming           0\n",
       "cheerleading       0\n",
       "baseball           0\n",
       "tennis             0\n",
       "sports             0\n",
       "cute               0\n",
       "sex                0\n",
       "sexy               0\n",
       "hot                0\n",
       "kissed             0\n",
       "dance              0\n",
       "band               0\n",
       "marching           0\n",
       "music              0\n",
       "rock               0\n",
       "god                0\n",
       "church             0\n",
       "jesus              0\n",
       "bible              0\n",
       "hair               0\n",
       "dress              0\n",
       "blonde             0\n",
       "mall               0\n",
       "shopping           0\n",
       "clothes            0\n",
       "hollister          0\n",
       "abercrombie        0\n",
       "die                0\n",
       "death              0\n",
       "drunk              0\n",
       "drugs              0\n",
       "dtype: int64"
      ]
     },
     "execution_count": 8,
     "metadata": {},
     "output_type": "execute_result"
    }
   ],
   "source": [
    "df.isnull().sum()"
   ]
  },
  {
   "cell_type": "markdown",
   "metadata": {},
   "source": [
    "## 1. Data Wrangling\n",
    "\n",
    "If you found in the last step that there are variables that need to be dealt with before we can start our analysis, please do it. Comment your code and take us through the steps of your thinking.  \n",
    "\n",
    "Consider the some of these aspects:  \n",
    "* Wrong data types\n",
    "* Null values\n",
    "* Consistency in categorical data"
   ]
  },
  {
   "cell_type": "code",
   "execution_count": 9,
   "metadata": {},
   "outputs": [
    {
     "data": {
      "text/html": [
       "<div>\n",
       "<style scoped>\n",
       "    .dataframe tbody tr th:only-of-type {\n",
       "        vertical-align: middle;\n",
       "    }\n",
       "\n",
       "    .dataframe tbody tr th {\n",
       "        vertical-align: top;\n",
       "    }\n",
       "\n",
       "    .dataframe thead th {\n",
       "        text-align: right;\n",
       "    }\n",
       "</style>\n",
       "<table border=\"1\" class=\"dataframe\">\n",
       "  <thead>\n",
       "    <tr style=\"text-align: right;\">\n",
       "      <th></th>\n",
       "      <th>age</th>\n",
       "    </tr>\n",
       "    <tr>\n",
       "      <th>gradyear</th>\n",
       "      <th></th>\n",
       "    </tr>\n",
       "  </thead>\n",
       "  <tbody>\n",
       "    <tr>\n",
       "      <th>2006</th>\n",
       "      <td>19.137241</td>\n",
       "    </tr>\n",
       "    <tr>\n",
       "      <th>2007</th>\n",
       "      <td>18.391459</td>\n",
       "    </tr>\n",
       "    <tr>\n",
       "      <th>2008</th>\n",
       "      <td>17.523867</td>\n",
       "    </tr>\n",
       "    <tr>\n",
       "      <th>2009</th>\n",
       "      <td>16.876025</td>\n",
       "    </tr>\n",
       "  </tbody>\n",
       "</table>\n",
       "</div>"
      ],
      "text/plain": [
       "                age\n",
       "gradyear           \n",
       "2006      19.137241\n",
       "2007      18.391459\n",
       "2008      17.523867\n",
       "2009      16.876025"
      ]
     },
     "execution_count": 9,
     "metadata": {},
     "output_type": "execute_result"
    }
   ],
   "source": [
    "#Your code here:\n",
    "\n",
    "df.groupby('gradyear').agg({'age':'mean'})"
   ]
  },
  {
   "cell_type": "code",
   "execution_count": 32,
   "metadata": {},
   "outputs": [
    {
     "data": {
      "text/plain": [
       "0"
      ]
     },
     "execution_count": 32,
     "metadata": {},
     "output_type": "execute_result"
    }
   ],
   "source": [
    "df['age'].fillna(df['age'].median(), inplace = True)\n",
    "df['age'].isnull().sum()"
   ]
  },
  {
   "cell_type": "code",
   "execution_count": 33,
   "metadata": {},
   "outputs": [
    {
     "data": {
      "text/plain": [
       "F    0.80855\n",
       "M    0.19145\n",
       "Name: gender, dtype: float64"
      ]
     },
     "execution_count": 33,
     "metadata": {},
     "output_type": "execute_result"
    }
   ],
   "source": [
    "df['gender'].value_counts(normalize = True)"
   ]
  },
  {
   "cell_type": "code",
   "execution_count": 34,
   "metadata": {},
   "outputs": [],
   "source": [
    "df['gender'].fillna('F', inplace = True)"
   ]
  },
  {
   "cell_type": "code",
   "execution_count": 35,
   "metadata": {},
   "outputs": [
    {
     "data": {
      "text/plain": [
       "F    0.825933\n",
       "M    0.174067\n",
       "Name: gender, dtype: float64"
      ]
     },
     "execution_count": 35,
     "metadata": {},
     "output_type": "execute_result"
    }
   ],
   "source": [
    "df['gender'].value_counts(normalize = True)"
   ]
  },
  {
   "cell_type": "markdown",
   "metadata": {},
   "source": [
    "## 2. Data Visualization\n",
    "\n",
    "Now that the data is more or less fixed, plot some charts to understand better how it is composed:  \n",
    "* Check distribution of variables - do we have outliers? What should we do with them?\n",
    "* Understand which features are correlated - do they represent the same? Which ones should we keep?\n",
    "* When we compare two variables, is it possible to see groups in the data?\n",
    "* Given the dimension of the dataset, would it be useful to perform dimension reduction in some variables? Which ones would you group?\n",
    "\n",
    "Comment your ideas based on the visualizations you made and other data exploration. What will be your next steps before modeling?"
   ]
  },
  {
   "cell_type": "code",
   "execution_count": 14,
   "metadata": {},
   "outputs": [],
   "source": [
    "#Your code here:\n",
    "import matplotlib.pyplot as plt\n",
    "import seaborn as sns\n"
   ]
  },
  {
   "cell_type": "code",
   "execution_count": 18,
   "metadata": {},
   "outputs": [
    {
     "name": "stderr",
     "output_type": "stream",
     "text": [
      "c:\\users\\bravo\\appdata\\local\\programs\\python\\python38-32\\lib\\site-packages\\seaborn\\_decorators.py:36: FutureWarning: Pass the following variable as a keyword arg: x. From version 0.12, the only valid positional argument will be `data`, and passing other arguments without an explicit keyword will result in an error or misinterpretation.\n",
      "  warnings.warn(\n"
     ]
    },
    {
     "data": {
      "image/png": "[encoded data removed]",
      "text/plain": [
       "<Figure size 432x288 with 1 Axes>"
      ]
     },
     "metadata": {
      "needs_background": "light"
     },
     "output_type": "display_data"
    },
    {
     "name": "stderr",
     "output_type": "stream",
     "text": [
      "c:\\users\\bravo\\appdata\\local\\programs\\python\\python38-32\\lib\\site-packages\\seaborn\\_decorators.py:36: FutureWarning: Pass the following variable as a keyword arg: x. From version 0.12, the only valid positional argument will be `data`, and passing other arguments without an explicit keyword will result in an error or misinterpretation.\n",
      "  warnings.warn(\n"
     ]
    },
    {
     "data": {
      "image/png": "[encoded data removed]",
      "text/plain": [
       "<Figure size 432x288 with 1 Axes>"
      ]
     },
     "metadata": {
      "needs_background": "light"
     },
     "output_type": "display_data"
    },
    {
     "name": "stderr",
     "output_type": "stream",
     "text": [
      "c:\\users\\bravo\\appdata\\local\\programs\\python\\python38-32\\lib\\site-packages\\seaborn\\_decorators.py:36: FutureWarning: Pass the following variable as a keyword arg: x. From version 0.12, the only valid positional argument will be `data`, and passing other arguments without an explicit keyword will result in an error or misinterpretation.\n",
      "  warnings.warn(\n"
     ]
    },
    {
     "data": {
      "image/png": "[encoded data removed]",
      "text/plain": [
       "<Figure size 432x288 with 1 Axes>"
      ]
     },
     "metadata": {
      "needs_background": "light"
     },
     "output_type": "display_data"
    },
    {
     "name": "stderr",
     "output_type": "stream",
     "text": [
      "c:\\users\\bravo\\appdata\\local\\programs\\python\\python38-32\\lib\\site-packages\\seaborn\\_decorators.py:36: FutureWarning: Pass the following variable as a keyword arg: x. From version 0.12, the only valid positional argument will be `data`, and passing other arguments without an explicit keyword will result in an error or misinterpretation.\n",
      "  warnings.warn(\n"
     ]
    },
    {
     "data": {
      "image/png": "[encoded data removed]",
      "text/plain": [
       "<Figure size 432x288 with 1 Axes>"
      ]
     },
     "metadata": {
      "needs_background": "light"
     },
     "output_type": "display_data"
    },
    {
     "name": "stderr",
     "output_type": "stream",
     "text": [
      "c:\\users\\bravo\\appdata\\local\\programs\\python\\python38-32\\lib\\site-packages\\seaborn\\_decorators.py:36: FutureWarning: Pass the following variable as a keyword arg: x. From version 0.12, the only valid positional argument will be `data`, and passing other arguments without an explicit keyword will result in an error or misinterpretation.\n",
      "  warnings.warn(\n"
     ]
    },
    {
     "data": {
      "image/png": "[encoded data removed]",
      "text/plain": [
       "<Figure size 432x288 with 1 Axes>"
      ]
     },
     "metadata": {
      "needs_background": "light"
     },
     "output_type": "display_data"
    },
    {
     "name": "stderr",
     "output_type": "stream",
     "text": [
      "c:\\users\\bravo\\appdata\\local\\programs\\python\\python38-32\\lib\\site-packages\\seaborn\\_decorators.py:36: FutureWarning: Pass the following variable as a keyword arg: x. From version 0.12, the only valid positional argument will be `data`, and passing other arguments without an explicit keyword will result in an error or misinterpretation.\n",
      "  warnings.warn(\n"
     ]
    },
    {
     "data": {
      "image/png": "[encoded data removed]",
      "text/plain": [
       "<Figure size 432x288 with 1 Axes>"
      ]
     },
     "metadata": {
      "needs_background": "light"
     },
     "output_type": "display_data"
    },
    {
     "name": "stderr",
     "output_type": "stream",
     "text": [
      "c:\\users\\bravo\\appdata\\local\\programs\\python\\python38-32\\lib\\site-packages\\seaborn\\_decorators.py:36: FutureWarning: Pass the following variable as a keyword arg: x. From version 0.12, the only valid positional argument will be `data`, and passing other arguments without an explicit keyword will result in an error or misinterpretation.\n",
      "  warnings.warn(\n"
     ]
    },
    {
     "data": {
      "image/png": "[encoded data removed]",
      "text/plain": [
       "<Figure size 432x288 with 1 Axes>"
      ]
     },
     "metadata": {
      "needs_background": "light"
     },
     "output_type": "display_data"
    },
    {
     "name": "stderr",
     "output_type": "stream",
     "text": [
      "c:\\users\\bravo\\appdata\\local\\programs\\python\\python38-32\\lib\\site-packages\\seaborn\\_decorators.py:36: FutureWarning: Pass the following variable as a keyword arg: x. From version 0.12, the only valid positional argument will be `data`, and passing other arguments without an explicit keyword will result in an error or misinterpretation.\n",
      "  warnings.warn(\n"
     ]
    },
    {
     "data": {
      "image/png": "[encoded data removed]",
      "text/plain": [
       "<Figure size 432x288 with 1 Axes>"
      ]
     },
     "metadata": {
      "needs_background": "light"
     },
     "output_type": "display_data"
    },
    {
     "name": "stderr",
     "output_type": "stream",
     "text": [
      "c:\\users\\bravo\\appdata\\local\\programs\\python\\python38-32\\lib\\site-packages\\seaborn\\_decorators.py:36: FutureWarning: Pass the following variable as a keyword arg: x. From version 0.12, the only valid positional argument will be `data`, and passing other arguments without an explicit keyword will result in an error or misinterpretation.\n",
      "  warnings.warn(\n"
     ]
    },
    {
     "data": {
      "image/png": "[encoded data removed]",
      "text/plain": [
       "<Figure size 432x288 with 1 Axes>"
      ]
     },
     "metadata": {
      "needs_background": "light"
     },
     "output_type": "display_data"
    },
    {
     "name": "stderr",
     "output_type": "stream",
     "text": [
      "c:\\users\\bravo\\appdata\\local\\programs\\python\\python38-32\\lib\\site-packages\\seaborn\\_decorators.py:36: FutureWarning: Pass the following variable as a keyword arg: x. From version 0.12, the only valid positional argument will be `data`, and passing other arguments without an explicit keyword will result in an error or misinterpretation.\n",
      "  warnings.warn(\n"
     ]
    },
    {
     "data": {
      "image/png": "[encoded data removed]",
      "text/plain": [
       "<Figure size 432x288 with 1 Axes>"
      ]
     },
     "metadata": {
      "needs_background": "light"
     },
     "output_type": "display_data"
    },
    {
     "name": "stderr",
     "output_type": "stream",
     "text": [
      "c:\\users\\bravo\\appdata\\local\\programs\\python\\python38-32\\lib\\site-packages\\seaborn\\_decorators.py:36: FutureWarning: Pass the following variable as a keyword arg: x. From version 0.12, the only valid positional argument will be `data`, and passing other arguments without an explicit keyword will result in an error or misinterpretation.\n",
      "  warnings.warn(\n"
     ]
    },
    {
     "data": {
      "image/png": "[encoded data removed]",
      "text/plain": [
       "<Figure size 432x288 with 1 Axes>"
      ]
     },
     "metadata": {
      "needs_background": "light"
     },
     "output_type": "display_data"
    },
    {
     "name": "stderr",
     "output_type": "stream",
     "text": [
      "c:\\users\\bravo\\appdata\\local\\programs\\python\\python38-32\\lib\\site-packages\\seaborn\\_decorators.py:36: FutureWarning: Pass the following variable as a keyword arg: x. From version 0.12, the only valid positional argument will be `data`, and passing other arguments without an explicit keyword will result in an error or misinterpretation.\n",
      "  warnings.warn(\n"
     ]
    },
    {
     "data": {
      "image/png": "[encoded data removed]",
      "text/plain": [
       "<Figure size 432x288 with 1 Axes>"
      ]
     },
     "metadata": {
      "needs_background": "light"
     },
     "output_type": "display_data"
    },
    {
     "name": "stderr",
     "output_type": "stream",
     "text": [
      "c:\\users\\bravo\\appdata\\local\\programs\\python\\python38-32\\lib\\site-packages\\seaborn\\_decorators.py:36: FutureWarning: Pass the following variable as a keyword arg: x. From version 0.12, the only valid positional argument will be `data`, and passing other arguments without an explicit keyword will result in an error or misinterpretation.\n",
      "  warnings.warn(\n"
     ]
    },
    {
     "data": {
      "image/png": "[encoded data removed]",
      "text/plain": [
       "<Figure size 432x288 with 1 Axes>"
      ]
     },
     "metadata": {
      "needs_background": "light"
     },
     "output_type": "display_data"
    },
    {
     "name": "stderr",
     "output_type": "stream",
     "text": [
      "c:\\users\\bravo\\appdata\\local\\programs\\python\\python38-32\\lib\\site-packages\\seaborn\\_decorators.py:36: FutureWarning: Pass the following variable as a keyword arg: x. From version 0.12, the only valid positional argument will be `data`, and passing other arguments without an explicit keyword will result in an error or misinterpretation.\n",
      "  warnings.warn(\n"
     ]
    },
    {
     "data": {
      "image/png": "[encoded data removed]",
      "text/plain": [
       "<Figure size 432x288 with 1 Axes>"
      ]
     },
     "metadata": {
      "needs_background": "light"
     },
     "output_type": "display_data"
    },
    {
     "name": "stderr",
     "output_type": "stream",
     "text": [
      "c:\\users\\bravo\\appdata\\local\\programs\\python\\python38-32\\lib\\site-packages\\seaborn\\_decorators.py:36: FutureWarning: Pass the following variable as a keyword arg: x. From version 0.12, the only valid positional argument will be `data`, and passing other arguments without an explicit keyword will result in an error or misinterpretation.\n",
      "  warnings.warn(\n"
     ]
    },
    {
     "data": {
      "image/png": "[encoded data removed]",
      "text/plain": [
       "<Figure size 432x288 with 1 Axes>"
      ]
     },
     "metadata": {
      "needs_background": "light"
     },
     "output_type": "display_data"
    },
    {
     "name": "stderr",
     "output_type": "stream",
     "text": [
      "c:\\users\\bravo\\appdata\\local\\programs\\python\\python38-32\\lib\\site-packages\\seaborn\\_decorators.py:36: FutureWarning: Pass the following variable as a keyword arg: x. From version 0.12, the only valid positional argument will be `data`, and passing other arguments without an explicit keyword will result in an error or misinterpretation.\n",
      "  warnings.warn(\n"
     ]
    },
    {
     "data": {
      "image/png": "[encoded data removed]",
      "text/plain": [
       "<Figure size 432x288 with 1 Axes>"
      ]
     },
     "metadata": {
      "needs_background": "light"
     },
     "output_type": "display_data"
    },
    {
     "name": "stderr",
     "output_type": "stream",
     "text": [
      "c:\\users\\bravo\\appdata\\local\\programs\\python\\python38-32\\lib\\site-packages\\seaborn\\_decorators.py:36: FutureWarning: Pass the following variable as a keyword arg: x. From version 0.12, the only valid positional argument will be `data`, and passing other arguments without an explicit keyword will result in an error or misinterpretation.\n",
      "  warnings.warn(\n"
     ]
    },
    {
     "data": {
      "image/png": "[encoded data removed]",
      "text/plain": [
       "<Figure size 432x288 with 1 Axes>"
      ]
     },
     "metadata": {
      "needs_background": "light"
     },
     "output_type": "display_data"
    },
    {
     "name": "stderr",
     "output_type": "stream",
     "text": [
      "c:\\users\\bravo\\appdata\\local\\programs\\python\\python38-32\\lib\\site-packages\\seaborn\\_decorators.py:36: FutureWarning: Pass the following variable as a keyword arg: x. From version 0.12, the only valid positional argument will be `data`, and passing other arguments without an explicit keyword will result in an error or misinterpretation.\n",
      "  warnings.warn(\n"
     ]
    },
    {
     "data": {
      "image/png": "[encoded data removed]",
      "text/plain": [
       "<Figure size 432x288 with 1 Axes>"
      ]
     },
     "metadata": {
      "needs_background": "light"
     },
     "output_type": "display_data"
    },
    {
     "name": "stderr",
     "output_type": "stream",
     "text": [
      "c:\\users\\bravo\\appdata\\local\\programs\\python\\python38-32\\lib\\site-packages\\seaborn\\_decorators.py:36: FutureWarning: Pass the following variable as a keyword arg: x. From version 0.12, the only valid positional argument will be `data`, and passing other arguments without an explicit keyword will result in an error or misinterpretation.\n",
      "  warnings.warn(\n"
     ]
    },
    {
     "data": {
      "image/png": "[encoded data removed]",
      "text/plain": [
       "<Figure size 432x288 with 1 Axes>"
      ]
     },
     "metadata": {
      "needs_background": "light"
     },
     "output_type": "display_data"
    },
    {
     "name": "stderr",
     "output_type": "stream",
     "text": [
      "c:\\users\\bravo\\appdata\\local\\programs\\python\\python38-32\\lib\\site-packages\\seaborn\\_decorators.py:36: FutureWarning: Pass the following variable as a keyword arg: x. From version 0.12, the only valid positional argument will be `data`, and passing other arguments without an explicit keyword will result in an error or misinterpretation.\n",
      "  warnings.warn(\n"
     ]
    },
    {
     "data": {
      "image/png": "[encoded data removed]",
      "text/plain": [
       "<Figure size 432x288 with 1 Axes>"
      ]
     },
     "metadata": {
      "needs_background": "light"
     },
     "output_type": "display_data"
    },
    {
     "name": "stderr",
     "output_type": "stream",
     "text": [
      "c:\\users\\bravo\\appdata\\local\\programs\\python\\python38-32\\lib\\site-packages\\seaborn\\_decorators.py:36: FutureWarning: Pass the following variable as a keyword arg: x. From version 0.12, the only valid positional argument will be `data`, and passing other arguments without an explicit keyword will result in an error or misinterpretation.\n",
      "  warnings.warn(\n"
     ]
    },
    {
     "data": {
      "image/png": "[encoded data removed]",
      "text/plain": [
       "<Figure size 432x288 with 1 Axes>"
      ]
     },
     "metadata": {
      "needs_background": "light"
     },
     "output_type": "display_data"
    },
    {
     "name": "stderr",
     "output_type": "stream",
     "text": [
      "c:\\users\\bravo\\appdata\\local\\programs\\python\\python38-32\\lib\\site-packages\\seaborn\\_decorators.py:36: FutureWarning: Pass the following variable as a keyword arg: x. From version 0.12, the only valid positional argument will be `data`, and passing other arguments without an explicit keyword will result in an error or misinterpretation.\n",
      "  warnings.warn(\n"
     ]
    },
    {
     "data": {
      "image/png": "[encoded data removed]",
      "text/plain": [
       "<Figure size 432x288 with 1 Axes>"
      ]
     },
     "metadata": {
      "needs_background": "light"
     },
     "output_type": "display_data"
    },
    {
     "name": "stderr",
     "output_type": "stream",
     "text": [
      "c:\\users\\bravo\\appdata\\local\\programs\\python\\python38-32\\lib\\site-packages\\seaborn\\_decorators.py:36: FutureWarning: Pass the following variable as a keyword arg: x. From version 0.12, the only valid positional argument will be `data`, and passing other arguments without an explicit keyword will result in an error or misinterpretation.\n",
      "  warnings.warn(\n"
     ]
    },
    {
     "data": {
      "image/png": "[encoded data removed]",
      "text/plain": [
       "<Figure size 432x288 with 1 Axes>"
      ]
     },
     "metadata": {
      "needs_background": "light"
     },
     "output_type": "display_data"
    },
    {
     "name": "stderr",
     "output_type": "stream",
     "text": [
      "c:\\users\\bravo\\appdata\\local\\programs\\python\\python38-32\\lib\\site-packages\\seaborn\\_decorators.py:36: FutureWarning: Pass the following variable as a keyword arg: x. From version 0.12, the only valid positional argument will be `data`, and passing other arguments without an explicit keyword will result in an error or misinterpretation.\n",
      "  warnings.warn(\n"
     ]
    },
    {
     "data": {
      "image/png": "[encoded data removed]",
      "text/plain": [
       "<Figure size 432x288 with 1 Axes>"
      ]
     },
     "metadata": {
      "needs_background": "light"
     },
     "output_type": "display_data"
    },
    {
     "name": "stderr",
     "output_type": "stream",
     "text": [
      "c:\\users\\bravo\\appdata\\local\\programs\\python\\python38-32\\lib\\site-packages\\seaborn\\_decorators.py:36: FutureWarning: Pass the following variable as a keyword arg: x. From version 0.12, the only valid positional argument will be `data`, and passing other arguments without an explicit keyword will result in an error or misinterpretation.\n",
      "  warnings.warn(\n"
     ]
    },
    {
     "data": {
      "image/png": "[encoded data removed]",
      "text/plain": [
       "<Figure size 432x288 with 1 Axes>"
      ]
     },
     "metadata": {
      "needs_background": "light"
     },
     "output_type": "display_data"
    },
    {
     "name": "stderr",
     "output_type": "stream",
     "text": [
      "c:\\users\\bravo\\appdata\\local\\programs\\python\\python38-32\\lib\\site-packages\\seaborn\\_decorators.py:36: FutureWarning: Pass the following variable as a keyword arg: x. From version 0.12, the only valid positional argument will be `data`, and passing other arguments without an explicit keyword will result in an error or misinterpretation.\n",
      "  warnings.warn(\n"
     ]
    },
    {
     "data": {
      "image/png": "[encoded data removed]",
      "text/plain": [
       "<Figure size 432x288 with 1 Axes>"
      ]
     },
     "metadata": {
      "needs_background": "light"
     },
     "output_type": "display_data"
    },
    {
     "name": "stderr",
     "output_type": "stream",
     "text": [
      "c:\\users\\bravo\\appdata\\local\\programs\\python\\python38-32\\lib\\site-packages\\seaborn\\_decorators.py:36: FutureWarning: Pass the following variable as a keyword arg: x. From version 0.12, the only valid positional argument will be `data`, and passing other arguments without an explicit keyword will result in an error or misinterpretation.\n",
      "  warnings.warn(\n"
     ]
    },
    {
     "data": {
      "image/png": "[encoded data removed]",
      "text/plain": [
       "<Figure size 432x288 with 1 Axes>"
      ]
     },
     "metadata": {
      "needs_background": "light"
     },
     "output_type": "display_data"
    },
    {
     "name": "stderr",
     "output_type": "stream",
     "text": [
      "c:\\users\\bravo\\appdata\\local\\programs\\python\\python38-32\\lib\\site-packages\\seaborn\\_decorators.py:36: FutureWarning: Pass the following variable as a keyword arg: x. From version 0.12, the only valid positional argument will be `data`, and passing other arguments without an explicit keyword will result in an error or misinterpretation.\n",
      "  warnings.warn(\n"
     ]
    },
    {
     "data": {
      "image/png": "[encoded data removed]",
      "text/plain": [
       "<Figure size 432x288 with 1 Axes>"
      ]
     },
     "metadata": {
      "needs_background": "light"
     },
     "output_type": "display_data"
    },
    {
     "name": "stderr",
     "output_type": "stream",
     "text": [
      "c:\\users\\bravo\\appdata\\local\\programs\\python\\python38-32\\lib\\site-packages\\seaborn\\_decorators.py:36: FutureWarning: Pass the following variable as a keyword arg: x. From version 0.12, the only valid positional argument will be `data`, and passing other arguments without an explicit keyword will result in an error or misinterpretation.\n",
      "  warnings.warn(\n"
     ]
    },
    {
     "data": {
      "image/png": "[encoded data removed]",
      "text/plain": [
       "<Figure size 432x288 with 1 Axes>"
      ]
     },
     "metadata": {
      "needs_background": "light"
     },
     "output_type": "display_data"
    },
    {
     "name": "stderr",
     "output_type": "stream",
     "text": [
      "c:\\users\\bravo\\appdata\\local\\programs\\python\\python38-32\\lib\\site-packages\\seaborn\\_decorators.py:36: FutureWarning: Pass the following variable as a keyword arg: x. From version 0.12, the only valid positional argument will be `data`, and passing other arguments without an explicit keyword will result in an error or misinterpretation.\n",
      "  warnings.warn(\n"
     ]
    },
    {
     "data": {
      "image/png": "[encoded data removed]",
      "text/plain": [
       "<Figure size 432x288 with 1 Axes>"
      ]
     },
     "metadata": {
      "needs_background": "light"
     },
     "output_type": "display_data"
    },
    {
     "name": "stderr",
     "output_type": "stream",
     "text": [
      "c:\\users\\bravo\\appdata\\local\\programs\\python\\python38-32\\lib\\site-packages\\seaborn\\_decorators.py:36: FutureWarning: Pass the following variable as a keyword arg: x. From version 0.12, the only valid positional argument will be `data`, and passing other arguments without an explicit keyword will result in an error or misinterpretation.\n",
      "  warnings.warn(\n"
     ]
    },
    {
     "data": {
      "image/png": "[encoded data removed]",
      "text/plain": [
       "<Figure size 432x288 with 1 Axes>"
      ]
     },
     "metadata": {
      "needs_background": "light"
     },
     "output_type": "display_data"
    },
    {
     "name": "stderr",
     "output_type": "stream",
     "text": [
      "c:\\users\\bravo\\appdata\\local\\programs\\python\\python38-32\\lib\\site-packages\\seaborn\\_decorators.py:36: FutureWarning: Pass the following variable as a keyword arg: x. From version 0.12, the only valid positional argument will be `data`, and passing other arguments without an explicit keyword will result in an error or misinterpretation.\n",
      "  warnings.warn(\n"
     ]
    },
    {
     "data": {
      "image/png": "[encoded data removed]",
      "text/plain": [
       "<Figure size 432x288 with 1 Axes>"
      ]
     },
     "metadata": {
      "needs_background": "light"
     },
     "output_type": "display_data"
    },
    {
     "name": "stderr",
     "output_type": "stream",
     "text": [
      "c:\\users\\bravo\\appdata\\local\\programs\\python\\python38-32\\lib\\site-packages\\seaborn\\_decorators.py:36: FutureWarning: Pass the following variable as a keyword arg: x. From version 0.12, the only valid positional argument will be `data`, and passing other arguments without an explicit keyword will result in an error or misinterpretation.\n",
      "  warnings.warn(\n"
     ]
    },
    {
     "data": {
      "image/png": "[encoded data removed]",
      "text/plain": [
       "<Figure size 432x288 with 1 Axes>"
      ]
     },
     "metadata": {
      "needs_background": "light"
     },
     "output_type": "display_data"
    },
    {
     "name": "stderr",
     "output_type": "stream",
     "text": [
      "c:\\users\\bravo\\appdata\\local\\programs\\python\\python38-32\\lib\\site-packages\\seaborn\\_decorators.py:36: FutureWarning: Pass the following variable as a keyword arg: x. From version 0.12, the only valid positional argument will be `data`, and passing other arguments without an explicit keyword will result in an error or misinterpretation.\n",
      "  warnings.warn(\n"
     ]
    },
    {
     "data": {
      "image/png": "[encoded data removed]",
      "text/plain": [
       "<Figure size 432x288 with 1 Axes>"
      ]
     },
     "metadata": {
      "needs_background": "light"
     },
     "output_type": "display_data"
    },
    {
     "name": "stderr",
     "output_type": "stream",
     "text": [
      "c:\\users\\bravo\\appdata\\local\\programs\\python\\python38-32\\lib\\site-packages\\seaborn\\_decorators.py:36: FutureWarning: Pass the following variable as a keyword arg: x. From version 0.12, the only valid positional argument will be `data`, and passing other arguments without an explicit keyword will result in an error or misinterpretation.\n",
      "  warnings.warn(\n"
     ]
    },
    {
     "data": {
      "image/png": "[encoded data removed]",
      "text/plain": [
       "<Figure size 432x288 with 1 Axes>"
      ]
     },
     "metadata": {
      "needs_background": "light"
     },
     "output_type": "display_data"
    },
    {
     "name": "stderr",
     "output_type": "stream",
     "text": [
      "c:\\users\\bravo\\appdata\\local\\programs\\python\\python38-32\\lib\\site-packages\\seaborn\\_decorators.py:36: FutureWarning: Pass the following variable as a keyword arg: x. From version 0.12, the only valid positional argument will be `data`, and passing other arguments without an explicit keyword will result in an error or misinterpretation.\n",
      "  warnings.warn(\n"
     ]
    },
    {
     "data": {
      "image/png": "[encoded data removed]",
      "text/plain": [
       "<Figure size 432x288 with 1 Axes>"
      ]
     },
     "metadata": {
      "needs_background": "light"
     },
     "output_type": "display_data"
    },
    {
     "name": "stderr",
     "output_type": "stream",
     "text": [
      "c:\\users\\bravo\\appdata\\local\\programs\\python\\python38-32\\lib\\site-packages\\seaborn\\_decorators.py:36: FutureWarning: Pass the following variable as a keyword arg: x. From version 0.12, the only valid positional argument will be `data`, and passing other arguments without an explicit keyword will result in an error or misinterpretation.\n",
      "  warnings.warn(\n"
     ]
    },
    {
     "data": {
      "image/png": "[encoded data removed]",
      "text/plain": [
       "<Figure size 432x288 with 1 Axes>"
      ]
     },
     "metadata": {
      "needs_background": "light"
     },
     "output_type": "display_data"
    },
    {
     "name": "stderr",
     "output_type": "stream",
     "text": [
      "c:\\users\\bravo\\appdata\\local\\programs\\python\\python38-32\\lib\\site-packages\\seaborn\\_decorators.py:36: FutureWarning: Pass the following variable as a keyword arg: x. From version 0.12, the only valid positional argument will be `data`, and passing other arguments without an explicit keyword will result in an error or misinterpretation.\n",
      "  warnings.warn(\n"
     ]
    },
    {
     "data": {
      "image/png": "[encoded data removed]",
      "text/plain": [
       "<Figure size 432x288 with 1 Axes>"
      ]
     },
     "metadata": {
      "needs_background": "light"
     },
     "output_type": "display_data"
    },
    {
     "name": "stderr",
     "output_type": "stream",
     "text": [
      "c:\\users\\bravo\\appdata\\local\\programs\\python\\python38-32\\lib\\site-packages\\seaborn\\_decorators.py:36: FutureWarning: Pass the following variable as a keyword arg: x. From version 0.12, the only valid positional argument will be `data`, and passing other arguments without an explicit keyword will result in an error or misinterpretation.\n",
      "  warnings.warn(\n"
     ]
    },
    {
     "data": {
      "image/png": "[encoded data removed]",
      "text/plain": [
       "<Figure size 432x288 with 1 Axes>"
      ]
     },
     "metadata": {
      "needs_background": "light"
     },
     "output_type": "display_data"
    }
   ],
   "source": [
    "for i in df_numeric.columns:\n",
    "    \n",
    "    fig = sns.boxplot(df_numeric[i]);\n",
    "    plt.title(i)\n",
    "    plt.show()"
   ]
  },
  {
   "cell_type": "code",
   "execution_count": 17,
   "metadata": {},
   "outputs": [
    {
     "data": {
      "text/plain": [
       "<AxesSubplot:>"
      ]
     },
     "execution_count": 17,
     "metadata": {},
     "output_type": "execute_result"
    },
    {
     "data": {
      "image/png": "[encoded data removed]",
      "text/plain": [
       "<Figure size 1152x864 with 2 Axes>"
      ]
     },
     "metadata": {
      "needs_background": "light"
     },
     "output_type": "display_data"
    }
   ],
   "source": [
    "plt.figure(figsize = (16,12))\n",
    "sns.heatmap(df.corr())"
   ]
  },
  {
   "cell_type": "markdown",
   "metadata": {},
   "source": [
    "## 3. Feature Engineering\n",
    "\n",
    "Based on your previous conclusions, perform transformations in your features. Think about:  \n",
    "* Category Encoding\n",
    "* Outliers & Standardization\n",
    "* Dimension Reduction\n",
    "* Discard features that are less relevant to group the data\n",
    "\n",
    "Why did you choose each method? Please explain your rationale."
   ]
  },
  {
   "cell_type": "code",
   "execution_count": 37,
   "metadata": {},
   "outputs": [],
   "source": [
    "#Your code here:\n",
    "\n",
    "df['gender'] = pd.get_dummies(df['gender'])\n"
   ]
  },
  {
   "cell_type": "code",
   "execution_count": 40,
   "metadata": {},
   "outputs": [
    {
     "data": {
      "text/html": [
       "<div>\n",
       "<style scoped>\n",
       "    .dataframe tbody tr th:only-of-type {\n",
       "        vertical-align: middle;\n",
       "    }\n",
       "\n",
       "    .dataframe tbody tr th {\n",
       "        vertical-align: top;\n",
       "    }\n",
       "\n",
       "    .dataframe thead th {\n",
       "        text-align: right;\n",
       "    }\n",
       "</style>\n",
       "<table border=\"1\" class=\"dataframe\">\n",
       "  <thead>\n",
       "    <tr style=\"text-align: right;\">\n",
       "      <th></th>\n",
       "      <th>gradyear</th>\n",
       "      <th>gender</th>\n",
       "      <th>age</th>\n",
       "      <th>friends</th>\n",
       "      <th>basketball</th>\n",
       "      <th>football</th>\n",
       "      <th>soccer</th>\n",
       "      <th>softball</th>\n",
       "      <th>volleyball</th>\n",
       "      <th>swimming</th>\n",
       "      <th>...</th>\n",
       "      <th>blonde</th>\n",
       "      <th>mall</th>\n",
       "      <th>shopping</th>\n",
       "      <th>clothes</th>\n",
       "      <th>hollister</th>\n",
       "      <th>abercrombie</th>\n",
       "      <th>die</th>\n",
       "      <th>death</th>\n",
       "      <th>drunk</th>\n",
       "      <th>drugs</th>\n",
       "    </tr>\n",
       "  </thead>\n",
       "  <tbody>\n",
       "    <tr>\n",
       "      <th>0</th>\n",
       "      <td>-1.341641</td>\n",
       "      <td>-2.178285</td>\n",
       "      <td>0.154609</td>\n",
       "      <td>-0.634528</td>\n",
       "      <td>-0.332217</td>\n",
       "      <td>-0.357697</td>\n",
       "      <td>-0.242874</td>\n",
       "      <td>-0.217928</td>\n",
       "      <td>-0.22367</td>\n",
       "      <td>-0.259971</td>\n",
       "      <td>...</td>\n",
       "      <td>-0.050937</td>\n",
       "      <td>-0.369915</td>\n",
       "      <td>-0.487314</td>\n",
       "      <td>-0.314198</td>\n",
       "      <td>-0.201476</td>\n",
       "      <td>-0.183032</td>\n",
       "      <td>-0.294793</td>\n",
       "      <td>-0.261530</td>\n",
       "      <td>-0.220403</td>\n",
       "      <td>-0.174908</td>\n",
       "    </tr>\n",
       "    <tr>\n",
       "      <th>1</th>\n",
       "      <td>-1.341641</td>\n",
       "      <td>0.459077</td>\n",
       "      <td>0.129351</td>\n",
       "      <td>-0.826150</td>\n",
       "      <td>-0.332217</td>\n",
       "      <td>1.060049</td>\n",
       "      <td>-0.242874</td>\n",
       "      <td>-0.217928</td>\n",
       "      <td>-0.22367</td>\n",
       "      <td>-0.259971</td>\n",
       "      <td>...</td>\n",
       "      <td>-0.050937</td>\n",
       "      <td>1.067392</td>\n",
       "      <td>-0.487314</td>\n",
       "      <td>-0.314198</td>\n",
       "      <td>-0.201476</td>\n",
       "      <td>-0.183032</td>\n",
       "      <td>-0.294793</td>\n",
       "      <td>-0.261530</td>\n",
       "      <td>-0.220403</td>\n",
       "      <td>-0.174908</td>\n",
       "    </tr>\n",
       "    <tr>\n",
       "      <th>2</th>\n",
       "      <td>-1.341641</td>\n",
       "      <td>-2.178285</td>\n",
       "      <td>0.064320</td>\n",
       "      <td>1.062695</td>\n",
       "      <td>-0.332217</td>\n",
       "      <td>1.060049</td>\n",
       "      <td>-0.242874</td>\n",
       "      <td>-0.217928</td>\n",
       "      <td>-0.22367</td>\n",
       "      <td>-0.259971</td>\n",
       "      <td>...</td>\n",
       "      <td>-0.050937</td>\n",
       "      <td>-0.369915</td>\n",
       "      <td>-0.487314</td>\n",
       "      <td>-0.314198</td>\n",
       "      <td>-0.201476</td>\n",
       "      <td>-0.183032</td>\n",
       "      <td>-0.294793</td>\n",
       "      <td>2.027908</td>\n",
       "      <td>-0.220403</td>\n",
       "      <td>-0.174908</td>\n",
       "    </tr>\n",
       "    <tr>\n",
       "      <th>3</th>\n",
       "      <td>-1.341641</td>\n",
       "      <td>0.459077</td>\n",
       "      <td>0.139677</td>\n",
       "      <td>-0.826150</td>\n",
       "      <td>-0.332217</td>\n",
       "      <td>-0.357697</td>\n",
       "      <td>-0.242874</td>\n",
       "      <td>-0.217928</td>\n",
       "      <td>-0.22367</td>\n",
       "      <td>-0.259971</td>\n",
       "      <td>...</td>\n",
       "      <td>-0.050937</td>\n",
       "      <td>-0.369915</td>\n",
       "      <td>-0.487314</td>\n",
       "      <td>-0.314198</td>\n",
       "      <td>-0.201476</td>\n",
       "      <td>-0.183032</td>\n",
       "      <td>-0.294793</td>\n",
       "      <td>-0.261530</td>\n",
       "      <td>-0.220403</td>\n",
       "      <td>-0.174908</td>\n",
       "    </tr>\n",
       "    <tr>\n",
       "      <th>4</th>\n",
       "      <td>-1.341641</td>\n",
       "      <td>0.459077</td>\n",
       "      <td>0.156424</td>\n",
       "      <td>-0.552404</td>\n",
       "      <td>-0.332217</td>\n",
       "      <td>-0.357697</td>\n",
       "      <td>-0.242874</td>\n",
       "      <td>-0.217928</td>\n",
       "      <td>-0.22367</td>\n",
       "      <td>-0.259971</td>\n",
       "      <td>...</td>\n",
       "      <td>-0.050937</td>\n",
       "      <td>-0.369915</td>\n",
       "      <td>2.273673</td>\n",
       "      <td>-0.314198</td>\n",
       "      <td>-0.201476</td>\n",
       "      <td>-0.183032</td>\n",
       "      <td>-0.294793</td>\n",
       "      <td>-0.261530</td>\n",
       "      <td>2.285122</td>\n",
       "      <td>2.719316</td>\n",
       "    </tr>\n",
       "  </tbody>\n",
       "</table>\n",
       "<p>5 rows × 40 columns</p>\n",
       "</div>"
      ],
      "text/plain": [
       "   gradyear    gender       age   friends  basketball  football    soccer  \\\n",
       "0 -1.341641 -2.178285  0.154609 -0.634528   -0.332217 -0.357697 -0.242874   \n",
       "1 -1.341641  0.459077  0.129351 -0.826150   -0.332217  1.060049 -0.242874   \n",
       "2 -1.341641 -2.178285  0.064320  1.062695   -0.332217  1.060049 -0.242874   \n",
       "3 -1.341641  0.459077  0.139677 -0.826150   -0.332217 -0.357697 -0.242874   \n",
       "4 -1.341641  0.459077  0.156424 -0.552404   -0.332217 -0.357697 -0.242874   \n",
       "\n",
       "   softball  volleyball  swimming  ...    blonde      mall  shopping  \\\n",
       "0 -0.217928    -0.22367 -0.259971  ... -0.050937 -0.369915 -0.487314   \n",
       "1 -0.217928    -0.22367 -0.259971  ... -0.050937  1.067392 -0.487314   \n",
       "2 -0.217928    -0.22367 -0.259971  ... -0.050937 -0.369915 -0.487314   \n",
       "3 -0.217928    -0.22367 -0.259971  ... -0.050937 -0.369915 -0.487314   \n",
       "4 -0.217928    -0.22367 -0.259971  ... -0.050937 -0.369915  2.273673   \n",
       "\n",
       "    clothes  hollister  abercrombie       die     death     drunk     drugs  \n",
       "0 -0.314198  -0.201476    -0.183032 -0.294793 -0.261530 -0.220403 -0.174908  \n",
       "1 -0.314198  -0.201476    -0.183032 -0.294793 -0.261530 -0.220403 -0.174908  \n",
       "2 -0.314198  -0.201476    -0.183032 -0.294793  2.027908 -0.220403 -0.174908  \n",
       "3 -0.314198  -0.201476    -0.183032 -0.294793 -0.261530 -0.220403 -0.174908  \n",
       "4 -0.314198  -0.201476    -0.183032 -0.294793 -0.261530  2.285122  2.719316  \n",
       "\n",
       "[5 rows x 40 columns]"
      ]
     },
     "execution_count": 40,
     "metadata": {},
     "output_type": "execute_result"
    }
   ],
   "source": [
    "from sklearn.preprocessing import StandardScaler\n",
    "\n",
    "scaler = StandardScaler()\n",
    "df_scaled = pd.DataFrame(scaler.fit_transform(df), columns = df.columns.to_list())\n",
    "\n",
    "df_scaled.head()"
   ]
  },
  {
   "cell_type": "markdown",
   "metadata": {},
   "source": [
    "## 4. Modeling\n",
    "\n",
    "Now that your data is ready, apply one (or more) unsupervised learning model to find the groups of teens that exist:\n",
    "* What model did you choose?\n",
    "* What is the optimal number of clusters?\n",
    "* Once your clusters are defined, how do you interpret them? - What type of teens there are? What are the differences between them?"
   ]
  },
  {
   "cell_type": "code",
   "execution_count": 42,
   "metadata": {},
   "outputs": [],
   "source": [
    "#Your code here:\n",
    "\n",
    "from sklearn.cluster import KMeans\n",
    "\n"
   ]
  },
  {
   "cell_type": "code",
   "execution_count": 45,
   "metadata": {},
   "outputs": [
    {
     "data": {
      "image/png": "[encoded data removed]",
      "text/plain": [
       "<Figure size 432x288 with 1 Axes>"
      ]
     },
     "metadata": {
      "needs_background": "light"
     },
     "output_type": "display_data"
    }
   ],
   "source": [
    "K = range(1,15)\n",
    "sum_squared_distances = []\n",
    "\n",
    "cols = df_scaled.columns.to_list()\n",
    "\n",
    "for k in K:\n",
    "    model = KMeans(n_clusters=k).fit(df_scaled)\n",
    "    sum_squared_distances.append(model.inertia_)\n",
    "    \n",
    "plt.plot(K, sum_squared_distances, \"bx-\")\n",
    "plt.xlabel(\"K Values\")\n",
    "plt.ylabel(\"Sum Squared Distances\")\n",
    "plt.title(\"Elbow Method\")\n",
    "plt.show()"
   ]
  },
  {
   "cell_type": "code",
   "execution_count": 46,
   "metadata": {},
   "outputs": [
    {
     "data": {
      "text/plain": [
       "array([0, 9, 0, ..., 0, 0, 1])"
      ]
     },
     "execution_count": 46,
     "metadata": {},
     "output_type": "execute_result"
    }
   ],
   "source": [
    "kmeans = KMeans(n_clusters=10)\n",
    "clusters = kmeans.fit_predict(df_scaled)\n",
    "clusters"
   ]
  },
  {
   "cell_type": "code",
   "execution_count": 48,
   "metadata": {},
   "outputs": [],
   "source": [
    "df['cluster'] = clusters"
   ]
  },
  {
   "cell_type": "code",
   "execution_count": 50,
   "metadata": {},
   "outputs": [
    {
     "data": {
      "text/html": [
       "<div>\n",
       "<style scoped>\n",
       "    .dataframe tbody tr th:only-of-type {\n",
       "        vertical-align: middle;\n",
       "    }\n",
       "\n",
       "    .dataframe tbody tr th {\n",
       "        vertical-align: top;\n",
       "    }\n",
       "\n",
       "    .dataframe thead th {\n",
       "        text-align: right;\n",
       "    }\n",
       "</style>\n",
       "<table border=\"1\" class=\"dataframe\">\n",
       "  <thead>\n",
       "    <tr style=\"text-align: right;\">\n",
       "      <th>cluster</th>\n",
       "      <th>0</th>\n",
       "      <th>1</th>\n",
       "      <th>2</th>\n",
       "      <th>3</th>\n",
       "      <th>4</th>\n",
       "      <th>5</th>\n",
       "      <th>6</th>\n",
       "      <th>7</th>\n",
       "      <th>8</th>\n",
       "      <th>9</th>\n",
       "    </tr>\n",
       "  </thead>\n",
       "  <tbody>\n",
       "    <tr>\n",
       "      <th>gradyear</th>\n",
       "      <td>2007.368140</td>\n",
       "      <td>2007.413766</td>\n",
       "      <td>2007.360000</td>\n",
       "      <td>2007.000</td>\n",
       "      <td>2007.776699</td>\n",
       "      <td>2007.857143</td>\n",
       "      <td>2007.780741</td>\n",
       "      <td>2007.321586</td>\n",
       "      <td>2007.602030</td>\n",
       "      <td>2007.809914</td>\n",
       "    </tr>\n",
       "    <tr>\n",
       "      <th>gender</th>\n",
       "      <td>0.003203</td>\n",
       "      <td>1.000000</td>\n",
       "      <td>0.787368</td>\n",
       "      <td>1.000</td>\n",
       "      <td>0.776699</td>\n",
       "      <td>0.915691</td>\n",
       "      <td>0.866667</td>\n",
       "      <td>0.841410</td>\n",
       "      <td>0.862944</td>\n",
       "      <td>0.992405</td>\n",
       "    </tr>\n",
       "    <tr>\n",
       "      <th>age</th>\n",
       "      <td>17.489026</td>\n",
       "      <td>17.347423</td>\n",
       "      <td>17.352339</td>\n",
       "      <td>18.119</td>\n",
       "      <td>101.416422</td>\n",
       "      <td>17.049498</td>\n",
       "      <td>17.116594</td>\n",
       "      <td>17.487626</td>\n",
       "      <td>17.195363</td>\n",
       "      <td>17.010057</td>\n",
       "    </tr>\n",
       "    <tr>\n",
       "      <th>friends</th>\n",
       "      <td>23.969464</td>\n",
       "      <td>26.476056</td>\n",
       "      <td>32.482105</td>\n",
       "      <td>44.000</td>\n",
       "      <td>28.208738</td>\n",
       "      <td>41.494145</td>\n",
       "      <td>36.454815</td>\n",
       "      <td>36.222467</td>\n",
       "      <td>30.162437</td>\n",
       "      <td>44.864281</td>\n",
       "    </tr>\n",
       "    <tr>\n",
       "      <th>basketball</th>\n",
       "      <td>0.294683</td>\n",
       "      <td>0.129261</td>\n",
       "      <td>0.193684</td>\n",
       "      <td>0.000</td>\n",
       "      <td>0.174757</td>\n",
       "      <td>0.394614</td>\n",
       "      <td>0.460741</td>\n",
       "      <td>0.356828</td>\n",
       "      <td>0.574619</td>\n",
       "      <td>0.596042</td>\n",
       "    </tr>\n",
       "    <tr>\n",
       "      <th>football</th>\n",
       "      <td>0.444160</td>\n",
       "      <td>0.104657</td>\n",
       "      <td>0.338947</td>\n",
       "      <td>2.000</td>\n",
       "      <td>0.155340</td>\n",
       "      <td>0.413349</td>\n",
       "      <td>0.414815</td>\n",
       "      <td>0.292952</td>\n",
       "      <td>0.524873</td>\n",
       "      <td>0.453128</td>\n",
       "    </tr>\n",
       "    <tr>\n",
       "      <th>soccer</th>\n",
       "      <td>0.116592</td>\n",
       "      <td>0.081373</td>\n",
       "      <td>0.107368</td>\n",
       "      <td>0.000</td>\n",
       "      <td>0.208738</td>\n",
       "      <td>0.244731</td>\n",
       "      <td>4.951111</td>\n",
       "      <td>0.176211</td>\n",
       "      <td>0.269036</td>\n",
       "      <td>0.158105</td>\n",
       "    </tr>\n",
       "    <tr>\n",
       "      <th>softball</th>\n",
       "      <td>0.009182</td>\n",
       "      <td>0.093375</td>\n",
       "      <td>0.134737</td>\n",
       "      <td>0.000</td>\n",
       "      <td>0.082524</td>\n",
       "      <td>0.218970</td>\n",
       "      <td>0.194074</td>\n",
       "      <td>0.202643</td>\n",
       "      <td>0.293401</td>\n",
       "      <td>0.491105</td>\n",
       "    </tr>\n",
       "    <tr>\n",
       "      <th>volleyball</th>\n",
       "      <td>0.031177</td>\n",
       "      <td>0.077412</td>\n",
       "      <td>0.103158</td>\n",
       "      <td>0.000</td>\n",
       "      <td>0.101942</td>\n",
       "      <td>0.269321</td>\n",
       "      <td>0.202963</td>\n",
       "      <td>0.147577</td>\n",
       "      <td>0.222335</td>\n",
       "      <td>0.426744</td>\n",
       "    </tr>\n",
       "    <tr>\n",
       "      <th>swimming</th>\n",
       "      <td>0.071108</td>\n",
       "      <td>0.083233</td>\n",
       "      <td>0.172632</td>\n",
       "      <td>1.000</td>\n",
       "      <td>0.145631</td>\n",
       "      <td>0.259953</td>\n",
       "      <td>0.195556</td>\n",
       "      <td>0.167401</td>\n",
       "      <td>0.282234</td>\n",
       "      <td>0.298021</td>\n",
       "    </tr>\n",
       "    <tr>\n",
       "      <th>cheerleading</th>\n",
       "      <td>0.005979</td>\n",
       "      <td>0.054249</td>\n",
       "      <td>0.054737</td>\n",
       "      <td>0.000</td>\n",
       "      <td>0.033981</td>\n",
       "      <td>0.312646</td>\n",
       "      <td>0.097778</td>\n",
       "      <td>0.107930</td>\n",
       "      <td>0.212183</td>\n",
       "      <td>0.328403</td>\n",
       "    </tr>\n",
       "    <tr>\n",
       "      <th>baseball</th>\n",
       "      <td>0.292548</td>\n",
       "      <td>0.030125</td>\n",
       "      <td>0.052632</td>\n",
       "      <td>0.000</td>\n",
       "      <td>0.058252</td>\n",
       "      <td>0.119438</td>\n",
       "      <td>0.121481</td>\n",
       "      <td>0.090308</td>\n",
       "      <td>0.260914</td>\n",
       "      <td>0.151309</td>\n",
       "    </tr>\n",
       "    <tr>\n",
       "      <th>tennis</th>\n",
       "      <td>0.093316</td>\n",
       "      <td>0.061210</td>\n",
       "      <td>0.128421</td>\n",
       "      <td>0.000</td>\n",
       "      <td>0.116505</td>\n",
       "      <td>0.159251</td>\n",
       "      <td>0.137778</td>\n",
       "      <td>0.110132</td>\n",
       "      <td>0.157360</td>\n",
       "      <td>0.128723</td>\n",
       "    </tr>\n",
       "    <tr>\n",
       "      <th>sports</th>\n",
       "      <td>0.191544</td>\n",
       "      <td>0.070511</td>\n",
       "      <td>0.086316</td>\n",
       "      <td>0.000</td>\n",
       "      <td>0.087379</td>\n",
       "      <td>0.192037</td>\n",
       "      <td>0.322963</td>\n",
       "      <td>0.127753</td>\n",
       "      <td>0.556345</td>\n",
       "      <td>0.215870</td>\n",
       "    </tr>\n",
       "    <tr>\n",
       "      <th>cute</th>\n",
       "      <td>0.060431</td>\n",
       "      <td>0.188610</td>\n",
       "      <td>0.317895</td>\n",
       "      <td>1.000</td>\n",
       "      <td>0.262136</td>\n",
       "      <td>0.627635</td>\n",
       "      <td>0.345185</td>\n",
       "      <td>0.297357</td>\n",
       "      <td>0.712690</td>\n",
       "      <td>0.889067</td>\n",
       "    </tr>\n",
       "    <tr>\n",
       "      <th>sex</th>\n",
       "      <td>0.104420</td>\n",
       "      <td>0.101296</td>\n",
       "      <td>0.181053</td>\n",
       "      <td>22.000</td>\n",
       "      <td>0.208738</td>\n",
       "      <td>0.245902</td>\n",
       "      <td>0.143704</td>\n",
       "      <td>0.211454</td>\n",
       "      <td>2.529949</td>\n",
       "      <td>0.211673</td>\n",
       "    </tr>\n",
       "    <tr>\n",
       "      <th>sexy</th>\n",
       "      <td>0.065343</td>\n",
       "      <td>0.093435</td>\n",
       "      <td>0.117895</td>\n",
       "      <td>1.000</td>\n",
       "      <td>0.131068</td>\n",
       "      <td>0.197892</td>\n",
       "      <td>0.133333</td>\n",
       "      <td>0.083700</td>\n",
       "      <td>0.423350</td>\n",
       "      <td>0.314811</td>\n",
       "    </tr>\n",
       "    <tr>\n",
       "      <th>hot</th>\n",
       "      <td>0.042494</td>\n",
       "      <td>0.062290</td>\n",
       "      <td>0.109474</td>\n",
       "      <td>0.000</td>\n",
       "      <td>0.072816</td>\n",
       "      <td>0.313817</td>\n",
       "      <td>0.164444</td>\n",
       "      <td>0.129956</td>\n",
       "      <td>0.279188</td>\n",
       "      <td>0.355986</td>\n",
       "    </tr>\n",
       "    <tr>\n",
       "      <th>kissed</th>\n",
       "      <td>0.026052</td>\n",
       "      <td>0.038766</td>\n",
       "      <td>0.090526</td>\n",
       "      <td>0.000</td>\n",
       "      <td>0.067961</td>\n",
       "      <td>0.144028</td>\n",
       "      <td>0.075556</td>\n",
       "      <td>0.077093</td>\n",
       "      <td>1.656853</td>\n",
       "      <td>0.085948</td>\n",
       "    </tr>\n",
       "    <tr>\n",
       "      <th>dance</th>\n",
       "      <td>0.178945</td>\n",
       "      <td>0.249880</td>\n",
       "      <td>0.494737</td>\n",
       "      <td>1.000</td>\n",
       "      <td>0.330097</td>\n",
       "      <td>0.696721</td>\n",
       "      <td>0.405926</td>\n",
       "      <td>0.449339</td>\n",
       "      <td>0.946193</td>\n",
       "      <td>1.088147</td>\n",
       "    </tr>\n",
       "    <tr>\n",
       "      <th>band</th>\n",
       "      <td>0.228913</td>\n",
       "      <td>0.161906</td>\n",
       "      <td>5.406316</td>\n",
       "      <td>1.000</td>\n",
       "      <td>0.320388</td>\n",
       "      <td>0.188525</td>\n",
       "      <td>0.251852</td>\n",
       "      <td>0.431718</td>\n",
       "      <td>0.728934</td>\n",
       "      <td>0.267440</td>\n",
       "    </tr>\n",
       "    <tr>\n",
       "      <th>marching</th>\n",
       "      <td>0.014307</td>\n",
       "      <td>0.011582</td>\n",
       "      <td>1.711579</td>\n",
       "      <td>0.000</td>\n",
       "      <td>0.038835</td>\n",
       "      <td>0.009368</td>\n",
       "      <td>0.014815</td>\n",
       "      <td>0.037445</td>\n",
       "      <td>0.036548</td>\n",
       "      <td>0.013192</td>\n",
       "    </tr>\n",
       "    <tr>\n",
       "      <th>music</th>\n",
       "      <td>0.632928</td>\n",
       "      <td>0.546207</td>\n",
       "      <td>1.465263</td>\n",
       "      <td>0.000</td>\n",
       "      <td>0.800971</td>\n",
       "      <td>0.923888</td>\n",
       "      <td>0.777778</td>\n",
       "      <td>1.085903</td>\n",
       "      <td>2.176650</td>\n",
       "      <td>1.050770</td>\n",
       "    </tr>\n",
       "    <tr>\n",
       "      <th>rock</th>\n",
       "      <td>0.215887</td>\n",
       "      <td>0.147264</td>\n",
       "      <td>0.383158</td>\n",
       "      <td>1.000</td>\n",
       "      <td>0.296117</td>\n",
       "      <td>0.290398</td>\n",
       "      <td>0.315556</td>\n",
       "      <td>0.328194</td>\n",
       "      <td>1.128934</td>\n",
       "      <td>0.373576</td>\n",
       "    </tr>\n",
       "    <tr>\n",
       "      <th>god</th>\n",
       "      <td>0.309631</td>\n",
       "      <td>0.325852</td>\n",
       "      <td>0.532632</td>\n",
       "      <td>10.000</td>\n",
       "      <td>0.475728</td>\n",
       "      <td>0.469555</td>\n",
       "      <td>0.460741</td>\n",
       "      <td>4.781938</td>\n",
       "      <td>0.951269</td>\n",
       "      <td>0.579252</td>\n",
       "    </tr>\n",
       "    <tr>\n",
       "      <th>church</th>\n",
       "      <td>0.159727</td>\n",
       "      <td>0.132681</td>\n",
       "      <td>0.290526</td>\n",
       "      <td>0.000</td>\n",
       "      <td>0.393204</td>\n",
       "      <td>0.236534</td>\n",
       "      <td>0.321481</td>\n",
       "      <td>2.096916</td>\n",
       "      <td>0.383756</td>\n",
       "      <td>0.503298</td>\n",
       "    </tr>\n",
       "    <tr>\n",
       "      <th>jesus</th>\n",
       "      <td>0.073030</td>\n",
       "      <td>0.067271</td>\n",
       "      <td>0.111579</td>\n",
       "      <td>1.000</td>\n",
       "      <td>0.203883</td>\n",
       "      <td>0.106557</td>\n",
       "      <td>0.105185</td>\n",
       "      <td>2.024229</td>\n",
       "      <td>0.144162</td>\n",
       "      <td>0.115930</td>\n",
       "    </tr>\n",
       "    <tr>\n",
       "      <th>bible</th>\n",
       "      <td>0.005979</td>\n",
       "      <td>0.004021</td>\n",
       "      <td>0.014737</td>\n",
       "      <td>0.000</td>\n",
       "      <td>0.019417</td>\n",
       "      <td>0.010539</td>\n",
       "      <td>0.014815</td>\n",
       "      <td>0.995595</td>\n",
       "      <td>0.033503</td>\n",
       "      <td>0.005996</td>\n",
       "    </tr>\n",
       "    <tr>\n",
       "      <th>hair</th>\n",
       "      <td>0.112535</td>\n",
       "      <td>0.219875</td>\n",
       "      <td>0.397895</td>\n",
       "      <td>12.000</td>\n",
       "      <td>0.334951</td>\n",
       "      <td>0.929742</td>\n",
       "      <td>0.447407</td>\n",
       "      <td>0.462555</td>\n",
       "      <td>3.217259</td>\n",
       "      <td>0.747751</td>\n",
       "    </tr>\n",
       "    <tr>\n",
       "      <th>dress</th>\n",
       "      <td>0.022635</td>\n",
       "      <td>0.053709</td>\n",
       "      <td>0.147368</td>\n",
       "      <td>2.000</td>\n",
       "      <td>0.053398</td>\n",
       "      <td>0.175644</td>\n",
       "      <td>0.115556</td>\n",
       "      <td>0.125551</td>\n",
       "      <td>0.353299</td>\n",
       "      <td>0.322207</td>\n",
       "    </tr>\n",
       "    <tr>\n",
       "      <th>blonde</th>\n",
       "      <td>0.011745</td>\n",
       "      <td>0.051068</td>\n",
       "      <td>0.086316</td>\n",
       "      <td>327.000</td>\n",
       "      <td>0.067961</td>\n",
       "      <td>0.227166</td>\n",
       "      <td>0.167407</td>\n",
       "      <td>0.114537</td>\n",
       "      <td>0.486294</td>\n",
       "      <td>0.168299</td>\n",
       "    </tr>\n",
       "    <tr>\n",
       "      <th>mall</th>\n",
       "      <td>0.104634</td>\n",
       "      <td>0.128060</td>\n",
       "      <td>0.218947</td>\n",
       "      <td>0.000</td>\n",
       "      <td>0.194175</td>\n",
       "      <td>0.681499</td>\n",
       "      <td>0.297778</td>\n",
       "      <td>0.209251</td>\n",
       "      <td>0.685279</td>\n",
       "      <td>0.679592</td>\n",
       "    </tr>\n",
       "    <tr>\n",
       "      <th>shopping</th>\n",
       "      <td>0.038010</td>\n",
       "      <td>0.214414</td>\n",
       "      <td>0.334737</td>\n",
       "      <td>0.000</td>\n",
       "      <td>0.184466</td>\n",
       "      <td>0.936768</td>\n",
       "      <td>0.514074</td>\n",
       "      <td>0.387665</td>\n",
       "      <td>0.535025</td>\n",
       "      <td>0.957825</td>\n",
       "    </tr>\n",
       "    <tr>\n",
       "      <th>clothes</th>\n",
       "      <td>0.050822</td>\n",
       "      <td>0.062770</td>\n",
       "      <td>0.155789</td>\n",
       "      <td>1.000</td>\n",
       "      <td>0.067961</td>\n",
       "      <td>0.427400</td>\n",
       "      <td>0.133333</td>\n",
       "      <td>0.178414</td>\n",
       "      <td>0.744162</td>\n",
       "      <td>0.362383</td>\n",
       "    </tr>\n",
       "    <tr>\n",
       "      <th>hollister</th>\n",
       "      <td>0.011104</td>\n",
       "      <td>0.015182</td>\n",
       "      <td>0.010526</td>\n",
       "      <td>0.000</td>\n",
       "      <td>0.063107</td>\n",
       "      <td>1.508197</td>\n",
       "      <td>0.068148</td>\n",
       "      <td>0.035242</td>\n",
       "      <td>0.127919</td>\n",
       "      <td>0.059364</td>\n",
       "    </tr>\n",
       "    <tr>\n",
       "      <th>abercrombie</th>\n",
       "      <td>0.007687</td>\n",
       "      <td>0.009482</td>\n",
       "      <td>0.012632</td>\n",
       "      <td>0.000</td>\n",
       "      <td>0.038835</td>\n",
       "      <td>1.169789</td>\n",
       "      <td>0.040000</td>\n",
       "      <td>0.017621</td>\n",
       "      <td>0.121827</td>\n",
       "      <td>0.034579</td>\n",
       "    </tr>\n",
       "    <tr>\n",
       "      <th>die</th>\n",
       "      <td>0.134529</td>\n",
       "      <td>0.123080</td>\n",
       "      <td>0.189474</td>\n",
       "      <td>6.000</td>\n",
       "      <td>0.233010</td>\n",
       "      <td>0.215457</td>\n",
       "      <td>0.185185</td>\n",
       "      <td>0.363436</td>\n",
       "      <td>1.222335</td>\n",
       "      <td>0.203878</td>\n",
       "    </tr>\n",
       "    <tr>\n",
       "      <th>death</th>\n",
       "      <td>0.080931</td>\n",
       "      <td>0.080113</td>\n",
       "      <td>0.141053</td>\n",
       "      <td>6.000</td>\n",
       "      <td>0.116505</td>\n",
       "      <td>0.163934</td>\n",
       "      <td>0.106667</td>\n",
       "      <td>0.264317</td>\n",
       "      <td>0.526904</td>\n",
       "      <td>0.152908</td>\n",
       "    </tr>\n",
       "    <tr>\n",
       "      <th>drunk</th>\n",
       "      <td>0.052317</td>\n",
       "      <td>0.053469</td>\n",
       "      <td>0.054737</td>\n",
       "      <td>6.000</td>\n",
       "      <td>0.077670</td>\n",
       "      <td>0.104215</td>\n",
       "      <td>0.057778</td>\n",
       "      <td>0.112335</td>\n",
       "      <td>0.833503</td>\n",
       "      <td>0.090945</td>\n",
       "    </tr>\n",
       "    <tr>\n",
       "      <th>drugs</th>\n",
       "      <td>0.020500</td>\n",
       "      <td>0.022324</td>\n",
       "      <td>0.040000</td>\n",
       "      <td>0.000</td>\n",
       "      <td>0.058252</td>\n",
       "      <td>0.073770</td>\n",
       "      <td>0.045926</td>\n",
       "      <td>0.074890</td>\n",
       "      <td>1.022335</td>\n",
       "      <td>0.035779</td>\n",
       "    </tr>\n",
       "  </tbody>\n",
       "</table>\n",
       "</div>"
      ],
      "text/plain": [
       "cluster                 0            1            2         3            4  \\\n",
       "gradyear      2007.368140  2007.413766  2007.360000  2007.000  2007.776699   \n",
       "gender           0.003203     1.000000     0.787368     1.000     0.776699   \n",
       "age             17.489026    17.347423    17.352339    18.119   101.416422   \n",
       "friends         23.969464    26.476056    32.482105    44.000    28.208738   \n",
       "basketball       0.294683     0.129261     0.193684     0.000     0.174757   \n",
       "football         0.444160     0.104657     0.338947     2.000     0.155340   \n",
       "soccer           0.116592     0.081373     0.107368     0.000     0.208738   \n",
       "softball         0.009182     0.093375     0.134737     0.000     0.082524   \n",
       "volleyball       0.031177     0.077412     0.103158     0.000     0.101942   \n",
       "swimming         0.071108     0.083233     0.172632     1.000     0.145631   \n",
       "cheerleading     0.005979     0.054249     0.054737     0.000     0.033981   \n",
       "baseball         0.292548     0.030125     0.052632     0.000     0.058252   \n",
       "tennis           0.093316     0.061210     0.128421     0.000     0.116505   \n",
       "sports           0.191544     0.070511     0.086316     0.000     0.087379   \n",
       "cute             0.060431     0.188610     0.317895     1.000     0.262136   \n",
       "sex              0.104420     0.101296     0.181053    22.000     0.208738   \n",
       "sexy             0.065343     0.093435     0.117895     1.000     0.131068   \n",
       "hot              0.042494     0.062290     0.109474     0.000     0.072816   \n",
       "kissed           0.026052     0.038766     0.090526     0.000     0.067961   \n",
       "dance            0.178945     0.249880     0.494737     1.000     0.330097   \n",
       "band             0.228913     0.161906     5.406316     1.000     0.320388   \n",
       "marching         0.014307     0.011582     1.711579     0.000     0.038835   \n",
       "music            0.632928     0.546207     1.465263     0.000     0.800971   \n",
       "rock             0.215887     0.147264     0.383158     1.000     0.296117   \n",
       "god              0.309631     0.325852     0.532632    10.000     0.475728   \n",
       "church           0.159727     0.132681     0.290526     0.000     0.393204   \n",
       "jesus            0.073030     0.067271     0.111579     1.000     0.203883   \n",
       "bible            0.005979     0.004021     0.014737     0.000     0.019417   \n",
       "hair             0.112535     0.219875     0.397895    12.000     0.334951   \n",
       "dress            0.022635     0.053709     0.147368     2.000     0.053398   \n",
       "blonde           0.011745     0.051068     0.086316   327.000     0.067961   \n",
       "mall             0.104634     0.128060     0.218947     0.000     0.194175   \n",
       "shopping         0.038010     0.214414     0.334737     0.000     0.184466   \n",
       "clothes          0.050822     0.062770     0.155789     1.000     0.067961   \n",
       "hollister        0.011104     0.015182     0.010526     0.000     0.063107   \n",
       "abercrombie      0.007687     0.009482     0.012632     0.000     0.038835   \n",
       "die              0.134529     0.123080     0.189474     6.000     0.233010   \n",
       "death            0.080931     0.080113     0.141053     6.000     0.116505   \n",
       "drunk            0.052317     0.053469     0.054737     6.000     0.077670   \n",
       "drugs            0.020500     0.022324     0.040000     0.000     0.058252   \n",
       "\n",
       "cluster                 5            6            7            8            9  \n",
       "gradyear      2007.857143  2007.780741  2007.321586  2007.602030  2007.809914  \n",
       "gender           0.915691     0.866667     0.841410     0.862944     0.992405  \n",
       "age             17.049498    17.116594    17.487626    17.195363    17.010057  \n",
       "friends         41.494145    36.454815    36.222467    30.162437    44.864281  \n",
       "basketball       0.394614     0.460741     0.356828     0.574619     0.596042  \n",
       "football         0.413349     0.414815     0.292952     0.524873     0.453128  \n",
       "soccer           0.244731     4.951111     0.176211     0.269036     0.158105  \n",
       "softball         0.218970     0.194074     0.202643     0.293401     0.491105  \n",
       "volleyball       0.269321     0.202963     0.147577     0.222335     0.426744  \n",
       "swimming         0.259953     0.195556     0.167401     0.282234     0.298021  \n",
       "cheerleading     0.312646     0.097778     0.107930     0.212183     0.328403  \n",
       "baseball         0.119438     0.121481     0.090308     0.260914     0.151309  \n",
       "tennis           0.159251     0.137778     0.110132     0.157360     0.128723  \n",
       "sports           0.192037     0.322963     0.127753     0.556345     0.215870  \n",
       "cute             0.627635     0.345185     0.297357     0.712690     0.889067  \n",
       "sex              0.245902     0.143704     0.211454     2.529949     0.211673  \n",
       "sexy             0.197892     0.133333     0.083700     0.423350     0.314811  \n",
       "hot              0.313817     0.164444     0.129956     0.279188     0.355986  \n",
       "kissed           0.144028     0.075556     0.077093     1.656853     0.085948  \n",
       "dance            0.696721     0.405926     0.449339     0.946193     1.088147  \n",
       "band             0.188525     0.251852     0.431718     0.728934     0.267440  \n",
       "marching         0.009368     0.014815     0.037445     0.036548     0.013192  \n",
       "music            0.923888     0.777778     1.085903     2.176650     1.050770  \n",
       "rock             0.290398     0.315556     0.328194     1.128934     0.373576  \n",
       "god              0.469555     0.460741     4.781938     0.951269     0.579252  \n",
       "church           0.236534     0.321481     2.096916     0.383756     0.503298  \n",
       "jesus            0.106557     0.105185     2.024229     0.144162     0.115930  \n",
       "bible            0.010539     0.014815     0.995595     0.033503     0.005996  \n",
       "hair             0.929742     0.447407     0.462555     3.217259     0.747751  \n",
       "dress            0.175644     0.115556     0.125551     0.353299     0.322207  \n",
       "blonde           0.227166     0.167407     0.114537     0.486294     0.168299  \n",
       "mall             0.681499     0.297778     0.209251     0.685279     0.679592  \n",
       "shopping         0.936768     0.514074     0.387665     0.535025     0.957825  \n",
       "clothes          0.427400     0.133333     0.178414     0.744162     0.362383  \n",
       "hollister        1.508197     0.068148     0.035242     0.127919     0.059364  \n",
       "abercrombie      1.169789     0.040000     0.017621     0.121827     0.034579  \n",
       "die              0.215457     0.185185     0.363436     1.222335     0.203878  \n",
       "death            0.163934     0.106667     0.264317     0.526904     0.152908  \n",
       "drunk            0.104215     0.057778     0.112335     0.833503     0.090945  \n",
       "drugs            0.073770     0.045926     0.074890     1.022335     0.035779  "
      ]
     },
     "execution_count": 50,
     "metadata": {},
     "output_type": "execute_result"
    }
   ],
   "source": [
    "df.groupby('cluster').mean().T"
   ]
  },
  {
   "cell_type": "code",
   "execution_count": null,
   "metadata": {},
   "outputs": [],
   "source": []
  }
 ],
 "metadata": {
  "kernelspec": {
   "display_name": "Python 3",
   "language": "python",
   "name": "python3"
  },
  "language_info": {
   "codemirror_mode": {
    "name": "ipython",
    "version": 3
   },
   "file_extension": ".py",
   "mimetype": "text/x-python",
   "name": "python",
   "nbconvert_exporter": "python",
   "pygments_lexer": "ipython3",
   "version": "3.8.5"
  }
 },
 "nbformat": 4,
 "nbformat_minor": 2
}
