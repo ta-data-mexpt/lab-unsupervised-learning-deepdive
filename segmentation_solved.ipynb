{
 "cells": [
  {
   "cell_type": "code",
   "execution_count": null,
   "metadata": {
    "colab": {
     "base_uri": "https://localhost:8080/"
    },
    "executionInfo": {
     "elapsed": 25980,
     "status": "ok",
     "timestamp": 1628703860660,
     "user": {
      "displayName": "irving palacios",
      "photoUrl": "https://lh3.googleusercontent.com/a-/AOh14Gjw6M4LpzTUVro1G-5_aqYZYQhXb8NkvR-4cdiB=s64",
      "userId": "06814234566595318222"
     },
     "user_tz": 420
    },
    "id": "Y7WklHQ0wbxs",
    "outputId": "e7519b5c-4e7f-4533-808e-b14f38229d40"
   },
   "outputs": [],
   "source": [
    "#from google.colab import drive\n",
    "#drive.mount('/content/drive')"
   ]
  },
  {
   "cell_type": "markdown",
   "metadata": {
    "id": "VbtRONa4hEvs"
   },
   "source": [
    "# Social Network Segmentation Analysis\n",
    "\n",
    "In this exercise, we will try to identify different groups of teenagers based on their personal preferences using an unsupervised learning model.  \n",
    "  \n",
    "Start by importing your libraries, loading the dataset and exploring its variables.  \n",
    "What features do you find? Do they have the correct datatypes?"
   ]
  },
  {
   "cell_type": "code",
   "execution_count": 2,
   "metadata": {},
   "outputs": [
    {
     "name": "stdout",
     "output_type": "stream",
     "text": [
      "Requirement already satisfied: yellowbrick in /Users/macbookair7/opt/anaconda3/lib/python3.8/site-packages (1.3.post1)\n",
      "Requirement already satisfied: scipy>=1.0.0 in /Users/macbookair7/opt/anaconda3/lib/python3.8/site-packages (from yellowbrick) (1.5.2)\n",
      "Requirement already satisfied: matplotlib!=3.0.0,>=2.0.2 in /Users/macbookair7/opt/anaconda3/lib/python3.8/site-packages (from yellowbrick) (3.3.2)\n",
      "Requirement already satisfied: numpy<1.20,>=1.16.0 in /Users/macbookair7/opt/anaconda3/lib/python3.8/site-packages (from yellowbrick) (1.19.2)\n",
      "Requirement already satisfied: scikit-learn>=0.20 in /Users/macbookair7/opt/anaconda3/lib/python3.8/site-packages (from yellowbrick) (0.23.2)\n",
      "Requirement already satisfied: cycler>=0.10.0 in /Users/macbookair7/opt/anaconda3/lib/python3.8/site-packages (from yellowbrick) (0.10.0)\n",
      "Requirement already satisfied: kiwisolver>=1.0.1 in /Users/macbookair7/opt/anaconda3/lib/python3.8/site-packages (from matplotlib!=3.0.0,>=2.0.2->yellowbrick) (1.3.0)\n",
      "Requirement already satisfied: pillow>=6.2.0 in /Users/macbookair7/opt/anaconda3/lib/python3.8/site-packages (from matplotlib!=3.0.0,>=2.0.2->yellowbrick) (8.0.1)\n",
      "Requirement already satisfied: pyparsing!=2.0.4,!=2.1.2,!=2.1.6,>=2.0.3 in /Users/macbookair7/opt/anaconda3/lib/python3.8/site-packages (from matplotlib!=3.0.0,>=2.0.2->yellowbrick) (2.4.7)\n",
      "Requirement already satisfied: certifi>=2020.06.20 in /Users/macbookair7/opt/anaconda3/lib/python3.8/site-packages (from matplotlib!=3.0.0,>=2.0.2->yellowbrick) (2020.6.20)\n",
      "Requirement already satisfied: python-dateutil>=2.1 in /Users/macbookair7/opt/anaconda3/lib/python3.8/site-packages (from matplotlib!=3.0.0,>=2.0.2->yellowbrick) (2.8.1)\n",
      "Requirement already satisfied: threadpoolctl>=2.0.0 in /Users/macbookair7/opt/anaconda3/lib/python3.8/site-packages (from scikit-learn>=0.20->yellowbrick) (2.1.0)\n",
      "Requirement already satisfied: joblib>=0.11 in /Users/macbookair7/opt/anaconda3/lib/python3.8/site-packages (from scikit-learn>=0.20->yellowbrick) (0.17.0)\n",
      "Requirement already satisfied: six in /Users/macbookair7/opt/anaconda3/lib/python3.8/site-packages (from cycler>=0.10.0->yellowbrick) (1.15.0)\n",
      "Note: you may need to restart the kernel to use updated packages.\n"
     ]
    }
   ],
   "source": [
    "pip install yellowbrick"
   ]
  },
  {
   "cell_type": "code",
   "execution_count": 3,
   "metadata": {
    "executionInfo": {
     "elapsed": 762,
     "status": "ok",
     "timestamp": 1628703883320,
     "user": {
      "displayName": "irving palacios",
      "photoUrl": "https://lh3.googleusercontent.com/a-/AOh14Gjw6M4LpzTUVro1G-5_aqYZYQhXb8NkvR-4cdiB=s64",
      "userId": "06814234566595318222"
     },
     "user_tz": 420
    },
    "id": "48-Mvl4VhEvv"
   },
   "outputs": [],
   "source": [
    "#Import your libraries here\n",
    "\n",
    "import pandas as pd\n",
    "import numpy as np\n",
    "import matplotlib.pyplot as plt\n",
    "import seaborn as sns\n",
    "import scipy.cluster.hierarchy as sch\n",
    "\n",
    "from sklearn.cluster import KMeans\n",
    "from sklearn import metrics\n",
    "from sklearn.preprocessing import StandardScaler\n",
    "from yellowbrick.cluster import KElbowVisualizer"
   ]
  },
  {
   "cell_type": "code",
   "execution_count": 4,
   "metadata": {
    "executionInfo": {
     "elapsed": 1401,
     "status": "ok",
     "timestamp": 1628703886568,
     "user": {
      "displayName": "irving palacios",
      "photoUrl": "https://lh3.googleusercontent.com/a-/AOh14Gjw6M4LpzTUVro1G-5_aqYZYQhXb8NkvR-4cdiB=s64",
      "userId": "06814234566595318222"
     },
     "user_tz": 420
    },
    "id": "t9e1gHWuhEvx"
   },
   "outputs": [],
   "source": [
    "#Load the dataset and explore its variables\n",
    "\n",
    "\n",
    "#social = pd.read_csv('/content/drive/MyDrive/Colab Notebooks/LABS/Módulo 3/lab-unsupervised-learning-deepdive-master/snsdata.csv')\n",
    "social = pd.read_csv('snsdata.csv')"
   ]
  },
  {
   "cell_type": "code",
   "execution_count": 5,
   "metadata": {
    "colab": {
     "base_uri": "https://localhost:8080/",
     "height": 224
    },
    "executionInfo": {
     "elapsed": 360,
     "status": "ok",
     "timestamp": 1628703888138,
     "user": {
      "displayName": "irving palacios",
      "photoUrl": "https://lh3.googleusercontent.com/a-/AOh14Gjw6M4LpzTUVro1G-5_aqYZYQhXb8NkvR-4cdiB=s64",
      "userId": "06814234566595318222"
     },
     "user_tz": 420
    },
    "id": "wl_PFHJHxEK7",
    "outputId": "98b420e2-c9f1-4c19-cba1-828afbce2e5a"
   },
   "outputs": [
    {
     "data": {
      "text/html": [
       "<div>\n",
       "<style scoped>\n",
       "    .dataframe tbody tr th:only-of-type {\n",
       "        vertical-align: middle;\n",
       "    }\n",
       "\n",
       "    .dataframe tbody tr th {\n",
       "        vertical-align: top;\n",
       "    }\n",
       "\n",
       "    .dataframe thead th {\n",
       "        text-align: right;\n",
       "    }\n",
       "</style>\n",
       "<table border=\"1\" class=\"dataframe\">\n",
       "  <thead>\n",
       "    <tr style=\"text-align: right;\">\n",
       "      <th></th>\n",
       "      <th>gradyear</th>\n",
       "      <th>gender</th>\n",
       "      <th>age</th>\n",
       "      <th>friends</th>\n",
       "      <th>basketball</th>\n",
       "      <th>football</th>\n",
       "      <th>soccer</th>\n",
       "      <th>softball</th>\n",
       "      <th>volleyball</th>\n",
       "      <th>swimming</th>\n",
       "      <th>...</th>\n",
       "      <th>blonde</th>\n",
       "      <th>mall</th>\n",
       "      <th>shopping</th>\n",
       "      <th>clothes</th>\n",
       "      <th>hollister</th>\n",
       "      <th>abercrombie</th>\n",
       "      <th>die</th>\n",
       "      <th>death</th>\n",
       "      <th>drunk</th>\n",
       "      <th>drugs</th>\n",
       "    </tr>\n",
       "  </thead>\n",
       "  <tbody>\n",
       "    <tr>\n",
       "      <th>0</th>\n",
       "      <td>2006</td>\n",
       "      <td>M</td>\n",
       "      <td>18.982</td>\n",
       "      <td>7</td>\n",
       "      <td>0</td>\n",
       "      <td>0</td>\n",
       "      <td>0</td>\n",
       "      <td>0</td>\n",
       "      <td>0</td>\n",
       "      <td>0</td>\n",
       "      <td>...</td>\n",
       "      <td>0</td>\n",
       "      <td>0</td>\n",
       "      <td>0</td>\n",
       "      <td>0</td>\n",
       "      <td>0</td>\n",
       "      <td>0</td>\n",
       "      <td>0</td>\n",
       "      <td>0</td>\n",
       "      <td>0</td>\n",
       "      <td>0</td>\n",
       "    </tr>\n",
       "    <tr>\n",
       "      <th>1</th>\n",
       "      <td>2006</td>\n",
       "      <td>F</td>\n",
       "      <td>18.801</td>\n",
       "      <td>0</td>\n",
       "      <td>0</td>\n",
       "      <td>1</td>\n",
       "      <td>0</td>\n",
       "      <td>0</td>\n",
       "      <td>0</td>\n",
       "      <td>0</td>\n",
       "      <td>...</td>\n",
       "      <td>0</td>\n",
       "      <td>1</td>\n",
       "      <td>0</td>\n",
       "      <td>0</td>\n",
       "      <td>0</td>\n",
       "      <td>0</td>\n",
       "      <td>0</td>\n",
       "      <td>0</td>\n",
       "      <td>0</td>\n",
       "      <td>0</td>\n",
       "    </tr>\n",
       "    <tr>\n",
       "      <th>2</th>\n",
       "      <td>2006</td>\n",
       "      <td>M</td>\n",
       "      <td>18.335</td>\n",
       "      <td>69</td>\n",
       "      <td>0</td>\n",
       "      <td>1</td>\n",
       "      <td>0</td>\n",
       "      <td>0</td>\n",
       "      <td>0</td>\n",
       "      <td>0</td>\n",
       "      <td>...</td>\n",
       "      <td>0</td>\n",
       "      <td>0</td>\n",
       "      <td>0</td>\n",
       "      <td>0</td>\n",
       "      <td>0</td>\n",
       "      <td>0</td>\n",
       "      <td>0</td>\n",
       "      <td>1</td>\n",
       "      <td>0</td>\n",
       "      <td>0</td>\n",
       "    </tr>\n",
       "    <tr>\n",
       "      <th>3</th>\n",
       "      <td>2006</td>\n",
       "      <td>F</td>\n",
       "      <td>18.875</td>\n",
       "      <td>0</td>\n",
       "      <td>0</td>\n",
       "      <td>0</td>\n",
       "      <td>0</td>\n",
       "      <td>0</td>\n",
       "      <td>0</td>\n",
       "      <td>0</td>\n",
       "      <td>...</td>\n",
       "      <td>0</td>\n",
       "      <td>0</td>\n",
       "      <td>0</td>\n",
       "      <td>0</td>\n",
       "      <td>0</td>\n",
       "      <td>0</td>\n",
       "      <td>0</td>\n",
       "      <td>0</td>\n",
       "      <td>0</td>\n",
       "      <td>0</td>\n",
       "    </tr>\n",
       "    <tr>\n",
       "      <th>4</th>\n",
       "      <td>2006</td>\n",
       "      <td>NaN</td>\n",
       "      <td>18.995</td>\n",
       "      <td>10</td>\n",
       "      <td>0</td>\n",
       "      <td>0</td>\n",
       "      <td>0</td>\n",
       "      <td>0</td>\n",
       "      <td>0</td>\n",
       "      <td>0</td>\n",
       "      <td>...</td>\n",
       "      <td>0</td>\n",
       "      <td>0</td>\n",
       "      <td>2</td>\n",
       "      <td>0</td>\n",
       "      <td>0</td>\n",
       "      <td>0</td>\n",
       "      <td>0</td>\n",
       "      <td>0</td>\n",
       "      <td>1</td>\n",
       "      <td>1</td>\n",
       "    </tr>\n",
       "  </tbody>\n",
       "</table>\n",
       "<p>5 rows × 40 columns</p>\n",
       "</div>"
      ],
      "text/plain": [
       "   gradyear gender     age  friends  basketball  football  soccer  softball  \\\n",
       "0      2006      M  18.982        7           0         0       0         0   \n",
       "1      2006      F  18.801        0           0         1       0         0   \n",
       "2      2006      M  18.335       69           0         1       0         0   \n",
       "3      2006      F  18.875        0           0         0       0         0   \n",
       "4      2006    NaN  18.995       10           0         0       0         0   \n",
       "\n",
       "   volleyball  swimming  ...  blonde  mall  shopping  clothes  hollister  \\\n",
       "0           0         0  ...       0     0         0        0          0   \n",
       "1           0         0  ...       0     1         0        0          0   \n",
       "2           0         0  ...       0     0         0        0          0   \n",
       "3           0         0  ...       0     0         0        0          0   \n",
       "4           0         0  ...       0     0         2        0          0   \n",
       "\n",
       "   abercrombie  die  death  drunk  drugs  \n",
       "0            0    0      0      0      0  \n",
       "1            0    0      0      0      0  \n",
       "2            0    0      1      0      0  \n",
       "3            0    0      0      0      0  \n",
       "4            0    0      0      1      1  \n",
       "\n",
       "[5 rows x 40 columns]"
      ]
     },
     "execution_count": 5,
     "metadata": {},
     "output_type": "execute_result"
    }
   ],
   "source": [
    "social.head()"
   ]
  },
  {
   "cell_type": "code",
   "execution_count": 6,
   "metadata": {
    "colab": {
     "base_uri": "https://localhost:8080/"
    },
    "executionInfo": {
     "elapsed": 470,
     "status": "ok",
     "timestamp": 1628703893692,
     "user": {
      "displayName": "irving palacios",
      "photoUrl": "https://lh3.googleusercontent.com/a-/AOh14Gjw6M4LpzTUVro1G-5_aqYZYQhXb8NkvR-4cdiB=s64",
      "userId": "06814234566595318222"
     },
     "user_tz": 420
    },
    "id": "9I_cl3m-ynu7",
    "outputId": "4eaed0a2-664d-4c53-9569-c353d457d67a"
   },
   "outputs": [
    {
     "data": {
      "text/plain": [
       "gradyear          int64\n",
       "gender           object\n",
       "age             float64\n",
       "friends           int64\n",
       "basketball        int64\n",
       "football          int64\n",
       "soccer            int64\n",
       "softball          int64\n",
       "volleyball        int64\n",
       "swimming          int64\n",
       "cheerleading      int64\n",
       "baseball          int64\n",
       "tennis            int64\n",
       "sports            int64\n",
       "cute              int64\n",
       "sex               int64\n",
       "sexy              int64\n",
       "hot               int64\n",
       "kissed            int64\n",
       "dance             int64\n",
       "band              int64\n",
       "marching          int64\n",
       "music             int64\n",
       "rock              int64\n",
       "god               int64\n",
       "church            int64\n",
       "jesus             int64\n",
       "bible             int64\n",
       "hair              int64\n",
       "dress             int64\n",
       "blonde            int64\n",
       "mall              int64\n",
       "shopping          int64\n",
       "clothes           int64\n",
       "hollister         int64\n",
       "abercrombie       int64\n",
       "die               int64\n",
       "death             int64\n",
       "drunk             int64\n",
       "drugs             int64\n",
       "dtype: object"
      ]
     },
     "execution_count": 6,
     "metadata": {},
     "output_type": "execute_result"
    }
   ],
   "source": [
    "social.dtypes"
   ]
  },
  {
   "cell_type": "code",
   "execution_count": 7,
   "metadata": {
    "colab": {
     "base_uri": "https://localhost:8080/",
     "height": 1000
    },
    "executionInfo": {
     "elapsed": 182,
     "status": "ok",
     "timestamp": 1628703894020,
     "user": {
      "displayName": "irving palacios",
      "photoUrl": "https://lh3.googleusercontent.com/a-/AOh14Gjw6M4LpzTUVro1G-5_aqYZYQhXb8NkvR-4cdiB=s64",
      "userId": "06814234566595318222"
     },
     "user_tz": 420
    },
    "id": "g025ZeROyt2T",
    "outputId": "9240ba4e-28de-4575-b28e-6ac13260d970"
   },
   "outputs": [
    {
     "data": {
      "text/html": [
       "<div>\n",
       "<style scoped>\n",
       "    .dataframe tbody tr th:only-of-type {\n",
       "        vertical-align: middle;\n",
       "    }\n",
       "\n",
       "    .dataframe tbody tr th {\n",
       "        vertical-align: top;\n",
       "    }\n",
       "\n",
       "    .dataframe thead th {\n",
       "        text-align: right;\n",
       "    }\n",
       "</style>\n",
       "<table border=\"1\" class=\"dataframe\">\n",
       "  <thead>\n",
       "    <tr style=\"text-align: right;\">\n",
       "      <th></th>\n",
       "      <th>count</th>\n",
       "      <th>mean</th>\n",
       "      <th>std</th>\n",
       "      <th>min</th>\n",
       "      <th>25%</th>\n",
       "      <th>50%</th>\n",
       "      <th>75%</th>\n",
       "      <th>max</th>\n",
       "    </tr>\n",
       "  </thead>\n",
       "  <tbody>\n",
       "    <tr>\n",
       "      <th>gradyear</th>\n",
       "      <td>30000.0</td>\n",
       "      <td>2007.500000</td>\n",
       "      <td>1.118053</td>\n",
       "      <td>2006.000</td>\n",
       "      <td>2006.750</td>\n",
       "      <td>2007.500</td>\n",
       "      <td>2008.250</td>\n",
       "      <td>2009.000</td>\n",
       "    </tr>\n",
       "    <tr>\n",
       "      <th>age</th>\n",
       "      <td>24914.0</td>\n",
       "      <td>17.993950</td>\n",
       "      <td>7.858054</td>\n",
       "      <td>3.086</td>\n",
       "      <td>16.312</td>\n",
       "      <td>17.287</td>\n",
       "      <td>18.259</td>\n",
       "      <td>106.927</td>\n",
       "    </tr>\n",
       "    <tr>\n",
       "      <th>friends</th>\n",
       "      <td>30000.0</td>\n",
       "      <td>30.179467</td>\n",
       "      <td>36.530877</td>\n",
       "      <td>0.000</td>\n",
       "      <td>3.000</td>\n",
       "      <td>20.000</td>\n",
       "      <td>44.000</td>\n",
       "      <td>830.000</td>\n",
       "    </tr>\n",
       "    <tr>\n",
       "      <th>basketball</th>\n",
       "      <td>30000.0</td>\n",
       "      <td>0.267333</td>\n",
       "      <td>0.804708</td>\n",
       "      <td>0.000</td>\n",
       "      <td>0.000</td>\n",
       "      <td>0.000</td>\n",
       "      <td>0.000</td>\n",
       "      <td>24.000</td>\n",
       "    </tr>\n",
       "    <tr>\n",
       "      <th>football</th>\n",
       "      <td>30000.0</td>\n",
       "      <td>0.252300</td>\n",
       "      <td>0.705357</td>\n",
       "      <td>0.000</td>\n",
       "      <td>0.000</td>\n",
       "      <td>0.000</td>\n",
       "      <td>0.000</td>\n",
       "      <td>15.000</td>\n",
       "    </tr>\n",
       "    <tr>\n",
       "      <th>soccer</th>\n",
       "      <td>30000.0</td>\n",
       "      <td>0.222767</td>\n",
       "      <td>0.917226</td>\n",
       "      <td>0.000</td>\n",
       "      <td>0.000</td>\n",
       "      <td>0.000</td>\n",
       "      <td>0.000</td>\n",
       "      <td>27.000</td>\n",
       "    </tr>\n",
       "    <tr>\n",
       "      <th>softball</th>\n",
       "      <td>30000.0</td>\n",
       "      <td>0.161200</td>\n",
       "      <td>0.739707</td>\n",
       "      <td>0.000</td>\n",
       "      <td>0.000</td>\n",
       "      <td>0.000</td>\n",
       "      <td>0.000</td>\n",
       "      <td>17.000</td>\n",
       "    </tr>\n",
       "    <tr>\n",
       "      <th>volleyball</th>\n",
       "      <td>30000.0</td>\n",
       "      <td>0.143133</td>\n",
       "      <td>0.639943</td>\n",
       "      <td>0.000</td>\n",
       "      <td>0.000</td>\n",
       "      <td>0.000</td>\n",
       "      <td>0.000</td>\n",
       "      <td>14.000</td>\n",
       "    </tr>\n",
       "    <tr>\n",
       "      <th>swimming</th>\n",
       "      <td>30000.0</td>\n",
       "      <td>0.134400</td>\n",
       "      <td>0.516990</td>\n",
       "      <td>0.000</td>\n",
       "      <td>0.000</td>\n",
       "      <td>0.000</td>\n",
       "      <td>0.000</td>\n",
       "      <td>31.000</td>\n",
       "    </tr>\n",
       "    <tr>\n",
       "      <th>cheerleading</th>\n",
       "      <td>30000.0</td>\n",
       "      <td>0.106633</td>\n",
       "      <td>0.514333</td>\n",
       "      <td>0.000</td>\n",
       "      <td>0.000</td>\n",
       "      <td>0.000</td>\n",
       "      <td>0.000</td>\n",
       "      <td>9.000</td>\n",
       "    </tr>\n",
       "    <tr>\n",
       "      <th>baseball</th>\n",
       "      <td>30000.0</td>\n",
       "      <td>0.104933</td>\n",
       "      <td>0.521726</td>\n",
       "      <td>0.000</td>\n",
       "      <td>0.000</td>\n",
       "      <td>0.000</td>\n",
       "      <td>0.000</td>\n",
       "      <td>16.000</td>\n",
       "    </tr>\n",
       "    <tr>\n",
       "      <th>tennis</th>\n",
       "      <td>30000.0</td>\n",
       "      <td>0.087333</td>\n",
       "      <td>0.516961</td>\n",
       "      <td>0.000</td>\n",
       "      <td>0.000</td>\n",
       "      <td>0.000</td>\n",
       "      <td>0.000</td>\n",
       "      <td>15.000</td>\n",
       "    </tr>\n",
       "    <tr>\n",
       "      <th>sports</th>\n",
       "      <td>30000.0</td>\n",
       "      <td>0.139967</td>\n",
       "      <td>0.471080</td>\n",
       "      <td>0.000</td>\n",
       "      <td>0.000</td>\n",
       "      <td>0.000</td>\n",
       "      <td>0.000</td>\n",
       "      <td>12.000</td>\n",
       "    </tr>\n",
       "    <tr>\n",
       "      <th>cute</th>\n",
       "      <td>30000.0</td>\n",
       "      <td>0.322867</td>\n",
       "      <td>0.802441</td>\n",
       "      <td>0.000</td>\n",
       "      <td>0.000</td>\n",
       "      <td>0.000</td>\n",
       "      <td>0.000</td>\n",
       "      <td>18.000</td>\n",
       "    </tr>\n",
       "    <tr>\n",
       "      <th>sex</th>\n",
       "      <td>30000.0</td>\n",
       "      <td>0.209400</td>\n",
       "      <td>1.123504</td>\n",
       "      <td>0.000</td>\n",
       "      <td>0.000</td>\n",
       "      <td>0.000</td>\n",
       "      <td>0.000</td>\n",
       "      <td>114.000</td>\n",
       "    </tr>\n",
       "    <tr>\n",
       "      <th>sexy</th>\n",
       "      <td>30000.0</td>\n",
       "      <td>0.141200</td>\n",
       "      <td>0.528209</td>\n",
       "      <td>0.000</td>\n",
       "      <td>0.000</td>\n",
       "      <td>0.000</td>\n",
       "      <td>0.000</td>\n",
       "      <td>18.000</td>\n",
       "    </tr>\n",
       "    <tr>\n",
       "      <th>hot</th>\n",
       "      <td>30000.0</td>\n",
       "      <td>0.126600</td>\n",
       "      <td>0.479145</td>\n",
       "      <td>0.000</td>\n",
       "      <td>0.000</td>\n",
       "      <td>0.000</td>\n",
       "      <td>0.000</td>\n",
       "      <td>10.000</td>\n",
       "    </tr>\n",
       "    <tr>\n",
       "      <th>kissed</th>\n",
       "      <td>30000.0</td>\n",
       "      <td>0.103200</td>\n",
       "      <td>0.509338</td>\n",
       "      <td>0.000</td>\n",
       "      <td>0.000</td>\n",
       "      <td>0.000</td>\n",
       "      <td>0.000</td>\n",
       "      <td>26.000</td>\n",
       "    </tr>\n",
       "    <tr>\n",
       "      <th>dance</th>\n",
       "      <td>30000.0</td>\n",
       "      <td>0.425167</td>\n",
       "      <td>1.162574</td>\n",
       "      <td>0.000</td>\n",
       "      <td>0.000</td>\n",
       "      <td>0.000</td>\n",
       "      <td>0.000</td>\n",
       "      <td>30.000</td>\n",
       "    </tr>\n",
       "    <tr>\n",
       "      <th>band</th>\n",
       "      <td>30000.0</td>\n",
       "      <td>0.299600</td>\n",
       "      <td>1.118786</td>\n",
       "      <td>0.000</td>\n",
       "      <td>0.000</td>\n",
       "      <td>0.000</td>\n",
       "      <td>0.000</td>\n",
       "      <td>66.000</td>\n",
       "    </tr>\n",
       "    <tr>\n",
       "      <th>marching</th>\n",
       "      <td>30000.0</td>\n",
       "      <td>0.040600</td>\n",
       "      <td>0.287091</td>\n",
       "      <td>0.000</td>\n",
       "      <td>0.000</td>\n",
       "      <td>0.000</td>\n",
       "      <td>0.000</td>\n",
       "      <td>11.000</td>\n",
       "    </tr>\n",
       "    <tr>\n",
       "      <th>music</th>\n",
       "      <td>30000.0</td>\n",
       "      <td>0.737833</td>\n",
       "      <td>1.252366</td>\n",
       "      <td>0.000</td>\n",
       "      <td>0.000</td>\n",
       "      <td>0.000</td>\n",
       "      <td>1.000</td>\n",
       "      <td>64.000</td>\n",
       "    </tr>\n",
       "    <tr>\n",
       "      <th>rock</th>\n",
       "      <td>30000.0</td>\n",
       "      <td>0.243333</td>\n",
       "      <td>0.720375</td>\n",
       "      <td>0.000</td>\n",
       "      <td>0.000</td>\n",
       "      <td>0.000</td>\n",
       "      <td>0.000</td>\n",
       "      <td>21.000</td>\n",
       "    </tr>\n",
       "    <tr>\n",
       "      <th>god</th>\n",
       "      <td>30000.0</td>\n",
       "      <td>0.465300</td>\n",
       "      <td>1.343226</td>\n",
       "      <td>0.000</td>\n",
       "      <td>0.000</td>\n",
       "      <td>0.000</td>\n",
       "      <td>1.000</td>\n",
       "      <td>79.000</td>\n",
       "    </tr>\n",
       "    <tr>\n",
       "      <th>church</th>\n",
       "      <td>30000.0</td>\n",
       "      <td>0.248167</td>\n",
       "      <td>0.834028</td>\n",
       "      <td>0.000</td>\n",
       "      <td>0.000</td>\n",
       "      <td>0.000</td>\n",
       "      <td>0.000</td>\n",
       "      <td>44.000</td>\n",
       "    </tr>\n",
       "    <tr>\n",
       "      <th>jesus</th>\n",
       "      <td>30000.0</td>\n",
       "      <td>0.112067</td>\n",
       "      <td>0.581709</td>\n",
       "      <td>0.000</td>\n",
       "      <td>0.000</td>\n",
       "      <td>0.000</td>\n",
       "      <td>0.000</td>\n",
       "      <td>30.000</td>\n",
       "    </tr>\n",
       "    <tr>\n",
       "      <th>bible</th>\n",
       "      <td>30000.0</td>\n",
       "      <td>0.021333</td>\n",
       "      <td>0.204645</td>\n",
       "      <td>0.000</td>\n",
       "      <td>0.000</td>\n",
       "      <td>0.000</td>\n",
       "      <td>0.000</td>\n",
       "      <td>11.000</td>\n",
       "    </tr>\n",
       "    <tr>\n",
       "      <th>hair</th>\n",
       "      <td>30000.0</td>\n",
       "      <td>0.422567</td>\n",
       "      <td>1.097958</td>\n",
       "      <td>0.000</td>\n",
       "      <td>0.000</td>\n",
       "      <td>0.000</td>\n",
       "      <td>0.000</td>\n",
       "      <td>37.000</td>\n",
       "    </tr>\n",
       "    <tr>\n",
       "      <th>dress</th>\n",
       "      <td>30000.0</td>\n",
       "      <td>0.110967</td>\n",
       "      <td>0.449436</td>\n",
       "      <td>0.000</td>\n",
       "      <td>0.000</td>\n",
       "      <td>0.000</td>\n",
       "      <td>0.000</td>\n",
       "      <td>9.000</td>\n",
       "    </tr>\n",
       "    <tr>\n",
       "      <th>blonde</th>\n",
       "      <td>30000.0</td>\n",
       "      <td>0.098933</td>\n",
       "      <td>1.942319</td>\n",
       "      <td>0.000</td>\n",
       "      <td>0.000</td>\n",
       "      <td>0.000</td>\n",
       "      <td>0.000</td>\n",
       "      <td>327.000</td>\n",
       "    </tr>\n",
       "    <tr>\n",
       "      <th>mall</th>\n",
       "      <td>30000.0</td>\n",
       "      <td>0.257367</td>\n",
       "      <td>0.695758</td>\n",
       "      <td>0.000</td>\n",
       "      <td>0.000</td>\n",
       "      <td>0.000</td>\n",
       "      <td>0.000</td>\n",
       "      <td>12.000</td>\n",
       "    </tr>\n",
       "    <tr>\n",
       "      <th>shopping</th>\n",
       "      <td>30000.0</td>\n",
       "      <td>0.353000</td>\n",
       "      <td>0.724391</td>\n",
       "      <td>0.000</td>\n",
       "      <td>0.000</td>\n",
       "      <td>0.000</td>\n",
       "      <td>1.000</td>\n",
       "      <td>11.000</td>\n",
       "    </tr>\n",
       "    <tr>\n",
       "      <th>clothes</th>\n",
       "      <td>30000.0</td>\n",
       "      <td>0.148500</td>\n",
       "      <td>0.472640</td>\n",
       "      <td>0.000</td>\n",
       "      <td>0.000</td>\n",
       "      <td>0.000</td>\n",
       "      <td>0.000</td>\n",
       "      <td>8.000</td>\n",
       "    </tr>\n",
       "    <tr>\n",
       "      <th>hollister</th>\n",
       "      <td>30000.0</td>\n",
       "      <td>0.069867</td>\n",
       "      <td>0.346779</td>\n",
       "      <td>0.000</td>\n",
       "      <td>0.000</td>\n",
       "      <td>0.000</td>\n",
       "      <td>0.000</td>\n",
       "      <td>9.000</td>\n",
       "    </tr>\n",
       "    <tr>\n",
       "      <th>abercrombie</th>\n",
       "      <td>30000.0</td>\n",
       "      <td>0.051167</td>\n",
       "      <td>0.279555</td>\n",
       "      <td>0.000</td>\n",
       "      <td>0.000</td>\n",
       "      <td>0.000</td>\n",
       "      <td>0.000</td>\n",
       "      <td>8.000</td>\n",
       "    </tr>\n",
       "    <tr>\n",
       "      <th>die</th>\n",
       "      <td>30000.0</td>\n",
       "      <td>0.184100</td>\n",
       "      <td>0.624516</td>\n",
       "      <td>0.000</td>\n",
       "      <td>0.000</td>\n",
       "      <td>0.000</td>\n",
       "      <td>0.000</td>\n",
       "      <td>22.000</td>\n",
       "    </tr>\n",
       "    <tr>\n",
       "      <th>death</th>\n",
       "      <td>30000.0</td>\n",
       "      <td>0.114233</td>\n",
       "      <td>0.436796</td>\n",
       "      <td>0.000</td>\n",
       "      <td>0.000</td>\n",
       "      <td>0.000</td>\n",
       "      <td>0.000</td>\n",
       "      <td>14.000</td>\n",
       "    </tr>\n",
       "    <tr>\n",
       "      <th>drunk</th>\n",
       "      <td>30000.0</td>\n",
       "      <td>0.087967</td>\n",
       "      <td>0.399125</td>\n",
       "      <td>0.000</td>\n",
       "      <td>0.000</td>\n",
       "      <td>0.000</td>\n",
       "      <td>0.000</td>\n",
       "      <td>8.000</td>\n",
       "    </tr>\n",
       "    <tr>\n",
       "      <th>drugs</th>\n",
       "      <td>30000.0</td>\n",
       "      <td>0.060433</td>\n",
       "      <td>0.345522</td>\n",
       "      <td>0.000</td>\n",
       "      <td>0.000</td>\n",
       "      <td>0.000</td>\n",
       "      <td>0.000</td>\n",
       "      <td>16.000</td>\n",
       "    </tr>\n",
       "  </tbody>\n",
       "</table>\n",
       "</div>"
      ],
      "text/plain": [
       "                count         mean        std       min       25%       50%  \\\n",
       "gradyear      30000.0  2007.500000   1.118053  2006.000  2006.750  2007.500   \n",
       "age           24914.0    17.993950   7.858054     3.086    16.312    17.287   \n",
       "friends       30000.0    30.179467  36.530877     0.000     3.000    20.000   \n",
       "basketball    30000.0     0.267333   0.804708     0.000     0.000     0.000   \n",
       "football      30000.0     0.252300   0.705357     0.000     0.000     0.000   \n",
       "soccer        30000.0     0.222767   0.917226     0.000     0.000     0.000   \n",
       "softball      30000.0     0.161200   0.739707     0.000     0.000     0.000   \n",
       "volleyball    30000.0     0.143133   0.639943     0.000     0.000     0.000   \n",
       "swimming      30000.0     0.134400   0.516990     0.000     0.000     0.000   \n",
       "cheerleading  30000.0     0.106633   0.514333     0.000     0.000     0.000   \n",
       "baseball      30000.0     0.104933   0.521726     0.000     0.000     0.000   \n",
       "tennis        30000.0     0.087333   0.516961     0.000     0.000     0.000   \n",
       "sports        30000.0     0.139967   0.471080     0.000     0.000     0.000   \n",
       "cute          30000.0     0.322867   0.802441     0.000     0.000     0.000   \n",
       "sex           30000.0     0.209400   1.123504     0.000     0.000     0.000   \n",
       "sexy          30000.0     0.141200   0.528209     0.000     0.000     0.000   \n",
       "hot           30000.0     0.126600   0.479145     0.000     0.000     0.000   \n",
       "kissed        30000.0     0.103200   0.509338     0.000     0.000     0.000   \n",
       "dance         30000.0     0.425167   1.162574     0.000     0.000     0.000   \n",
       "band          30000.0     0.299600   1.118786     0.000     0.000     0.000   \n",
       "marching      30000.0     0.040600   0.287091     0.000     0.000     0.000   \n",
       "music         30000.0     0.737833   1.252366     0.000     0.000     0.000   \n",
       "rock          30000.0     0.243333   0.720375     0.000     0.000     0.000   \n",
       "god           30000.0     0.465300   1.343226     0.000     0.000     0.000   \n",
       "church        30000.0     0.248167   0.834028     0.000     0.000     0.000   \n",
       "jesus         30000.0     0.112067   0.581709     0.000     0.000     0.000   \n",
       "bible         30000.0     0.021333   0.204645     0.000     0.000     0.000   \n",
       "hair          30000.0     0.422567   1.097958     0.000     0.000     0.000   \n",
       "dress         30000.0     0.110967   0.449436     0.000     0.000     0.000   \n",
       "blonde        30000.0     0.098933   1.942319     0.000     0.000     0.000   \n",
       "mall          30000.0     0.257367   0.695758     0.000     0.000     0.000   \n",
       "shopping      30000.0     0.353000   0.724391     0.000     0.000     0.000   \n",
       "clothes       30000.0     0.148500   0.472640     0.000     0.000     0.000   \n",
       "hollister     30000.0     0.069867   0.346779     0.000     0.000     0.000   \n",
       "abercrombie   30000.0     0.051167   0.279555     0.000     0.000     0.000   \n",
       "die           30000.0     0.184100   0.624516     0.000     0.000     0.000   \n",
       "death         30000.0     0.114233   0.436796     0.000     0.000     0.000   \n",
       "drunk         30000.0     0.087967   0.399125     0.000     0.000     0.000   \n",
       "drugs         30000.0     0.060433   0.345522     0.000     0.000     0.000   \n",
       "\n",
       "                   75%       max  \n",
       "gradyear      2008.250  2009.000  \n",
       "age             18.259   106.927  \n",
       "friends         44.000   830.000  \n",
       "basketball       0.000    24.000  \n",
       "football         0.000    15.000  \n",
       "soccer           0.000    27.000  \n",
       "softball         0.000    17.000  \n",
       "volleyball       0.000    14.000  \n",
       "swimming         0.000    31.000  \n",
       "cheerleading     0.000     9.000  \n",
       "baseball         0.000    16.000  \n",
       "tennis           0.000    15.000  \n",
       "sports           0.000    12.000  \n",
       "cute             0.000    18.000  \n",
       "sex              0.000   114.000  \n",
       "sexy             0.000    18.000  \n",
       "hot              0.000    10.000  \n",
       "kissed           0.000    26.000  \n",
       "dance            0.000    30.000  \n",
       "band             0.000    66.000  \n",
       "marching         0.000    11.000  \n",
       "music            1.000    64.000  \n",
       "rock             0.000    21.000  \n",
       "god              1.000    79.000  \n",
       "church           0.000    44.000  \n",
       "jesus            0.000    30.000  \n",
       "bible            0.000    11.000  \n",
       "hair             0.000    37.000  \n",
       "dress            0.000     9.000  \n",
       "blonde           0.000   327.000  \n",
       "mall             0.000    12.000  \n",
       "shopping         1.000    11.000  \n",
       "clothes          0.000     8.000  \n",
       "hollister        0.000     9.000  \n",
       "abercrombie      0.000     8.000  \n",
       "die              0.000    22.000  \n",
       "death            0.000    14.000  \n",
       "drunk            0.000     8.000  \n",
       "drugs            0.000    16.000  "
      ]
     },
     "execution_count": 7,
     "metadata": {},
     "output_type": "execute_result"
    }
   ],
   "source": [
    "social.describe().T"
   ]
  },
  {
   "cell_type": "code",
   "execution_count": 8,
   "metadata": {
    "colab": {
     "base_uri": "https://localhost:8080/"
    },
    "executionInfo": {
     "elapsed": 176,
     "status": "ok",
     "timestamp": 1628703894026,
     "user": {
      "displayName": "irving palacios",
      "photoUrl": "https://lh3.googleusercontent.com/a-/AOh14Gjw6M4LpzTUVro1G-5_aqYZYQhXb8NkvR-4cdiB=s64",
      "userId": "06814234566595318222"
     },
     "user_tz": 420
    },
    "id": "5CgdTV6mz-Mr",
    "outputId": "ece9ed49-86cc-4b83-c1b1-562bb431109f"
   },
   "outputs": [
    {
     "data": {
      "text/plain": [
       "(30000, 40)"
      ]
     },
     "execution_count": 8,
     "metadata": {},
     "output_type": "execute_result"
    }
   ],
   "source": [
    "social.shape"
   ]
  },
  {
   "cell_type": "code",
   "execution_count": 9,
   "metadata": {
    "colab": {
     "base_uri": "https://localhost:8080/"
    },
    "executionInfo": {
     "elapsed": 192,
     "status": "ok",
     "timestamp": 1628703894048,
     "user": {
      "displayName": "irving palacios",
      "photoUrl": "https://lh3.googleusercontent.com/a-/AOh14Gjw6M4LpzTUVro1G-5_aqYZYQhXb8NkvR-4cdiB=s64",
      "userId": "06814234566595318222"
     },
     "user_tz": 420
    },
    "id": "t1VzHq656r08",
    "outputId": "640f7669-b7a0-4470-f0a5-31c05aa205fd"
   },
   "outputs": [
    {
     "data": {
      "text/plain": [
       "0.0908"
      ]
     },
     "execution_count": 9,
     "metadata": {},
     "output_type": "execute_result"
    }
   ],
   "source": [
    "social.gender.isnull().sum()/social.shape[0]\n",
    "\n",
    "#We are gonna assign NA to 'Other', since we are limitating only to two genders"
   ]
  },
  {
   "cell_type": "code",
   "execution_count": 10,
   "metadata": {
    "colab": {
     "base_uri": "https://localhost:8080/"
    },
    "executionInfo": {
     "elapsed": 197,
     "status": "ok",
     "timestamp": 1628703894069,
     "user": {
      "displayName": "irving palacios",
      "photoUrl": "https://lh3.googleusercontent.com/a-/AOh14Gjw6M4LpzTUVro1G-5_aqYZYQhXb8NkvR-4cdiB=s64",
      "userId": "06814234566595318222"
     },
     "user_tz": 420
    },
    "id": "Owsw7BcD0HSy",
    "outputId": "81e6c0d1-cdf7-43e2-8c90-4ac6c507e22f"
   },
   "outputs": [
    {
     "data": {
      "text/plain": [
       "0.16953333333333334"
      ]
     },
     "execution_count": 10,
     "metadata": {},
     "output_type": "execute_result"
    }
   ],
   "source": [
    "social.age.isnull().sum()/social.shape[0]\n",
    "\n",
    "#Because of the high ratio of missing values at age column, we are gonna assign it too to 'Unspecified'"
   ]
  },
  {
   "cell_type": "code",
   "execution_count": 11,
   "metadata": {
    "colab": {
     "base_uri": "https://localhost:8080/"
    },
    "executionInfo": {
     "elapsed": 191,
     "status": "ok",
     "timestamp": 1628703894070,
     "user": {
      "displayName": "irving palacios",
      "photoUrl": "https://lh3.googleusercontent.com/a-/AOh14Gjw6M4LpzTUVro1G-5_aqYZYQhXb8NkvR-4cdiB=s64",
      "userId": "06814234566595318222"
     },
     "user_tz": 420
    },
    "id": "I6pNQBiUz3LS",
    "outputId": "bfc468c4-dbfc-408b-e2df-21a40267d4bf"
   },
   "outputs": [
    {
     "data": {
      "text/plain": [
       "gender    2724\n",
       "age       5086\n",
       "dtype: int64"
      ]
     },
     "execution_count": 11,
     "metadata": {},
     "output_type": "execute_result"
    }
   ],
   "source": [
    "null_cols = social.isnull().sum()\n",
    "null_cols[null_cols > 0]"
   ]
  },
  {
   "cell_type": "code",
   "execution_count": 12,
   "metadata": {
    "executionInfo": {
     "elapsed": 183,
     "status": "ok",
     "timestamp": 1628703894078,
     "user": {
      "displayName": "irving palacios",
      "photoUrl": "https://lh3.googleusercontent.com/a-/AOh14Gjw6M4LpzTUVro1G-5_aqYZYQhXb8NkvR-4cdiB=s64",
      "userId": "06814234566595318222"
     },
     "user_tz": 420
    },
    "id": "UXzlxAlU-2lj"
   },
   "outputs": [],
   "source": [
    "#Things that need to be fixed:\n",
    "\n",
    "#Change the values of gender and age.\n",
    "#Check outliers\n",
    "#Just to be sure, strip the columns, so we do not have spaces\n",
    "\n",
    "#Keep going with the lesson"
   ]
  },
  {
   "cell_type": "markdown",
   "metadata": {
    "id": "YK7HSRwxhEvx"
   },
   "source": [
    "## 1. Data Wrangling\n",
    "\n",
    "If you found in the last step that there are variables that need to be dealt with before we can start our analysis, please do it. Comment your code and take us through the steps of your thinking.  \n",
    "\n",
    "Consider the some of these aspects:  \n",
    "* Wrong data types\n",
    "* Null values\n",
    "* Consistency in categorical data"
   ]
  },
  {
   "cell_type": "markdown",
   "metadata": {
    "id": "6eKevoS9C3iB"
   },
   "source": [
    "##Handle Nan"
   ]
  },
  {
   "cell_type": "code",
   "execution_count": 13,
   "metadata": {
    "colab": {
     "base_uri": "https://localhost:8080/"
    },
    "executionInfo": {
     "elapsed": 183,
     "status": "ok",
     "timestamp": 1628703894079,
     "user": {
      "displayName": "irving palacios",
      "photoUrl": "https://lh3.googleusercontent.com/a-/AOh14Gjw6M4LpzTUVro1G-5_aqYZYQhXb8NkvR-4cdiB=s64",
      "userId": "06814234566595318222"
     },
     "user_tz": 420
    },
    "id": "tfXbCiUBhEvy",
    "outputId": "51d3b569-dae8-4262-9cb0-6ec215696147"
   },
   "outputs": [
    {
     "data": {
      "text/plain": [
       "gender    0\n",
       "age       0\n",
       "dtype: int64"
      ]
     },
     "execution_count": 13,
     "metadata": {},
     "output_type": "execute_result"
    }
   ],
   "source": [
    "#Your code here:\n",
    "\n",
    "social[\"age\"].fillna(0, inplace = True)\n",
    "social[\"gender\"].fillna(\"Other\", inplace = True)\n",
    "\n",
    "social[['gender','age']].isnull().sum()\n",
    "\n",
    "#Great! There aren't more missing values and we didn't need to drop & lose info. \n"
   ]
  },
  {
   "cell_type": "markdown",
   "metadata": {
    "id": "9XpDgIDiC6Sq"
   },
   "source": [
    "##Strip column names"
   ]
  },
  {
   "cell_type": "code",
   "execution_count": 14,
   "metadata": {
    "colab": {
     "base_uri": "https://localhost:8080/"
    },
    "executionInfo": {
     "elapsed": 176,
     "status": "ok",
     "timestamp": 1628703894080,
     "user": {
      "displayName": "irving palacios",
      "photoUrl": "https://lh3.googleusercontent.com/a-/AOh14Gjw6M4LpzTUVro1G-5_aqYZYQhXb8NkvR-4cdiB=s64",
      "userId": "06814234566595318222"
     },
     "user_tz": 420
    },
    "id": "_W4BleDRE65T",
    "outputId": "6db80867-0e02-437c-8fd6-1c2197b318b8"
   },
   "outputs": [
    {
     "data": {
      "text/plain": [
       "Index(['gradyear', 'gender', 'age', 'friends', 'basketball', 'football',\n",
       "       'soccer', 'softball', 'volleyball', 'swimming', 'cheerleading',\n",
       "       'baseball', 'tennis', 'sports', 'cute', 'sex', 'sexy', 'hot', 'kissed',\n",
       "       'dance', 'band', 'marching', 'music', 'rock', 'god', 'church', 'jesus',\n",
       "       'bible', 'hair', 'dress', 'blonde', 'mall', 'shopping', 'clothes',\n",
       "       'hollister', 'abercrombie', 'die', 'death', 'drunk', 'drugs'],\n",
       "      dtype='object')"
      ]
     },
     "execution_count": 14,
     "metadata": {},
     "output_type": "execute_result"
    }
   ],
   "source": [
    "social.columns = social.columns.str.replace(' ', '')\n",
    "social.columns"
   ]
  },
  {
   "cell_type": "markdown",
   "metadata": {
    "id": "UwZT9HbkhEvy"
   },
   "source": [
    "## 2. Data Visualization\n",
    "\n",
    "Now that the data is more or less fixed, plot some charts to understand better how it is composed:  \n",
    "* Check distribution of variables - do we have outliers? What should we do with them?\n",
    "* Understand which features are correlated - do they represent the same? Which ones should we keep?\n",
    "* When we compare two variables, is it possible to see groups in the data?\n",
    "* Given the dimension of the dataset, would it be useful to perform dimension reduction in some variables? Which ones would you group?\n",
    "\n",
    "Comment your ideas based on the visualizations you made and other data exploration. What will be your next steps before modeling?"
   ]
  },
  {
   "cell_type": "code",
   "execution_count": 15,
   "metadata": {
    "executionInfo": {
     "elapsed": 173,
     "status": "ok",
     "timestamp": 1628703894086,
     "user": {
      "displayName": "irving palacios",
      "photoUrl": "https://lh3.googleusercontent.com/a-/AOh14Gjw6M4LpzTUVro1G-5_aqYZYQhXb8NkvR-4cdiB=s64",
      "userId": "06814234566595318222"
     },
     "user_tz": 420
    },
    "id": "RLhzVJAMhEvy"
   },
   "outputs": [],
   "source": [
    "#Your code here:\n",
    "\n",
    "\n"
   ]
  },
  {
   "cell_type": "markdown",
   "metadata": {
    "id": "COMpXoTYFPKi"
   },
   "source": [
    "##Checking correlations"
   ]
  },
  {
   "cell_type": "code",
   "execution_count": 16,
   "metadata": {
    "colab": {
     "base_uri": "https://localhost:8080/",
     "height": 1000
    },
    "executionInfo": {
     "elapsed": 4744,
     "status": "ok",
     "timestamp": 1628703898658,
     "user": {
      "displayName": "irving palacios",
      "photoUrl": "https://lh3.googleusercontent.com/a-/AOh14Gjw6M4LpzTUVro1G-5_aqYZYQhXb8NkvR-4cdiB=s64",
      "userId": "06814234566595318222"
     },
     "user_tz": 420
    },
    "id": "Uy_pY9wP1yGT",
    "outputId": "3e82c746-6617-4c90-b130-94bb3d1f1566"
   },
   "outputs": [
    {
     "data": {
      "text/plain": [
       "<AxesSubplot:title={'center':'Triangle Correlation Heatmap'}>"
      ]
     },
     "execution_count": 16,
     "metadata": {},
     "output_type": "execute_result"
    },
    {
     "data": {
      "image/png": "[encoded data removed]",
      "text/plain": [
       "<Figure size 2592x1872 with 2 Axes>"
      ]
     },
     "metadata": {},
     "output_type": "display_data"
    }
   ],
   "source": [
    "def correlation_plot (dataset):\n",
    "  \n",
    "  corr_plot=dataset.corr()\n",
    "  plt.figure(figsize=(36, 26))\n",
    "  mask = np.triu(np.ones_like(corr_plot, dtype=np.bool))\n",
    "  heatmap = sns.heatmap(corr_plot, mask=mask, vmin=-1, vmax=1, annot=True, cmap='summer')\n",
    "  heatmap.set_title('Triangle Correlation Heatmap', fontdict={'fontsize':18}, pad=16);\n",
    "  return heatmap\n",
    "\n",
    "correlation_plot(social)"
   ]
  },
  {
   "cell_type": "code",
   "execution_count": 17,
   "metadata": {
    "colab": {
     "base_uri": "https://localhost:8080/"
    },
    "executionInfo": {
     "elapsed": 48,
     "status": "ok",
     "timestamp": 1628703898659,
     "user": {
      "displayName": "irving palacios",
      "photoUrl": "https://lh3.googleusercontent.com/a-/AOh14Gjw6M4LpzTUVro1G-5_aqYZYQhXb8NkvR-4cdiB=s64",
      "userId": "06814234566595318222"
     },
     "user_tz": 420
    },
    "id": "X8ArXo5OYq3q",
    "outputId": "1bab28f0-01af-4c96-f973-15ed3b7873fb"
   },
   "outputs": [
    {
     "data": {
      "text/plain": [
       "40"
      ]
     },
     "execution_count": 17,
     "metadata": {},
     "output_type": "execute_result"
    }
   ],
   "source": [
    "#Even we cannot appreciate a high columns correlation, we are going to apply a \n",
    "#function to delete the columns that are highly correlated. We are going to drop\n",
    "#columns with more than 90% of correlation.\n",
    "\n",
    "len(list(social.columns))"
   ]
  },
  {
   "cell_type": "code",
   "execution_count": 18,
   "metadata": {
    "executionInfo": {
     "elapsed": 41,
     "status": "ok",
     "timestamp": 1628703898659,
     "user": {
      "displayName": "irving palacios",
      "photoUrl": "https://lh3.googleusercontent.com/a-/AOh14Gjw6M4LpzTUVro1G-5_aqYZYQhXb8NkvR-4cdiB=s64",
      "userId": "06814234566595318222"
     },
     "user_tz": 420
    },
    "id": "qR_4qXGiZA37"
   },
   "outputs": [],
   "source": [
    "# Your code here\n",
    "def correlation(dataset, threshold):\n",
    "    col_corr = set() # Set of all the names of deleted columns\n",
    "    corr_matrix = dataset.corr()\n",
    "    for i in range(len(corr_matrix.columns)):\n",
    "        for j in range(i):\n",
    "            if (corr_matrix.iloc[i, j] >= threshold) and (corr_matrix.columns[j] not in col_corr):\n",
    "                colname = corr_matrix.columns[i] # getting the name of column\n",
    "                col_corr.add(colname)\n",
    "                if colname in dataset.columns:\n",
    "                    del dataset[colname] # deleting the column from the dataset\n",
    "\n",
    "    return dataset"
   ]
  },
  {
   "cell_type": "code",
   "execution_count": 19,
   "metadata": {
    "colab": {
     "base_uri": "https://localhost:8080/"
    },
    "executionInfo": {
     "elapsed": 40,
     "status": "ok",
     "timestamp": 1628703898660,
     "user": {
      "displayName": "irving palacios",
      "photoUrl": "https://lh3.googleusercontent.com/a-/AOh14Gjw6M4LpzTUVro1G-5_aqYZYQhXb8NkvR-4cdiB=s64",
      "userId": "06814234566595318222"
     },
     "user_tz": 420
    },
    "id": "KoKc2LD7ZKn0",
    "outputId": "1214184f-c490-454e-c080-6f537fcab9c6"
   },
   "outputs": [
    {
     "data": {
      "text/plain": [
       "40"
      ]
     },
     "execution_count": 19,
     "metadata": {},
     "output_type": "execute_result"
    }
   ],
   "source": [
    "correlation(social,0.9)\n",
    "\n",
    "len(list(social.columns))"
   ]
  },
  {
   "cell_type": "code",
   "execution_count": 20,
   "metadata": {
    "executionInfo": {
     "elapsed": 35,
     "status": "ok",
     "timestamp": 1628703898661,
     "user": {
      "displayName": "irving palacios",
      "photoUrl": "https://lh3.googleusercontent.com/a-/AOh14Gjw6M4LpzTUVro1G-5_aqYZYQhXb8NkvR-4cdiB=s64",
      "userId": "06814234566595318222"
     },
     "user_tz": 420
    },
    "id": "qEeipt4FZNZ6"
   },
   "outputs": [],
   "source": [
    "#As we expected, there aren´t deleted columns because of the correlation values!"
   ]
  },
  {
   "cell_type": "code",
   "execution_count": 21,
   "metadata": {
    "colab": {
     "base_uri": "https://localhost:8080/"
    },
    "executionInfo": {
     "elapsed": 202,
     "status": "ok",
     "timestamp": 1628703898830,
     "user": {
      "displayName": "irving palacios",
      "photoUrl": "https://lh3.googleusercontent.com/a-/AOh14Gjw6M4LpzTUVro1G-5_aqYZYQhXb8NkvR-4cdiB=s64",
      "userId": "06814234566595318222"
     },
     "user_tz": 420
    },
    "id": "b2bdimplE9LY",
    "outputId": "a7badbe9-76e7-4e51-f9d5-b038d852d838"
   },
   "outputs": [
    {
     "data": {
      "text/plain": [
       "gradyear        0\n",
       "gender          0\n",
       "age             0\n",
       "friends         0\n",
       "basketball      0\n",
       "football        0\n",
       "soccer          0\n",
       "softball        0\n",
       "volleyball      0\n",
       "swimming        0\n",
       "cheerleading    0\n",
       "baseball        0\n",
       "tennis          0\n",
       "sports          0\n",
       "cute            0\n",
       "sex             0\n",
       "sexy            0\n",
       "hot             0\n",
       "kissed          0\n",
       "dance           0\n",
       "band            0\n",
       "marching        0\n",
       "music           0\n",
       "rock            0\n",
       "god             0\n",
       "church          0\n",
       "jesus           0\n",
       "bible           0\n",
       "hair            0\n",
       "dress           0\n",
       "blonde          0\n",
       "mall            0\n",
       "shopping        0\n",
       "clothes         0\n",
       "hollister       0\n",
       "abercrombie     0\n",
       "die             0\n",
       "death           0\n",
       "drunk           0\n",
       "drugs           0\n",
       "dtype: int64"
      ]
     },
     "execution_count": 21,
     "metadata": {},
     "output_type": "execute_result"
    }
   ],
   "source": [
    "social.isnull().sum()"
   ]
  },
  {
   "cell_type": "markdown",
   "metadata": {
    "id": "wB0C9MP7FSOS"
   },
   "source": [
    "##Checking if there are any outliers"
   ]
  },
  {
   "cell_type": "markdown",
   "metadata": {
    "id": "WADkwtARreqc"
   },
   "source": [
    "##Fixing some things before plot..."
   ]
  },
  {
   "cell_type": "code",
   "execution_count": 22,
   "metadata": {
    "executionInfo": {
     "elapsed": 7,
     "status": "ok",
     "timestamp": 1628703898835,
     "user": {
      "displayName": "irving palacios",
      "photoUrl": "https://lh3.googleusercontent.com/a-/AOh14Gjw6M4LpzTUVro1G-5_aqYZYQhXb8NkvR-4cdiB=s64",
      "userId": "06814234566595318222"
     },
     "user_tz": 420
    },
    "id": "VYRaxf3epaKQ"
   },
   "outputs": [],
   "source": [
    "social['age']=social.age.round(decimals=0)\n",
    "\n",
    "columnillas = list(social.columns)"
   ]
  },
  {
   "cell_type": "code",
   "execution_count": 23,
   "metadata": {
    "colab": {
     "base_uri": "https://localhost:8080/",
     "height": 1000
    },
    "executionInfo": {
     "elapsed": 4833,
     "status": "ok",
     "timestamp": 1628703903662,
     "user": {
      "displayName": "irving palacios",
      "photoUrl": "https://lh3.googleusercontent.com/a-/AOh14Gjw6M4LpzTUVro1G-5_aqYZYQhXb8NkvR-4cdiB=s64",
      "userId": "06814234566595318222"
     },
     "user_tz": 420
    },
    "id": "LbiCGqWVFO0L",
    "outputId": "1ced384c-21af-4f30-b1e4-17eaf296d7c1"
   },
   "outputs": [
    {
     "data": {
      "text/plain": [
       "<AxesSubplot:xlabel='drugs'>"
      ]
     },
     "execution_count": 23,
     "metadata": {},
     "output_type": "execute_result"
    },
    {
     "data": {
      "image/png": "[encoded data removed]",
      "text/plain": [
       "<Figure size 2160x1440 with 40 Axes>"
      ]
     },
     "metadata": {},
     "output_type": "display_data"
    }
   ],
   "source": [
    "fig, axes = plt.subplots(8, 5, figsize=(30, 20))\n",
    "customers=social\n",
    "fig.suptitle('Social DataSet Stats')\n",
    "plt.subplots_adjust(hspace = 0.5)\n",
    "\n",
    "sns.boxplot(ax=axes[0, 0], data=customers, x=columnillas[0])\n",
    "#sns.boxplot(ax=axes[0, 1], data=customers, x=columnillas[1])\n",
    "sns.boxplot(ax=axes[0, 2], data=customers, x=columnillas[2])\n",
    "sns.boxplot(ax=axes[0, 3], data=customers, x=columnillas[3])\n",
    "sns.boxplot(ax=axes[0, 4], data=customers, x=columnillas[4])\n",
    "\n",
    "sns.boxplot(ax=axes[1, 0], data=customers, x=columnillas[5])\n",
    "sns.boxplot(ax=axes[1, 1], data=customers, x=columnillas[6])\n",
    "sns.boxplot(ax=axes[1, 2], data=customers, x=columnillas[7])\n",
    "sns.boxplot(ax=axes[1, 3], data=customers, x=columnillas[8])\n",
    "sns.boxplot(ax=axes[1, 4], data=customers, x=columnillas[9])\n",
    "\n",
    "\n",
    "sns.boxplot(ax=axes[2, 0], data=customers, x=columnillas[10])\n",
    "sns.boxplot(ax=axes[2, 1], data=customers, x=columnillas[11])\n",
    "sns.boxplot(ax=axes[2, 2], data=customers, x=columnillas[12])\n",
    "sns.boxplot(ax=axes[2, 3], data=customers, x=columnillas[13])\n",
    "sns.boxplot(ax=axes[2, 4], data=customers, x=columnillas[14])\n",
    "\n",
    "sns.boxplot(ax=axes[3, 0], data=customers, x=columnillas[15])\n",
    "sns.boxplot(ax=axes[3, 1], data=customers, x=columnillas[16])\n",
    "sns.boxplot(ax=axes[3, 2], data=customers, x=columnillas[17])\n",
    "sns.boxplot(ax=axes[3, 3], data=customers, x=columnillas[18])\n",
    "sns.boxplot(ax=axes[3, 4], data=customers, x=columnillas[19])\n",
    "\n",
    "sns.boxplot(ax=axes[4, 0], data=customers, x=columnillas[20])\n",
    "sns.boxplot(ax=axes[4, 1], data=customers, x=columnillas[21])\n",
    "sns.boxplot(ax=axes[4, 2], data=customers, x=columnillas[22])\n",
    "sns.boxplot(ax=axes[4, 3], data=customers, x=columnillas[23])\n",
    "sns.boxplot(ax=axes[4, 4], data=customers, x=columnillas[24])\n",
    "\n",
    "sns.boxplot(ax=axes[5, 0], data=customers, x=columnillas[25])\n",
    "sns.boxplot(ax=axes[5, 1], data=customers, x=columnillas[26])\n",
    "sns.boxplot(ax=axes[5, 2], data=customers, x=columnillas[27])\n",
    "sns.boxplot(ax=axes[5, 3], data=customers, x=columnillas[28])\n",
    "sns.boxplot(ax=axes[5, 4], data=customers, x=columnillas[29])\n",
    "\n",
    "\n",
    "sns.boxplot(ax=axes[6, 0], data=customers, x=columnillas[30])\n",
    "sns.boxplot(ax=axes[6, 1], data=customers, x=columnillas[31])\n",
    "sns.boxplot(ax=axes[6, 2], data=customers, x=columnillas[32])\n",
    "sns.boxplot(ax=axes[6, 3], data=customers, x=columnillas[33])\n",
    "sns.boxplot(ax=axes[6, 4], data=customers, x=columnillas[34])\n",
    "\n",
    "sns.boxplot(ax=axes[7, 0], data=customers, x=columnillas[35])\n",
    "sns.boxplot(ax=axes[7, 1], data=customers, x=columnillas[36])\n",
    "sns.boxplot(ax=axes[7, 2], data=customers, x=columnillas[37])\n",
    "sns.boxplot(ax=axes[7, 3], data=customers, x=columnillas[38])\n",
    "sns.boxplot(ax=axes[7, 4], data=customers, x=columnillas[39])"
   ]
  },
  {
   "cell_type": "code",
   "execution_count": 24,
   "metadata": {
    "executionInfo": {
     "elapsed": 39,
     "status": "ok",
     "timestamp": 1628703903663,
     "user": {
      "displayName": "irving palacios",
      "photoUrl": "https://lh3.googleusercontent.com/a-/AOh14Gjw6M4LpzTUVro1G-5_aqYZYQhXb8NkvR-4cdiB=s64",
      "userId": "06814234566595318222"
     },
     "user_tz": 420
    },
    "id": "4bWikfCIaBua"
   },
   "outputs": [],
   "source": [
    "#After looking our data plots, I conclude that there are a lot of outliers to be\n",
    "#treated. \n",
    "\n",
    "\n",
    "#But first lets check how many rows we would have to drop to be sure if its necessary\n",
    "#To manage in other way this outliers."
   ]
  },
  {
   "cell_type": "markdown",
   "metadata": {
    "id": "GKZaEd4TEWkM"
   },
   "source": [
    "###This is to build our outlier function to remove outliers"
   ]
  },
  {
   "cell_type": "code",
   "execution_count": 25,
   "metadata": {
    "colab": {
     "base_uri": "https://localhost:8080/",
     "height": 224
    },
    "executionInfo": {
     "elapsed": 37,
     "status": "ok",
     "timestamp": 1628703903664,
     "user": {
      "displayName": "irving palacios",
      "photoUrl": "https://lh3.googleusercontent.com/a-/AOh14Gjw6M4LpzTUVro1G-5_aqYZYQhXb8NkvR-4cdiB=s64",
      "userId": "06814234566595318222"
     },
     "user_tz": 420
    },
    "id": "gtdXAEelEWEp",
    "outputId": "69c366a2-615d-4590-fb0e-31244a8e2bf6"
   },
   "outputs": [
    {
     "data": {
      "text/html": [
       "<div>\n",
       "<style scoped>\n",
       "    .dataframe tbody tr th:only-of-type {\n",
       "        vertical-align: middle;\n",
       "    }\n",
       "\n",
       "    .dataframe tbody tr th {\n",
       "        vertical-align: top;\n",
       "    }\n",
       "\n",
       "    .dataframe thead th {\n",
       "        text-align: right;\n",
       "    }\n",
       "</style>\n",
       "<table border=\"1\" class=\"dataframe\">\n",
       "  <thead>\n",
       "    <tr style=\"text-align: right;\">\n",
       "      <th></th>\n",
       "      <th>gradyear</th>\n",
       "      <th>gender</th>\n",
       "      <th>age</th>\n",
       "      <th>friends</th>\n",
       "      <th>basketball</th>\n",
       "      <th>football</th>\n",
       "      <th>soccer</th>\n",
       "      <th>softball</th>\n",
       "      <th>volleyball</th>\n",
       "      <th>swimming</th>\n",
       "      <th>...</th>\n",
       "      <th>blonde</th>\n",
       "      <th>mall</th>\n",
       "      <th>shopping</th>\n",
       "      <th>clothes</th>\n",
       "      <th>hollister</th>\n",
       "      <th>abercrombie</th>\n",
       "      <th>die</th>\n",
       "      <th>death</th>\n",
       "      <th>drunk</th>\n",
       "      <th>drugs</th>\n",
       "    </tr>\n",
       "  </thead>\n",
       "  <tbody>\n",
       "    <tr>\n",
       "      <th>10747</th>\n",
       "      <td>2007</td>\n",
       "      <td>F</td>\n",
       "      <td>17.0</td>\n",
       "      <td>6</td>\n",
       "      <td>0</td>\n",
       "      <td>0</td>\n",
       "      <td>7</td>\n",
       "      <td>0</td>\n",
       "      <td>0</td>\n",
       "      <td>0</td>\n",
       "      <td>...</td>\n",
       "      <td>0</td>\n",
       "      <td>0</td>\n",
       "      <td>0</td>\n",
       "      <td>0</td>\n",
       "      <td>0</td>\n",
       "      <td>0</td>\n",
       "      <td>1</td>\n",
       "      <td>0</td>\n",
       "      <td>0</td>\n",
       "      <td>0</td>\n",
       "    </tr>\n",
       "    <tr>\n",
       "      <th>12573</th>\n",
       "      <td>2007</td>\n",
       "      <td>F</td>\n",
       "      <td>17.0</td>\n",
       "      <td>6</td>\n",
       "      <td>0</td>\n",
       "      <td>0</td>\n",
       "      <td>0</td>\n",
       "      <td>0</td>\n",
       "      <td>0</td>\n",
       "      <td>0</td>\n",
       "      <td>...</td>\n",
       "      <td>0</td>\n",
       "      <td>0</td>\n",
       "      <td>2</td>\n",
       "      <td>0</td>\n",
       "      <td>0</td>\n",
       "      <td>0</td>\n",
       "      <td>0</td>\n",
       "      <td>0</td>\n",
       "      <td>0</td>\n",
       "      <td>0</td>\n",
       "    </tr>\n",
       "    <tr>\n",
       "      <th>29676</th>\n",
       "      <td>2009</td>\n",
       "      <td>F</td>\n",
       "      <td>15.0</td>\n",
       "      <td>91</td>\n",
       "      <td>0</td>\n",
       "      <td>0</td>\n",
       "      <td>0</td>\n",
       "      <td>0</td>\n",
       "      <td>0</td>\n",
       "      <td>0</td>\n",
       "      <td>...</td>\n",
       "      <td>0</td>\n",
       "      <td>0</td>\n",
       "      <td>0</td>\n",
       "      <td>0</td>\n",
       "      <td>0</td>\n",
       "      <td>0</td>\n",
       "      <td>0</td>\n",
       "      <td>0</td>\n",
       "      <td>0</td>\n",
       "      <td>0</td>\n",
       "    </tr>\n",
       "    <tr>\n",
       "      <th>8856</th>\n",
       "      <td>2007</td>\n",
       "      <td>F</td>\n",
       "      <td>18.0</td>\n",
       "      <td>85</td>\n",
       "      <td>0</td>\n",
       "      <td>0</td>\n",
       "      <td>0</td>\n",
       "      <td>0</td>\n",
       "      <td>0</td>\n",
       "      <td>0</td>\n",
       "      <td>...</td>\n",
       "      <td>0</td>\n",
       "      <td>0</td>\n",
       "      <td>0</td>\n",
       "      <td>0</td>\n",
       "      <td>0</td>\n",
       "      <td>0</td>\n",
       "      <td>0</td>\n",
       "      <td>0</td>\n",
       "      <td>0</td>\n",
       "      <td>0</td>\n",
       "    </tr>\n",
       "    <tr>\n",
       "      <th>21098</th>\n",
       "      <td>2008</td>\n",
       "      <td>F</td>\n",
       "      <td>0.0</td>\n",
       "      <td>36</td>\n",
       "      <td>1</td>\n",
       "      <td>0</td>\n",
       "      <td>0</td>\n",
       "      <td>1</td>\n",
       "      <td>1</td>\n",
       "      <td>1</td>\n",
       "      <td>...</td>\n",
       "      <td>0</td>\n",
       "      <td>1</td>\n",
       "      <td>2</td>\n",
       "      <td>1</td>\n",
       "      <td>0</td>\n",
       "      <td>0</td>\n",
       "      <td>3</td>\n",
       "      <td>0</td>\n",
       "      <td>1</td>\n",
       "      <td>3</td>\n",
       "    </tr>\n",
       "  </tbody>\n",
       "</table>\n",
       "<p>5 rows × 40 columns</p>\n",
       "</div>"
      ],
      "text/plain": [
       "       gradyear gender   age  friends  basketball  football  soccer  softball  \\\n",
       "10747      2007      F  17.0        6           0         0       7         0   \n",
       "12573      2007      F  17.0        6           0         0       0         0   \n",
       "29676      2009      F  15.0       91           0         0       0         0   \n",
       "8856       2007      F  18.0       85           0         0       0         0   \n",
       "21098      2008      F   0.0       36           1         0       0         1   \n",
       "\n",
       "       volleyball  swimming  ...  blonde  mall  shopping  clothes  hollister  \\\n",
       "10747           0         0  ...       0     0         0        0          0   \n",
       "12573           0         0  ...       0     0         2        0          0   \n",
       "29676           0         0  ...       0     0         0        0          0   \n",
       "8856            0         0  ...       0     0         0        0          0   \n",
       "21098           1         1  ...       0     1         2        1          0   \n",
       "\n",
       "       abercrombie  die  death  drunk  drugs  \n",
       "10747            0    1      0      0      0  \n",
       "12573            0    0      0      0      0  \n",
       "29676            0    0      0      0      0  \n",
       "8856             0    0      0      0      0  \n",
       "21098            0    3      0      1      3  \n",
       "\n",
       "[5 rows x 40 columns]"
      ]
     },
     "execution_count": 25,
     "metadata": {},
     "output_type": "execute_result"
    }
   ],
   "source": [
    "#Copy de dataframe, because we are not tontos \n",
    "\n",
    "social_outliers = social.sample(n=300, random_state=1)\n",
    "social_outliers.head(5)"
   ]
  },
  {
   "cell_type": "code",
   "execution_count": 26,
   "metadata": {
    "executionInfo": {
     "elapsed": 34,
     "status": "ok",
     "timestamp": 1628703903664,
     "user": {
      "displayName": "irving palacios",
      "photoUrl": "https://lh3.googleusercontent.com/a-/AOh14Gjw6M4LpzTUVro1G-5_aqYZYQhXb8NkvR-4cdiB=s64",
      "userId": "06814234566595318222"
     },
     "user_tz": 420
    },
    "id": "AzNFy8neEWBh"
   },
   "outputs": [],
   "source": [
    "Q1 = social_outliers.quantile(0.25)\n",
    "Q3 = social_outliers.quantile(0.75)\n",
    "#Q1,Q3"
   ]
  },
  {
   "cell_type": "code",
   "execution_count": 27,
   "metadata": {
    "executionInfo": {
     "elapsed": 34,
     "status": "ok",
     "timestamp": 1628703903665,
     "user": {
      "displayName": "irving palacios",
      "photoUrl": "https://lh3.googleusercontent.com/a-/AOh14Gjw6M4LpzTUVro1G-5_aqYZYQhXb8NkvR-4cdiB=s64",
      "userId": "06814234566595318222"
     },
     "user_tz": 420
    },
    "id": "ZqE6zK_CEV2L"
   },
   "outputs": [],
   "source": [
    "IQR = Q3-Q1\n",
    "\n",
    "lower_limit = Q1 - 1.5*IQR\n",
    "upper_limit = Q3 + 1.5*IQR\n",
    "\n",
    "#lower_limit,upper_limit"
   ]
  },
  {
   "cell_type": "code",
   "execution_count": 28,
   "metadata": {
    "colab": {
     "base_uri": "https://localhost:8080/"
    },
    "executionInfo": {
     "elapsed": 334,
     "status": "ok",
     "timestamp": 1628703903966,
     "user": {
      "displayName": "irving palacios",
      "photoUrl": "https://lh3.googleusercontent.com/a-/AOh14Gjw6M4LpzTUVro1G-5_aqYZYQhXb8NkvR-4cdiB=s64",
      "userId": "06814234566595318222"
     },
     "user_tz": 420
    },
    "id": "Q52A81DyFkfx",
    "outputId": "db545368-f548-4606-cb4e-d580435ed47b"
   },
   "outputs": [
    {
     "name": "stdout",
     "output_type": "stream",
     "text": [
      "(18, 40)\n"
     ]
    }
   ],
   "source": [
    "df_out = social_outliers[~((social_outliers < (lower_limit)) |(social_outliers > (upper_limit))).any(axis=1)]\n",
    "print(df_out.shape)"
   ]
  },
  {
   "cell_type": "code",
   "execution_count": 29,
   "metadata": {
    "colab": {
     "base_uri": "https://localhost:8080/"
    },
    "executionInfo": {
     "elapsed": 77,
     "status": "ok",
     "timestamp": 1628703903981,
     "user": {
      "displayName": "irving palacios",
      "photoUrl": "https://lh3.googleusercontent.com/a-/AOh14Gjw6M4LpzTUVro1G-5_aqYZYQhXb8NkvR-4cdiB=s64",
      "userId": "06814234566595318222"
     },
     "user_tz": 420
    },
    "id": "IFLBOx-RK4y-",
    "outputId": "2fc7793a-d4d1-44af-abb1-da626cff29e9"
   },
   "outputs": [
    {
     "data": {
      "text/plain": [
       "(30000, 40)"
      ]
     },
     "execution_count": 29,
     "metadata": {},
     "output_type": "execute_result"
    }
   ],
   "source": [
    "social.shape"
   ]
  },
  {
   "cell_type": "code",
   "execution_count": 30,
   "metadata": {
    "executionInfo": {
     "elapsed": 76,
     "status": "ok",
     "timestamp": 1628703903986,
     "user": {
      "displayName": "irving palacios",
      "photoUrl": "https://lh3.googleusercontent.com/a-/AOh14Gjw6M4LpzTUVro1G-5_aqYZYQhXb8NkvR-4cdiB=s64",
      "userId": "06814234566595318222"
     },
     "user_tz": 420
    },
    "id": "DocTglXRKaL_"
   },
   "outputs": [],
   "source": [
    "##Seems a lot of data lost! Better try to train our models like it is."
   ]
  },
  {
   "cell_type": "markdown",
   "metadata": {
    "id": "2t4w8IK8hEvz"
   },
   "source": [
    "## 3. Feature Engineering\n",
    "\n",
    "Based on your previous conclusions, perform transformations in your features. Think about:  \n",
    "* Category Encoding\n",
    "* Outliers & Standardization\n",
    "* Dimension Reduction\n",
    "* Discard features that are less relevant to group the data\n",
    "\n",
    "Why did you choose each method? Please explain your rationale."
   ]
  },
  {
   "cell_type": "code",
   "execution_count": 31,
   "metadata": {
    "executionInfo": {
     "elapsed": 145,
     "status": "ok",
     "timestamp": 1628705265180,
     "user": {
      "displayName": "irving palacios",
      "photoUrl": "https://lh3.googleusercontent.com/a-/AOh14Gjw6M4LpzTUVro1G-5_aqYZYQhXb8NkvR-4cdiB=s64",
      "userId": "06814234566595318222"
     },
     "user_tz": 420
    },
    "id": "2xkwPcilhEvz"
   },
   "outputs": [],
   "source": [
    "#Your code here:\n",
    "\n",
    "\n",
    "##First of all I am going to label the age column creating a new one called \n",
    "##age_range. Which is going to be divided in 4 gruops"
   ]
  },
  {
   "cell_type": "code",
   "execution_count": 32,
   "metadata": {
    "colab": {
     "base_uri": "https://localhost:8080/"
    },
    "executionInfo": {
     "elapsed": 80,
     "status": "ok",
     "timestamp": 1628703903992,
     "user": {
      "displayName": "irving palacios",
      "photoUrl": "https://lh3.googleusercontent.com/a-/AOh14Gjw6M4LpzTUVro1G-5_aqYZYQhXb8NkvR-4cdiB=s64",
      "userId": "06814234566595318222"
     },
     "user_tz": 420
    },
    "id": "zJptAGvBPYTX",
    "outputId": "b0ac5b7a-c7bb-4f46-9f56-1b91ba22500f"
   },
   "outputs": [
    {
     "data": {
      "text/plain": [
       "gradyear          int64\n",
       "gender           object\n",
       "age             float64\n",
       "friends           int64\n",
       "basketball        int64\n",
       "football          int64\n",
       "soccer            int64\n",
       "softball          int64\n",
       "volleyball        int64\n",
       "swimming          int64\n",
       "cheerleading      int64\n",
       "baseball          int64\n",
       "tennis            int64\n",
       "sports            int64\n",
       "cute              int64\n",
       "sex               int64\n",
       "sexy              int64\n",
       "hot               int64\n",
       "kissed            int64\n",
       "dance             int64\n",
       "band              int64\n",
       "marching          int64\n",
       "music             int64\n",
       "rock              int64\n",
       "god               int64\n",
       "church            int64\n",
       "jesus             int64\n",
       "bible             int64\n",
       "hair              int64\n",
       "dress             int64\n",
       "blonde            int64\n",
       "mall              int64\n",
       "shopping          int64\n",
       "clothes           int64\n",
       "hollister         int64\n",
       "abercrombie       int64\n",
       "die               int64\n",
       "death             int64\n",
       "drunk             int64\n",
       "drugs             int64\n",
       "dtype: object"
      ]
     },
     "execution_count": 32,
     "metadata": {},
     "output_type": "execute_result"
    }
   ],
   "source": [
    "social.astype({'age':'float'}).dtypes"
   ]
  },
  {
   "cell_type": "code",
   "execution_count": 33,
   "metadata": {
    "colab": {
     "base_uri": "https://localhost:8080/"
    },
    "executionInfo": {
     "elapsed": 77,
     "status": "ok",
     "timestamp": 1628703903994,
     "user": {
      "displayName": "irving palacios",
      "photoUrl": "https://lh3.googleusercontent.com/a-/AOh14Gjw6M4LpzTUVro1G-5_aqYZYQhXb8NkvR-4cdiB=s64",
      "userId": "06814234566595318222"
     },
     "user_tz": 420
    },
    "id": "1MV5ipfiQc07",
    "outputId": "f5707f54-3d8e-4589-ddfb-565402bf50d1"
   },
   "outputs": [
    {
     "data": {
      "text/plain": [
       "gradyear          int64\n",
       "gender           object\n",
       "age             float64\n",
       "friends           int64\n",
       "basketball        int64\n",
       "football          int64\n",
       "soccer            int64\n",
       "softball          int64\n",
       "volleyball        int64\n",
       "swimming          int64\n",
       "cheerleading      int64\n",
       "baseball          int64\n",
       "tennis            int64\n",
       "sports            int64\n",
       "cute              int64\n",
       "sex               int64\n",
       "sexy              int64\n",
       "hot               int64\n",
       "kissed            int64\n",
       "dance             int64\n",
       "band              int64\n",
       "marching          int64\n",
       "music             int64\n",
       "rock              int64\n",
       "god               int64\n",
       "church            int64\n",
       "jesus             int64\n",
       "bible             int64\n",
       "hair              int64\n",
       "dress             int64\n",
       "blonde            int64\n",
       "mall              int64\n",
       "shopping          int64\n",
       "clothes           int64\n",
       "hollister         int64\n",
       "abercrombie       int64\n",
       "die               int64\n",
       "death             int64\n",
       "drunk             int64\n",
       "drugs             int64\n",
       "dtype: object"
      ]
     },
     "execution_count": 33,
     "metadata": {},
     "output_type": "execute_result"
    }
   ],
   "source": [
    "social.dtypes"
   ]
  },
  {
   "cell_type": "code",
   "execution_count": 34,
   "metadata": {
    "colab": {
     "base_uri": "https://localhost:8080/"
    },
    "executionInfo": {
     "elapsed": 72,
     "status": "ok",
     "timestamp": 1628703903995,
     "user": {
      "displayName": "irving palacios",
      "photoUrl": "https://lh3.googleusercontent.com/a-/AOh14Gjw6M4LpzTUVro1G-5_aqYZYQhXb8NkvR-4cdiB=s64",
      "userId": "06814234566595318222"
     },
     "user_tz": 420
    },
    "id": "PX2xR7XvBtoo",
    "outputId": "2e08042f-e5b4-4be9-90ad-876347807fd4"
   },
   "outputs": [
    {
     "data": {
      "text/plain": [
       "17.0     6500\n",
       "18.0     6345\n",
       "16.0     5881\n",
       "0.0      5086\n",
       "19.0     4036\n",
       "         ... \n",
       "97.0        1\n",
       "66.0        1\n",
       "60.0        1\n",
       "44.0        1\n",
       "102.0       1\n",
       "Name: age, Length: 81, dtype: int64"
      ]
     },
     "execution_count": 34,
     "metadata": {},
     "output_type": "execute_result"
    }
   ],
   "source": [
    "social.age.value_counts()"
   ]
  },
  {
   "cell_type": "code",
   "execution_count": 35,
   "metadata": {
    "executionInfo": {
     "elapsed": 65,
     "status": "ok",
     "timestamp": 1628703903996,
     "user": {
      "displayName": "irving palacios",
      "photoUrl": "https://lh3.googleusercontent.com/a-/AOh14Gjw6M4LpzTUVro1G-5_aqYZYQhXb8NkvR-4cdiB=s64",
      "userId": "06814234566595318222"
     },
     "user_tz": 420
    },
    "id": "jYFW3pXj3w-i"
   },
   "outputs": [],
   "source": [
    "#social['age_range']=np.where(social['age']==0,'Unspecified',\n",
    " #                   np.where((social['age']<13) & (social['age']>0), 'Kid', \n",
    "  #                  np.where((social['age']>=13) & (social['age']<18),'Teenager', \n",
    "   #                 np.where(social['age']>=18,'Adult',social['age']))))"
   ]
  },
  {
   "cell_type": "code",
   "execution_count": 36,
   "metadata": {
    "colab": {
     "base_uri": "https://localhost:8080/"
    },
    "executionInfo": {
     "elapsed": 65,
     "status": "ok",
     "timestamp": 1628703903997,
     "user": {
      "displayName": "irving palacios",
      "photoUrl": "https://lh3.googleusercontent.com/a-/AOh14Gjw6M4LpzTUVro1G-5_aqYZYQhXb8NkvR-4cdiB=s64",
      "userId": "06814234566595318222"
     },
     "user_tz": 420
    },
    "id": "LpWnqOXVUn6l",
    "outputId": "51e447d8-e9aa-490a-d407-2c150f1984d3"
   },
   "outputs": [],
   "source": [
    "#social.age_range.value_counts()"
   ]
  },
  {
   "cell_type": "code",
   "execution_count": 37,
   "metadata": {
    "colab": {
     "base_uri": "https://localhost:8080/",
     "height": 439
    },
    "executionInfo": {
     "elapsed": 56,
     "status": "ok",
     "timestamp": 1628703903997,
     "user": {
      "displayName": "irving palacios",
      "photoUrl": "https://lh3.googleusercontent.com/a-/AOh14Gjw6M4LpzTUVro1G-5_aqYZYQhXb8NkvR-4cdiB=s64",
      "userId": "06814234566595318222"
     },
     "user_tz": 420
    },
    "id": "m1aqfzsaSmaV",
    "outputId": "74b78191-0d5e-4ea7-91d5-2222c4c3bb92"
   },
   "outputs": [],
   "source": [
    "#social = social.drop(columns=['age'])"
   ]
  },
  {
   "cell_type": "markdown",
   "metadata": {
    "id": "T9dz4R8gY03j"
   },
   "source": [
    "### Dimension Reducing"
   ]
  },
  {
   "cell_type": "code",
   "execution_count": 38,
   "metadata": {
    "id": "gHjo72koY0kC"
   },
   "outputs": [
    {
     "data": {
      "text/plain": [
       "(30000, 40)"
      ]
     },
     "execution_count": 38,
     "metadata": {},
     "output_type": "execute_result"
    }
   ],
   "source": [
    "social_copy = social.copy()\n",
    "social_copy.shape"
   ]
  },
  {
   "cell_type": "code",
   "execution_count": 39,
   "metadata": {},
   "outputs": [
    {
     "data": {
      "text/plain": [
       "gradyear          int64\n",
       "gender           object\n",
       "age             float64\n",
       "friends           int64\n",
       "basketball        int64\n",
       "football          int64\n",
       "soccer            int64\n",
       "softball          int64\n",
       "volleyball        int64\n",
       "swimming          int64\n",
       "cheerleading      int64\n",
       "baseball          int64\n",
       "tennis            int64\n",
       "sports            int64\n",
       "cute              int64\n",
       "sex               int64\n",
       "sexy              int64\n",
       "hot               int64\n",
       "kissed            int64\n",
       "dance             int64\n",
       "band              int64\n",
       "marching          int64\n",
       "music             int64\n",
       "rock              int64\n",
       "god               int64\n",
       "church            int64\n",
       "jesus             int64\n",
       "bible             int64\n",
       "hair              int64\n",
       "dress             int64\n",
       "blonde            int64\n",
       "mall              int64\n",
       "shopping          int64\n",
       "clothes           int64\n",
       "hollister         int64\n",
       "abercrombie       int64\n",
       "die               int64\n",
       "death             int64\n",
       "drunk             int64\n",
       "drugs             int64\n",
       "dtype: object"
      ]
     },
     "execution_count": 39,
     "metadata": {},
     "output_type": "execute_result"
    }
   ],
   "source": [
    "social_copy.dtypes"
   ]
  },
  {
   "cell_type": "code",
   "execution_count": 40,
   "metadata": {},
   "outputs": [],
   "source": [
    "#no_num_list = ['age_range','gender']"
   ]
  },
  {
   "cell_type": "code",
   "execution_count": 41,
   "metadata": {},
   "outputs": [],
   "source": [
    "#cols_list = [i for i in social_copy if not in no_num_list]\n",
    "#cols_list"
   ]
  },
  {
   "cell_type": "code",
   "execution_count": 42,
   "metadata": {},
   "outputs": [],
   "source": [
    "#social_copy['gender_code']=np.where(social_copy['gender']=='M',0,\n",
    " #                   np.where((social_copy['gender']=='F'), 1, \n",
    "  #                  np.where((social_copy['gender']=='Other') , 2 ,social_copy['gender'])))\n",
    "#social_copy = social_copy.drop(columns=['gender'])\n",
    "#social_copy.gender_code.value_counts()"
   ]
  },
  {
   "cell_type": "code",
   "execution_count": 43,
   "metadata": {},
   "outputs": [],
   "source": [
    "#social_copy.columns"
   ]
  },
  {
   "cell_type": "code",
   "execution_count": 44,
   "metadata": {},
   "outputs": [
    {
     "data": {
      "text/html": [
       "<div>\n",
       "<style scoped>\n",
       "    .dataframe tbody tr th:only-of-type {\n",
       "        vertical-align: middle;\n",
       "    }\n",
       "\n",
       "    .dataframe tbody tr th {\n",
       "        vertical-align: top;\n",
       "    }\n",
       "\n",
       "    .dataframe thead th {\n",
       "        text-align: right;\n",
       "    }\n",
       "</style>\n",
       "<table border=\"1\" class=\"dataframe\">\n",
       "  <thead>\n",
       "    <tr style=\"text-align: right;\">\n",
       "      <th></th>\n",
       "      <th>gradyear</th>\n",
       "      <th>age</th>\n",
       "      <th>friends</th>\n",
       "      <th>basketball</th>\n",
       "      <th>football</th>\n",
       "      <th>soccer</th>\n",
       "      <th>softball</th>\n",
       "      <th>volleyball</th>\n",
       "      <th>swimming</th>\n",
       "      <th>cheerleading</th>\n",
       "      <th>...</th>\n",
       "      <th>clothes</th>\n",
       "      <th>hollister</th>\n",
       "      <th>abercrombie</th>\n",
       "      <th>die</th>\n",
       "      <th>death</th>\n",
       "      <th>drunk</th>\n",
       "      <th>drugs</th>\n",
       "      <th>F</th>\n",
       "      <th>M</th>\n",
       "      <th>Other</th>\n",
       "    </tr>\n",
       "  </thead>\n",
       "  <tbody>\n",
       "    <tr>\n",
       "      <th>0</th>\n",
       "      <td>2006</td>\n",
       "      <td>19.0</td>\n",
       "      <td>7</td>\n",
       "      <td>0</td>\n",
       "      <td>0</td>\n",
       "      <td>0</td>\n",
       "      <td>0</td>\n",
       "      <td>0</td>\n",
       "      <td>0</td>\n",
       "      <td>0</td>\n",
       "      <td>...</td>\n",
       "      <td>0</td>\n",
       "      <td>0</td>\n",
       "      <td>0</td>\n",
       "      <td>0</td>\n",
       "      <td>0</td>\n",
       "      <td>0</td>\n",
       "      <td>0</td>\n",
       "      <td>0</td>\n",
       "      <td>1</td>\n",
       "      <td>0</td>\n",
       "    </tr>\n",
       "    <tr>\n",
       "      <th>1</th>\n",
       "      <td>2006</td>\n",
       "      <td>19.0</td>\n",
       "      <td>0</td>\n",
       "      <td>0</td>\n",
       "      <td>1</td>\n",
       "      <td>0</td>\n",
       "      <td>0</td>\n",
       "      <td>0</td>\n",
       "      <td>0</td>\n",
       "      <td>0</td>\n",
       "      <td>...</td>\n",
       "      <td>0</td>\n",
       "      <td>0</td>\n",
       "      <td>0</td>\n",
       "      <td>0</td>\n",
       "      <td>0</td>\n",
       "      <td>0</td>\n",
       "      <td>0</td>\n",
       "      <td>1</td>\n",
       "      <td>0</td>\n",
       "      <td>0</td>\n",
       "    </tr>\n",
       "    <tr>\n",
       "      <th>2</th>\n",
       "      <td>2006</td>\n",
       "      <td>18.0</td>\n",
       "      <td>69</td>\n",
       "      <td>0</td>\n",
       "      <td>1</td>\n",
       "      <td>0</td>\n",
       "      <td>0</td>\n",
       "      <td>0</td>\n",
       "      <td>0</td>\n",
       "      <td>0</td>\n",
       "      <td>...</td>\n",
       "      <td>0</td>\n",
       "      <td>0</td>\n",
       "      <td>0</td>\n",
       "      <td>0</td>\n",
       "      <td>1</td>\n",
       "      <td>0</td>\n",
       "      <td>0</td>\n",
       "      <td>0</td>\n",
       "      <td>1</td>\n",
       "      <td>0</td>\n",
       "    </tr>\n",
       "    <tr>\n",
       "      <th>3</th>\n",
       "      <td>2006</td>\n",
       "      <td>19.0</td>\n",
       "      <td>0</td>\n",
       "      <td>0</td>\n",
       "      <td>0</td>\n",
       "      <td>0</td>\n",
       "      <td>0</td>\n",
       "      <td>0</td>\n",
       "      <td>0</td>\n",
       "      <td>0</td>\n",
       "      <td>...</td>\n",
       "      <td>0</td>\n",
       "      <td>0</td>\n",
       "      <td>0</td>\n",
       "      <td>0</td>\n",
       "      <td>0</td>\n",
       "      <td>0</td>\n",
       "      <td>0</td>\n",
       "      <td>1</td>\n",
       "      <td>0</td>\n",
       "      <td>0</td>\n",
       "    </tr>\n",
       "    <tr>\n",
       "      <th>4</th>\n",
       "      <td>2006</td>\n",
       "      <td>19.0</td>\n",
       "      <td>10</td>\n",
       "      <td>0</td>\n",
       "      <td>0</td>\n",
       "      <td>0</td>\n",
       "      <td>0</td>\n",
       "      <td>0</td>\n",
       "      <td>0</td>\n",
       "      <td>0</td>\n",
       "      <td>...</td>\n",
       "      <td>0</td>\n",
       "      <td>0</td>\n",
       "      <td>0</td>\n",
       "      <td>0</td>\n",
       "      <td>0</td>\n",
       "      <td>1</td>\n",
       "      <td>1</td>\n",
       "      <td>0</td>\n",
       "      <td>0</td>\n",
       "      <td>1</td>\n",
       "    </tr>\n",
       "  </tbody>\n",
       "</table>\n",
       "<p>5 rows × 42 columns</p>\n",
       "</div>"
      ],
      "text/plain": [
       "   gradyear   age  friends  basketball  football  soccer  softball  \\\n",
       "0      2006  19.0        7           0         0       0         0   \n",
       "1      2006  19.0        0           0         1       0         0   \n",
       "2      2006  18.0       69           0         1       0         0   \n",
       "3      2006  19.0        0           0         0       0         0   \n",
       "4      2006  19.0       10           0         0       0         0   \n",
       "\n",
       "   volleyball  swimming  cheerleading  ...  clothes  hollister  abercrombie  \\\n",
       "0           0         0             0  ...        0          0            0   \n",
       "1           0         0             0  ...        0          0            0   \n",
       "2           0         0             0  ...        0          0            0   \n",
       "3           0         0             0  ...        0          0            0   \n",
       "4           0         0             0  ...        0          0            0   \n",
       "\n",
       "   die  death  drunk  drugs  F  M  Other  \n",
       "0    0      0      0      0  0  1      0  \n",
       "1    0      0      0      0  1  0      0  \n",
       "2    0      1      0      0  0  1      0  \n",
       "3    0      0      0      0  1  0      0  \n",
       "4    0      0      1      1  0  0      1  \n",
       "\n",
       "[5 rows x 42 columns]"
      ]
     },
     "execution_count": 44,
     "metadata": {},
     "output_type": "execute_result"
    }
   ],
   "source": [
    "social_dummy = social_copy.join(pd.get_dummies(social_copy['gender']))\n",
    "social_dummy = social_dummy.drop(columns=['gender'])\n",
    "social_dummy.head(5)"
   ]
  },
  {
   "cell_type": "code",
   "execution_count": 45,
   "metadata": {},
   "outputs": [
    {
     "data": {
      "text/plain": [
       "array([[-1.34164079,  0.41273213, -0.63452768, ..., -1.66597855,\n",
       "         2.17828495, -0.31601901],\n",
       "       [-1.34164079,  0.41273213, -0.8261496 , ...,  0.60024783,\n",
       "        -0.45907676, -0.31601901],\n",
       "       [-1.34164079,  0.31115903,  1.06269499, ..., -1.66597855,\n",
       "         2.17828495, -0.31601901],\n",
       "       ...,\n",
       "       [ 1.34164079,  0.10801283, -0.8261496 , ..., -1.66597855,\n",
       "         2.17828495, -0.31601901],\n",
       "       [ 1.34164079,  0.10801283, -0.8261496 , ..., -1.66597855,\n",
       "         2.17828495, -0.31601901],\n",
       "       [ 1.34164079,  0.41273213, -0.74402592, ...,  0.60024783,\n",
       "        -0.45907676, -0.31601901]])"
      ]
     },
     "execution_count": 45,
     "metadata": {},
     "output_type": "execute_result"
    }
   ],
   "source": [
    "social_scaled = StandardScaler().fit_transform(social_dummy)\n",
    "social_scaled"
   ]
  },
  {
   "cell_type": "markdown",
   "metadata": {
    "id": "6lm7UhN7hEvz"
   },
   "source": [
    "## 4. Modeling\n",
    "\n",
    "Now that your data is ready, apply one (or more) unsupervised learning model to find the groups of teens that exist:\n",
    "* What model did you choose?\n",
    "* What is the optimal number of clusters?\n",
    "* Once your clusters are defined, how do you interpret them? - What type of teens there are? What are the differences between them?"
   ]
  },
  {
   "cell_type": "code",
   "execution_count": 48,
   "metadata": {},
   "outputs": [
    {
     "data": {
      "image/png": "[encoded data removed]",
      "text/plain": [
       "<Figure size 576x396 with 1 Axes>"
      ]
     },
     "metadata": {},
     "output_type": "display_data"
    }
   ],
   "source": [
    "K = range(1,8)\n",
    "sum_of_squared_distances = []\n",
    "for k in K:\n",
    "  model = KMeans(n_clusters=k).fit(social_scaled)\n",
    "  sum_of_squared_distances.append(model.inertia_)\n",
    "plt.plot(K, sum_of_squared_distances, \"bx-\")\n",
    "plt.xlabel(\"K Values\")\n",
    "plt.ylabel(\"Sum of squared distances\")\n",
    "plt.title(\"Elbow Method\")\n",
    "plt.show()"
   ]
  },
  {
   "cell_type": "code",
   "execution_count": 58,
   "metadata": {
    "executionInfo": {
     "elapsed": 70,
     "status": "ok",
     "timestamp": 1628703904016,
     "user": {
      "displayName": "irving palacios",
      "photoUrl": "https://lh3.googleusercontent.com/a-/AOh14Gjw6M4LpzTUVro1G-5_aqYZYQhXb8NkvR-4cdiB=s64",
      "userId": "06814234566595318222"
     },
     "user_tz": 420
    },
    "id": "CBygGkXVhEvz"
   },
   "outputs": [
    {
     "name": "stdout",
     "output_type": "stream",
     "text": [
      "3\n",
      "5\n"
     ]
    }
   ],
   "source": [
    "#Your code here:\n",
    "#Im going to try with n_clusters = 3,5 because in both cases we have a change of slope\n",
    "\n",
    "kmeans_3 = KMeans(n_clusters=3)\n",
    "kmeans_5 = KMeans(n_clusters=5)\n",
    "census_clusters_3 = kmeans_3.fit(social_scaled)\n",
    "census_clusters_5 = kmeans_5.fit(social_scaled)\n",
    "print(len(census_clusters_3.cluster_centers_))\n",
    "print(len(census_clusters_5.cluster_centers_))\n",
    "\n",
    "\n",
    "labels3 = kmeans_3.labels_\n",
    "labels5 = kmeans_5.labels_"
   ]
  },
  {
   "cell_type": "code",
   "execution_count": 60,
   "metadata": {},
   "outputs": [
    {
     "data": {
      "text/html": [
       "<div>\n",
       "<style scoped>\n",
       "    .dataframe tbody tr th:only-of-type {\n",
       "        vertical-align: middle;\n",
       "    }\n",
       "\n",
       "    .dataframe tbody tr th {\n",
       "        vertical-align: top;\n",
       "    }\n",
       "\n",
       "    .dataframe thead th {\n",
       "        text-align: right;\n",
       "    }\n",
       "</style>\n",
       "<table border=\"1\" class=\"dataframe\">\n",
       "  <thead>\n",
       "    <tr style=\"text-align: right;\">\n",
       "      <th></th>\n",
       "      <th>gradyear</th>\n",
       "      <th>age</th>\n",
       "      <th>friends</th>\n",
       "      <th>basketball</th>\n",
       "      <th>football</th>\n",
       "      <th>soccer</th>\n",
       "      <th>softball</th>\n",
       "      <th>volleyball</th>\n",
       "      <th>swimming</th>\n",
       "      <th>cheerleading</th>\n",
       "      <th>...</th>\n",
       "      <th>blonde</th>\n",
       "      <th>mall</th>\n",
       "      <th>shopping</th>\n",
       "      <th>clothes</th>\n",
       "      <th>hollister</th>\n",
       "      <th>abercrombie</th>\n",
       "      <th>die</th>\n",
       "      <th>death</th>\n",
       "      <th>drunk</th>\n",
       "      <th>drugs</th>\n",
       "    </tr>\n",
       "    <tr>\n",
       "      <th>Cluster</th>\n",
       "      <th></th>\n",
       "      <th></th>\n",
       "      <th></th>\n",
       "      <th></th>\n",
       "      <th></th>\n",
       "      <th></th>\n",
       "      <th></th>\n",
       "      <th></th>\n",
       "      <th></th>\n",
       "      <th></th>\n",
       "      <th></th>\n",
       "      <th></th>\n",
       "      <th></th>\n",
       "      <th></th>\n",
       "      <th></th>\n",
       "      <th></th>\n",
       "      <th></th>\n",
       "      <th></th>\n",
       "      <th></th>\n",
       "      <th></th>\n",
       "      <th></th>\n",
       "    </tr>\n",
       "  </thead>\n",
       "  <tbody>\n",
       "    <tr>\n",
       "      <th>0</th>\n",
       "      <td>2007.5</td>\n",
       "      <td>15.7</td>\n",
       "      <td>30.9</td>\n",
       "      <td>0.2</td>\n",
       "      <td>0.2</td>\n",
       "      <td>0.2</td>\n",
       "      <td>0.2</td>\n",
       "      <td>0.1</td>\n",
       "      <td>0.1</td>\n",
       "      <td>0.1</td>\n",
       "      <td>...</td>\n",
       "      <td>0.1</td>\n",
       "      <td>0.2</td>\n",
       "      <td>0.4</td>\n",
       "      <td>0.1</td>\n",
       "      <td>0.0</td>\n",
       "      <td>0.0</td>\n",
       "      <td>0.1</td>\n",
       "      <td>0.1</td>\n",
       "      <td>0.1</td>\n",
       "      <td>0.0</td>\n",
       "    </tr>\n",
       "    <tr>\n",
       "      <th>1</th>\n",
       "      <td>2007.8</td>\n",
       "      <td>15.1</td>\n",
       "      <td>39.3</td>\n",
       "      <td>0.7</td>\n",
       "      <td>0.6</td>\n",
       "      <td>0.5</td>\n",
       "      <td>0.4</td>\n",
       "      <td>0.4</td>\n",
       "      <td>0.3</td>\n",
       "      <td>0.3</td>\n",
       "      <td>...</td>\n",
       "      <td>0.5</td>\n",
       "      <td>0.9</td>\n",
       "      <td>0.9</td>\n",
       "      <td>0.7</td>\n",
       "      <td>0.4</td>\n",
       "      <td>0.3</td>\n",
       "      <td>0.7</td>\n",
       "      <td>0.4</td>\n",
       "      <td>0.4</td>\n",
       "      <td>0.4</td>\n",
       "    </tr>\n",
       "    <tr>\n",
       "      <th>2</th>\n",
       "      <td>2007.4</td>\n",
       "      <td>13.1</td>\n",
       "      <td>25.0</td>\n",
       "      <td>0.2</td>\n",
       "      <td>0.3</td>\n",
       "      <td>0.2</td>\n",
       "      <td>0.0</td>\n",
       "      <td>0.1</td>\n",
       "      <td>0.1</td>\n",
       "      <td>0.0</td>\n",
       "      <td>...</td>\n",
       "      <td>0.0</td>\n",
       "      <td>0.1</td>\n",
       "      <td>0.1</td>\n",
       "      <td>0.1</td>\n",
       "      <td>0.0</td>\n",
       "      <td>0.0</td>\n",
       "      <td>0.1</td>\n",
       "      <td>0.1</td>\n",
       "      <td>0.1</td>\n",
       "      <td>0.0</td>\n",
       "    </tr>\n",
       "  </tbody>\n",
       "</table>\n",
       "<p>3 rows × 39 columns</p>\n",
       "</div>"
      ],
      "text/plain": [
       "         gradyear   age  friends  basketball  football  soccer  softball  \\\n",
       "Cluster                                                                    \n",
       "0          2007.5  15.7     30.9         0.2       0.2     0.2       0.2   \n",
       "1          2007.8  15.1     39.3         0.7       0.6     0.5       0.4   \n",
       "2          2007.4  13.1     25.0         0.2       0.3     0.2       0.0   \n",
       "\n",
       "         volleyball  swimming  cheerleading  ...  blonde  mall  shopping  \\\n",
       "Cluster                                      ...                           \n",
       "0               0.1       0.1           0.1  ...     0.1   0.2       0.4   \n",
       "1               0.4       0.3           0.3  ...     0.5   0.9       0.9   \n",
       "2               0.1       0.1           0.0  ...     0.0   0.1       0.1   \n",
       "\n",
       "         clothes  hollister  abercrombie  die  death  drunk  drugs  \n",
       "Cluster                                                             \n",
       "0            0.1        0.0          0.0  0.1    0.1    0.1    0.0  \n",
       "1            0.7        0.4          0.3  0.7    0.4    0.4    0.4  \n",
       "2            0.1        0.0          0.0  0.1    0.1    0.1    0.0  \n",
       "\n",
       "[3 rows x 39 columns]"
      ]
     },
     "execution_count": 60,
     "metadata": {},
     "output_type": "execute_result"
    }
   ],
   "source": [
    "df_cluster3 = social_copy.assign(Cluster = labels3) \n",
    "df_cluster5 = social_copy.assign(Cluster = labels5)\n",
    "\n",
    "kmeans_3 = df_cluster3.groupby(['Cluster']).mean().round(1)\n",
    "kmeans_5 = df_cluster5.groupby(['Cluster']).mean().round(1)\n",
    "\n",
    "kmeans_3"
   ]
  },
  {
   "cell_type": "code",
   "execution_count": 61,
   "metadata": {},
   "outputs": [
    {
     "data": {
      "text/html": [
       "<div>\n",
       "<style scoped>\n",
       "    .dataframe tbody tr th:only-of-type {\n",
       "        vertical-align: middle;\n",
       "    }\n",
       "\n",
       "    .dataframe tbody tr th {\n",
       "        vertical-align: top;\n",
       "    }\n",
       "\n",
       "    .dataframe thead th {\n",
       "        text-align: right;\n",
       "    }\n",
       "</style>\n",
       "<table border=\"1\" class=\"dataframe\">\n",
       "  <thead>\n",
       "    <tr style=\"text-align: right;\">\n",
       "      <th></th>\n",
       "      <th>gradyear</th>\n",
       "      <th>age</th>\n",
       "      <th>friends</th>\n",
       "      <th>basketball</th>\n",
       "      <th>football</th>\n",
       "      <th>soccer</th>\n",
       "      <th>softball</th>\n",
       "      <th>volleyball</th>\n",
       "      <th>swimming</th>\n",
       "      <th>cheerleading</th>\n",
       "      <th>...</th>\n",
       "      <th>blonde</th>\n",
       "      <th>mall</th>\n",
       "      <th>shopping</th>\n",
       "      <th>clothes</th>\n",
       "      <th>hollister</th>\n",
       "      <th>abercrombie</th>\n",
       "      <th>die</th>\n",
       "      <th>death</th>\n",
       "      <th>drunk</th>\n",
       "      <th>drugs</th>\n",
       "    </tr>\n",
       "    <tr>\n",
       "      <th>Cluster</th>\n",
       "      <th></th>\n",
       "      <th></th>\n",
       "      <th></th>\n",
       "      <th></th>\n",
       "      <th></th>\n",
       "      <th></th>\n",
       "      <th></th>\n",
       "      <th></th>\n",
       "      <th></th>\n",
       "      <th></th>\n",
       "      <th></th>\n",
       "      <th></th>\n",
       "      <th></th>\n",
       "      <th></th>\n",
       "      <th></th>\n",
       "      <th></th>\n",
       "      <th></th>\n",
       "      <th></th>\n",
       "      <th></th>\n",
       "      <th></th>\n",
       "      <th></th>\n",
       "    </tr>\n",
       "  </thead>\n",
       "  <tbody>\n",
       "    <tr>\n",
       "      <th>0</th>\n",
       "      <td>2007.4</td>\n",
       "      <td>5.7</td>\n",
       "      <td>25.6</td>\n",
       "      <td>0.1</td>\n",
       "      <td>0.1</td>\n",
       "      <td>0.2</td>\n",
       "      <td>0.1</td>\n",
       "      <td>0.1</td>\n",
       "      <td>0.1</td>\n",
       "      <td>0.1</td>\n",
       "      <td>...</td>\n",
       "      <td>0.1</td>\n",
       "      <td>0.2</td>\n",
       "      <td>0.2</td>\n",
       "      <td>0.1</td>\n",
       "      <td>0.0</td>\n",
       "      <td>0.0</td>\n",
       "      <td>0.1</td>\n",
       "      <td>0.1</td>\n",
       "      <td>0.0</td>\n",
       "      <td>0.0</td>\n",
       "    </tr>\n",
       "    <tr>\n",
       "      <th>1</th>\n",
       "      <td>2007.5</td>\n",
       "      <td>15.8</td>\n",
       "      <td>28.9</td>\n",
       "      <td>0.2</td>\n",
       "      <td>0.1</td>\n",
       "      <td>0.2</td>\n",
       "      <td>0.1</td>\n",
       "      <td>0.1</td>\n",
       "      <td>0.1</td>\n",
       "      <td>0.1</td>\n",
       "      <td>...</td>\n",
       "      <td>0.1</td>\n",
       "      <td>0.2</td>\n",
       "      <td>0.3</td>\n",
       "      <td>0.1</td>\n",
       "      <td>0.0</td>\n",
       "      <td>0.0</td>\n",
       "      <td>0.1</td>\n",
       "      <td>0.1</td>\n",
       "      <td>0.1</td>\n",
       "      <td>0.0</td>\n",
       "    </tr>\n",
       "    <tr>\n",
       "      <th>2</th>\n",
       "      <td>2007.8</td>\n",
       "      <td>15.3</td>\n",
       "      <td>44.5</td>\n",
       "      <td>0.6</td>\n",
       "      <td>0.5</td>\n",
       "      <td>0.5</td>\n",
       "      <td>0.5</td>\n",
       "      <td>0.5</td>\n",
       "      <td>0.3</td>\n",
       "      <td>0.4</td>\n",
       "      <td>...</td>\n",
       "      <td>0.2</td>\n",
       "      <td>0.8</td>\n",
       "      <td>1.1</td>\n",
       "      <td>0.4</td>\n",
       "      <td>0.3</td>\n",
       "      <td>0.2</td>\n",
       "      <td>0.2</td>\n",
       "      <td>0.2</td>\n",
       "      <td>0.1</td>\n",
       "      <td>0.0</td>\n",
       "    </tr>\n",
       "    <tr>\n",
       "      <th>3</th>\n",
       "      <td>2007.6</td>\n",
       "      <td>15.1</td>\n",
       "      <td>30.6</td>\n",
       "      <td>0.6</td>\n",
       "      <td>0.5</td>\n",
       "      <td>0.4</td>\n",
       "      <td>0.3</td>\n",
       "      <td>0.2</td>\n",
       "      <td>0.3</td>\n",
       "      <td>0.2</td>\n",
       "      <td>...</td>\n",
       "      <td>0.8</td>\n",
       "      <td>0.7</td>\n",
       "      <td>0.6</td>\n",
       "      <td>0.8</td>\n",
       "      <td>0.2</td>\n",
       "      <td>0.2</td>\n",
       "      <td>1.2</td>\n",
       "      <td>0.5</td>\n",
       "      <td>0.8</td>\n",
       "      <td>1.0</td>\n",
       "    </tr>\n",
       "    <tr>\n",
       "      <th>4</th>\n",
       "      <td>2007.4</td>\n",
       "      <td>16.5</td>\n",
       "      <td>24.6</td>\n",
       "      <td>0.3</td>\n",
       "      <td>0.4</td>\n",
       "      <td>0.2</td>\n",
       "      <td>0.0</td>\n",
       "      <td>0.0</td>\n",
       "      <td>0.1</td>\n",
       "      <td>0.0</td>\n",
       "      <td>...</td>\n",
       "      <td>0.0</td>\n",
       "      <td>0.1</td>\n",
       "      <td>0.0</td>\n",
       "      <td>0.1</td>\n",
       "      <td>0.0</td>\n",
       "      <td>0.0</td>\n",
       "      <td>0.1</td>\n",
       "      <td>0.1</td>\n",
       "      <td>0.1</td>\n",
       "      <td>0.0</td>\n",
       "    </tr>\n",
       "  </tbody>\n",
       "</table>\n",
       "<p>5 rows × 39 columns</p>\n",
       "</div>"
      ],
      "text/plain": [
       "         gradyear   age  friends  basketball  football  soccer  softball  \\\n",
       "Cluster                                                                    \n",
       "0          2007.4   5.7     25.6         0.1       0.1     0.2       0.1   \n",
       "1          2007.5  15.8     28.9         0.2       0.1     0.2       0.1   \n",
       "2          2007.8  15.3     44.5         0.6       0.5     0.5       0.5   \n",
       "3          2007.6  15.1     30.6         0.6       0.5     0.4       0.3   \n",
       "4          2007.4  16.5     24.6         0.3       0.4     0.2       0.0   \n",
       "\n",
       "         volleyball  swimming  cheerleading  ...  blonde  mall  shopping  \\\n",
       "Cluster                                      ...                           \n",
       "0               0.1       0.1           0.1  ...     0.1   0.2       0.2   \n",
       "1               0.1       0.1           0.1  ...     0.1   0.2       0.3   \n",
       "2               0.5       0.3           0.4  ...     0.2   0.8       1.1   \n",
       "3               0.2       0.3           0.2  ...     0.8   0.7       0.6   \n",
       "4               0.0       0.1           0.0  ...     0.0   0.1       0.0   \n",
       "\n",
       "         clothes  hollister  abercrombie  die  death  drunk  drugs  \n",
       "Cluster                                                             \n",
       "0            0.1        0.0          0.0  0.1    0.1    0.0    0.0  \n",
       "1            0.1        0.0          0.0  0.1    0.1    0.1    0.0  \n",
       "2            0.4        0.3          0.2  0.2    0.2    0.1    0.0  \n",
       "3            0.8        0.2          0.2  1.2    0.5    0.8    1.0  \n",
       "4            0.1        0.0          0.0  0.1    0.1    0.1    0.0  \n",
       "\n",
       "[5 rows x 39 columns]"
      ]
     },
     "execution_count": 61,
     "metadata": {},
     "output_type": "execute_result"
    }
   ],
   "source": [
    "kmeans_5"
   ]
  }
 ],
 "metadata": {
  "colab": {
   "collapsed_sections": [
    "YK7HSRwxhEvx",
    "6lm7UhN7hEvz"
   ],
   "name": "segmentation.ipynb",
   "provenance": [],
   "toc_visible": true
  },
  "kernelspec": {
   "display_name": "Python 3",
   "language": "python",
   "name": "python3"
  },
  "language_info": {
   "codemirror_mode": {
    "name": "ipython",
    "version": 3
   },
   "file_extension": ".py",
   "mimetype": "text/x-python",
   "name": "python",
   "nbconvert_exporter": "python",
   "pygments_lexer": "ipython3",
   "version": "3.8.5"
  }
 },
 "nbformat": 4,
 "nbformat_minor": 4
}
